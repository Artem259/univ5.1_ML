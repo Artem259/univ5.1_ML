{
 "cells": [
  {
   "cell_type": "code",
   "id": "initial_id",
   "metadata": {
    "execution": {
     "iopub.execute_input": "2024-11-01T22:52:46.716140Z",
     "iopub.status.busy": "2024-11-01T22:52:46.716140Z",
     "iopub.status.idle": "2024-11-01T22:52:46.943664Z",
     "shell.execute_reply": "2024-11-01T22:52:46.943664Z"
    },
    "papermill": {
     "duration": 0.232934,
     "end_time": "2024-11-01T22:52:46.945137",
     "exception": false,
     "start_time": "2024-11-01T22:52:46.712203",
     "status": "completed"
    },
    "tags": [],
    "ExecuteTime": {
     "end_time": "2024-11-05T01:05:05.623678Z",
     "start_time": "2024-11-05T01:05:05.611627Z"
    }
   },
   "source": [
    "import os\n",
    "import pandas as pd"
   ],
   "outputs": [],
   "execution_count": 52
  },
  {
   "cell_type": "code",
   "id": "ab92d0123055b0f4",
   "metadata": {
    "execution": {
     "iopub.execute_input": "2024-11-01T22:52:46.950726Z",
     "iopub.status.busy": "2024-11-01T22:52:46.950726Z",
     "iopub.status.idle": "2024-11-01T22:52:46.959749Z",
     "shell.execute_reply": "2024-11-01T22:52:46.959749Z"
    },
    "papermill": {
     "duration": 0.013938,
     "end_time": "2024-11-01T22:52:46.961080",
     "exception": false,
     "start_time": "2024-11-01T22:52:46.947142",
     "status": "completed"
    },
    "tags": [
     "parameters"
    ],
    "ExecuteTime": {
     "end_time": "2024-11-05T01:05:05.655050Z",
     "start_time": "2024-11-05T01:05:05.643180Z"
    }
   },
   "source": [
    "cat_attrs: list[str] = ['f12', 'f11', 'f5', 'f9']  # TODO\n",
    "n_jobs: int = 1"
   ],
   "outputs": [],
   "execution_count": 53
  },
  {
   "cell_type": "code",
   "id": "1d02f0d6",
   "metadata": {
    "execution": {
     "iopub.execute_input": "2024-11-01T22:52:46.967086Z",
     "iopub.status.busy": "2024-11-01T22:52:46.967086Z",
     "iopub.status.idle": "2024-11-01T22:52:46.975095Z",
     "shell.execute_reply": "2024-11-01T22:52:46.975095Z"
    },
    "papermill": {
     "duration": 0.012254,
     "end_time": "2024-11-01T22:52:46.976340",
     "exception": false,
     "start_time": "2024-11-01T22:52:46.964086",
     "status": "completed"
    },
    "tags": [
     "injected-parameters"
    ],
    "ExecuteTime": {
     "end_time": "2024-11-05T01:05:05.732642Z",
     "start_time": "2024-11-05T01:05:05.719794Z"
    }
   },
   "source": [
    "# Parameters\n",
    "n_jobs = 8\n"
   ],
   "outputs": [],
   "execution_count": 54
  },
  {
   "cell_type": "code",
   "id": "af6f5896efa57adf",
   "metadata": {
    "execution": {
     "iopub.execute_input": "2024-11-01T22:52:46.982756Z",
     "iopub.status.busy": "2024-11-01T22:52:46.981751Z",
     "iopub.status.idle": "2024-11-01T22:52:46.990224Z",
     "shell.execute_reply": "2024-11-01T22:52:46.990224Z"
    },
    "papermill": {
     "duration": 0.012384,
     "end_time": "2024-11-01T22:52:46.991235",
     "exception": false,
     "start_time": "2024-11-01T22:52:46.978851",
     "status": "completed"
    },
    "tags": [],
    "ExecuteTime": {
     "end_time": "2024-11-05T01:05:05.810611Z",
     "start_time": "2024-11-05T01:05:05.795880Z"
    }
   },
   "source": [
    "pd.set_option('display.float_format', '{:.3f}'.format)"
   ],
   "outputs": [],
   "execution_count": 55
  },
  {
   "cell_type": "code",
   "id": "d56664ec8b50ea6a",
   "metadata": {
    "execution": {
     "iopub.execute_input": "2024-11-01T22:52:46.997244Z",
     "iopub.status.busy": "2024-11-01T22:52:46.997244Z",
     "iopub.status.idle": "2024-11-01T22:52:47.568696Z",
     "shell.execute_reply": "2024-11-01T22:52:47.568696Z"
    },
    "papermill": {
     "duration": 0.575804,
     "end_time": "2024-11-01T22:52:47.570044",
     "exception": false,
     "start_time": "2024-11-01T22:52:46.994240",
     "status": "completed"
    },
    "tags": [],
    "ExecuteTime": {
     "end_time": "2024-11-05T01:05:06.512816Z",
     "start_time": "2024-11-05T01:05:05.873712Z"
    }
   },
   "source": [
    "csv_path = os.path.join('data', 'data.csv')\n",
    "data = pd.read_csv(csv_path)"
   ],
   "outputs": [],
   "execution_count": 56
  },
  {
   "cell_type": "code",
   "id": "fdba6b06da2871bf",
   "metadata": {
    "execution": {
     "iopub.execute_input": "2024-11-01T22:52:47.576049Z",
     "iopub.status.busy": "2024-11-01T22:52:47.575048Z",
     "iopub.status.idle": "2024-11-01T22:52:47.599613Z",
     "shell.execute_reply": "2024-11-01T22:52:47.599613Z"
    },
    "papermill": {
     "duration": 0.027566,
     "end_time": "2024-11-01T22:52:47.600615",
     "exception": false,
     "start_time": "2024-11-01T22:52:47.573049",
     "status": "completed"
    },
    "tags": [],
    "ExecuteTime": {
     "end_time": "2024-11-05T01:05:06.621630Z",
     "start_time": "2024-11-05T01:05:06.577105Z"
    }
   },
   "source": [
    "X = data.drop(columns=['target', 'p'])\n",
    "y = data['target']"
   ],
   "outputs": [],
   "execution_count": 57
  },
  {
   "cell_type": "code",
   "id": "288f06209ad7651",
   "metadata": {
    "execution": {
     "iopub.execute_input": "2024-11-01T22:52:47.606610Z",
     "iopub.status.busy": "2024-11-01T22:52:47.606610Z",
     "iopub.status.idle": "2024-11-01T22:52:48.098877Z",
     "shell.execute_reply": "2024-11-01T22:52:48.098877Z"
    },
    "papermill": {
     "duration": 0.496187,
     "end_time": "2024-11-01T22:52:48.099798",
     "exception": false,
     "start_time": "2024-11-01T22:52:47.603611",
     "status": "completed"
    },
    "tags": [],
    "ExecuteTime": {
     "end_time": "2024-11-05T01:05:06.777315Z",
     "start_time": "2024-11-05T01:05:06.684762Z"
    }
   },
   "source": [
    "from sklearn.preprocessing import LabelEncoder\n",
    "\n",
    "label_encoder = LabelEncoder()\n",
    "y = label_encoder.fit_transform(y)\n",
    "y = pd.Series(y, name='target')"
   ],
   "outputs": [],
   "execution_count": 58
  },
  {
   "cell_type": "code",
   "id": "e32d493683b4f70f",
   "metadata": {
    "execution": {
     "iopub.execute_input": "2024-11-01T22:52:48.106796Z",
     "iopub.status.busy": "2024-11-01T22:52:48.105795Z",
     "iopub.status.idle": "2024-11-01T22:52:48.397753Z",
     "shell.execute_reply": "2024-11-01T22:52:48.397753Z"
    },
    "papermill": {
     "duration": 0.295958,
     "end_time": "2024-11-01T22:52:48.398754",
     "exception": false,
     "start_time": "2024-11-01T22:52:48.102796",
     "status": "completed"
    },
    "tags": [],
    "ExecuteTime": {
     "end_time": "2024-11-05T01:05:07.230563Z",
     "start_time": "2024-11-05T01:05:06.840974Z"
    }
   },
   "source": [
    "from sklearn.model_selection import StratifiedShuffleSplit\n",
    "\n",
    "test_size_ratio = 0.2\n",
    "test_split = StratifiedShuffleSplit(n_splits=1, test_size=test_size_ratio, random_state=42)\n",
    "train_index, test_index = next(test_split.split(X, y))\n",
    "X_train, X_test = X.iloc[train_index], X.iloc[test_index]\n",
    "y_train, y_test = y.iloc[train_index], y.iloc[test_index]\n",
    "\n",
    "print(\"Train:\", X_train.shape, y_train.shape)\n",
    "print(\"Test: \", X_test.shape, y_test.shape)"
   ],
   "outputs": [
    {
     "name": "stdout",
     "output_type": "stream",
     "text": [
      "Train: (838860, 17) (838860,)\n",
      "Test:  (209715, 17) (209715,)\n"
     ]
    }
   ],
   "execution_count": 59
  },
  {
   "cell_type": "code",
   "id": "6d5455bafdcbc466",
   "metadata": {
    "execution": {
     "iopub.execute_input": "2024-11-01T22:52:48.405782Z",
     "iopub.status.busy": "2024-11-01T22:52:48.404780Z",
     "iopub.status.idle": "2024-11-01T22:52:48.413860Z",
     "shell.execute_reply": "2024-11-01T22:52:48.413860Z"
    },
    "papermill": {
     "duration": 0.013268,
     "end_time": "2024-11-01T22:52:48.415047",
     "exception": false,
     "start_time": "2024-11-01T22:52:48.401779",
     "status": "completed"
    },
    "tags": [],
    "ExecuteTime": {
     "end_time": "2024-11-05T01:05:07.307903Z",
     "start_time": "2024-11-05T01:05:07.293637Z"
    }
   },
   "source": [
    "# from collections import Counter  # TODO\n",
    "# \n",
    "# df = X_train.copy()\n",
    "# df['target'] = y_train\n",
    "# \n",
    "# class_counts = Counter(df['target'])\n",
    "# print(f\"Class distribution before balancing: {class_counts}\")\n",
    "# \n",
    "# # Find the number of samples in the minority class\n",
    "# min_class_count = min(class_counts.values())\n",
    "# \n",
    "# # Undersample the majority class\n",
    "# df_balanced = df.groupby('target').apply(lambda x: x.sample(min_class_count)).reset_index(drop=True)\n",
    "# \n",
    "# # Separate the balanced X_train and y_train\n",
    "# X_train = df_balanced.drop('target', axis=1)\n",
    "# y_train = df_balanced['target']"
   ],
   "outputs": [],
   "execution_count": 60
  },
  {
   "cell_type": "code",
   "id": "ea1d2432dcd6f50a",
   "metadata": {
    "execution": {
     "iopub.execute_input": "2024-11-01T22:52:48.420437Z",
     "iopub.status.busy": "2024-11-01T22:52:48.420437Z",
     "iopub.status.idle": "2024-11-01T22:52:48.429916Z",
     "shell.execute_reply": "2024-11-01T22:52:48.429916Z"
    },
    "papermill": {
     "duration": 0.013163,
     "end_time": "2024-11-01T22:52:48.431214",
     "exception": false,
     "start_time": "2024-11-01T22:52:48.418051",
     "status": "completed"
    },
    "tags": [],
    "ExecuteTime": {
     "end_time": "2024-11-05T01:05:07.384264Z",
     "start_time": "2024-11-05T01:05:07.370595Z"
    }
   },
   "source": [
    "y_train_pos_ratio = y_train[y_train == 1].shape[0] / y_train.shape[0]\n",
    "y_test_pos_ratio = y_test[y_test == 1].shape[0] / y_test.shape[0]\n",
    "\n",
    "print(\"Train positives ratio:\", f\"{y_train_pos_ratio * 100:.5f} %\")\n",
    "print(\"Test positives ratio: \", f\"{y_test_pos_ratio * 100:.5f} %\")"
   ],
   "outputs": [
    {
     "name": "stdout",
     "output_type": "stream",
     "text": [
      "Train positives ratio: 1.69301 %\n",
      "Test positives ratio:  1.69325 %\n"
     ]
    }
   ],
   "execution_count": 61
  },
  {
   "cell_type": "code",
   "id": "120b47e1c07d5d5d",
   "metadata": {
    "execution": {
     "iopub.execute_input": "2024-11-01T22:52:48.437578Z",
     "iopub.status.busy": "2024-11-01T22:52:48.437578Z",
     "iopub.status.idle": "2024-11-01T22:52:49.040005Z",
     "shell.execute_reply": "2024-11-01T22:52:49.040005Z"
    },
    "papermill": {
     "duration": 0.606777,
     "end_time": "2024-11-01T22:52:49.041008",
     "exception": false,
     "start_time": "2024-11-01T22:52:48.434231",
     "status": "completed"
    },
    "tags": [],
    "ExecuteTime": {
     "end_time": "2024-11-05T01:05:08.052650Z",
     "start_time": "2024-11-05T01:05:07.446335Z"
    }
   },
   "source": [
    "train = pd.concat([X_train, y_train], axis=1)\n",
    "\n",
    "new_train = train.drop_duplicates()\n",
    "print(\"Duplicates removed:\", train.shape[0] - new_train.shape[0])\n",
    "train = new_train\n",
    "\n",
    "new_train = train.drop_duplicates(subset=train.columns.difference(['target']))\n",
    "print(\"Collisions removed:\", train.shape[0] - new_train.shape[0])\n",
    "train = new_train\n",
    "\n",
    "X_train = train.drop(columns=['target'])\n",
    "y_train = train['target']"
   ],
   "outputs": [
    {
     "name": "stdout",
     "output_type": "stream",
     "text": [
      "Duplicates removed: 61923\n",
      "Collisions removed: 56\n"
     ]
    }
   ],
   "execution_count": 62
  },
  {
   "cell_type": "code",
   "id": "c5e26b96b7083101",
   "metadata": {
    "execution": {
     "iopub.execute_input": "2024-11-01T22:52:49.048004Z",
     "iopub.status.busy": "2024-11-01T22:52:49.048004Z",
     "iopub.status.idle": "2024-11-01T22:52:49.133470Z",
     "shell.execute_reply": "2024-11-01T22:52:49.133470Z"
    },
    "papermill": {
     "duration": 0.09047,
     "end_time": "2024-11-01T22:52:49.134474",
     "exception": false,
     "start_time": "2024-11-01T22:52:49.044004",
     "status": "completed"
    },
    "tags": [],
    "ExecuteTime": {
     "end_time": "2024-11-05T01:05:08.175558Z",
     "start_time": "2024-11-05T01:05:08.115318Z"
    }
   },
   "source": [
    "from sklearn.compose import ColumnTransformer\n",
    "from itertools import combinations\n",
    "from sklearn.linear_model import LogisticRegression\n",
    "from sklearn.preprocessing import OneHotEncoder, StandardScaler\n",
    "from imblearn.pipeline import Pipeline as ImPipeline\n",
    "\n",
    "cat_encoder = OneHotEncoder().fit(X[cat_attrs])\n",
    "cat_encoder.categories_  # TODO"
   ],
   "outputs": [
    {
     "data": {
      "text/plain": [
       "[array([0, 1], dtype=int64),\n",
       " array([0, 1], dtype=int64),\n",
       " array([1, 2, 3, 4, 5, 6, 8], dtype=int64),\n",
       " array([0, 1, 2, 3, 4, 5, 6, 7], dtype=int64)]"
      ]
     },
     "execution_count": 63,
     "metadata": {},
     "output_type": "execute_result"
    }
   ],
   "execution_count": 63
  },
  {
   "cell_type": "code",
   "id": "515460711168c32f",
   "metadata": {
    "execution": {
     "iopub.execute_input": "2024-11-01T22:52:49.140987Z",
     "iopub.status.busy": "2024-11-01T22:52:49.140987Z",
     "iopub.status.idle": "2024-11-01T22:52:49.148983Z",
     "shell.execute_reply": "2024-11-01T22:52:49.148983Z"
    },
    "papermill": {
     "duration": 0.012768,
     "end_time": "2024-11-01T22:52:49.150242",
     "exception": false,
     "start_time": "2024-11-01T22:52:49.137474",
     "status": "completed"
    },
    "tags": [],
    "ExecuteTime": {
     "end_time": "2024-11-05T01:05:08.254021Z",
     "start_time": "2024-11-05T01:05:08.239664Z"
    }
   },
   "source": [
    "from imblearn.over_sampling import SMOTE\n",
    "\n",
    "preprocessor = ColumnTransformer(\n",
    "    transformers=[\n",
    "        ('cat', OneHotEncoder(categories=cat_encoder.categories_), cat_attrs)\n",
    "    ],\n",
    "    remainder=StandardScaler()\n",
    ")\n",
    "pipeline = ImPipeline(steps=[\n",
    "    ('preprocessor', preprocessor),\n",
    "    ('smote', SMOTE(random_state=42)),\n",
    "    ('classifier', LogisticRegression())\n",
    "])"
   ],
   "outputs": [],
   "execution_count": 64
  },
  {
   "cell_type": "code",
   "id": "f342b445ddaf788b",
   "metadata": {
    "execution": {
     "iopub.execute_input": "2024-11-01T22:52:49.157241Z",
     "iopub.status.busy": "2024-11-01T22:52:49.156245Z",
     "iopub.status.idle": "2024-11-01T22:52:49.210975Z",
     "shell.execute_reply": "2024-11-01T22:52:49.210975Z"
    },
    "papermill": {
     "duration": 0.058987,
     "end_time": "2024-11-01T22:52:49.212228",
     "exception": false,
     "start_time": "2024-11-01T22:52:49.153241",
     "status": "completed"
    },
    "tags": [],
    "ExecuteTime": {
     "end_time": "2024-11-05T01:05:08.331360Z",
     "start_time": "2024-11-05T01:05:08.317498Z"
    }
   },
   "source": [
    "from sklearn.linear_model import SGDOneClassSVM\n",
    "from sklearn.neural_network import MLPClassifier\n",
    "from sklearn.tree import DecisionTreeClassifier\n",
    "from sklearn.neighbors import KNeighborsClassifier\n",
    "from sklearn.svm import SVC\n",
    "from sklearn.ensemble import RandomForestClassifier, GradientBoostingClassifier, AdaBoostClassifier, HistGradientBoostingClassifier\n",
    "from xgboost import XGBClassifier\n",
    "\n",
    "classifiers = {\n",
    "    'LogisticRegression': LogisticRegression(random_state=42),\n",
    "    'RandomForestClassifier': RandomForestClassifier(random_state=42),\n",
    "    'SVC': SVC(random_state=42),\n",
    "    'KNeighborsClassifier': KNeighborsClassifier(),\n",
    "    'DecisionTreeClassifier': DecisionTreeClassifier(random_state=42),\n",
    "    'GradientBoostingClassifier': GradientBoostingClassifier(random_state=42),\n",
    "    'AdaBoostClassifier': AdaBoostClassifier(random_state=42),\n",
    "    'MLPClassifier': MLPClassifier(random_state=42),\n",
    "    'HistGradientBoostingClassifier': HistGradientBoostingClassifier(random_state=42),\n",
    "    'XGBClassifier': XGBClassifier(scale_pos_weight=1.69, eval_metric='logloss'),\n",
    "}\n",
    "param_grid = [\n",
    "    # {\n",
    "    #     'classifier': [classifiers['RandomForestClassifier']],\n",
    "    #     'classifier__n_estimators': [100],\n",
    "    #     'classifier__max_depth': [None],\n",
    "    # },\n",
    "    # {\n",
    "    #     'classifier': [classifiers['MLPClassifier']],\n",
    "    #     'classifier__hidden_layer_sizes': [(512, ), (256, ), (256, 64), (64, 64, 64)],\n",
    "    #     'classifier__batch_size': [32],\n",
    "    #     'classifier__early_stopping': [True],\n",
    "    # },\n",
    "    # {\n",
    "    #     'classifier': [classifiers['MLPClassifier']],\n",
    "    #     'classifier__hidden_layer_sizes': [(64,), (64, 64), (128, 64), (64, 128), (128, 128), (64, 64, 64)],\n",
    "    #     'classifier__learning_rate_init': [0.00001, 0.0001, 0.001],\n",
    "    #     'classifier__alpha': [0.00001, 0.0001, 0.001],\n",
    "    #     'classifier__early_stopping': [True],\n",
    "    # },\n",
    "    # {\n",
    "    #     'classifier': [classifiers['HistGradientBoostingClassifier']],\n",
    "    #     'classifier__learning_rate': [0.001, 0.01, 0.1],\n",
    "    #     'classifier__max_leaf_nodes': [None, 20, 50],\n",
    "    #     'classifier__max_depth': [None, 10, 20],\n",
    "    #     'classifier__min_samples_leaf': [None, 20, 50],\n",
    "    #     'classifier__l2_regularization': [0.0, 0.1, 1.0],\n",
    "    #     'classifier__early_stopping': [True],\n",
    "    #     'classifier__class_weight': [None, 'balanced'],\n",
    "    # },\n",
    "    # {\n",
    "    #     'classifier': [classifiers['KNeighborsClassifier']],\n",
    "    #     'classifier__n_neighbors': [3, 5, 7, 9],\n",
    "    #     'classifier__weights': ['uniform', 'distance'],\n",
    "    # },\n",
    "    \n",
    "    # {\n",
    "    #     'classifier': [classifiers['RandomForestClassifier']],\n",
    "    #     'classifier__n_estimators': [None, 200],  # 100\n",
    "    #     'classifier__max_depth': [None],\n",
    "    #     'classifier__class_weight': [None, 'balanced'],\n",
    "    # },\n",
    "    {\n",
    "        'classifier': [classifiers['XGBClassifier']],\n",
    "        'classifier__n_estimators': [150],           # Number of boosting rounds\n",
    "        'classifier__max_depth': [7],                   # Maximum depth of the trees\n",
    "        # 'classifier__learning_rate': [0.01, 0.1, 0.2],        # Learning rate for weight updates\n",
    "        # 'classifier__colsample_bytree': [0.7, 0.8, 1.0],      # Fraction of columns to be randomly sampled for each tree\n",
    "        # 'classifier__gamma': [0, 0.1, 0.2],                   # Minimum loss reduction required to make a further partition on a leaf node\n",
    "    }\n",
    "]\n",
    "# param_grid = [ \n",
    "#     {\n",
    "#         'classifier': [classifiers['LogisticRegression']],\n",
    "#         'classifier__C': [0.01, 0.1, 1, 10],\n",
    "#         'classifier__solver': ['liblinear', 'lbfgs'],\n",
    "#         'preprocessor__dynamic_column_transformer__cat_attrs': cat_attrs_combinations\n",
    "#     },\n",
    "#     {\n",
    "#         'classifier': [classifiers['RandomForestClassifier']],\n",
    "#         'classifier__n_estimators': [100, 200, 300],\n",
    "#         'classifier__max_depth': [None, 30],\n",
    "#         'preprocessor__dynamic_column_transformer__cat_attrs': cat_attrs_combinations\n",
    "#     },\n",
    "#     {\n",
    "#         'classifier': [classifiers['SVC']],\n",
    "#         'classifier__C': [0.1, 1, 10, 100],\n",
    "#         'classifier__kernel': ['linear', 'rbf', 'poly'],\n",
    "#         'preprocessor__dynamic_column_transformer__cat_attrs': cat_attrs_combinations\n",
    "#     },\n",
    "#     {\n",
    "#         'classifier': [classifiers['KNeighborsClassifier']],\n",
    "#         'classifier__n_neighbors': [3, 5, 7, 9],\n",
    "#         'classifier__weights': ['uniform', 'distance'],\n",
    "#         'preprocessor__dynamic_column_transformer__cat_attrs': cat_attrs_combinations\n",
    "#     },\n",
    "#     {\n",
    "#         'classifier': [classifiers['DecisionTreeClassifier']],\n",
    "#         'classifier__max_depth': [None, 10, 20, 30],\n",
    "#         'classifier__min_samples_split': [2, 10, 20],\n",
    "#         'preprocessor__dynamic_column_transformer__cat_attrs': cat_attrs_combinations\n",
    "#     },\n",
    "#     {\n",
    "#         'classifier': [classifiers['GradientBoostingClassifier']],\n",
    "#         'classifier__n_estimators': [50, 100, 200],\n",
    "#         'classifier__learning_rate': [0.01, 0.1, 0.2],\n",
    "#         'classifier__max_depth': [3, 5, 7],\n",
    "#         'preprocessor__dynamic_column_transformer__cat_attrs': cat_attrs_combinations\n",
    "#     },\n",
    "#     {\n",
    "#         'classifier': [classifiers['AdaBoostClassifier']],\n",
    "#         'classifier__n_estimators': [50, 100, 200],\n",
    "#         'classifier__learning_rate': [0.01, 0.1, 0.2],\n",
    "#         'preprocessor__dynamic_column_transformer__cat_attrs': cat_attrs_combinations\n",
    "#     },\n",
    "#     {\n",
    "#         'classifier': [classifiers['MLPClassifier']],\n",
    "#         'classifier__hidden_layer_sizes': [(50,), (100,), (50, 50), (100, 50), (50, 100), (100, 100), (50, 100, 50)],\n",
    "#         'classifier__learning_rate_init': [0.001, 0.01, 0.1],\n",
    "#         'classifier__alpha': [0.0001, 0.001, 0.01],\n",
    "#         'classifier__early_stopping': [True],\n",
    "#         'preprocessor__dynamic_column_transformer__cat_attrs': cat_attrs_combinations\n",
    "#     }\n",
    "# ]"
   ],
   "outputs": [],
   "execution_count": 65
  },
  {
   "cell_type": "code",
   "id": "6ea08895e9330bd4",
   "metadata": {
    "execution": {
     "iopub.execute_input": "2024-11-01T22:52:49.218710Z",
     "iopub.status.busy": "2024-11-01T22:52:49.217709Z",
     "iopub.status.idle": "2024-11-01T22:53:08.488714Z",
     "shell.execute_reply": "2024-11-01T22:53:08.488714Z"
    },
    "papermill": {
     "duration": 19.275514,
     "end_time": "2024-11-01T22:53:08.490218",
     "exception": false,
     "start_time": "2024-11-01T22:52:49.214704",
     "status": "completed"
    },
    "tags": [],
    "ExecuteTime": {
     "end_time": "2024-11-05T01:05:45.384892Z",
     "start_time": "2024-11-05T01:05:08.393633Z"
    }
   },
   "source": [
    "from sklearn.model_selection import GridSearchCV\n",
    "\n",
    "grid_search = GridSearchCV(\n",
    "    pipeline, param_grid,\n",
    "    cv=5,\n",
    "    scoring=['f1', 'precision', 'recall'],\n",
    "    refit='f1',\n",
    "    n_jobs=n_jobs,\n",
    "    verbose=10,\n",
    "    return_train_score=True,\n",
    ")\n",
    "grid_search.fit(X_train, y_train);"
   ],
   "outputs": [
    {
     "name": "stdout",
     "output_type": "stream",
     "text": [
      "Fitting 5 folds for each of 1 candidates, totalling 5 fits\n"
     ]
    }
   ],
   "execution_count": 66
  },
  {
   "cell_type": "code",
   "id": "6df9de92f1c370b8",
   "metadata": {
    "execution": {
     "iopub.execute_input": "2024-11-01T22:53:08.498228Z",
     "iopub.status.busy": "2024-11-01T22:53:08.498228Z",
     "iopub.status.idle": "2024-11-01T22:53:08.520325Z",
     "shell.execute_reply": "2024-11-01T22:53:08.520325Z"
    },
    "papermill": {
     "duration": 0.028041,
     "end_time": "2024-11-01T22:53:08.522269",
     "exception": false,
     "start_time": "2024-11-01T22:53:08.494228",
     "status": "completed"
    },
    "tags": [],
    "ExecuteTime": {
     "end_time": "2024-11-05T01:05:45.493057Z",
     "start_time": "2024-11-05T01:05:45.478775Z"
    }
   },
   "source": [
    "grid_search.best_params_"
   ],
   "outputs": [
    {
     "data": {
      "text/plain": [
       "{'classifier': XGBClassifier(base_score=None, booster=None, callbacks=None,\n",
       "               colsample_bylevel=None, colsample_bynode=None,\n",
       "               colsample_bytree=None, device=None, early_stopping_rounds=None,\n",
       "               enable_categorical=False, eval_metric='logloss',\n",
       "               feature_types=None, gamma=None, grow_policy=None,\n",
       "               importance_type=None, interaction_constraints=None,\n",
       "               learning_rate=None, max_bin=None, max_cat_threshold=None,\n",
       "               max_cat_to_onehot=None, max_delta_step=None, max_depth=None,\n",
       "               max_leaves=None, min_child_weight=None, missing=nan,\n",
       "               monotone_constraints=None, multi_strategy=None, n_estimators=None,\n",
       "               n_jobs=None, num_parallel_tree=None, random_state=None, ...),\n",
       " 'classifier__max_depth': 7,\n",
       " 'classifier__n_estimators': 150}"
      ]
     },
     "execution_count": 67,
     "metadata": {},
     "output_type": "execute_result"
    }
   ],
   "execution_count": 67
  },
  {
   "cell_type": "code",
   "id": "f2b0d1610f911a82",
   "metadata": {
    "execution": {
     "iopub.execute_input": "2024-11-01T22:53:08.530780Z",
     "iopub.status.busy": "2024-11-01T22:53:08.530780Z",
     "iopub.status.idle": "2024-11-01T22:53:08.583355Z",
     "shell.execute_reply": "2024-11-01T22:53:08.583355Z"
    },
    "papermill": {
     "duration": 0.058426,
     "end_time": "2024-11-01T22:53:08.584699",
     "exception": false,
     "start_time": "2024-11-01T22:53:08.526273",
     "status": "completed"
    },
    "tags": [],
    "ExecuteTime": {
     "end_time": "2024-11-05T01:05:45.586388Z",
     "start_time": "2024-11-05T01:05:45.556281Z"
    }
   },
   "source": [
    "grid_search.best_estimator_"
   ],
   "outputs": [
    {
     "data": {
      "text/plain": [
       "Pipeline(steps=[('preprocessor',\n",
       "                 ColumnTransformer(remainder=StandardScaler(),\n",
       "                                   transformers=[('cat',\n",
       "                                                  OneHotEncoder(categories=[array([0, 1], dtype=int64),\n",
       "                                                                            array([0, 1], dtype=int64),\n",
       "                                                                            array([1, 2, 3, 4, 5, 6, 8], dtype=int64),\n",
       "                                                                            array([0, 1, 2, 3, 4, 5, 6, 7], dtype=int64)]),\n",
       "                                                  ['f12', 'f11', 'f5',\n",
       "                                                   'f9'])])),\n",
       "                ('smote', SMOTE(random_state=42)),\n",
       "                ('classifier',\n",
       "                 XGBClassifier(base_score=No...\n",
       "                               feature_types=None, gamma=None, grow_policy=None,\n",
       "                               importance_type=None,\n",
       "                               interaction_constraints=None, learning_rate=None,\n",
       "                               max_bin=None, max_cat_threshold=None,\n",
       "                               max_cat_to_onehot=None, max_delta_step=None,\n",
       "                               max_depth=7, max_leaves=None,\n",
       "                               min_child_weight=None, missing=nan,\n",
       "                               monotone_constraints=None, multi_strategy=None,\n",
       "                               n_estimators=150, n_jobs=None,\n",
       "                               num_parallel_tree=None, random_state=None, ...))])"
      ],
      "text/html": [
       "<style>#sk-container-id-2 {\n",
       "  /* Definition of color scheme common for light and dark mode */\n",
       "  --sklearn-color-text: black;\n",
       "  --sklearn-color-line: gray;\n",
       "  /* Definition of color scheme for unfitted estimators */\n",
       "  --sklearn-color-unfitted-level-0: #fff5e6;\n",
       "  --sklearn-color-unfitted-level-1: #f6e4d2;\n",
       "  --sklearn-color-unfitted-level-2: #ffe0b3;\n",
       "  --sklearn-color-unfitted-level-3: chocolate;\n",
       "  /* Definition of color scheme for fitted estimators */\n",
       "  --sklearn-color-fitted-level-0: #f0f8ff;\n",
       "  --sklearn-color-fitted-level-1: #d4ebff;\n",
       "  --sklearn-color-fitted-level-2: #b3dbfd;\n",
       "  --sklearn-color-fitted-level-3: cornflowerblue;\n",
       "\n",
       "  /* Specific color for light theme */\n",
       "  --sklearn-color-text-on-default-background: var(--sg-text-color, var(--theme-code-foreground, var(--jp-content-font-color1, black)));\n",
       "  --sklearn-color-background: var(--sg-background-color, var(--theme-background, var(--jp-layout-color0, white)));\n",
       "  --sklearn-color-border-box: var(--sg-text-color, var(--theme-code-foreground, var(--jp-content-font-color1, black)));\n",
       "  --sklearn-color-icon: #696969;\n",
       "\n",
       "  @media (prefers-color-scheme: dark) {\n",
       "    /* Redefinition of color scheme for dark theme */\n",
       "    --sklearn-color-text-on-default-background: var(--sg-text-color, var(--theme-code-foreground, var(--jp-content-font-color1, white)));\n",
       "    --sklearn-color-background: var(--sg-background-color, var(--theme-background, var(--jp-layout-color0, #111)));\n",
       "    --sklearn-color-border-box: var(--sg-text-color, var(--theme-code-foreground, var(--jp-content-font-color1, white)));\n",
       "    --sklearn-color-icon: #878787;\n",
       "  }\n",
       "}\n",
       "\n",
       "#sk-container-id-2 {\n",
       "  color: var(--sklearn-color-text);\n",
       "}\n",
       "\n",
       "#sk-container-id-2 pre {\n",
       "  padding: 0;\n",
       "}\n",
       "\n",
       "#sk-container-id-2 input.sk-hidden--visually {\n",
       "  border: 0;\n",
       "  clip: rect(1px 1px 1px 1px);\n",
       "  clip: rect(1px, 1px, 1px, 1px);\n",
       "  height: 1px;\n",
       "  margin: -1px;\n",
       "  overflow: hidden;\n",
       "  padding: 0;\n",
       "  position: absolute;\n",
       "  width: 1px;\n",
       "}\n",
       "\n",
       "#sk-container-id-2 div.sk-dashed-wrapped {\n",
       "  border: 1px dashed var(--sklearn-color-line);\n",
       "  margin: 0 0.4em 0.5em 0.4em;\n",
       "  box-sizing: border-box;\n",
       "  padding-bottom: 0.4em;\n",
       "  background-color: var(--sklearn-color-background);\n",
       "}\n",
       "\n",
       "#sk-container-id-2 div.sk-container {\n",
       "  /* jupyter's `normalize.less` sets `[hidden] { display: none; }`\n",
       "     but bootstrap.min.css set `[hidden] { display: none !important; }`\n",
       "     so we also need the `!important` here to be able to override the\n",
       "     default hidden behavior on the sphinx rendered scikit-learn.org.\n",
       "     See: https://github.com/scikit-learn/scikit-learn/issues/21755 */\n",
       "  display: inline-block !important;\n",
       "  position: relative;\n",
       "}\n",
       "\n",
       "#sk-container-id-2 div.sk-text-repr-fallback {\n",
       "  display: none;\n",
       "}\n",
       "\n",
       "div.sk-parallel-item,\n",
       "div.sk-serial,\n",
       "div.sk-item {\n",
       "  /* draw centered vertical line to link estimators */\n",
       "  background-image: linear-gradient(var(--sklearn-color-text-on-default-background), var(--sklearn-color-text-on-default-background));\n",
       "  background-size: 2px 100%;\n",
       "  background-repeat: no-repeat;\n",
       "  background-position: center center;\n",
       "}\n",
       "\n",
       "/* Parallel-specific style estimator block */\n",
       "\n",
       "#sk-container-id-2 div.sk-parallel-item::after {\n",
       "  content: \"\";\n",
       "  width: 100%;\n",
       "  border-bottom: 2px solid var(--sklearn-color-text-on-default-background);\n",
       "  flex-grow: 1;\n",
       "}\n",
       "\n",
       "#sk-container-id-2 div.sk-parallel {\n",
       "  display: flex;\n",
       "  align-items: stretch;\n",
       "  justify-content: center;\n",
       "  background-color: var(--sklearn-color-background);\n",
       "  position: relative;\n",
       "}\n",
       "\n",
       "#sk-container-id-2 div.sk-parallel-item {\n",
       "  display: flex;\n",
       "  flex-direction: column;\n",
       "}\n",
       "\n",
       "#sk-container-id-2 div.sk-parallel-item:first-child::after {\n",
       "  align-self: flex-end;\n",
       "  width: 50%;\n",
       "}\n",
       "\n",
       "#sk-container-id-2 div.sk-parallel-item:last-child::after {\n",
       "  align-self: flex-start;\n",
       "  width: 50%;\n",
       "}\n",
       "\n",
       "#sk-container-id-2 div.sk-parallel-item:only-child::after {\n",
       "  width: 0;\n",
       "}\n",
       "\n",
       "/* Serial-specific style estimator block */\n",
       "\n",
       "#sk-container-id-2 div.sk-serial {\n",
       "  display: flex;\n",
       "  flex-direction: column;\n",
       "  align-items: center;\n",
       "  background-color: var(--sklearn-color-background);\n",
       "  padding-right: 1em;\n",
       "  padding-left: 1em;\n",
       "}\n",
       "\n",
       "\n",
       "/* Toggleable style: style used for estimator/Pipeline/ColumnTransformer box that is\n",
       "clickable and can be expanded/collapsed.\n",
       "- Pipeline and ColumnTransformer use this feature and define the default style\n",
       "- Estimators will overwrite some part of the style using the `sk-estimator` class\n",
       "*/\n",
       "\n",
       "/* Pipeline and ColumnTransformer style (default) */\n",
       "\n",
       "#sk-container-id-2 div.sk-toggleable {\n",
       "  /* Default theme specific background. It is overwritten whether we have a\n",
       "  specific estimator or a Pipeline/ColumnTransformer */\n",
       "  background-color: var(--sklearn-color-background);\n",
       "}\n",
       "\n",
       "/* Toggleable label */\n",
       "#sk-container-id-2 label.sk-toggleable__label {\n",
       "  cursor: pointer;\n",
       "  display: block;\n",
       "  width: 100%;\n",
       "  margin-bottom: 0;\n",
       "  padding: 0.5em;\n",
       "  box-sizing: border-box;\n",
       "  text-align: center;\n",
       "}\n",
       "\n",
       "#sk-container-id-2 label.sk-toggleable__label-arrow:before {\n",
       "  /* Arrow on the left of the label */\n",
       "  content: \"▸\";\n",
       "  float: left;\n",
       "  margin-right: 0.25em;\n",
       "  color: var(--sklearn-color-icon);\n",
       "}\n",
       "\n",
       "#sk-container-id-2 label.sk-toggleable__label-arrow:hover:before {\n",
       "  color: var(--sklearn-color-text);\n",
       "}\n",
       "\n",
       "/* Toggleable content - dropdown */\n",
       "\n",
       "#sk-container-id-2 div.sk-toggleable__content {\n",
       "  max-height: 0;\n",
       "  max-width: 0;\n",
       "  overflow: hidden;\n",
       "  text-align: left;\n",
       "  /* unfitted */\n",
       "  background-color: var(--sklearn-color-unfitted-level-0);\n",
       "}\n",
       "\n",
       "#sk-container-id-2 div.sk-toggleable__content.fitted {\n",
       "  /* fitted */\n",
       "  background-color: var(--sklearn-color-fitted-level-0);\n",
       "}\n",
       "\n",
       "#sk-container-id-2 div.sk-toggleable__content pre {\n",
       "  margin: 0.2em;\n",
       "  border-radius: 0.25em;\n",
       "  color: var(--sklearn-color-text);\n",
       "  /* unfitted */\n",
       "  background-color: var(--sklearn-color-unfitted-level-0);\n",
       "}\n",
       "\n",
       "#sk-container-id-2 div.sk-toggleable__content.fitted pre {\n",
       "  /* unfitted */\n",
       "  background-color: var(--sklearn-color-fitted-level-0);\n",
       "}\n",
       "\n",
       "#sk-container-id-2 input.sk-toggleable__control:checked~div.sk-toggleable__content {\n",
       "  /* Expand drop-down */\n",
       "  max-height: 200px;\n",
       "  max-width: 100%;\n",
       "  overflow: auto;\n",
       "}\n",
       "\n",
       "#sk-container-id-2 input.sk-toggleable__control:checked~label.sk-toggleable__label-arrow:before {\n",
       "  content: \"▾\";\n",
       "}\n",
       "\n",
       "/* Pipeline/ColumnTransformer-specific style */\n",
       "\n",
       "#sk-container-id-2 div.sk-label input.sk-toggleable__control:checked~label.sk-toggleable__label {\n",
       "  color: var(--sklearn-color-text);\n",
       "  background-color: var(--sklearn-color-unfitted-level-2);\n",
       "}\n",
       "\n",
       "#sk-container-id-2 div.sk-label.fitted input.sk-toggleable__control:checked~label.sk-toggleable__label {\n",
       "  background-color: var(--sklearn-color-fitted-level-2);\n",
       "}\n",
       "\n",
       "/* Estimator-specific style */\n",
       "\n",
       "/* Colorize estimator box */\n",
       "#sk-container-id-2 div.sk-estimator input.sk-toggleable__control:checked~label.sk-toggleable__label {\n",
       "  /* unfitted */\n",
       "  background-color: var(--sklearn-color-unfitted-level-2);\n",
       "}\n",
       "\n",
       "#sk-container-id-2 div.sk-estimator.fitted input.sk-toggleable__control:checked~label.sk-toggleable__label {\n",
       "  /* fitted */\n",
       "  background-color: var(--sklearn-color-fitted-level-2);\n",
       "}\n",
       "\n",
       "#sk-container-id-2 div.sk-label label.sk-toggleable__label,\n",
       "#sk-container-id-2 div.sk-label label {\n",
       "  /* The background is the default theme color */\n",
       "  color: var(--sklearn-color-text-on-default-background);\n",
       "}\n",
       "\n",
       "/* On hover, darken the color of the background */\n",
       "#sk-container-id-2 div.sk-label:hover label.sk-toggleable__label {\n",
       "  color: var(--sklearn-color-text);\n",
       "  background-color: var(--sklearn-color-unfitted-level-2);\n",
       "}\n",
       "\n",
       "/* Label box, darken color on hover, fitted */\n",
       "#sk-container-id-2 div.sk-label.fitted:hover label.sk-toggleable__label.fitted {\n",
       "  color: var(--sklearn-color-text);\n",
       "  background-color: var(--sklearn-color-fitted-level-2);\n",
       "}\n",
       "\n",
       "/* Estimator label */\n",
       "\n",
       "#sk-container-id-2 div.sk-label label {\n",
       "  font-family: monospace;\n",
       "  font-weight: bold;\n",
       "  display: inline-block;\n",
       "  line-height: 1.2em;\n",
       "}\n",
       "\n",
       "#sk-container-id-2 div.sk-label-container {\n",
       "  text-align: center;\n",
       "}\n",
       "\n",
       "/* Estimator-specific */\n",
       "#sk-container-id-2 div.sk-estimator {\n",
       "  font-family: monospace;\n",
       "  border: 1px dotted var(--sklearn-color-border-box);\n",
       "  border-radius: 0.25em;\n",
       "  box-sizing: border-box;\n",
       "  margin-bottom: 0.5em;\n",
       "  /* unfitted */\n",
       "  background-color: var(--sklearn-color-unfitted-level-0);\n",
       "}\n",
       "\n",
       "#sk-container-id-2 div.sk-estimator.fitted {\n",
       "  /* fitted */\n",
       "  background-color: var(--sklearn-color-fitted-level-0);\n",
       "}\n",
       "\n",
       "/* on hover */\n",
       "#sk-container-id-2 div.sk-estimator:hover {\n",
       "  /* unfitted */\n",
       "  background-color: var(--sklearn-color-unfitted-level-2);\n",
       "}\n",
       "\n",
       "#sk-container-id-2 div.sk-estimator.fitted:hover {\n",
       "  /* fitted */\n",
       "  background-color: var(--sklearn-color-fitted-level-2);\n",
       "}\n",
       "\n",
       "/* Specification for estimator info (e.g. \"i\" and \"?\") */\n",
       "\n",
       "/* Common style for \"i\" and \"?\" */\n",
       "\n",
       ".sk-estimator-doc-link,\n",
       "a:link.sk-estimator-doc-link,\n",
       "a:visited.sk-estimator-doc-link {\n",
       "  float: right;\n",
       "  font-size: smaller;\n",
       "  line-height: 1em;\n",
       "  font-family: monospace;\n",
       "  background-color: var(--sklearn-color-background);\n",
       "  border-radius: 1em;\n",
       "  height: 1em;\n",
       "  width: 1em;\n",
       "  text-decoration: none !important;\n",
       "  margin-left: 1ex;\n",
       "  /* unfitted */\n",
       "  border: var(--sklearn-color-unfitted-level-1) 1pt solid;\n",
       "  color: var(--sklearn-color-unfitted-level-1);\n",
       "}\n",
       "\n",
       ".sk-estimator-doc-link.fitted,\n",
       "a:link.sk-estimator-doc-link.fitted,\n",
       "a:visited.sk-estimator-doc-link.fitted {\n",
       "  /* fitted */\n",
       "  border: var(--sklearn-color-fitted-level-1) 1pt solid;\n",
       "  color: var(--sklearn-color-fitted-level-1);\n",
       "}\n",
       "\n",
       "/* On hover */\n",
       "div.sk-estimator:hover .sk-estimator-doc-link:hover,\n",
       ".sk-estimator-doc-link:hover,\n",
       "div.sk-label-container:hover .sk-estimator-doc-link:hover,\n",
       ".sk-estimator-doc-link:hover {\n",
       "  /* unfitted */\n",
       "  background-color: var(--sklearn-color-unfitted-level-3);\n",
       "  color: var(--sklearn-color-background);\n",
       "  text-decoration: none;\n",
       "}\n",
       "\n",
       "div.sk-estimator.fitted:hover .sk-estimator-doc-link.fitted:hover,\n",
       ".sk-estimator-doc-link.fitted:hover,\n",
       "div.sk-label-container:hover .sk-estimator-doc-link.fitted:hover,\n",
       ".sk-estimator-doc-link.fitted:hover {\n",
       "  /* fitted */\n",
       "  background-color: var(--sklearn-color-fitted-level-3);\n",
       "  color: var(--sklearn-color-background);\n",
       "  text-decoration: none;\n",
       "}\n",
       "\n",
       "/* Span, style for the box shown on hovering the info icon */\n",
       ".sk-estimator-doc-link span {\n",
       "  display: none;\n",
       "  z-index: 9999;\n",
       "  position: relative;\n",
       "  font-weight: normal;\n",
       "  right: .2ex;\n",
       "  padding: .5ex;\n",
       "  margin: .5ex;\n",
       "  width: min-content;\n",
       "  min-width: 20ex;\n",
       "  max-width: 50ex;\n",
       "  color: var(--sklearn-color-text);\n",
       "  box-shadow: 2pt 2pt 4pt #999;\n",
       "  /* unfitted */\n",
       "  background: var(--sklearn-color-unfitted-level-0);\n",
       "  border: .5pt solid var(--sklearn-color-unfitted-level-3);\n",
       "}\n",
       "\n",
       ".sk-estimator-doc-link.fitted span {\n",
       "  /* fitted */\n",
       "  background: var(--sklearn-color-fitted-level-0);\n",
       "  border: var(--sklearn-color-fitted-level-3);\n",
       "}\n",
       "\n",
       ".sk-estimator-doc-link:hover span {\n",
       "  display: block;\n",
       "}\n",
       "\n",
       "/* \"?\"-specific style due to the `<a>` HTML tag */\n",
       "\n",
       "#sk-container-id-2 a.estimator_doc_link {\n",
       "  float: right;\n",
       "  font-size: 1rem;\n",
       "  line-height: 1em;\n",
       "  font-family: monospace;\n",
       "  background-color: var(--sklearn-color-background);\n",
       "  border-radius: 1rem;\n",
       "  height: 1rem;\n",
       "  width: 1rem;\n",
       "  text-decoration: none;\n",
       "  /* unfitted */\n",
       "  color: var(--sklearn-color-unfitted-level-1);\n",
       "  border: var(--sklearn-color-unfitted-level-1) 1pt solid;\n",
       "}\n",
       "\n",
       "#sk-container-id-2 a.estimator_doc_link.fitted {\n",
       "  /* fitted */\n",
       "  border: var(--sklearn-color-fitted-level-1) 1pt solid;\n",
       "  color: var(--sklearn-color-fitted-level-1);\n",
       "}\n",
       "\n",
       "/* On hover */\n",
       "#sk-container-id-2 a.estimator_doc_link:hover {\n",
       "  /* unfitted */\n",
       "  background-color: var(--sklearn-color-unfitted-level-3);\n",
       "  color: var(--sklearn-color-background);\n",
       "  text-decoration: none;\n",
       "}\n",
       "\n",
       "#sk-container-id-2 a.estimator_doc_link.fitted:hover {\n",
       "  /* fitted */\n",
       "  background-color: var(--sklearn-color-fitted-level-3);\n",
       "}\n",
       "</style><div id=\"sk-container-id-2\" class=\"sk-top-container\"><div class=\"sk-text-repr-fallback\"><pre>Pipeline(steps=[(&#x27;preprocessor&#x27;,\n",
       "                 ColumnTransformer(remainder=StandardScaler(),\n",
       "                                   transformers=[(&#x27;cat&#x27;,\n",
       "                                                  OneHotEncoder(categories=[array([0, 1], dtype=int64),\n",
       "                                                                            array([0, 1], dtype=int64),\n",
       "                                                                            array([1, 2, 3, 4, 5, 6, 8], dtype=int64),\n",
       "                                                                            array([0, 1, 2, 3, 4, 5, 6, 7], dtype=int64)]),\n",
       "                                                  [&#x27;f12&#x27;, &#x27;f11&#x27;, &#x27;f5&#x27;,\n",
       "                                                   &#x27;f9&#x27;])])),\n",
       "                (&#x27;smote&#x27;, SMOTE(random_state=42)),\n",
       "                (&#x27;classifier&#x27;,\n",
       "                 XGBClassifier(base_score=No...\n",
       "                               feature_types=None, gamma=None, grow_policy=None,\n",
       "                               importance_type=None,\n",
       "                               interaction_constraints=None, learning_rate=None,\n",
       "                               max_bin=None, max_cat_threshold=None,\n",
       "                               max_cat_to_onehot=None, max_delta_step=None,\n",
       "                               max_depth=7, max_leaves=None,\n",
       "                               min_child_weight=None, missing=nan,\n",
       "                               monotone_constraints=None, multi_strategy=None,\n",
       "                               n_estimators=150, n_jobs=None,\n",
       "                               num_parallel_tree=None, random_state=None, ...))])</pre><b>In a Jupyter environment, please rerun this cell to show the HTML representation or trust the notebook. <br />On GitHub, the HTML representation is unable to render, please try loading this page with nbviewer.org.</b></div><div class=\"sk-container\" hidden><div class=\"sk-item sk-dashed-wrapped\"><div class=\"sk-label-container\"><div class=\"sk-label fitted sk-toggleable\"><input class=\"sk-toggleable__control sk-hidden--visually\" id=\"sk-estimator-id-9\" type=\"checkbox\" ><label for=\"sk-estimator-id-9\" class=\"sk-toggleable__label fitted sk-toggleable__label-arrow fitted\">&nbsp;Pipeline<span class=\"sk-estimator-doc-link fitted\">i<span>Fitted</span></span></label><div class=\"sk-toggleable__content fitted\"><pre>Pipeline(steps=[(&#x27;preprocessor&#x27;,\n",
       "                 ColumnTransformer(remainder=StandardScaler(),\n",
       "                                   transformers=[(&#x27;cat&#x27;,\n",
       "                                                  OneHotEncoder(categories=[array([0, 1], dtype=int64),\n",
       "                                                                            array([0, 1], dtype=int64),\n",
       "                                                                            array([1, 2, 3, 4, 5, 6, 8], dtype=int64),\n",
       "                                                                            array([0, 1, 2, 3, 4, 5, 6, 7], dtype=int64)]),\n",
       "                                                  [&#x27;f12&#x27;, &#x27;f11&#x27;, &#x27;f5&#x27;,\n",
       "                                                   &#x27;f9&#x27;])])),\n",
       "                (&#x27;smote&#x27;, SMOTE(random_state=42)),\n",
       "                (&#x27;classifier&#x27;,\n",
       "                 XGBClassifier(base_score=No...\n",
       "                               feature_types=None, gamma=None, grow_policy=None,\n",
       "                               importance_type=None,\n",
       "                               interaction_constraints=None, learning_rate=None,\n",
       "                               max_bin=None, max_cat_threshold=None,\n",
       "                               max_cat_to_onehot=None, max_delta_step=None,\n",
       "                               max_depth=7, max_leaves=None,\n",
       "                               min_child_weight=None, missing=nan,\n",
       "                               monotone_constraints=None, multi_strategy=None,\n",
       "                               n_estimators=150, n_jobs=None,\n",
       "                               num_parallel_tree=None, random_state=None, ...))])</pre></div> </div></div><div class=\"sk-serial\"><div class=\"sk-item sk-dashed-wrapped\"><div class=\"sk-label-container\"><div class=\"sk-label fitted sk-toggleable\"><input class=\"sk-toggleable__control sk-hidden--visually\" id=\"sk-estimator-id-10\" type=\"checkbox\" ><label for=\"sk-estimator-id-10\" class=\"sk-toggleable__label fitted sk-toggleable__label-arrow fitted\">&nbsp;preprocessor: ColumnTransformer<a class=\"sk-estimator-doc-link fitted\" rel=\"noreferrer\" target=\"_blank\" href=\"https://scikit-learn.org/1.4/modules/generated/sklearn.compose.ColumnTransformer.html\">?<span>Documentation for preprocessor: ColumnTransformer</span></a></label><div class=\"sk-toggleable__content fitted\"><pre>ColumnTransformer(remainder=StandardScaler(),\n",
       "                  transformers=[(&#x27;cat&#x27;,\n",
       "                                 OneHotEncoder(categories=[array([0, 1], dtype=int64),\n",
       "                                                           array([0, 1], dtype=int64),\n",
       "                                                           array([1, 2, 3, 4, 5, 6, 8], dtype=int64),\n",
       "                                                           array([0, 1, 2, 3, 4, 5, 6, 7], dtype=int64)]),\n",
       "                                 [&#x27;f12&#x27;, &#x27;f11&#x27;, &#x27;f5&#x27;, &#x27;f9&#x27;])])</pre></div> </div></div><div class=\"sk-parallel\"><div class=\"sk-parallel-item\"><div class=\"sk-item\"><div class=\"sk-label-container\"><div class=\"sk-label fitted sk-toggleable\"><input class=\"sk-toggleable__control sk-hidden--visually\" id=\"sk-estimator-id-11\" type=\"checkbox\" ><label for=\"sk-estimator-id-11\" class=\"sk-toggleable__label fitted sk-toggleable__label-arrow fitted\">cat</label><div class=\"sk-toggleable__content fitted\"><pre>[&#x27;f12&#x27;, &#x27;f11&#x27;, &#x27;f5&#x27;, &#x27;f9&#x27;]</pre></div> </div></div><div class=\"sk-serial\"><div class=\"sk-item\"><div class=\"sk-estimator fitted sk-toggleable\"><input class=\"sk-toggleable__control sk-hidden--visually\" id=\"sk-estimator-id-12\" type=\"checkbox\" ><label for=\"sk-estimator-id-12\" class=\"sk-toggleable__label fitted sk-toggleable__label-arrow fitted\">&nbsp;OneHotEncoder<a class=\"sk-estimator-doc-link fitted\" rel=\"noreferrer\" target=\"_blank\" href=\"https://scikit-learn.org/1.4/modules/generated/sklearn.preprocessing.OneHotEncoder.html\">?<span>Documentation for OneHotEncoder</span></a></label><div class=\"sk-toggleable__content fitted\"><pre>OneHotEncoder(categories=[array([0, 1], dtype=int64),\n",
       "                          array([0, 1], dtype=int64),\n",
       "                          array([1, 2, 3, 4, 5, 6, 8], dtype=int64),\n",
       "                          array([0, 1, 2, 3, 4, 5, 6, 7], dtype=int64)])</pre></div> </div></div></div></div></div><div class=\"sk-parallel-item\"><div class=\"sk-item\"><div class=\"sk-label-container\"><div class=\"sk-label fitted sk-toggleable\"><input class=\"sk-toggleable__control sk-hidden--visually\" id=\"sk-estimator-id-13\" type=\"checkbox\" ><label for=\"sk-estimator-id-13\" class=\"sk-toggleable__label fitted sk-toggleable__label-arrow fitted\">remainder</label><div class=\"sk-toggleable__content fitted\"><pre>[&#x27;f0&#x27;, &#x27;f1&#x27;, &#x27;f2&#x27;, &#x27;f3&#x27;, &#x27;f4&#x27;, &#x27;f6&#x27;, &#x27;f7&#x27;, &#x27;f8&#x27;, &#x27;f10&#x27;, &#x27;f13&#x27;, &#x27;f14&#x27;, &#x27;f15&#x27;, &#x27;f16&#x27;]</pre></div> </div></div><div class=\"sk-serial\"><div class=\"sk-item\"><div class=\"sk-estimator fitted sk-toggleable\"><input class=\"sk-toggleable__control sk-hidden--visually\" id=\"sk-estimator-id-14\" type=\"checkbox\" ><label for=\"sk-estimator-id-14\" class=\"sk-toggleable__label fitted sk-toggleable__label-arrow fitted\">&nbsp;StandardScaler<a class=\"sk-estimator-doc-link fitted\" rel=\"noreferrer\" target=\"_blank\" href=\"https://scikit-learn.org/1.4/modules/generated/sklearn.preprocessing.StandardScaler.html\">?<span>Documentation for StandardScaler</span></a></label><div class=\"sk-toggleable__content fitted\"><pre>StandardScaler()</pre></div> </div></div></div></div></div></div></div><div class=\"sk-item\"><div class=\"sk-estimator fitted sk-toggleable\"><input class=\"sk-toggleable__control sk-hidden--visually\" id=\"sk-estimator-id-15\" type=\"checkbox\" ><label for=\"sk-estimator-id-15\" class=\"sk-toggleable__label fitted sk-toggleable__label-arrow fitted\">SMOTE</label><div class=\"sk-toggleable__content fitted\"><pre>SMOTE(random_state=42)</pre></div> </div></div><div class=\"sk-item\"><div class=\"sk-estimator fitted sk-toggleable\"><input class=\"sk-toggleable__control sk-hidden--visually\" id=\"sk-estimator-id-16\" type=\"checkbox\" ><label for=\"sk-estimator-id-16\" class=\"sk-toggleable__label fitted sk-toggleable__label-arrow fitted\">XGBClassifier</label><div class=\"sk-toggleable__content fitted\"><pre>XGBClassifier(base_score=None, booster=None, callbacks=None,\n",
       "              colsample_bylevel=None, colsample_bynode=None,\n",
       "              colsample_bytree=None, device=None, early_stopping_rounds=None,\n",
       "              enable_categorical=False, eval_metric=&#x27;logloss&#x27;,\n",
       "              feature_types=None, gamma=None, grow_policy=None,\n",
       "              importance_type=None, interaction_constraints=None,\n",
       "              learning_rate=None, max_bin=None, max_cat_threshold=None,\n",
       "              max_cat_to_onehot=None, max_delta_step=None, max_depth=7,\n",
       "              max_leaves=None, min_child_weight=None, missing=nan,\n",
       "              monotone_constraints=None, multi_strategy=None, n_estimators=150,\n",
       "              n_jobs=None, num_parallel_tree=None, random_state=None, ...)</pre></div> </div></div></div></div></div></div>"
      ]
     },
     "execution_count": 68,
     "metadata": {},
     "output_type": "execute_result"
    }
   ],
   "execution_count": 68
  },
  {
   "cell_type": "code",
   "id": "3bac9ca63acaa1f9",
   "metadata": {
    "execution": {
     "iopub.execute_input": "2024-11-01T22:53:08.592561Z",
     "iopub.status.busy": "2024-11-01T22:53:08.592561Z",
     "iopub.status.idle": "2024-11-01T22:53:08.598838Z",
     "shell.execute_reply": "2024-11-01T22:53:08.598838Z"
    },
    "papermill": {
     "duration": 0.011135,
     "end_time": "2024-11-01T22:53:08.599841",
     "exception": false,
     "start_time": "2024-11-01T22:53:08.588706",
     "status": "completed"
    },
    "tags": [],
    "ExecuteTime": {
     "end_time": "2024-11-05T01:05:45.665324Z",
     "start_time": "2024-11-05T01:05:45.651357Z"
    }
   },
   "source": [
    "grid_search.best_score_"
   ],
   "outputs": [
    {
     "data": {
      "text/plain": [
       "0.7205547816668724"
      ]
     },
     "execution_count": 69,
     "metadata": {},
     "output_type": "execute_result"
    }
   ],
   "execution_count": 69
  },
  {
   "cell_type": "code",
   "id": "ee1faab262b6aeeb",
   "metadata": {
    "execution": {
     "iopub.execute_input": "2024-11-01T22:53:08.607042Z",
     "iopub.status.busy": "2024-11-01T22:53:08.607042Z",
     "iopub.status.idle": "2024-11-01T22:53:08.645186Z",
     "shell.execute_reply": "2024-11-01T22:53:08.645186Z"
    },
    "papermill": {
     "duration": 0.043689,
     "end_time": "2024-11-01T22:53:08.646573",
     "exception": false,
     "start_time": "2024-11-01T22:53:08.602884",
     "status": "completed"
    },
    "tags": [],
    "ExecuteTime": {
     "end_time": "2024-11-05T01:05:45.743220Z",
     "start_time": "2024-11-05T01:05:45.728669Z"
    }
   },
   "source": [
    "cv_results = pd.DataFrame(grid_search.cv_results_)\n",
    "cv_results = cv_results.sort_values('rank_test_f1')\n",
    "cv_results[[\n",
    "    'rank_test_f1',\n",
    "    'mean_test_f1',\n",
    "    'param_classifier',\n",
    "    # 'param_preprocessor__dynamic_column_transformer__cat_attrs',\n",
    "    'params'\n",
    "]].head(10)"
   ],
   "outputs": [
    {
     "data": {
      "text/plain": [
       "   rank_test_f1  mean_test_f1  \\\n",
       "0             1         0.721   \n",
       "\n",
       "                                    param_classifier  \\\n",
       "0  XGBClassifier(base_score=None, booster=None, c...   \n",
       "\n",
       "                                              params  \n",
       "0  {'classifier': XGBClassifier(base_score=None, ...  "
      ],
      "text/html": [
       "<div>\n",
       "<style scoped>\n",
       "    .dataframe tbody tr th:only-of-type {\n",
       "        vertical-align: middle;\n",
       "    }\n",
       "\n",
       "    .dataframe tbody tr th {\n",
       "        vertical-align: top;\n",
       "    }\n",
       "\n",
       "    .dataframe thead th {\n",
       "        text-align: right;\n",
       "    }\n",
       "</style>\n",
       "<table border=\"1\" class=\"dataframe\">\n",
       "  <thead>\n",
       "    <tr style=\"text-align: right;\">\n",
       "      <th></th>\n",
       "      <th>rank_test_f1</th>\n",
       "      <th>mean_test_f1</th>\n",
       "      <th>param_classifier</th>\n",
       "      <th>params</th>\n",
       "    </tr>\n",
       "  </thead>\n",
       "  <tbody>\n",
       "    <tr>\n",
       "      <th>0</th>\n",
       "      <td>1</td>\n",
       "      <td>0.721</td>\n",
       "      <td>XGBClassifier(base_score=None, booster=None, c...</td>\n",
       "      <td>{'classifier': XGBClassifier(base_score=None, ...</td>\n",
       "    </tr>\n",
       "  </tbody>\n",
       "</table>\n",
       "</div>"
      ]
     },
     "execution_count": 70,
     "metadata": {},
     "output_type": "execute_result"
    }
   ],
   "execution_count": 70
  },
  {
   "cell_type": "code",
   "id": "472bc1c2945e2ede",
   "metadata": {
    "execution": {
     "iopub.execute_input": "2024-11-01T22:53:08.654560Z",
     "iopub.status.busy": "2024-11-01T22:53:08.653559Z",
     "iopub.status.idle": "2024-11-01T22:53:08.941964Z",
     "shell.execute_reply": "2024-11-01T22:53:08.941964Z"
    },
    "papermill": {
     "duration": 0.292884,
     "end_time": "2024-11-01T22:53:08.942966",
     "exception": false,
     "start_time": "2024-11-01T22:53:08.650082",
     "status": "completed"
    },
    "tags": [],
    "ExecuteTime": {
     "end_time": "2024-11-05T01:05:46.195845Z",
     "start_time": "2024-11-05T01:05:45.836108Z"
    }
   },
   "source": [
    "from sklearn.metrics import f1_score, precision_score, recall_score\n",
    "\n",
    "y_pred = grid_search.best_estimator_.predict(X_test)\n",
    "f1 = f1_score(y_test, y_pred)\n",
    "p = precision_score(y_test, y_pred)\n",
    "r = recall_score(y_test, y_pred)\n",
    "\n",
    "print(\"F1:\", f1)\n",
    "print(\"Precision:\", p)\n",
    "print(\"Recall:\", r)"
   ],
   "outputs": [
    {
     "name": "stdout",
     "output_type": "stream",
     "text": [
      "F1: 0.7269887046383081\n",
      "Precision: 0.6340389855376232\n",
      "Recall: 0.8518727119121374\n"
     ]
    }
   ],
   "execution_count": 71
  },
  {
   "cell_type": "code",
   "id": "1420d5a2ba01a421",
   "metadata": {
    "execution": {
     "iopub.execute_input": "2024-11-01T22:53:08.951000Z",
     "iopub.status.busy": "2024-11-01T22:53:08.951000Z",
     "iopub.status.idle": "2024-11-01T22:53:08.989243Z",
     "shell.execute_reply": "2024-11-01T22:53:08.988593Z"
    },
    "papermill": {
     "duration": 0.042269,
     "end_time": "2024-11-01T22:53:08.989243",
     "exception": false,
     "start_time": "2024-11-01T22:53:08.946974",
     "status": "completed"
    },
    "tags": [],
    "ExecuteTime": {
     "end_time": "2024-11-05T01:05:46.273044Z",
     "start_time": "2024-11-05T01:05:46.228642Z"
    }
   },
   "source": [
    "from joblib import dump\n",
    "\n",
    "if not os.path.exists('out'):\n",
    "    os.makedirs('out')\n",
    "dump(grid_search, os.path.join('out', 'GridSearchCV_dump.pkl'), compress=True)"
   ],
   "outputs": [
    {
     "data": {
      "text/plain": [
       "['out\\\\GridSearchCV_dump.pkl']"
      ]
     },
     "execution_count": 72,
     "metadata": {},
     "output_type": "execute_result"
    }
   ],
   "execution_count": 72
  }
 ],
 "metadata": {
  "kernelspec": {
   "display_name": "Python 3 (ipykernel)",
   "language": "python",
   "name": "python3"
  },
  "language_info": {
   "codemirror_mode": {
    "name": "ipython",
    "version": 3
   },
   "file_extension": ".py",
   "mimetype": "text/x-python",
   "name": "python",
   "nbconvert_exporter": "python",
   "pygments_lexer": "ipython3",
   "version": "3.9.13"
  },
  "papermill": {
   "default_parameters": {},
   "duration": 23.865441,
   "end_time": "2024-11-01T22:53:09.567913",
   "environment_variables": {},
   "exception": null,
   "input_path": "classification_t_nobalance_XGBClassifier.ipynb",
   "output_path": "classification_t_nobalance_XGBClassifier.ipynb",
   "parameters": {
    "n_jobs": 8
   },
   "start_time": "2024-11-01T22:52:45.702472",
   "version": "2.6.0"
  }
 },
 "nbformat": 4,
 "nbformat_minor": 5
}
