{
 "cells": [
  {
   "cell_type": "code",
   "execution_count": 1,
   "id": "initial_id",
   "metadata": {
    "execution": {
     "iopub.execute_input": "2024-11-06T00:54:39.540138Z",
     "iopub.status.busy": "2024-11-06T00:54:39.540138Z",
     "iopub.status.idle": "2024-11-06T00:54:39.956422Z",
     "shell.execute_reply": "2024-11-06T00:54:39.956422Z"
    },
    "papermill": {
     "duration": 0.421434,
     "end_time": "2024-11-06T00:54:39.957425",
     "exception": false,
     "start_time": "2024-11-06T00:54:39.535991",
     "status": "completed"
    },
    "tags": []
   },
   "outputs": [],
   "source": [
    "import os\n",
    "import pandas as pd"
   ]
  },
  {
   "cell_type": "code",
   "execution_count": 2,
   "id": "ab92d0123055b0f4",
   "metadata": {
    "execution": {
     "iopub.execute_input": "2024-11-06T00:54:39.963795Z",
     "iopub.status.busy": "2024-11-06T00:54:39.963795Z",
     "iopub.status.idle": "2024-11-06T00:54:39.971507Z",
     "shell.execute_reply": "2024-11-06T00:54:39.971507Z"
    },
    "papermill": {
     "duration": 0.011571,
     "end_time": "2024-11-06T00:54:39.972506",
     "exception": false,
     "start_time": "2024-11-06T00:54:39.960935",
     "status": "completed"
    },
    "tags": [
     "parameters"
    ]
   },
   "outputs": [],
   "source": [
    "cat_attrs: str = \"f12 f11\"\n",
    "balance_data: bool = False\n",
    "clear_data: bool = True\n",
    "n_jobs: int = 1\n",
    "verbose: int = 10"
   ]
  },
  {
   "cell_type": "code",
   "execution_count": 3,
   "id": "dea0a73b",
   "metadata": {
    "execution": {
     "iopub.execute_input": "2024-11-06T00:54:39.977189Z",
     "iopub.status.busy": "2024-11-06T00:54:39.977189Z",
     "iopub.status.idle": "2024-11-06T00:54:39.987013Z",
     "shell.execute_reply": "2024-11-06T00:54:39.987013Z"
    },
    "papermill": {
     "duration": 0.012834,
     "end_time": "2024-11-06T00:54:39.988014",
     "exception": false,
     "start_time": "2024-11-06T00:54:39.975180",
     "status": "completed"
    },
    "tags": [
     "injected-parameters"
    ]
   },
   "outputs": [],
   "source": [
    "# Parameters\n",
    "n_jobs = 5\n"
   ]
  },
  {
   "cell_type": "code",
   "execution_count": 4,
   "id": "b8d59c2d5723d798",
   "metadata": {
    "execution": {
     "iopub.execute_input": "2024-11-06T00:54:39.994530Z",
     "iopub.status.busy": "2024-11-06T00:54:39.993528Z",
     "iopub.status.idle": "2024-11-06T00:54:40.002550Z",
     "shell.execute_reply": "2024-11-06T00:54:40.002550Z"
    },
    "papermill": {
     "duration": 0.013528,
     "end_time": "2024-11-06T00:54:40.004056",
     "exception": false,
     "start_time": "2024-11-06T00:54:39.990528",
     "status": "completed"
    },
    "tags": []
   },
   "outputs": [
    {
     "data": {
      "text/plain": [
       "['f12', 'f11']"
      ]
     },
     "execution_count": 4,
     "metadata": {},
     "output_type": "execute_result"
    }
   ],
   "source": [
    "cat_attrs: list[str] = cat_attrs.split()\n",
    "cat_attrs"
   ]
  },
  {
   "cell_type": "code",
   "execution_count": 5,
   "id": "c9c5b653532c8121",
   "metadata": {
    "execution": {
     "iopub.execute_input": "2024-11-06T00:54:40.010768Z",
     "iopub.status.busy": "2024-11-06T00:54:40.009755Z",
     "iopub.status.idle": "2024-11-06T00:54:40.017975Z",
     "shell.execute_reply": "2024-11-06T00:54:40.017975Z"
    },
    "papermill": {
     "duration": 0.012146,
     "end_time": "2024-11-06T00:54:40.019349",
     "exception": false,
     "start_time": "2024-11-06T00:54:40.007203",
     "status": "completed"
    },
    "tags": []
   },
   "outputs": [],
   "source": [
    "pd.set_option('display.float_format', '{:.3f}'.format)"
   ]
  },
  {
   "cell_type": "code",
   "execution_count": 6,
   "id": "d56664ec8b50ea6a",
   "metadata": {
    "execution": {
     "iopub.execute_input": "2024-11-06T00:54:40.026814Z",
     "iopub.status.busy": "2024-11-06T00:54:40.026814Z",
     "iopub.status.idle": "2024-11-06T00:54:40.607116Z",
     "shell.execute_reply": "2024-11-06T00:54:40.607116Z"
    },
    "papermill": {
     "duration": 0.585764,
     "end_time": "2024-11-06T00:54:40.608119",
     "exception": false,
     "start_time": "2024-11-06T00:54:40.022355",
     "status": "completed"
    },
    "tags": []
   },
   "outputs": [],
   "source": [
    "csv_path = os.path.join('data', 'data.csv')\n",
    "data = pd.read_csv(csv_path)"
   ]
  },
  {
   "cell_type": "code",
   "execution_count": 7,
   "id": "fdba6b06da2871bf",
   "metadata": {
    "execution": {
     "iopub.execute_input": "2024-11-06T00:54:40.615196Z",
     "iopub.status.busy": "2024-11-06T00:54:40.614182Z",
     "iopub.status.idle": "2024-11-06T00:54:40.653321Z",
     "shell.execute_reply": "2024-11-06T00:54:40.653321Z"
    },
    "papermill": {
     "duration": 0.043281,
     "end_time": "2024-11-06T00:54:40.654913",
     "exception": false,
     "start_time": "2024-11-06T00:54:40.611632",
     "status": "completed"
    },
    "tags": []
   },
   "outputs": [],
   "source": [
    "X = data.drop(columns=['target', 'p'])\n",
    "y = data['target']"
   ]
  },
  {
   "cell_type": "code",
   "execution_count": 8,
   "id": "288f06209ad7651",
   "metadata": {
    "execution": {
     "iopub.execute_input": "2024-11-06T00:54:40.660431Z",
     "iopub.status.busy": "2024-11-06T00:54:40.660431Z",
     "iopub.status.idle": "2024-11-06T00:54:41.352840Z",
     "shell.execute_reply": "2024-11-06T00:54:41.352840Z"
    },
    "papermill": {
     "duration": 0.695929,
     "end_time": "2024-11-06T00:54:41.353850",
     "exception": false,
     "start_time": "2024-11-06T00:54:40.657921",
     "status": "completed"
    },
    "tags": []
   },
   "outputs": [],
   "source": [
    "from sklearn.preprocessing import LabelEncoder\n",
    "\n",
    "label_encoder = LabelEncoder()\n",
    "y = label_encoder.fit_transform(y)\n",
    "y = pd.Series(y, name='target')"
   ]
  },
  {
   "cell_type": "code",
   "execution_count": 9,
   "id": "e32d493683b4f70f",
   "metadata": {
    "execution": {
     "iopub.execute_input": "2024-11-06T00:54:41.361016Z",
     "iopub.status.busy": "2024-11-06T00:54:41.359840Z",
     "iopub.status.idle": "2024-11-06T00:54:41.681820Z",
     "shell.execute_reply": "2024-11-06T00:54:41.681820Z"
    },
    "papermill": {
     "duration": 0.32598,
     "end_time": "2024-11-06T00:54:41.682820",
     "exception": false,
     "start_time": "2024-11-06T00:54:41.356840",
     "status": "completed"
    },
    "tags": []
   },
   "outputs": [
    {
     "name": "stdout",
     "output_type": "stream",
     "text": [
      "Train: X=(838860, 17) y=(838860,)\n",
      "Test: X=(209715, 17) y=(209715,)\n"
     ]
    }
   ],
   "source": [
    "from sklearn.model_selection import train_test_split\n",
    "\n",
    "test_size_ratio = 0.2\n",
    "X_train, X_test, y_train, y_test = train_test_split(\n",
    "    X, y,\n",
    "    test_size=test_size_ratio, \n",
    "    stratify=y, \n",
    "    random_state=42\n",
    ")\n",
    "\n",
    "print(f\"Train: X={X_train.shape} y={y_train.shape}\")\n",
    "print(f\"Test: X={X_test.shape} y={y_test.shape}\")"
   ]
  },
  {
   "cell_type": "code",
   "execution_count": 10,
   "id": "6d5455bafdcbc466",
   "metadata": {
    "execution": {
     "iopub.execute_input": "2024-11-06T00:54:41.689533Z",
     "iopub.status.busy": "2024-11-06T00:54:41.689029Z",
     "iopub.status.idle": "2024-11-06T00:54:41.696562Z",
     "shell.execute_reply": "2024-11-06T00:54:41.696562Z"
    },
    "papermill": {
     "duration": 0.011232,
     "end_time": "2024-11-06T00:54:41.697564",
     "exception": false,
     "start_time": "2024-11-06T00:54:41.686332",
     "status": "completed"
    },
    "tags": []
   },
   "outputs": [
    {
     "name": "stdout",
     "output_type": "stream",
     "text": [
      "balance_data set to False\n"
     ]
    }
   ],
   "source": [
    "from collections import Counter\n",
    "\n",
    "if balance_data:\n",
    "    train = pd.concat([X_train, y_train], axis=1)\n",
    "    train_n = train.shape[0]\n",
    "    \n",
    "    class_counts = Counter(train['target'])\n",
    "    min_class = min(class_counts, key=lambda x: class_counts[x])\n",
    "    \n",
    "    new_train = train.groupby('target').apply(\n",
    "        lambda x: x.sample(class_counts[min_class])\n",
    "    ).reset_index(drop=True)\n",
    "    removed_n = train.shape[0] - new_train.shape[0]\n",
    "    removed_ratio = removed_n / train_n\n",
    "    \n",
    "    print(f\"Majority class: '{min_class}'\")\n",
    "    print(f\"Records removed: {removed_n} ({removed_ratio * 100:.3f} %)\")\n",
    "    X_train = new_train.drop(columns=['target'])\n",
    "    y_train = new_train['target']\n",
    "    print(f\"\\nTrain: X={X_train.shape} y={y_train.shape}\")\n",
    "else:\n",
    "    print(\"balance_data set to False\")"
   ]
  },
  {
   "cell_type": "code",
   "execution_count": 11,
   "id": "ea1d2432dcd6f50a",
   "metadata": {
    "execution": {
     "iopub.execute_input": "2024-11-06T00:54:41.703070Z",
     "iopub.status.busy": "2024-11-06T00:54:41.703070Z",
     "iopub.status.idle": "2024-11-06T00:54:41.711777Z",
     "shell.execute_reply": "2024-11-06T00:54:41.711777Z"
    },
    "papermill": {
     "duration": 0.012714,
     "end_time": "2024-11-06T00:54:41.712780",
     "exception": false,
     "start_time": "2024-11-06T00:54:41.700066",
     "status": "completed"
    },
    "tags": []
   },
   "outputs": [
    {
     "name": "stdout",
     "output_type": "stream",
     "text": [
      "Train positives ratio: 1.69301 %\n",
      "Test positives ratio:  1.69325 %\n"
     ]
    }
   ],
   "source": [
    "y_train_pos_ratio = y_train[y_train == 1].shape[0] / y_train.shape[0]\n",
    "y_test_pos_ratio = y_test[y_test == 1].shape[0] / y_test.shape[0]\n",
    "\n",
    "print(\"Train positives ratio:\", f\"{y_train_pos_ratio * 100:.5f} %\")\n",
    "print(\"Test positives ratio: \", f\"{y_test_pos_ratio * 100:.5f} %\")"
   ]
  },
  {
   "cell_type": "code",
   "execution_count": 12,
   "id": "120b47e1c07d5d5d",
   "metadata": {
    "execution": {
     "iopub.execute_input": "2024-11-06T00:54:41.718779Z",
     "iopub.status.busy": "2024-11-06T00:54:41.718779Z",
     "iopub.status.idle": "2024-11-06T00:54:42.360489Z",
     "shell.execute_reply": "2024-11-06T00:54:42.360489Z"
    },
    "papermill": {
     "duration": 0.645816,
     "end_time": "2024-11-06T00:54:42.361594",
     "exception": false,
     "start_time": "2024-11-06T00:54:41.715778",
     "status": "completed"
    },
    "tags": []
   },
   "outputs": [
    {
     "name": "stdout",
     "output_type": "stream",
     "text": [
      "Duplicates removed: 61923 (7.382 %)\n"
     ]
    },
    {
     "name": "stdout",
     "output_type": "stream",
     "text": [
      "Collisions removed: 56 (0.007 %)\n",
      "Total removed:      61979 (7.388 %)\n",
      "\n",
      "Train: X=(776881, 17) y=(776881,)\n"
     ]
    }
   ],
   "source": [
    "if clear_data:\n",
    "    train = pd.concat([X_train, y_train], axis=1)\n",
    "    train_n = train.shape[0]\n",
    "    \n",
    "    new_train = train.drop_duplicates()\n",
    "    duplicates_n = train.shape[0] - new_train.shape[0]\n",
    "    duplicates_ratio = duplicates_n / train_n\n",
    "    print(f\"Duplicates removed: {duplicates_n} ({duplicates_ratio * 100:.3f} %)\")\n",
    "    train = new_train\n",
    "    \n",
    "    new_train = train.drop_duplicates(subset=train.columns.difference(['target']))\n",
    "    collisions_n = train.shape[0] - new_train.shape[0]\n",
    "    collisions_ratio = collisions_n / train_n\n",
    "    print(f\"Collisions removed: {collisions_n} ({collisions_ratio * 100:.3f} %)\")\n",
    "    train = new_train\n",
    "    \n",
    "    print(f\"Total removed:      {duplicates_n + collisions_n} \"\n",
    "          f\"({(duplicates_ratio + collisions_ratio) * 100:.3f} %)\")\n",
    "    X_train = train.drop(columns=['target'])\n",
    "    y_train = train['target']\n",
    "    print(f\"\\nTrain: X={X_train.shape} y={y_train.shape}\")\n",
    "else:\n",
    "    print(\"clear_data set to False\")"
   ]
  },
  {
   "cell_type": "code",
   "execution_count": 13,
   "id": "c5e26b96b7083101",
   "metadata": {
    "execution": {
     "iopub.execute_input": "2024-11-06T00:54:42.367832Z",
     "iopub.status.busy": "2024-11-06T00:54:42.367832Z",
     "iopub.status.idle": "2024-11-06T00:54:42.437490Z",
     "shell.execute_reply": "2024-11-06T00:54:42.437490Z"
    },
    "papermill": {
     "duration": 0.074054,
     "end_time": "2024-11-06T00:54:42.438497",
     "exception": false,
     "start_time": "2024-11-06T00:54:42.364443",
     "status": "completed"
    },
    "tags": []
   },
   "outputs": [
    {
     "data": {
      "text/plain": [
       "[array([0, 1], dtype=int64), array([0, 1], dtype=int64)]"
      ]
     },
     "execution_count": 13,
     "metadata": {},
     "output_type": "execute_result"
    }
   ],
   "source": [
    "from sklearn.compose import ColumnTransformer\n",
    "from sklearn.linear_model import LogisticRegression\n",
    "from sklearn.preprocessing import OneHotEncoder, StandardScaler\n",
    "from sklearn.pipeline import Pipeline\n",
    "\n",
    "cat_encoder = OneHotEncoder().fit(X[cat_attrs])\n",
    "cat_encoder.categories_  # TODO"
   ]
  },
  {
   "cell_type": "code",
   "execution_count": 14,
   "id": "515460711168c32f",
   "metadata": {
    "execution": {
     "iopub.execute_input": "2024-11-06T00:54:42.445945Z",
     "iopub.status.busy": "2024-11-06T00:54:42.444946Z",
     "iopub.status.idle": "2024-11-06T00:54:42.593644Z",
     "shell.execute_reply": "2024-11-06T00:54:42.593644Z"
    },
    "papermill": {
     "duration": 0.152702,
     "end_time": "2024-11-06T00:54:42.594646",
     "exception": false,
     "start_time": "2024-11-06T00:54:42.441944",
     "status": "completed"
    },
    "tags": []
   },
   "outputs": [],
   "source": [
    "from imblearn.over_sampling import SMOTE, SMOTENC\n",
    "from imblearn.pipeline import Pipeline as ImPipeline\n",
    "\n",
    "preprocessor = ColumnTransformer(\n",
    "    transformers=[\n",
    "        ('cat', 'passthrough', cat_attrs)\n",
    "    ],\n",
    "    remainder=StandardScaler(),\n",
    "    verbose_feature_names_out=True\n",
    ")\n",
    "preprocessor = preprocessor.set_output(transform='pandas')\n",
    "\n",
    "one_hot = ColumnTransformer(\n",
    "    transformers=[\n",
    "        ('cat', OneHotEncoder(), list(map(lambda attr: 'cat__' + attr, cat_attrs)))\n",
    "    ],\n",
    "    remainder='passthrough',\n",
    "    verbose_feature_names_out=True\n",
    ")\n",
    "\n",
    "pipeline = ImPipeline(steps=[\n",
    "    ('preprocessor', preprocessor),\n",
    "    ('sampling', SMOTENC(categorical_features=list(map(lambda attr: 'cat__' + attr, cat_attrs)), random_state=42)),\n",
    "    ('one_hot', one_hot),\n",
    "    ('classifier', LogisticRegression())\n",
    "])"
   ]
  },
  {
   "cell_type": "code",
   "execution_count": 15,
   "id": "d30eff5ccc2557f5",
   "metadata": {
    "execution": {
     "iopub.execute_input": "2024-11-06T00:54:42.601153Z",
     "iopub.status.busy": "2024-11-06T00:54:42.601153Z",
     "iopub.status.idle": "2024-11-06T00:54:42.608636Z",
     "shell.execute_reply": "2024-11-06T00:54:42.608636Z"
    },
    "papermill": {
     "duration": 0.011993,
     "end_time": "2024-11-06T00:54:42.609637",
     "exception": false,
     "start_time": "2024-11-06T00:54:42.597644",
     "status": "completed"
    },
    "tags": []
   },
   "outputs": [],
   "source": [
    "# z_x, z_y = pipeline.fit_resample(X_train, y_train)\n",
    "# z_x, z_y"
   ]
  },
  {
   "cell_type": "code",
   "execution_count": 16,
   "id": "66691c77924b8a7",
   "metadata": {
    "execution": {
     "iopub.execute_input": "2024-11-06T00:54:42.616571Z",
     "iopub.status.busy": "2024-11-06T00:54:42.616571Z",
     "iopub.status.idle": "2024-11-06T00:54:42.624146Z",
     "shell.execute_reply": "2024-11-06T00:54:42.624146Z"
    },
    "papermill": {
     "duration": 0.012251,
     "end_time": "2024-11-06T00:54:42.625154",
     "exception": false,
     "start_time": "2024-11-06T00:54:42.612903",
     "status": "completed"
    },
    "tags": []
   },
   "outputs": [],
   "source": [
    "# (z_y == 0).sum(), (z_y == 1).sum()"
   ]
  },
  {
   "cell_type": "code",
   "execution_count": 17,
   "id": "eb7e6f10dbbd5b71",
   "metadata": {
    "execution": {
     "iopub.execute_input": "2024-11-06T00:54:42.631966Z",
     "iopub.status.busy": "2024-11-06T00:54:42.631966Z",
     "iopub.status.idle": "2024-11-06T00:54:42.685612Z",
     "shell.execute_reply": "2024-11-06T00:54:42.685612Z"
    },
    "papermill": {
     "duration": 0.058016,
     "end_time": "2024-11-06T00:54:42.686617",
     "exception": false,
     "start_time": "2024-11-06T00:54:42.628601",
     "status": "completed"
    },
    "tags": []
   },
   "outputs": [
    {
     "data": {
      "text/plain": [
       "{0: 0.5087769277216532, 1: 28.98377107894344}"
      ]
     },
     "execution_count": 17,
     "metadata": {},
     "output_type": "execute_result"
    }
   ],
   "source": [
    "from sklearn.utils import class_weight\n",
    "\n",
    "class_weights = class_weight.compute_class_weight(class_weight='balanced', classes=y_train.unique(), y=y_train)\n",
    "class_weights = dict(enumerate(class_weights))\n",
    "class_weights"
   ]
  },
  {
   "cell_type": "code",
   "execution_count": 18,
   "id": "f342b445ddaf788b",
   "metadata": {
    "execution": {
     "iopub.execute_input": "2024-11-06T00:54:42.694131Z",
     "iopub.status.busy": "2024-11-06T00:54:42.694131Z",
     "iopub.status.idle": "2024-11-06T00:54:42.747117Z",
     "shell.execute_reply": "2024-11-06T00:54:42.747117Z"
    },
    "papermill": {
     "duration": 0.058481,
     "end_time": "2024-11-06T00:54:42.748601",
     "exception": false,
     "start_time": "2024-11-06T00:54:42.690120",
     "status": "completed"
    },
    "tags": []
   },
   "outputs": [],
   "source": [
    "from xgboost import XGBClassifier\n",
    "from sklearn.neighbors import KNeighborsClassifier\n",
    "from sklearn.ensemble import RandomForestClassifier, HistGradientBoostingClassifier\n",
    "from imblearn.over_sampling import RandomOverSampler\n",
    "\n",
    "param_grid = [\n",
    "    {\n",
    "        'one_hot': ['passthrough'],\n",
    "        'classifier__categorical_features': [list(map(lambda attr: 'cat__' + attr, cat_attrs))],\n",
    "\n",
    "        'classifier': [HistGradientBoostingClassifier(random_state=42)],\n",
    "        'classifier__learning_rate': [0.1],  # 0.1\n",
    "        'classifier__max_iter': [200],  # 100\n",
    "        'classifier__early_stopping': [False],  # True\n",
    "        'classifier__class_weight': [None, class_weights],                 # Minimum loss reduction required to make a further partition on a leaf node\n",
    "    },\n",
    "    # {\n",
    "    #     'classifier': [RandomForestClassifier()],\n",
    "    #     'classifier__n_estimators': [200],  # 100\n",
    "    #     'classifier__max_depth': [None],\n",
    "    #     'classifier__class_weight': [None],\n",
    "    # },\n",
    "]"
   ]
  },
  {
   "cell_type": "code",
   "execution_count": 19,
   "id": "6ea08895e9330bd4",
   "metadata": {
    "execution": {
     "iopub.execute_input": "2024-11-06T00:54:42.755167Z",
     "iopub.status.busy": "2024-11-06T00:54:42.755167Z",
     "iopub.status.idle": "2024-11-06T00:57:06.605337Z",
     "shell.execute_reply": "2024-11-06T00:57:06.603030Z"
    },
    "papermill": {
     "duration": 143.885774,
     "end_time": "2024-11-06T00:57:06.637928",
     "exception": false,
     "start_time": "2024-11-06T00:54:42.752154",
     "status": "completed"
    },
    "tags": []
   },
   "outputs": [
    {
     "name": "stdout",
     "output_type": "stream",
     "text": [
      "Fitting 5 folds for each of 2 candidates, totalling 10 fits\n"
     ]
    }
   ],
   "source": [
    "from sklearn.model_selection import GridSearchCV, StratifiedShuffleSplit\n",
    "\n",
    "grid_search = GridSearchCV(\n",
    "    pipeline, param_grid,\n",
    "    cv=StratifiedShuffleSplit(n_splits=5, test_size=0.2, random_state=42),\n",
    "    scoring=['f1', 'precision', 'recall'],\n",
    "    refit='f1',\n",
    "    return_train_score=True,\n",
    "    n_jobs=n_jobs,\n",
    "    verbose=verbose\n",
    ")\n",
    "\n",
    "grid_search.fit(X_train, y_train);"
   ]
  },
  {
   "cell_type": "code",
   "execution_count": 20,
   "id": "6df9de92f1c370b8",
   "metadata": {
    "execution": {
     "iopub.execute_input": "2024-11-06T00:57:06.665366Z",
     "iopub.status.busy": "2024-11-06T00:57:06.665366Z",
     "iopub.status.idle": "2024-11-06T00:57:06.682301Z",
     "shell.execute_reply": "2024-11-06T00:57:06.682301Z"
    },
    "papermill": {
     "duration": 0.023949,
     "end_time": "2024-11-06T00:57:06.683305",
     "exception": false,
     "start_time": "2024-11-06T00:57:06.659356",
     "status": "completed"
    },
    "tags": []
   },
   "outputs": [
    {
     "data": {
      "text/plain": [
       "{'classifier': HistGradientBoostingClassifier(random_state=42),\n",
       " 'classifier__categorical_features': ['cat__f12', 'cat__f11'],\n",
       " 'classifier__class_weight': None,\n",
       " 'classifier__early_stopping': False,\n",
       " 'classifier__learning_rate': 0.1,\n",
       " 'classifier__max_iter': 200,\n",
       " 'one_hot': 'passthrough'}"
      ]
     },
     "execution_count": 20,
     "metadata": {},
     "output_type": "execute_result"
    }
   ],
   "source": [
    "grid_search.best_params_"
   ]
  },
  {
   "cell_type": "code",
   "execution_count": 21,
   "id": "f2b0d1610f911a82",
   "metadata": {
    "execution": {
     "iopub.execute_input": "2024-11-06T00:57:06.691082Z",
     "iopub.status.busy": "2024-11-06T00:57:06.691082Z",
     "iopub.status.idle": "2024-11-06T00:57:06.713104Z",
     "shell.execute_reply": "2024-11-06T00:57:06.713104Z"
    },
    "papermill": {
     "duration": 0.026255,
     "end_time": "2024-11-06T00:57:06.714109",
     "exception": false,
     "start_time": "2024-11-06T00:57:06.687854",
     "status": "completed"
    },
    "tags": []
   },
   "outputs": [
    {
     "data": {
      "text/html": [
       "<style>#sk-container-id-1 {\n",
       "  /* Definition of color scheme common for light and dark mode */\n",
       "  --sklearn-color-text: black;\n",
       "  --sklearn-color-line: gray;\n",
       "  /* Definition of color scheme for unfitted estimators */\n",
       "  --sklearn-color-unfitted-level-0: #fff5e6;\n",
       "  --sklearn-color-unfitted-level-1: #f6e4d2;\n",
       "  --sklearn-color-unfitted-level-2: #ffe0b3;\n",
       "  --sklearn-color-unfitted-level-3: chocolate;\n",
       "  /* Definition of color scheme for fitted estimators */\n",
       "  --sklearn-color-fitted-level-0: #f0f8ff;\n",
       "  --sklearn-color-fitted-level-1: #d4ebff;\n",
       "  --sklearn-color-fitted-level-2: #b3dbfd;\n",
       "  --sklearn-color-fitted-level-3: cornflowerblue;\n",
       "\n",
       "  /* Specific color for light theme */\n",
       "  --sklearn-color-text-on-default-background: var(--sg-text-color, var(--theme-code-foreground, var(--jp-content-font-color1, black)));\n",
       "  --sklearn-color-background: var(--sg-background-color, var(--theme-background, var(--jp-layout-color0, white)));\n",
       "  --sklearn-color-border-box: var(--sg-text-color, var(--theme-code-foreground, var(--jp-content-font-color1, black)));\n",
       "  --sklearn-color-icon: #696969;\n",
       "\n",
       "  @media (prefers-color-scheme: dark) {\n",
       "    /* Redefinition of color scheme for dark theme */\n",
       "    --sklearn-color-text-on-default-background: var(--sg-text-color, var(--theme-code-foreground, var(--jp-content-font-color1, white)));\n",
       "    --sklearn-color-background: var(--sg-background-color, var(--theme-background, var(--jp-layout-color0, #111)));\n",
       "    --sklearn-color-border-box: var(--sg-text-color, var(--theme-code-foreground, var(--jp-content-font-color1, white)));\n",
       "    --sklearn-color-icon: #878787;\n",
       "  }\n",
       "}\n",
       "\n",
       "#sk-container-id-1 {\n",
       "  color: var(--sklearn-color-text);\n",
       "}\n",
       "\n",
       "#sk-container-id-1 pre {\n",
       "  padding: 0;\n",
       "}\n",
       "\n",
       "#sk-container-id-1 input.sk-hidden--visually {\n",
       "  border: 0;\n",
       "  clip: rect(1px 1px 1px 1px);\n",
       "  clip: rect(1px, 1px, 1px, 1px);\n",
       "  height: 1px;\n",
       "  margin: -1px;\n",
       "  overflow: hidden;\n",
       "  padding: 0;\n",
       "  position: absolute;\n",
       "  width: 1px;\n",
       "}\n",
       "\n",
       "#sk-container-id-1 div.sk-dashed-wrapped {\n",
       "  border: 1px dashed var(--sklearn-color-line);\n",
       "  margin: 0 0.4em 0.5em 0.4em;\n",
       "  box-sizing: border-box;\n",
       "  padding-bottom: 0.4em;\n",
       "  background-color: var(--sklearn-color-background);\n",
       "}\n",
       "\n",
       "#sk-container-id-1 div.sk-container {\n",
       "  /* jupyter's `normalize.less` sets `[hidden] { display: none; }`\n",
       "     but bootstrap.min.css set `[hidden] { display: none !important; }`\n",
       "     so we also need the `!important` here to be able to override the\n",
       "     default hidden behavior on the sphinx rendered scikit-learn.org.\n",
       "     See: https://github.com/scikit-learn/scikit-learn/issues/21755 */\n",
       "  display: inline-block !important;\n",
       "  position: relative;\n",
       "}\n",
       "\n",
       "#sk-container-id-1 div.sk-text-repr-fallback {\n",
       "  display: none;\n",
       "}\n",
       "\n",
       "div.sk-parallel-item,\n",
       "div.sk-serial,\n",
       "div.sk-item {\n",
       "  /* draw centered vertical line to link estimators */\n",
       "  background-image: linear-gradient(var(--sklearn-color-text-on-default-background), var(--sklearn-color-text-on-default-background));\n",
       "  background-size: 2px 100%;\n",
       "  background-repeat: no-repeat;\n",
       "  background-position: center center;\n",
       "}\n",
       "\n",
       "/* Parallel-specific style estimator block */\n",
       "\n",
       "#sk-container-id-1 div.sk-parallel-item::after {\n",
       "  content: \"\";\n",
       "  width: 100%;\n",
       "  border-bottom: 2px solid var(--sklearn-color-text-on-default-background);\n",
       "  flex-grow: 1;\n",
       "}\n",
       "\n",
       "#sk-container-id-1 div.sk-parallel {\n",
       "  display: flex;\n",
       "  align-items: stretch;\n",
       "  justify-content: center;\n",
       "  background-color: var(--sklearn-color-background);\n",
       "  position: relative;\n",
       "}\n",
       "\n",
       "#sk-container-id-1 div.sk-parallel-item {\n",
       "  display: flex;\n",
       "  flex-direction: column;\n",
       "}\n",
       "\n",
       "#sk-container-id-1 div.sk-parallel-item:first-child::after {\n",
       "  align-self: flex-end;\n",
       "  width: 50%;\n",
       "}\n",
       "\n",
       "#sk-container-id-1 div.sk-parallel-item:last-child::after {\n",
       "  align-self: flex-start;\n",
       "  width: 50%;\n",
       "}\n",
       "\n",
       "#sk-container-id-1 div.sk-parallel-item:only-child::after {\n",
       "  width: 0;\n",
       "}\n",
       "\n",
       "/* Serial-specific style estimator block */\n",
       "\n",
       "#sk-container-id-1 div.sk-serial {\n",
       "  display: flex;\n",
       "  flex-direction: column;\n",
       "  align-items: center;\n",
       "  background-color: var(--sklearn-color-background);\n",
       "  padding-right: 1em;\n",
       "  padding-left: 1em;\n",
       "}\n",
       "\n",
       "\n",
       "/* Toggleable style: style used for estimator/Pipeline/ColumnTransformer box that is\n",
       "clickable and can be expanded/collapsed.\n",
       "- Pipeline and ColumnTransformer use this feature and define the default style\n",
       "- Estimators will overwrite some part of the style using the `sk-estimator` class\n",
       "*/\n",
       "\n",
       "/* Pipeline and ColumnTransformer style (default) */\n",
       "\n",
       "#sk-container-id-1 div.sk-toggleable {\n",
       "  /* Default theme specific background. It is overwritten whether we have a\n",
       "  specific estimator or a Pipeline/ColumnTransformer */\n",
       "  background-color: var(--sklearn-color-background);\n",
       "}\n",
       "\n",
       "/* Toggleable label */\n",
       "#sk-container-id-1 label.sk-toggleable__label {\n",
       "  cursor: pointer;\n",
       "  display: block;\n",
       "  width: 100%;\n",
       "  margin-bottom: 0;\n",
       "  padding: 0.5em;\n",
       "  box-sizing: border-box;\n",
       "  text-align: center;\n",
       "}\n",
       "\n",
       "#sk-container-id-1 label.sk-toggleable__label-arrow:before {\n",
       "  /* Arrow on the left of the label */\n",
       "  content: \"▸\";\n",
       "  float: left;\n",
       "  margin-right: 0.25em;\n",
       "  color: var(--sklearn-color-icon);\n",
       "}\n",
       "\n",
       "#sk-container-id-1 label.sk-toggleable__label-arrow:hover:before {\n",
       "  color: var(--sklearn-color-text);\n",
       "}\n",
       "\n",
       "/* Toggleable content - dropdown */\n",
       "\n",
       "#sk-container-id-1 div.sk-toggleable__content {\n",
       "  max-height: 0;\n",
       "  max-width: 0;\n",
       "  overflow: hidden;\n",
       "  text-align: left;\n",
       "  /* unfitted */\n",
       "  background-color: var(--sklearn-color-unfitted-level-0);\n",
       "}\n",
       "\n",
       "#sk-container-id-1 div.sk-toggleable__content.fitted {\n",
       "  /* fitted */\n",
       "  background-color: var(--sklearn-color-fitted-level-0);\n",
       "}\n",
       "\n",
       "#sk-container-id-1 div.sk-toggleable__content pre {\n",
       "  margin: 0.2em;\n",
       "  border-radius: 0.25em;\n",
       "  color: var(--sklearn-color-text);\n",
       "  /* unfitted */\n",
       "  background-color: var(--sklearn-color-unfitted-level-0);\n",
       "}\n",
       "\n",
       "#sk-container-id-1 div.sk-toggleable__content.fitted pre {\n",
       "  /* unfitted */\n",
       "  background-color: var(--sklearn-color-fitted-level-0);\n",
       "}\n",
       "\n",
       "#sk-container-id-1 input.sk-toggleable__control:checked~div.sk-toggleable__content {\n",
       "  /* Expand drop-down */\n",
       "  max-height: 200px;\n",
       "  max-width: 100%;\n",
       "  overflow: auto;\n",
       "}\n",
       "\n",
       "#sk-container-id-1 input.sk-toggleable__control:checked~label.sk-toggleable__label-arrow:before {\n",
       "  content: \"▾\";\n",
       "}\n",
       "\n",
       "/* Pipeline/ColumnTransformer-specific style */\n",
       "\n",
       "#sk-container-id-1 div.sk-label input.sk-toggleable__control:checked~label.sk-toggleable__label {\n",
       "  color: var(--sklearn-color-text);\n",
       "  background-color: var(--sklearn-color-unfitted-level-2);\n",
       "}\n",
       "\n",
       "#sk-container-id-1 div.sk-label.fitted input.sk-toggleable__control:checked~label.sk-toggleable__label {\n",
       "  background-color: var(--sklearn-color-fitted-level-2);\n",
       "}\n",
       "\n",
       "/* Estimator-specific style */\n",
       "\n",
       "/* Colorize estimator box */\n",
       "#sk-container-id-1 div.sk-estimator input.sk-toggleable__control:checked~label.sk-toggleable__label {\n",
       "  /* unfitted */\n",
       "  background-color: var(--sklearn-color-unfitted-level-2);\n",
       "}\n",
       "\n",
       "#sk-container-id-1 div.sk-estimator.fitted input.sk-toggleable__control:checked~label.sk-toggleable__label {\n",
       "  /* fitted */\n",
       "  background-color: var(--sklearn-color-fitted-level-2);\n",
       "}\n",
       "\n",
       "#sk-container-id-1 div.sk-label label.sk-toggleable__label,\n",
       "#sk-container-id-1 div.sk-label label {\n",
       "  /* The background is the default theme color */\n",
       "  color: var(--sklearn-color-text-on-default-background);\n",
       "}\n",
       "\n",
       "/* On hover, darken the color of the background */\n",
       "#sk-container-id-1 div.sk-label:hover label.sk-toggleable__label {\n",
       "  color: var(--sklearn-color-text);\n",
       "  background-color: var(--sklearn-color-unfitted-level-2);\n",
       "}\n",
       "\n",
       "/* Label box, darken color on hover, fitted */\n",
       "#sk-container-id-1 div.sk-label.fitted:hover label.sk-toggleable__label.fitted {\n",
       "  color: var(--sklearn-color-text);\n",
       "  background-color: var(--sklearn-color-fitted-level-2);\n",
       "}\n",
       "\n",
       "/* Estimator label */\n",
       "\n",
       "#sk-container-id-1 div.sk-label label {\n",
       "  font-family: monospace;\n",
       "  font-weight: bold;\n",
       "  display: inline-block;\n",
       "  line-height: 1.2em;\n",
       "}\n",
       "\n",
       "#sk-container-id-1 div.sk-label-container {\n",
       "  text-align: center;\n",
       "}\n",
       "\n",
       "/* Estimator-specific */\n",
       "#sk-container-id-1 div.sk-estimator {\n",
       "  font-family: monospace;\n",
       "  border: 1px dotted var(--sklearn-color-border-box);\n",
       "  border-radius: 0.25em;\n",
       "  box-sizing: border-box;\n",
       "  margin-bottom: 0.5em;\n",
       "  /* unfitted */\n",
       "  background-color: var(--sklearn-color-unfitted-level-0);\n",
       "}\n",
       "\n",
       "#sk-container-id-1 div.sk-estimator.fitted {\n",
       "  /* fitted */\n",
       "  background-color: var(--sklearn-color-fitted-level-0);\n",
       "}\n",
       "\n",
       "/* on hover */\n",
       "#sk-container-id-1 div.sk-estimator:hover {\n",
       "  /* unfitted */\n",
       "  background-color: var(--sklearn-color-unfitted-level-2);\n",
       "}\n",
       "\n",
       "#sk-container-id-1 div.sk-estimator.fitted:hover {\n",
       "  /* fitted */\n",
       "  background-color: var(--sklearn-color-fitted-level-2);\n",
       "}\n",
       "\n",
       "/* Specification for estimator info (e.g. \"i\" and \"?\") */\n",
       "\n",
       "/* Common style for \"i\" and \"?\" */\n",
       "\n",
       ".sk-estimator-doc-link,\n",
       "a:link.sk-estimator-doc-link,\n",
       "a:visited.sk-estimator-doc-link {\n",
       "  float: right;\n",
       "  font-size: smaller;\n",
       "  line-height: 1em;\n",
       "  font-family: monospace;\n",
       "  background-color: var(--sklearn-color-background);\n",
       "  border-radius: 1em;\n",
       "  height: 1em;\n",
       "  width: 1em;\n",
       "  text-decoration: none !important;\n",
       "  margin-left: 1ex;\n",
       "  /* unfitted */\n",
       "  border: var(--sklearn-color-unfitted-level-1) 1pt solid;\n",
       "  color: var(--sklearn-color-unfitted-level-1);\n",
       "}\n",
       "\n",
       ".sk-estimator-doc-link.fitted,\n",
       "a:link.sk-estimator-doc-link.fitted,\n",
       "a:visited.sk-estimator-doc-link.fitted {\n",
       "  /* fitted */\n",
       "  border: var(--sklearn-color-fitted-level-1) 1pt solid;\n",
       "  color: var(--sklearn-color-fitted-level-1);\n",
       "}\n",
       "\n",
       "/* On hover */\n",
       "div.sk-estimator:hover .sk-estimator-doc-link:hover,\n",
       ".sk-estimator-doc-link:hover,\n",
       "div.sk-label-container:hover .sk-estimator-doc-link:hover,\n",
       ".sk-estimator-doc-link:hover {\n",
       "  /* unfitted */\n",
       "  background-color: var(--sklearn-color-unfitted-level-3);\n",
       "  color: var(--sklearn-color-background);\n",
       "  text-decoration: none;\n",
       "}\n",
       "\n",
       "div.sk-estimator.fitted:hover .sk-estimator-doc-link.fitted:hover,\n",
       ".sk-estimator-doc-link.fitted:hover,\n",
       "div.sk-label-container:hover .sk-estimator-doc-link.fitted:hover,\n",
       ".sk-estimator-doc-link.fitted:hover {\n",
       "  /* fitted */\n",
       "  background-color: var(--sklearn-color-fitted-level-3);\n",
       "  color: var(--sklearn-color-background);\n",
       "  text-decoration: none;\n",
       "}\n",
       "\n",
       "/* Span, style for the box shown on hovering the info icon */\n",
       ".sk-estimator-doc-link span {\n",
       "  display: none;\n",
       "  z-index: 9999;\n",
       "  position: relative;\n",
       "  font-weight: normal;\n",
       "  right: .2ex;\n",
       "  padding: .5ex;\n",
       "  margin: .5ex;\n",
       "  width: min-content;\n",
       "  min-width: 20ex;\n",
       "  max-width: 50ex;\n",
       "  color: var(--sklearn-color-text);\n",
       "  box-shadow: 2pt 2pt 4pt #999;\n",
       "  /* unfitted */\n",
       "  background: var(--sklearn-color-unfitted-level-0);\n",
       "  border: .5pt solid var(--sklearn-color-unfitted-level-3);\n",
       "}\n",
       "\n",
       ".sk-estimator-doc-link.fitted span {\n",
       "  /* fitted */\n",
       "  background: var(--sklearn-color-fitted-level-0);\n",
       "  border: var(--sklearn-color-fitted-level-3);\n",
       "}\n",
       "\n",
       ".sk-estimator-doc-link:hover span {\n",
       "  display: block;\n",
       "}\n",
       "\n",
       "/* \"?\"-specific style due to the `<a>` HTML tag */\n",
       "\n",
       "#sk-container-id-1 a.estimator_doc_link {\n",
       "  float: right;\n",
       "  font-size: 1rem;\n",
       "  line-height: 1em;\n",
       "  font-family: monospace;\n",
       "  background-color: var(--sklearn-color-background);\n",
       "  border-radius: 1rem;\n",
       "  height: 1rem;\n",
       "  width: 1rem;\n",
       "  text-decoration: none;\n",
       "  /* unfitted */\n",
       "  color: var(--sklearn-color-unfitted-level-1);\n",
       "  border: var(--sklearn-color-unfitted-level-1) 1pt solid;\n",
       "}\n",
       "\n",
       "#sk-container-id-1 a.estimator_doc_link.fitted {\n",
       "  /* fitted */\n",
       "  border: var(--sklearn-color-fitted-level-1) 1pt solid;\n",
       "  color: var(--sklearn-color-fitted-level-1);\n",
       "}\n",
       "\n",
       "/* On hover */\n",
       "#sk-container-id-1 a.estimator_doc_link:hover {\n",
       "  /* unfitted */\n",
       "  background-color: var(--sklearn-color-unfitted-level-3);\n",
       "  color: var(--sklearn-color-background);\n",
       "  text-decoration: none;\n",
       "}\n",
       "\n",
       "#sk-container-id-1 a.estimator_doc_link.fitted:hover {\n",
       "  /* fitted */\n",
       "  background-color: var(--sklearn-color-fitted-level-3);\n",
       "}\n",
       "</style><div id=\"sk-container-id-1\" class=\"sk-top-container\"><div class=\"sk-text-repr-fallback\"><pre>Pipeline(steps=[(&#x27;preprocessor&#x27;,\n",
       "                 ColumnTransformer(remainder=StandardScaler(),\n",
       "                                   transformers=[(&#x27;cat&#x27;, &#x27;passthrough&#x27;,\n",
       "                                                  [&#x27;f12&#x27;, &#x27;f11&#x27;])])),\n",
       "                (&#x27;sampling&#x27;,\n",
       "                 SMOTENC(categorical_features=[&#x27;cat__f12&#x27;, &#x27;cat__f11&#x27;],\n",
       "                         random_state=42)),\n",
       "                (&#x27;one_hot&#x27;, &#x27;passthrough&#x27;),\n",
       "                (&#x27;classifier&#x27;,\n",
       "                 HistGradientBoostingClassifier(categorical_features=[&#x27;cat__f12&#x27;,\n",
       "                                                                      &#x27;cat__f11&#x27;],\n",
       "                                                early_stopping=False,\n",
       "                                                max_iter=200,\n",
       "                                                random_state=42))])</pre><b>In a Jupyter environment, please rerun this cell to show the HTML representation or trust the notebook. <br />On GitHub, the HTML representation is unable to render, please try loading this page with nbviewer.org.</b></div><div class=\"sk-container\" hidden><div class=\"sk-item sk-dashed-wrapped\"><div class=\"sk-label-container\"><div class=\"sk-label fitted sk-toggleable\"><input class=\"sk-toggleable__control sk-hidden--visually\" id=\"sk-estimator-id-1\" type=\"checkbox\" ><label for=\"sk-estimator-id-1\" class=\"sk-toggleable__label fitted sk-toggleable__label-arrow fitted\">&nbsp;Pipeline<span class=\"sk-estimator-doc-link fitted\">i<span>Fitted</span></span></label><div class=\"sk-toggleable__content fitted\"><pre>Pipeline(steps=[(&#x27;preprocessor&#x27;,\n",
       "                 ColumnTransformer(remainder=StandardScaler(),\n",
       "                                   transformers=[(&#x27;cat&#x27;, &#x27;passthrough&#x27;,\n",
       "                                                  [&#x27;f12&#x27;, &#x27;f11&#x27;])])),\n",
       "                (&#x27;sampling&#x27;,\n",
       "                 SMOTENC(categorical_features=[&#x27;cat__f12&#x27;, &#x27;cat__f11&#x27;],\n",
       "                         random_state=42)),\n",
       "                (&#x27;one_hot&#x27;, &#x27;passthrough&#x27;),\n",
       "                (&#x27;classifier&#x27;,\n",
       "                 HistGradientBoostingClassifier(categorical_features=[&#x27;cat__f12&#x27;,\n",
       "                                                                      &#x27;cat__f11&#x27;],\n",
       "                                                early_stopping=False,\n",
       "                                                max_iter=200,\n",
       "                                                random_state=42))])</pre></div> </div></div><div class=\"sk-serial\"><div class=\"sk-item sk-dashed-wrapped\"><div class=\"sk-label-container\"><div class=\"sk-label fitted sk-toggleable\"><input class=\"sk-toggleable__control sk-hidden--visually\" id=\"sk-estimator-id-2\" type=\"checkbox\" ><label for=\"sk-estimator-id-2\" class=\"sk-toggleable__label fitted sk-toggleable__label-arrow fitted\">&nbsp;preprocessor: ColumnTransformer<a class=\"sk-estimator-doc-link fitted\" rel=\"noreferrer\" target=\"_blank\" href=\"https://scikit-learn.org/1.4/modules/generated/sklearn.compose.ColumnTransformer.html\">?<span>Documentation for preprocessor: ColumnTransformer</span></a></label><div class=\"sk-toggleable__content fitted\"><pre>ColumnTransformer(remainder=StandardScaler(),\n",
       "                  transformers=[(&#x27;cat&#x27;, &#x27;passthrough&#x27;, [&#x27;f12&#x27;, &#x27;f11&#x27;])])</pre></div> </div></div><div class=\"sk-parallel\"><div class=\"sk-parallel-item\"><div class=\"sk-item\"><div class=\"sk-label-container\"><div class=\"sk-label fitted sk-toggleable\"><input class=\"sk-toggleable__control sk-hidden--visually\" id=\"sk-estimator-id-3\" type=\"checkbox\" ><label for=\"sk-estimator-id-3\" class=\"sk-toggleable__label fitted sk-toggleable__label-arrow fitted\">cat</label><div class=\"sk-toggleable__content fitted\"><pre>[&#x27;f12&#x27;, &#x27;f11&#x27;]</pre></div> </div></div><div class=\"sk-serial\"><div class=\"sk-item\"><div class=\"sk-estimator fitted sk-toggleable\"><input class=\"sk-toggleable__control sk-hidden--visually\" id=\"sk-estimator-id-4\" type=\"checkbox\" ><label for=\"sk-estimator-id-4\" class=\"sk-toggleable__label fitted sk-toggleable__label-arrow fitted\">passthrough</label><div class=\"sk-toggleable__content fitted\"><pre>passthrough</pre></div> </div></div></div></div></div><div class=\"sk-parallel-item\"><div class=\"sk-item\"><div class=\"sk-label-container\"><div class=\"sk-label fitted sk-toggleable\"><input class=\"sk-toggleable__control sk-hidden--visually\" id=\"sk-estimator-id-5\" type=\"checkbox\" ><label for=\"sk-estimator-id-5\" class=\"sk-toggleable__label fitted sk-toggleable__label-arrow fitted\">remainder</label><div class=\"sk-toggleable__content fitted\"><pre>[&#x27;f0&#x27;, &#x27;f1&#x27;, &#x27;f2&#x27;, &#x27;f3&#x27;, &#x27;f4&#x27;, &#x27;f5&#x27;, &#x27;f6&#x27;, &#x27;f7&#x27;, &#x27;f8&#x27;, &#x27;f9&#x27;, &#x27;f10&#x27;, &#x27;f13&#x27;, &#x27;f14&#x27;, &#x27;f15&#x27;, &#x27;f16&#x27;]</pre></div> </div></div><div class=\"sk-serial\"><div class=\"sk-item\"><div class=\"sk-estimator fitted sk-toggleable\"><input class=\"sk-toggleable__control sk-hidden--visually\" id=\"sk-estimator-id-6\" type=\"checkbox\" ><label for=\"sk-estimator-id-6\" class=\"sk-toggleable__label fitted sk-toggleable__label-arrow fitted\">&nbsp;StandardScaler<a class=\"sk-estimator-doc-link fitted\" rel=\"noreferrer\" target=\"_blank\" href=\"https://scikit-learn.org/1.4/modules/generated/sklearn.preprocessing.StandardScaler.html\">?<span>Documentation for StandardScaler</span></a></label><div class=\"sk-toggleable__content fitted\"><pre>StandardScaler()</pre></div> </div></div></div></div></div></div></div><div class=\"sk-item\"><div class=\"sk-estimator fitted sk-toggleable\"><input class=\"sk-toggleable__control sk-hidden--visually\" id=\"sk-estimator-id-7\" type=\"checkbox\" ><label for=\"sk-estimator-id-7\" class=\"sk-toggleable__label fitted sk-toggleable__label-arrow fitted\">SMOTENC</label><div class=\"sk-toggleable__content fitted\"><pre>SMOTENC(categorical_features=[&#x27;cat__f12&#x27;, &#x27;cat__f11&#x27;], random_state=42)</pre></div> </div></div><div class=\"sk-item\"><div class=\"sk-estimator fitted sk-toggleable\"><input class=\"sk-toggleable__control sk-hidden--visually\" id=\"sk-estimator-id-8\" type=\"checkbox\" ><label for=\"sk-estimator-id-8\" class=\"sk-toggleable__label fitted sk-toggleable__label-arrow fitted\">passthrough</label><div class=\"sk-toggleable__content fitted\"><pre>passthrough</pre></div> </div></div><div class=\"sk-item\"><div class=\"sk-estimator fitted sk-toggleable\"><input class=\"sk-toggleable__control sk-hidden--visually\" id=\"sk-estimator-id-9\" type=\"checkbox\" ><label for=\"sk-estimator-id-9\" class=\"sk-toggleable__label fitted sk-toggleable__label-arrow fitted\">&nbsp;HistGradientBoostingClassifier<a class=\"sk-estimator-doc-link fitted\" rel=\"noreferrer\" target=\"_blank\" href=\"https://scikit-learn.org/1.4/modules/generated/sklearn.ensemble.HistGradientBoostingClassifier.html\">?<span>Documentation for HistGradientBoostingClassifier</span></a></label><div class=\"sk-toggleable__content fitted\"><pre>HistGradientBoostingClassifier(categorical_features=[&#x27;cat__f12&#x27;, &#x27;cat__f11&#x27;],\n",
       "                               early_stopping=False, max_iter=200,\n",
       "                               random_state=42)</pre></div> </div></div></div></div></div></div>"
      ],
      "text/plain": [
       "Pipeline(steps=[('preprocessor',\n",
       "                 ColumnTransformer(remainder=StandardScaler(),\n",
       "                                   transformers=[('cat', 'passthrough',\n",
       "                                                  ['f12', 'f11'])])),\n",
       "                ('sampling',\n",
       "                 SMOTENC(categorical_features=['cat__f12', 'cat__f11'],\n",
       "                         random_state=42)),\n",
       "                ('one_hot', 'passthrough'),\n",
       "                ('classifier',\n",
       "                 HistGradientBoostingClassifier(categorical_features=['cat__f12',\n",
       "                                                                      'cat__f11'],\n",
       "                                                early_stopping=False,\n",
       "                                                max_iter=200,\n",
       "                                                random_state=42))])"
      ]
     },
     "execution_count": 21,
     "metadata": {},
     "output_type": "execute_result"
    }
   ],
   "source": [
    "grid_search.best_estimator_"
   ]
  },
  {
   "cell_type": "code",
   "execution_count": 22,
   "id": "3bac9ca63acaa1f9",
   "metadata": {
    "execution": {
     "iopub.execute_input": "2024-11-06T00:57:06.722258Z",
     "iopub.status.busy": "2024-11-06T00:57:06.722258Z",
     "iopub.status.idle": "2024-11-06T00:57:06.729189Z",
     "shell.execute_reply": "2024-11-06T00:57:06.729189Z"
    },
    "papermill": {
     "duration": 0.011313,
     "end_time": "2024-11-06T00:57:06.730192",
     "exception": false,
     "start_time": "2024-11-06T00:57:06.718879",
     "status": "completed"
    },
    "tags": []
   },
   "outputs": [
    {
     "data": {
      "text/plain": [
       "0.702413550712189"
      ]
     },
     "execution_count": 22,
     "metadata": {},
     "output_type": "execute_result"
    }
   ],
   "source": [
    "grid_search.best_score_"
   ]
  },
  {
   "cell_type": "code",
   "execution_count": 23,
   "id": "ee1faab262b6aeeb",
   "metadata": {
    "execution": {
     "iopub.execute_input": "2024-11-06T00:57:06.738702Z",
     "iopub.status.busy": "2024-11-06T00:57:06.737701Z",
     "iopub.status.idle": "2024-11-06T00:57:06.760436Z",
     "shell.execute_reply": "2024-11-06T00:57:06.760436Z"
    },
    "papermill": {
     "duration": 0.027432,
     "end_time": "2024-11-06T00:57:06.761626",
     "exception": false,
     "start_time": "2024-11-06T00:57:06.734194",
     "status": "completed"
    },
    "tags": []
   },
   "outputs": [
    {
     "data": {
      "text/html": [
       "<div>\n",
       "<style scoped>\n",
       "    .dataframe tbody tr th:only-of-type {\n",
       "        vertical-align: middle;\n",
       "    }\n",
       "\n",
       "    .dataframe tbody tr th {\n",
       "        vertical-align: top;\n",
       "    }\n",
       "\n",
       "    .dataframe thead th {\n",
       "        text-align: right;\n",
       "    }\n",
       "</style>\n",
       "<table border=\"1\" class=\"dataframe\">\n",
       "  <thead>\n",
       "    <tr style=\"text-align: right;\">\n",
       "      <th></th>\n",
       "      <th>mean_fit_time</th>\n",
       "      <th>std_fit_time</th>\n",
       "      <th>mean_score_time</th>\n",
       "      <th>std_score_time</th>\n",
       "      <th>param_classifier</th>\n",
       "      <th>param_classifier__categorical_features</th>\n",
       "      <th>param_classifier__class_weight</th>\n",
       "      <th>param_classifier__early_stopping</th>\n",
       "      <th>param_classifier__learning_rate</th>\n",
       "      <th>param_classifier__max_iter</th>\n",
       "      <th>...</th>\n",
       "      <th>mean_test_recall</th>\n",
       "      <th>std_test_recall</th>\n",
       "      <th>rank_test_recall</th>\n",
       "      <th>split0_train_recall</th>\n",
       "      <th>split1_train_recall</th>\n",
       "      <th>split2_train_recall</th>\n",
       "      <th>split3_train_recall</th>\n",
       "      <th>split4_train_recall</th>\n",
       "      <th>mean_train_recall</th>\n",
       "      <th>std_train_recall</th>\n",
       "    </tr>\n",
       "  </thead>\n",
       "  <tbody>\n",
       "    <tr>\n",
       "      <th>0</th>\n",
       "      <td>52.674</td>\n",
       "      <td>0.274</td>\n",
       "      <td>1.792</td>\n",
       "      <td>0.042</td>\n",
       "      <td>HistGradientBoostingClassifier(random_state=42)</td>\n",
       "      <td>[cat__f12, cat__f11]</td>\n",
       "      <td>None</td>\n",
       "      <td>False</td>\n",
       "      <td>0.100</td>\n",
       "      <td>200</td>\n",
       "      <td>...</td>\n",
       "      <td>0.838</td>\n",
       "      <td>0.005</td>\n",
       "      <td>2</td>\n",
       "      <td>0.860</td>\n",
       "      <td>0.867</td>\n",
       "      <td>0.863</td>\n",
       "      <td>0.856</td>\n",
       "      <td>0.860</td>\n",
       "      <td>0.861</td>\n",
       "      <td>0.004</td>\n",
       "    </tr>\n",
       "    <tr>\n",
       "      <th>1</th>\n",
       "      <td>41.681</td>\n",
       "      <td>1.127</td>\n",
       "      <td>1.763</td>\n",
       "      <td>0.208</td>\n",
       "      <td>HistGradientBoostingClassifier(random_state=42)</td>\n",
       "      <td>[cat__f12, cat__f11]</td>\n",
       "      <td>{0: 0.5087769277216532, 1: 28.98377107894344}</td>\n",
       "      <td>False</td>\n",
       "      <td>0.100</td>\n",
       "      <td>200</td>\n",
       "      <td>...</td>\n",
       "      <td>0.959</td>\n",
       "      <td>0.007</td>\n",
       "      <td>1</td>\n",
       "      <td>0.986</td>\n",
       "      <td>0.988</td>\n",
       "      <td>0.987</td>\n",
       "      <td>0.984</td>\n",
       "      <td>0.985</td>\n",
       "      <td>0.986</td>\n",
       "      <td>0.002</td>\n",
       "    </tr>\n",
       "  </tbody>\n",
       "</table>\n",
       "<p>2 rows × 57 columns</p>\n",
       "</div>"
      ],
      "text/plain": [
       "   mean_fit_time  std_fit_time  mean_score_time  std_score_time  \\\n",
       "0         52.674         0.274            1.792           0.042   \n",
       "1         41.681         1.127            1.763           0.208   \n",
       "\n",
       "                                  param_classifier  \\\n",
       "0  HistGradientBoostingClassifier(random_state=42)   \n",
       "1  HistGradientBoostingClassifier(random_state=42)   \n",
       "\n",
       "  param_classifier__categorical_features  \\\n",
       "0                   [cat__f12, cat__f11]   \n",
       "1                   [cat__f12, cat__f11]   \n",
       "\n",
       "                  param_classifier__class_weight  \\\n",
       "0                                           None   \n",
       "1  {0: 0.5087769277216532, 1: 28.98377107894344}   \n",
       "\n",
       "  param_classifier__early_stopping param_classifier__learning_rate  \\\n",
       "0                            False                           0.100   \n",
       "1                            False                           0.100   \n",
       "\n",
       "  param_classifier__max_iter  ... mean_test_recall std_test_recall  \\\n",
       "0                        200  ...            0.838           0.005   \n",
       "1                        200  ...            0.959           0.007   \n",
       "\n",
       "   rank_test_recall  split0_train_recall  split1_train_recall  \\\n",
       "0                 2                0.860                0.867   \n",
       "1                 1                0.986                0.988   \n",
       "\n",
       "   split2_train_recall  split3_train_recall  split4_train_recall  \\\n",
       "0                0.863                0.856                0.860   \n",
       "1                0.987                0.984                0.985   \n",
       "\n",
       "   mean_train_recall  std_train_recall  \n",
       "0              0.861             0.004  \n",
       "1              0.986             0.002  \n",
       "\n",
       "[2 rows x 57 columns]"
      ]
     },
     "execution_count": 23,
     "metadata": {},
     "output_type": "execute_result"
    }
   ],
   "source": [
    "cv_results = pd.DataFrame(grid_search.cv_results_)\n",
    "cv_results = cv_results.sort_values('rank_test_f1')\n",
    "cv_results"
   ]
  },
  {
   "cell_type": "code",
   "execution_count": 24,
   "id": "472bc1c2945e2ede",
   "metadata": {
    "execution": {
     "iopub.execute_input": "2024-11-06T00:57:06.770147Z",
     "iopub.status.busy": "2024-11-06T00:57:06.770147Z",
     "iopub.status.idle": "2024-11-06T00:57:07.701373Z",
     "shell.execute_reply": "2024-11-06T00:57:07.701373Z"
    },
    "papermill": {
     "duration": 0.937498,
     "end_time": "2024-11-06T00:57:07.702638",
     "exception": false,
     "start_time": "2024-11-06T00:57:06.765140",
     "status": "completed"
    },
    "tags": []
   },
   "outputs": [
    {
     "name": "stdout",
     "output_type": "stream",
     "text": [
      "F1: 0.7121917170777106\n",
      "Precision: 0.6067393458870168\n",
      "Recall: 0.8620107012109265\n"
     ]
    }
   ],
   "source": [
    "from sklearn.metrics import f1_score, precision_score, recall_score\n",
    "\n",
    "y_pred = grid_search.best_estimator_.predict(X_test)\n",
    "f1 = f1_score(y_test, y_pred)\n",
    "p = precision_score(y_test, y_pred)\n",
    "r = recall_score(y_test, y_pred)\n",
    "\n",
    "print(\"F1:\", f1)\n",
    "print(\"Precision:\", p)\n",
    "print(\"Recall:\", r)"
   ]
  },
  {
   "cell_type": "code",
   "execution_count": 25,
   "id": "1420d5a2ba01a421",
   "metadata": {
    "execution": {
     "iopub.execute_input": "2024-11-06T00:57:07.710436Z",
     "iopub.status.busy": "2024-11-06T00:57:07.710436Z",
     "iopub.status.idle": "2024-11-06T00:57:07.778981Z",
     "shell.execute_reply": "2024-11-06T00:57:07.778981Z"
    },
    "papermill": {
     "duration": 0.073834,
     "end_time": "2024-11-06T00:57:07.779988",
     "exception": false,
     "start_time": "2024-11-06T00:57:07.706154",
     "status": "completed"
    },
    "tags": []
   },
   "outputs": [
    {
     "data": {
      "text/plain": [
       "['out\\\\GridSearchCV_dump.pkl']"
      ]
     },
     "execution_count": 25,
     "metadata": {},
     "output_type": "execute_result"
    }
   ],
   "source": [
    "from joblib import dump\n",
    "\n",
    "if not os.path.exists('out'):\n",
    "    os.makedirs('out')\n",
    "dump(grid_search, os.path.join('out', 'GridSearchCV_dump.pkl'), compress=True)"
   ]
  }
 ],
 "metadata": {
  "kernelspec": {
   "display_name": "Python 3 (ipykernel)",
   "language": "python",
   "name": "python3"
  },
  "language_info": {
   "codemirror_mode": {
    "name": "ipython",
    "version": 3
   },
   "file_extension": ".py",
   "mimetype": "text/x-python",
   "name": "python",
   "nbconvert_exporter": "python",
   "pygments_lexer": "ipython3",
   "version": "3.9.13"
  },
  "papermill": {
   "default_parameters": {},
   "duration": 150.006511,
   "end_time": "2024-11-06T00:57:08.340065",
   "environment_variables": {},
   "exception": null,
   "input_path": "classification_z_4.ipynb",
   "output_path": "classification_z_4.ipynb",
   "parameters": {
    "n_jobs": 5
   },
   "start_time": "2024-11-06T00:54:38.333554",
   "version": "2.6.0"
  }
 },
 "nbformat": 4,
 "nbformat_minor": 5
}
