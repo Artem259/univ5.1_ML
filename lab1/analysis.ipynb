{
 "cells": [
  {
   "cell_type": "code",
   "id": "initial_id",
   "metadata": {
    "collapsed": true,
    "execution": {
     "iopub.execute_input": "2024-10-24T07:47:12.097897Z",
     "iopub.status.busy": "2024-10-24T07:47:12.097897Z",
     "iopub.status.idle": "2024-10-24T07:47:12.360444Z",
     "shell.execute_reply": "2024-10-24T07:47:12.360444Z"
    },
    "ExecuteTime": {
     "end_time": "2024-11-06T00:34:30.612324Z",
     "start_time": "2024-11-06T00:34:30.600657Z"
    }
   },
   "source": [
    "import os\n",
    "import pandas as pd"
   ],
   "outputs": [],
   "execution_count": 94
  },
  {
   "cell_type": "code",
   "id": "daf75c5fcaa49098",
   "metadata": {
    "execution": {
     "iopub.execute_input": "2024-10-24T07:47:12.363444Z",
     "iopub.status.busy": "2024-10-24T07:47:12.362445Z",
     "iopub.status.idle": "2024-10-24T07:47:12.375365Z",
     "shell.execute_reply": "2024-10-24T07:47:12.375365Z"
    },
    "ExecuteTime": {
     "end_time": "2024-11-06T00:34:30.628523Z",
     "start_time": "2024-11-06T00:34:30.617836Z"
    }
   },
   "source": [
    "pd.set_option('display.float_format', '{:.3f}'.format)"
   ],
   "outputs": [],
   "execution_count": 95
  },
  {
   "cell_type": "code",
   "id": "d56664ec8b50ea6a",
   "metadata": {
    "execution": {
     "iopub.execute_input": "2024-10-24T07:47:12.377370Z",
     "iopub.status.busy": "2024-10-24T07:47:12.377370Z",
     "iopub.status.idle": "2024-10-24T07:47:12.956422Z",
     "shell.execute_reply": "2024-10-24T07:47:12.956422Z"
    },
    "ExecuteTime": {
     "end_time": "2024-11-06T00:34:31.249963Z",
     "start_time": "2024-11-06T00:34:30.645085Z"
    }
   },
   "source": [
    "csv_path = os.path.join('data', 'data.csv')\n",
    "data = pd.read_csv(csv_path)"
   ],
   "outputs": [],
   "execution_count": 96
  },
  {
   "cell_type": "code",
   "id": "ae765845c174e98a",
   "metadata": {
    "execution": {
     "iopub.execute_input": "2024-10-24T07:47:12.959459Z",
     "iopub.status.busy": "2024-10-24T07:47:12.958459Z",
     "iopub.status.idle": "2024-10-24T07:47:12.972039Z",
     "shell.execute_reply": "2024-10-24T07:47:12.972039Z"
    },
    "ExecuteTime": {
     "end_time": "2024-11-06T00:34:31.281100Z",
     "start_time": "2024-11-06T00:34:31.266564Z"
    }
   },
   "source": [
    "data.head()"
   ],
   "outputs": [
    {
     "data": {
      "text/plain": [
       "   p target  f0  f1  f2    f3  f4  f5  f6    f7  f8  f9  f10  f11  f12  f13  \\\n",
       "0  1     no   0   0   0 0.000   0   1   0 0.590  17   2    0    1    1    0   \n",
       "1  2     no   0   0   0 0.000   0   1   0 0.901  17   2    0    1    1    0   \n",
       "2  3     no   0   0   0 0.000   0   1   0 0.899  17   2    0    1    1    0   \n",
       "3  4     no   0   0   0 0.000   0   1   0 0.641  17   2    0    1    1    0   \n",
       "4  5     no   0   0   0 0.000   0   1   0 0.598  17   2    0    1    1    0   \n",
       "\n",
       "   f14  f15   f16  \n",
       "0    0    1 0.410  \n",
       "1    0    1 0.099  \n",
       "2    0    1 0.101  \n",
       "3    0    1 0.359  \n",
       "4    0    1 0.402  "
      ],
      "text/html": [
       "<div>\n",
       "<style scoped>\n",
       "    .dataframe tbody tr th:only-of-type {\n",
       "        vertical-align: middle;\n",
       "    }\n",
       "\n",
       "    .dataframe tbody tr th {\n",
       "        vertical-align: top;\n",
       "    }\n",
       "\n",
       "    .dataframe thead th {\n",
       "        text-align: right;\n",
       "    }\n",
       "</style>\n",
       "<table border=\"1\" class=\"dataframe\">\n",
       "  <thead>\n",
       "    <tr style=\"text-align: right;\">\n",
       "      <th></th>\n",
       "      <th>p</th>\n",
       "      <th>target</th>\n",
       "      <th>f0</th>\n",
       "      <th>f1</th>\n",
       "      <th>f2</th>\n",
       "      <th>f3</th>\n",
       "      <th>f4</th>\n",
       "      <th>f5</th>\n",
       "      <th>f6</th>\n",
       "      <th>f7</th>\n",
       "      <th>f8</th>\n",
       "      <th>f9</th>\n",
       "      <th>f10</th>\n",
       "      <th>f11</th>\n",
       "      <th>f12</th>\n",
       "      <th>f13</th>\n",
       "      <th>f14</th>\n",
       "      <th>f15</th>\n",
       "      <th>f16</th>\n",
       "    </tr>\n",
       "  </thead>\n",
       "  <tbody>\n",
       "    <tr>\n",
       "      <th>0</th>\n",
       "      <td>1</td>\n",
       "      <td>no</td>\n",
       "      <td>0</td>\n",
       "      <td>0</td>\n",
       "      <td>0</td>\n",
       "      <td>0.000</td>\n",
       "      <td>0</td>\n",
       "      <td>1</td>\n",
       "      <td>0</td>\n",
       "      <td>0.590</td>\n",
       "      <td>17</td>\n",
       "      <td>2</td>\n",
       "      <td>0</td>\n",
       "      <td>1</td>\n",
       "      <td>1</td>\n",
       "      <td>0</td>\n",
       "      <td>0</td>\n",
       "      <td>1</td>\n",
       "      <td>0.410</td>\n",
       "    </tr>\n",
       "    <tr>\n",
       "      <th>1</th>\n",
       "      <td>2</td>\n",
       "      <td>no</td>\n",
       "      <td>0</td>\n",
       "      <td>0</td>\n",
       "      <td>0</td>\n",
       "      <td>0.000</td>\n",
       "      <td>0</td>\n",
       "      <td>1</td>\n",
       "      <td>0</td>\n",
       "      <td>0.901</td>\n",
       "      <td>17</td>\n",
       "      <td>2</td>\n",
       "      <td>0</td>\n",
       "      <td>1</td>\n",
       "      <td>1</td>\n",
       "      <td>0</td>\n",
       "      <td>0</td>\n",
       "      <td>1</td>\n",
       "      <td>0.099</td>\n",
       "    </tr>\n",
       "    <tr>\n",
       "      <th>2</th>\n",
       "      <td>3</td>\n",
       "      <td>no</td>\n",
       "      <td>0</td>\n",
       "      <td>0</td>\n",
       "      <td>0</td>\n",
       "      <td>0.000</td>\n",
       "      <td>0</td>\n",
       "      <td>1</td>\n",
       "      <td>0</td>\n",
       "      <td>0.899</td>\n",
       "      <td>17</td>\n",
       "      <td>2</td>\n",
       "      <td>0</td>\n",
       "      <td>1</td>\n",
       "      <td>1</td>\n",
       "      <td>0</td>\n",
       "      <td>0</td>\n",
       "      <td>1</td>\n",
       "      <td>0.101</td>\n",
       "    </tr>\n",
       "    <tr>\n",
       "      <th>3</th>\n",
       "      <td>4</td>\n",
       "      <td>no</td>\n",
       "      <td>0</td>\n",
       "      <td>0</td>\n",
       "      <td>0</td>\n",
       "      <td>0.000</td>\n",
       "      <td>0</td>\n",
       "      <td>1</td>\n",
       "      <td>0</td>\n",
       "      <td>0.641</td>\n",
       "      <td>17</td>\n",
       "      <td>2</td>\n",
       "      <td>0</td>\n",
       "      <td>1</td>\n",
       "      <td>1</td>\n",
       "      <td>0</td>\n",
       "      <td>0</td>\n",
       "      <td>1</td>\n",
       "      <td>0.359</td>\n",
       "    </tr>\n",
       "    <tr>\n",
       "      <th>4</th>\n",
       "      <td>5</td>\n",
       "      <td>no</td>\n",
       "      <td>0</td>\n",
       "      <td>0</td>\n",
       "      <td>0</td>\n",
       "      <td>0.000</td>\n",
       "      <td>0</td>\n",
       "      <td>1</td>\n",
       "      <td>0</td>\n",
       "      <td>0.598</td>\n",
       "      <td>17</td>\n",
       "      <td>2</td>\n",
       "      <td>0</td>\n",
       "      <td>1</td>\n",
       "      <td>1</td>\n",
       "      <td>0</td>\n",
       "      <td>0</td>\n",
       "      <td>1</td>\n",
       "      <td>0.402</td>\n",
       "    </tr>\n",
       "  </tbody>\n",
       "</table>\n",
       "</div>"
      ]
     },
     "execution_count": 97,
     "metadata": {},
     "output_type": "execute_result"
    }
   ],
   "execution_count": 97
  },
  {
   "cell_type": "code",
   "id": "4f7462746d9c6e52",
   "metadata": {
    "execution": {
     "iopub.execute_input": "2024-10-24T07:47:12.974439Z",
     "iopub.status.busy": "2024-10-24T07:47:12.973434Z",
     "iopub.status.idle": "2024-10-24T07:47:13.020027Z",
     "shell.execute_reply": "2024-10-24T07:47:13.019519Z"
    },
    "ExecuteTime": {
     "end_time": "2024-11-06T00:34:31.389207Z",
     "start_time": "2024-11-06T00:34:31.342601Z"
    }
   },
   "source": [
    "data.info()"
   ],
   "outputs": [
    {
     "name": "stdout",
     "output_type": "stream",
     "text": [
      "<class 'pandas.core.frame.DataFrame'>\n",
      "RangeIndex: 1048575 entries, 0 to 1048574\n",
      "Data columns (total 19 columns):\n",
      " #   Column  Non-Null Count    Dtype  \n",
      "---  ------  --------------    -----  \n",
      " 0   p       1048575 non-null  int64  \n",
      " 1   target  1048575 non-null  object \n",
      " 2   f0      1048575 non-null  int64  \n",
      " 3   f1      1048575 non-null  int64  \n",
      " 4   f2      1048575 non-null  int64  \n",
      " 5   f3      1048575 non-null  float64\n",
      " 6   f4      1048575 non-null  int64  \n",
      " 7   f5      1048575 non-null  int64  \n",
      " 8   f6      1048575 non-null  int64  \n",
      " 9   f7      1048575 non-null  float64\n",
      " 10  f8      1048575 non-null  int64  \n",
      " 11  f9      1048575 non-null  int64  \n",
      " 12  f10     1048575 non-null  int64  \n",
      " 13  f11     1048575 non-null  int64  \n",
      " 14  f12     1048575 non-null  int64  \n",
      " 15  f13     1048575 non-null  int64  \n",
      " 16  f14     1048575 non-null  int64  \n",
      " 17  f15     1048575 non-null  int64  \n",
      " 18  f16     1048575 non-null  float64\n",
      "dtypes: float64(3), int64(15), object(1)\n",
      "memory usage: 152.0+ MB\n"
     ]
    }
   ],
   "execution_count": 98
  },
  {
   "metadata": {
    "ExecuteTime": {
     "end_time": "2024-11-06T00:34:31.512659Z",
     "start_time": "2024-11-06T00:34:31.421569Z"
    }
   },
   "cell_type": "code",
   "source": [
    "from sklearn.preprocessing import LabelEncoder\n",
    "\n",
    "label_encoder = LabelEncoder()\n",
    "data['target'] = label_encoder.fit_transform(data['target'])"
   ],
   "id": "e888c2fa8ba7d97a",
   "outputs": [],
   "execution_count": 99
  },
  {
   "cell_type": "code",
   "id": "4f53b1e8fc80935d",
   "metadata": {
    "execution": {
     "iopub.execute_input": "2024-10-24T07:47:13.021388Z",
     "iopub.status.busy": "2024-10-24T07:47:13.021388Z",
     "iopub.status.idle": "2024-10-24T07:47:13.363959Z",
     "shell.execute_reply": "2024-10-24T07:47:13.363959Z"
    },
    "ExecuteTime": {
     "end_time": "2024-11-06T00:34:31.885872Z",
     "start_time": "2024-11-06T00:34:31.522181Z"
    }
   },
   "source": [
    "data.describe()"
   ],
   "outputs": [
    {
     "data": {
      "text/plain": [
       "                p      target          f0          f1          f2          f3  \\\n",
       "count 1048575.000 1048575.000 1048575.000 1048575.000 1048575.000 1048575.000   \n",
       "mean   524288.000       0.017       8.502       0.919       0.157       0.519   \n",
       "std    302697.674       0.129      30.856       2.447       2.231       0.419   \n",
       "min         1.000       0.000       0.000       0.000       0.000       0.000   \n",
       "25%    262144.500       0.000       0.000       0.000       0.000       0.000   \n",
       "50%    524288.000       0.000       0.000       1.000       0.000       0.615   \n",
       "75%    786431.500       0.000       4.000       1.000       0.000       0.967   \n",
       "max   1048575.000       1.000     255.000     255.000     255.000       1.000   \n",
       "\n",
       "               f4          f5          f6          f7          f8          f9  \\\n",
       "count 1048575.000 1048575.000 1048575.000 1048575.000 1048575.000 1048575.000   \n",
       "mean        1.381       1.245       4.221       0.743      12.483       3.394   \n",
       "std        12.016       0.578      11.796       0.230      13.221       2.123   \n",
       "min         0.000       1.000       0.000       0.000       0.000       0.000   \n",
       "25%         0.000       1.000       0.000       0.577       6.000       2.000   \n",
       "50%         0.000       1.000       0.000       0.796       9.000       2.000   \n",
       "75%         1.000       1.000       4.000       0.949      14.000       6.000   \n",
       "max       255.000       8.000     255.000       1.000     238.000       7.000   \n",
       "\n",
       "              f10         f11         f12         f13         f14         f15  \\\n",
       "count 1048575.000 1048575.000 1048575.000 1048575.000 1048575.000 1048575.000   \n",
       "mean        9.299       0.721       0.721       1.484       2.300       2.165   \n",
       "std        32.411       0.449       0.449       2.538      13.466       2.513   \n",
       "min         0.000       0.000       0.000       0.000       0.000       1.000   \n",
       "25%         0.000       0.000       0.000       0.000       0.000       1.000   \n",
       "50%         1.000       1.000       1.000       2.000       1.000       2.000   \n",
       "75%         5.000       1.000       1.000       2.000       2.000       3.000   \n",
       "max       255.000       1.000       1.000     255.000     510.000     256.000   \n",
       "\n",
       "              f16  \n",
       "count 1048575.000  \n",
       "mean        0.257  \n",
       "std         0.230  \n",
       "min         0.000  \n",
       "25%         0.051  \n",
       "50%         0.204  \n",
       "75%         0.423  \n",
       "max         1.000  "
      ],
      "text/html": [
       "<div>\n",
       "<style scoped>\n",
       "    .dataframe tbody tr th:only-of-type {\n",
       "        vertical-align: middle;\n",
       "    }\n",
       "\n",
       "    .dataframe tbody tr th {\n",
       "        vertical-align: top;\n",
       "    }\n",
       "\n",
       "    .dataframe thead th {\n",
       "        text-align: right;\n",
       "    }\n",
       "</style>\n",
       "<table border=\"1\" class=\"dataframe\">\n",
       "  <thead>\n",
       "    <tr style=\"text-align: right;\">\n",
       "      <th></th>\n",
       "      <th>p</th>\n",
       "      <th>target</th>\n",
       "      <th>f0</th>\n",
       "      <th>f1</th>\n",
       "      <th>f2</th>\n",
       "      <th>f3</th>\n",
       "      <th>f4</th>\n",
       "      <th>f5</th>\n",
       "      <th>f6</th>\n",
       "      <th>f7</th>\n",
       "      <th>f8</th>\n",
       "      <th>f9</th>\n",
       "      <th>f10</th>\n",
       "      <th>f11</th>\n",
       "      <th>f12</th>\n",
       "      <th>f13</th>\n",
       "      <th>f14</th>\n",
       "      <th>f15</th>\n",
       "      <th>f16</th>\n",
       "    </tr>\n",
       "  </thead>\n",
       "  <tbody>\n",
       "    <tr>\n",
       "      <th>count</th>\n",
       "      <td>1048575.000</td>\n",
       "      <td>1048575.000</td>\n",
       "      <td>1048575.000</td>\n",
       "      <td>1048575.000</td>\n",
       "      <td>1048575.000</td>\n",
       "      <td>1048575.000</td>\n",
       "      <td>1048575.000</td>\n",
       "      <td>1048575.000</td>\n",
       "      <td>1048575.000</td>\n",
       "      <td>1048575.000</td>\n",
       "      <td>1048575.000</td>\n",
       "      <td>1048575.000</td>\n",
       "      <td>1048575.000</td>\n",
       "      <td>1048575.000</td>\n",
       "      <td>1048575.000</td>\n",
       "      <td>1048575.000</td>\n",
       "      <td>1048575.000</td>\n",
       "      <td>1048575.000</td>\n",
       "      <td>1048575.000</td>\n",
       "    </tr>\n",
       "    <tr>\n",
       "      <th>mean</th>\n",
       "      <td>524288.000</td>\n",
       "      <td>0.017</td>\n",
       "      <td>8.502</td>\n",
       "      <td>0.919</td>\n",
       "      <td>0.157</td>\n",
       "      <td>0.519</td>\n",
       "      <td>1.381</td>\n",
       "      <td>1.245</td>\n",
       "      <td>4.221</td>\n",
       "      <td>0.743</td>\n",
       "      <td>12.483</td>\n",
       "      <td>3.394</td>\n",
       "      <td>9.299</td>\n",
       "      <td>0.721</td>\n",
       "      <td>0.721</td>\n",
       "      <td>1.484</td>\n",
       "      <td>2.300</td>\n",
       "      <td>2.165</td>\n",
       "      <td>0.257</td>\n",
       "    </tr>\n",
       "    <tr>\n",
       "      <th>std</th>\n",
       "      <td>302697.674</td>\n",
       "      <td>0.129</td>\n",
       "      <td>30.856</td>\n",
       "      <td>2.447</td>\n",
       "      <td>2.231</td>\n",
       "      <td>0.419</td>\n",
       "      <td>12.016</td>\n",
       "      <td>0.578</td>\n",
       "      <td>11.796</td>\n",
       "      <td>0.230</td>\n",
       "      <td>13.221</td>\n",
       "      <td>2.123</td>\n",
       "      <td>32.411</td>\n",
       "      <td>0.449</td>\n",
       "      <td>0.449</td>\n",
       "      <td>2.538</td>\n",
       "      <td>13.466</td>\n",
       "      <td>2.513</td>\n",
       "      <td>0.230</td>\n",
       "    </tr>\n",
       "    <tr>\n",
       "      <th>min</th>\n",
       "      <td>1.000</td>\n",
       "      <td>0.000</td>\n",
       "      <td>0.000</td>\n",
       "      <td>0.000</td>\n",
       "      <td>0.000</td>\n",
       "      <td>0.000</td>\n",
       "      <td>0.000</td>\n",
       "      <td>1.000</td>\n",
       "      <td>0.000</td>\n",
       "      <td>0.000</td>\n",
       "      <td>0.000</td>\n",
       "      <td>0.000</td>\n",
       "      <td>0.000</td>\n",
       "      <td>0.000</td>\n",
       "      <td>0.000</td>\n",
       "      <td>0.000</td>\n",
       "      <td>0.000</td>\n",
       "      <td>1.000</td>\n",
       "      <td>0.000</td>\n",
       "    </tr>\n",
       "    <tr>\n",
       "      <th>25%</th>\n",
       "      <td>262144.500</td>\n",
       "      <td>0.000</td>\n",
       "      <td>0.000</td>\n",
       "      <td>0.000</td>\n",
       "      <td>0.000</td>\n",
       "      <td>0.000</td>\n",
       "      <td>0.000</td>\n",
       "      <td>1.000</td>\n",
       "      <td>0.000</td>\n",
       "      <td>0.577</td>\n",
       "      <td>6.000</td>\n",
       "      <td>2.000</td>\n",
       "      <td>0.000</td>\n",
       "      <td>0.000</td>\n",
       "      <td>0.000</td>\n",
       "      <td>0.000</td>\n",
       "      <td>0.000</td>\n",
       "      <td>1.000</td>\n",
       "      <td>0.051</td>\n",
       "    </tr>\n",
       "    <tr>\n",
       "      <th>50%</th>\n",
       "      <td>524288.000</td>\n",
       "      <td>0.000</td>\n",
       "      <td>0.000</td>\n",
       "      <td>1.000</td>\n",
       "      <td>0.000</td>\n",
       "      <td>0.615</td>\n",
       "      <td>0.000</td>\n",
       "      <td>1.000</td>\n",
       "      <td>0.000</td>\n",
       "      <td>0.796</td>\n",
       "      <td>9.000</td>\n",
       "      <td>2.000</td>\n",
       "      <td>1.000</td>\n",
       "      <td>1.000</td>\n",
       "      <td>1.000</td>\n",
       "      <td>2.000</td>\n",
       "      <td>1.000</td>\n",
       "      <td>2.000</td>\n",
       "      <td>0.204</td>\n",
       "    </tr>\n",
       "    <tr>\n",
       "      <th>75%</th>\n",
       "      <td>786431.500</td>\n",
       "      <td>0.000</td>\n",
       "      <td>4.000</td>\n",
       "      <td>1.000</td>\n",
       "      <td>0.000</td>\n",
       "      <td>0.967</td>\n",
       "      <td>1.000</td>\n",
       "      <td>1.000</td>\n",
       "      <td>4.000</td>\n",
       "      <td>0.949</td>\n",
       "      <td>14.000</td>\n",
       "      <td>6.000</td>\n",
       "      <td>5.000</td>\n",
       "      <td>1.000</td>\n",
       "      <td>1.000</td>\n",
       "      <td>2.000</td>\n",
       "      <td>2.000</td>\n",
       "      <td>3.000</td>\n",
       "      <td>0.423</td>\n",
       "    </tr>\n",
       "    <tr>\n",
       "      <th>max</th>\n",
       "      <td>1048575.000</td>\n",
       "      <td>1.000</td>\n",
       "      <td>255.000</td>\n",
       "      <td>255.000</td>\n",
       "      <td>255.000</td>\n",
       "      <td>1.000</td>\n",
       "      <td>255.000</td>\n",
       "      <td>8.000</td>\n",
       "      <td>255.000</td>\n",
       "      <td>1.000</td>\n",
       "      <td>238.000</td>\n",
       "      <td>7.000</td>\n",
       "      <td>255.000</td>\n",
       "      <td>1.000</td>\n",
       "      <td>1.000</td>\n",
       "      <td>255.000</td>\n",
       "      <td>510.000</td>\n",
       "      <td>256.000</td>\n",
       "      <td>1.000</td>\n",
       "    </tr>\n",
       "  </tbody>\n",
       "</table>\n",
       "</div>"
      ]
     },
     "execution_count": 100,
     "metadata": {},
     "output_type": "execute_result"
    }
   ],
   "execution_count": 100
  },
  {
   "cell_type": "code",
   "id": "f900521d06fc8b37",
   "metadata": {
    "execution": {
     "iopub.execute_input": "2024-10-24T07:47:13.365940Z",
     "iopub.status.busy": "2024-10-24T07:47:13.365940Z",
     "iopub.status.idle": "2024-10-24T07:47:13.547707Z",
     "shell.execute_reply": "2024-10-24T07:47:13.547707Z"
    },
    "ExecuteTime": {
     "end_time": "2024-11-06T00:34:32.104934Z",
     "start_time": "2024-11-06T00:34:31.949732Z"
    }
   },
   "source": [
    "data.nunique().sort_values()"
   ],
   "outputs": [
    {
     "data": {
      "text/plain": [
       "target          2\n",
       "f12             2\n",
       "f11             2\n",
       "f5              7\n",
       "f9              8\n",
       "f1             64\n",
       "f13            64\n",
       "f2             68\n",
       "f15            74\n",
       "f8            115\n",
       "f4            173\n",
       "f6            180\n",
       "f14           213\n",
       "f0            255\n",
       "f10           256\n",
       "f3          34714\n",
       "f7          73874\n",
       "f16         73874\n",
       "p         1048575\n",
       "dtype: int64"
      ]
     },
     "execution_count": 101,
     "metadata": {},
     "output_type": "execute_result"
    }
   ],
   "execution_count": 101
  },
  {
   "metadata": {
    "ExecuteTime": {
     "end_time": "2024-11-06T00:34:32.184266Z",
     "start_time": "2024-11-06T00:34:32.169579Z"
    }
   },
   "cell_type": "code",
   "source": "data['target'].value_counts()",
   "id": "741d4f274ade4a92",
   "outputs": [
    {
     "data": {
      "text/plain": [
       "target\n",
       "0    1030822\n",
       "1      17753\n",
       "Name: count, dtype: int64"
      ]
     },
     "execution_count": 102,
     "metadata": {},
     "output_type": "execute_result"
    }
   ],
   "execution_count": 102
  },
  {
   "cell_type": "code",
   "id": "e57e4069a9700473",
   "metadata": {
    "execution": {
     "iopub.execute_input": "2024-10-24T07:47:13.549211Z",
     "iopub.status.busy": "2024-10-24T07:47:13.549211Z",
     "iopub.status.idle": "2024-10-24T07:47:15.334095Z",
     "shell.execute_reply": "2024-10-24T07:47:15.334095Z"
    },
    "ExecuteTime": {
     "end_time": "2024-11-06T00:34:34.047780Z",
     "start_time": "2024-11-06T00:34:32.262670Z"
    }
   },
   "source": [
    "from matplotlib import pyplot as plt\n",
    "\n",
    "data.hist(bins=50, figsize=(20, 15))\n",
    "plt.show()"
   ],
   "outputs": [
    {
     "data": {
      "text/plain": [
       "<Figure size 2000x1500 with 20 Axes>"
      ],
      "image/png": "[encoded data removed]"
     },
     "metadata": {},
     "output_type": "display_data"
    }
   ],
   "execution_count": 103
  },
  {
   "metadata": {
    "ExecuteTime": {
     "end_time": "2024-11-06T00:34:34.109237Z",
     "start_time": "2024-11-06T00:34:34.079866Z"
    }
   },
   "cell_type": "code",
   "source": [
    "X = data.drop(columns=['p', 'target'])\n",
    "y = data['target']"
   ],
   "id": "8417e4950232998d",
   "outputs": [],
   "execution_count": 104
  },
  {
   "metadata": {
    "ExecuteTime": {
     "end_time": "2024-11-06T00:34:34.140796Z",
     "start_time": "2024-11-06T00:34:34.114741Z"
    }
   },
   "cell_type": "code",
   "source": [
    "from sklearn.preprocessing import LabelEncoder\n",
    "\n",
    "label_encoder = LabelEncoder()\n",
    "y = label_encoder.fit_transform(y)\n",
    "y = pd.Series(y, name='target')"
   ],
   "id": "563657a56a23de46",
   "outputs": [],
   "execution_count": 105
  },
  {
   "metadata": {
    "ExecuteTime": {
     "end_time": "2024-11-06T00:34:34.469287Z",
     "start_time": "2024-11-06T00:34:34.173627Z"
    }
   },
   "cell_type": "code",
   "source": [
    "from sklearn.model_selection import train_test_split\n",
    "\n",
    "test_size_ratio = 0.2\n",
    "X_train, _, y_train, _ = train_test_split(\n",
    "    X, y,\n",
    "    test_size=test_size_ratio, \n",
    "    stratify=y, \n",
    "    random_state=42\n",
    ")\n",
    "train = pd.concat([y_train, X_train], axis=1)\n",
    "\n",
    "train.shape"
   ],
   "id": "2107aa780abc15f6",
   "outputs": [
    {
     "data": {
      "text/plain": [
       "(838860, 18)"
      ]
     },
     "execution_count": 106,
     "metadata": {},
     "output_type": "execute_result"
    }
   ],
   "execution_count": 106
  },
  {
   "metadata": {
    "ExecuteTime": {
     "end_time": "2024-11-06T00:34:34.857014Z",
     "start_time": "2024-11-06T00:34:34.544076Z"
    }
   },
   "cell_type": "code",
   "source": [
    "new_train = train.drop_duplicates()\n",
    "print(\"Duplicates removed:\", train.shape[0] - new_train.shape[0])\n",
    "train = new_train\n",
    "\n",
    "train.shape"
   ],
   "id": "d7d65eef4fec4fc",
   "outputs": [
    {
     "name": "stdout",
     "output_type": "stream",
     "text": [
      "Duplicates removed: 61923\n"
     ]
    },
    {
     "data": {
      "text/plain": [
       "(776937, 18)"
      ]
     },
     "execution_count": 107,
     "metadata": {},
     "output_type": "execute_result"
    }
   ],
   "execution_count": 107
  },
  {
   "metadata": {
    "ExecuteTime": {
     "end_time": "2024-11-06T00:34:35.183434Z",
     "start_time": "2024-11-06T00:34:34.923166Z"
    }
   },
   "cell_type": "code",
   "source": [
    "new_train = train.drop_duplicates(subset=train.columns.difference(['target']))\n",
    "print(\"Collisions removed:\", train.shape[0] - new_train.shape[0])\n",
    "train = new_train\n",
    "\n",
    "train.shape"
   ],
   "id": "14a2f158e2e75191",
   "outputs": [
    {
     "name": "stdout",
     "output_type": "stream",
     "text": [
      "Collisions removed: 56\n"
     ]
    },
    {
     "data": {
      "text/plain": [
       "(776881, 18)"
      ]
     },
     "execution_count": 108,
     "metadata": {},
     "output_type": "execute_result"
    }
   ],
   "execution_count": 108
  },
  {
   "metadata": {
    "ExecuteTime": {
     "end_time": "2024-11-06T00:34:35.245707Z",
     "start_time": "2024-11-06T00:34:35.234677Z"
    }
   },
   "cell_type": "code",
   "source": "(train[\"f16\"] + train[\"f7\"] != 1.0).sum()",
   "id": "45aa44de94598c51",
   "outputs": [
    {
     "data": {
      "text/plain": [
       "0"
      ]
     },
     "execution_count": 109,
     "metadata": {},
     "output_type": "execute_result"
    }
   ],
   "execution_count": 109
  }
 ],
 "metadata": {
  "kernelspec": {
   "display_name": "Python 3",
   "language": "python",
   "name": "python3"
  },
  "language_info": {
   "codemirror_mode": {
    "name": "ipython",
    "version": 3
   },
   "file_extension": ".py",
   "mimetype": "text/x-python",
   "name": "python",
   "nbconvert_exporter": "python",
   "pygments_lexer": "ipython3",
   "version": "3.9.13"
  }
 },
 "nbformat": 4,
 "nbformat_minor": 5
}
