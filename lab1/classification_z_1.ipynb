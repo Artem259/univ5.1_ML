{
 "cells": [
  {
   "cell_type": "code",
   "execution_count": 1,
   "id": "initial_id",
   "metadata": {
    "ExecuteTime": {
     "end_time": "2024-11-05T00:25:39.272437Z",
     "start_time": "2024-11-05T00:25:39.258531Z"
    },
    "execution": {
     "iopub.execute_input": "2024-11-05T00:41:19.177332Z",
     "iopub.status.busy": "2024-11-05T00:41:19.177332Z",
     "iopub.status.idle": "2024-11-05T00:41:19.405105Z",
     "shell.execute_reply": "2024-11-05T00:41:19.405006Z"
    },
    "papermill": {
     "duration": 0.233365,
     "end_time": "2024-11-05T00:41:19.406010",
     "exception": false,
     "start_time": "2024-11-05T00:41:19.172645",
     "status": "completed"
    },
    "tags": []
   },
   "outputs": [],
   "source": [
    "import os\n",
    "import pandas as pd"
   ]
  },
  {
   "cell_type": "code",
   "execution_count": 2,
   "id": "ab92d0123055b0f4",
   "metadata": {
    "ExecuteTime": {
     "end_time": "2024-11-05T00:25:39.287944Z",
     "start_time": "2024-11-05T00:25:39.280398Z"
    },
    "execution": {
     "iopub.execute_input": "2024-11-05T00:41:19.412010Z",
     "iopub.status.busy": "2024-11-05T00:41:19.412010Z",
     "iopub.status.idle": "2024-11-05T00:41:19.421038Z",
     "shell.execute_reply": "2024-11-05T00:41:19.421038Z"
    },
    "papermill": {
     "duration": 0.013043,
     "end_time": "2024-11-05T00:41:19.422050",
     "exception": false,
     "start_time": "2024-11-05T00:41:19.409007",
     "status": "completed"
    },
    "tags": [
     "parameters"
    ]
   },
   "outputs": [],
   "source": [
    "cat_attrs: str = \"f12 f11\"\n",
    "balance_data: bool = False\n",
    "clear_data: bool = True\n",
    "n_jobs: int = 1\n",
    "verbose: int = 10"
   ]
  },
  {
   "cell_type": "code",
   "execution_count": 3,
   "id": "fa55a5f1",
   "metadata": {
    "execution": {
     "iopub.execute_input": "2024-11-05T00:41:19.428171Z",
     "iopub.status.busy": "2024-11-05T00:41:19.428171Z",
     "iopub.status.idle": "2024-11-05T00:41:19.436186Z",
     "shell.execute_reply": "2024-11-05T00:41:19.436186Z"
    },
    "papermill": {
     "duration": 0.012433,
     "end_time": "2024-11-05T00:41:19.437558",
     "exception": false,
     "start_time": "2024-11-05T00:41:19.425125",
     "status": "completed"
    },
    "tags": [
     "injected-parameters"
    ]
   },
   "outputs": [],
   "source": [
    "# Parameters\n",
    "n_jobs = 4\n"
   ]
  },
  {
   "cell_type": "code",
   "execution_count": 4,
   "id": "b8d59c2d5723d798",
   "metadata": {
    "ExecuteTime": {
     "end_time": "2024-11-05T00:25:39.444934Z",
     "start_time": "2024-11-05T00:25:39.430453Z"
    },
    "execution": {
     "iopub.execute_input": "2024-11-05T00:41:19.443181Z",
     "iopub.status.busy": "2024-11-05T00:41:19.441798Z",
     "iopub.status.idle": "2024-11-05T00:41:19.452374Z",
     "shell.execute_reply": "2024-11-05T00:41:19.452205Z"
    },
    "papermill": {
     "duration": 0.01393,
     "end_time": "2024-11-05T00:41:19.453493",
     "exception": false,
     "start_time": "2024-11-05T00:41:19.439563",
     "status": "completed"
    },
    "tags": []
   },
   "outputs": [
    {
     "data": {
      "text/plain": [
       "['f12', 'f11']"
      ]
     },
     "execution_count": 4,
     "metadata": {},
     "output_type": "execute_result"
    }
   ],
   "source": [
    "cat_attrs: list[str] = cat_attrs.split()\n",
    "cat_attrs"
   ]
  },
  {
   "cell_type": "code",
   "execution_count": 5,
   "id": "c9c5b653532c8121",
   "metadata": {
    "ExecuteTime": {
     "end_time": "2024-11-05T00:25:39.508266Z",
     "start_time": "2024-11-05T00:25:39.493977Z"
    },
    "execution": {
     "iopub.execute_input": "2024-11-05T00:41:19.459360Z",
     "iopub.status.busy": "2024-11-05T00:41:19.459360Z",
     "iopub.status.idle": "2024-11-05T00:41:19.467831Z",
     "shell.execute_reply": "2024-11-05T00:41:19.467831Z"
    },
    "papermill": {
     "duration": 0.013184,
     "end_time": "2024-11-05T00:41:19.469130",
     "exception": false,
     "start_time": "2024-11-05T00:41:19.455946",
     "status": "completed"
    },
    "tags": []
   },
   "outputs": [],
   "source": [
    "pd.set_option('display.float_format', '{:.3f}'.format)"
   ]
  },
  {
   "cell_type": "code",
   "execution_count": 6,
   "id": "d56664ec8b50ea6a",
   "metadata": {
    "ExecuteTime": {
     "end_time": "2024-11-05T00:25:40.398407Z",
     "start_time": "2024-11-05T00:25:39.556251Z"
    },
    "execution": {
     "iopub.execute_input": "2024-11-05T00:41:19.474731Z",
     "iopub.status.busy": "2024-11-05T00:41:19.474731Z",
     "iopub.status.idle": "2024-11-05T00:41:20.028808Z",
     "shell.execute_reply": "2024-11-05T00:41:20.027284Z"
    },
    "papermill": {
     "duration": 0.558141,
     "end_time": "2024-11-05T00:41:20.029318",
     "exception": false,
     "start_time": "2024-11-05T00:41:19.471177",
     "status": "completed"
    },
    "tags": []
   },
   "outputs": [],
   "source": [
    "csv_path = os.path.join('data', 'data.csv')\n",
    "data = pd.read_csv(csv_path)"
   ]
  },
  {
   "cell_type": "code",
   "execution_count": 7,
   "id": "fdba6b06da2871bf",
   "metadata": {
    "ExecuteTime": {
     "end_time": "2024-11-05T00:25:40.490985Z",
     "start_time": "2024-11-05T00:25:40.446752Z"
    },
    "execution": {
     "iopub.execute_input": "2024-11-05T00:41:20.036299Z",
     "iopub.status.busy": "2024-11-05T00:41:20.034946Z",
     "iopub.status.idle": "2024-11-05T00:41:20.074017Z",
     "shell.execute_reply": "2024-11-05T00:41:20.074017Z"
    },
    "papermill": {
     "duration": 0.042699,
     "end_time": "2024-11-05T00:41:20.075022",
     "exception": false,
     "start_time": "2024-11-05T00:41:20.032323",
     "status": "completed"
    },
    "tags": []
   },
   "outputs": [],
   "source": [
    "X = data.drop(columns=['target', 'p'])\n",
    "y = data['target']"
   ]
  },
  {
   "cell_type": "code",
   "execution_count": 8,
   "id": "288f06209ad7651",
   "metadata": {
    "ExecuteTime": {
     "end_time": "2024-11-05T00:25:40.664069Z",
     "start_time": "2024-11-05T00:25:40.555104Z"
    },
    "execution": {
     "iopub.execute_input": "2024-11-05T00:41:20.081017Z",
     "iopub.status.busy": "2024-11-05T00:41:20.081017Z",
     "iopub.status.idle": "2024-11-05T00:41:20.465118Z",
     "shell.execute_reply": "2024-11-05T00:41:20.465118Z"
    },
    "papermill": {
     "duration": 0.388115,
     "end_time": "2024-11-05T00:41:20.466133",
     "exception": false,
     "start_time": "2024-11-05T00:41:20.078018",
     "status": "completed"
    },
    "tags": []
   },
   "outputs": [],
   "source": [
    "from sklearn.preprocessing import LabelEncoder\n",
    "\n",
    "label_encoder = LabelEncoder()\n",
    "y = label_encoder.fit_transform(y)\n",
    "y = pd.Series(y, name='target')"
   ]
  },
  {
   "cell_type": "code",
   "execution_count": 9,
   "id": "e32d493683b4f70f",
   "metadata": {
    "ExecuteTime": {
     "end_time": "2024-11-05T00:25:41.053141Z",
     "start_time": "2024-11-05T00:25:40.711886Z"
    },
    "execution": {
     "iopub.execute_input": "2024-11-05T00:41:20.472963Z",
     "iopub.status.busy": "2024-11-05T00:41:20.472963Z",
     "iopub.status.idle": "2024-11-05T00:41:20.777622Z",
     "shell.execute_reply": "2024-11-05T00:41:20.777622Z"
    },
    "papermill": {
     "duration": 0.309847,
     "end_time": "2024-11-05T00:41:20.778977",
     "exception": false,
     "start_time": "2024-11-05T00:41:20.469130",
     "status": "completed"
    },
    "tags": []
   },
   "outputs": [
    {
     "name": "stdout",
     "output_type": "stream",
     "text": [
      "Train: X=(838860, 17) y=(838860,)\n",
      "Test: X=(209715, 17) y=(209715,)\n"
     ]
    }
   ],
   "source": [
    "from sklearn.model_selection import train_test_split\n",
    "\n",
    "test_size_ratio = 0.2\n",
    "X_train, X_test, y_train, y_test = train_test_split(\n",
    "    X, y,\n",
    "    test_size=test_size_ratio, \n",
    "    stratify=y, \n",
    "    random_state=42\n",
    ")\n",
    "\n",
    "print(f\"Train: X={X_train.shape} y={y_train.shape}\")\n",
    "print(f\"Test: X={X_test.shape} y={y_test.shape}\")"
   ]
  },
  {
   "cell_type": "code",
   "execution_count": 10,
   "id": "6d5455bafdcbc466",
   "metadata": {
    "ExecuteTime": {
     "end_time": "2024-11-05T00:25:41.130921Z",
     "start_time": "2024-11-05T00:25:41.115862Z"
    },
    "execution": {
     "iopub.execute_input": "2024-11-05T00:41:20.786992Z",
     "iopub.status.busy": "2024-11-05T00:41:20.785993Z",
     "iopub.status.idle": "2024-11-05T00:41:20.792995Z",
     "shell.execute_reply": "2024-11-05T00:41:20.792995Z"
    },
    "papermill": {
     "duration": 0.012273,
     "end_time": "2024-11-05T00:41:20.794265",
     "exception": false,
     "start_time": "2024-11-05T00:41:20.781992",
     "status": "completed"
    },
    "tags": []
   },
   "outputs": [
    {
     "name": "stdout",
     "output_type": "stream",
     "text": [
      "balance_data set to False\n"
     ]
    }
   ],
   "source": [
    "from collections import Counter\n",
    "\n",
    "if balance_data:\n",
    "    train = pd.concat([X_train, y_train], axis=1)\n",
    "    train_n = train.shape[0]\n",
    "    \n",
    "    class_counts = Counter(train['target'])\n",
    "    min_class = min(class_counts, key=lambda x: class_counts[x])\n",
    "    \n",
    "    new_train = train.groupby('target').apply(\n",
    "        lambda x: x.sample(class_counts[min_class])\n",
    "    ).reset_index(drop=True)\n",
    "    removed_n = train.shape[0] - new_train.shape[0]\n",
    "    removed_ratio = removed_n / train_n\n",
    "    \n",
    "    print(f\"Majority class: '{min_class}'\")\n",
    "    print(f\"Records removed: {removed_n} ({removed_ratio * 100:.3f} %)\")\n",
    "    X_train = new_train.drop(columns=['target'])\n",
    "    y_train = new_train['target']\n",
    "    print(f\"\\nTrain: X={X_train.shape} y={y_train.shape}\")\n",
    "else:\n",
    "    print(\"balance_data set to False\")"
   ]
  },
  {
   "cell_type": "code",
   "execution_count": 11,
   "id": "ea1d2432dcd6f50a",
   "metadata": {
    "ExecuteTime": {
     "end_time": "2024-11-05T00:25:41.208496Z",
     "start_time": "2024-11-05T00:25:41.194126Z"
    },
    "execution": {
     "iopub.execute_input": "2024-11-05T00:41:20.801605Z",
     "iopub.status.busy": "2024-11-05T00:41:20.801605Z",
     "iopub.status.idle": "2024-11-05T00:41:20.808873Z",
     "shell.execute_reply": "2024-11-05T00:41:20.808806Z"
    },
    "papermill": {
     "duration": 0.012005,
     "end_time": "2024-11-05T00:41:20.810275",
     "exception": false,
     "start_time": "2024-11-05T00:41:20.798270",
     "status": "completed"
    },
    "tags": []
   },
   "outputs": [
    {
     "name": "stdout",
     "output_type": "stream",
     "text": [
      "Train positives ratio: 1.69301 %\n",
      "Test positives ratio:  1.69325 %\n"
     ]
    }
   ],
   "source": [
    "y_train_pos_ratio = y_train[y_train == 1].shape[0] / y_train.shape[0]\n",
    "y_test_pos_ratio = y_test[y_test == 1].shape[0] / y_test.shape[0]\n",
    "\n",
    "print(\"Train positives ratio:\", f\"{y_train_pos_ratio * 100:.5f} %\")\n",
    "print(\"Test positives ratio: \", f\"{y_test_pos_ratio * 100:.5f} %\")"
   ]
  },
  {
   "cell_type": "code",
   "execution_count": 12,
   "id": "120b47e1c07d5d5d",
   "metadata": {
    "ExecuteTime": {
     "end_time": "2024-11-05T00:25:42.035196Z",
     "start_time": "2024-11-05T00:25:41.272376Z"
    },
    "execution": {
     "iopub.execute_input": "2024-11-05T00:41:20.817195Z",
     "iopub.status.busy": "2024-11-05T00:41:20.816193Z",
     "iopub.status.idle": "2024-11-05T00:41:21.385859Z",
     "shell.execute_reply": "2024-11-05T00:41:21.384856Z"
    },
    "papermill": {
     "duration": 0.574564,
     "end_time": "2024-11-05T00:41:21.387312",
     "exception": false,
     "start_time": "2024-11-05T00:41:20.812748",
     "status": "completed"
    },
    "tags": []
   },
   "outputs": [
    {
     "name": "stdout",
     "output_type": "stream",
     "text": [
      "Duplicates removed: 61923 (7.382 %)\n"
     ]
    },
    {
     "name": "stdout",
     "output_type": "stream",
     "text": [
      "Collisions removed: 56 (0.007 %)\n",
      "Total removed:      61979 (7.388 %)\n",
      "\n",
      "Train: X=(776881, 17) y=(776881,)\n"
     ]
    }
   ],
   "source": [
    "if clear_data:\n",
    "    train = pd.concat([X_train, y_train], axis=1)\n",
    "    train_n = train.shape[0]\n",
    "    \n",
    "    new_train = train.drop_duplicates()\n",
    "    duplicates_n = train.shape[0] - new_train.shape[0]\n",
    "    duplicates_ratio = duplicates_n / train_n\n",
    "    print(f\"Duplicates removed: {duplicates_n} ({duplicates_ratio * 100:.3f} %)\")\n",
    "    train = new_train\n",
    "    \n",
    "    new_train = train.drop_duplicates(subset=train.columns.difference(['target']))\n",
    "    collisions_n = train.shape[0] - new_train.shape[0]\n",
    "    collisions_ratio = collisions_n / train_n\n",
    "    print(f\"Collisions removed: {collisions_n} ({collisions_ratio * 100:.3f} %)\")\n",
    "    train = new_train\n",
    "    \n",
    "    print(f\"Total removed:      {duplicates_n + collisions_n} \"\n",
    "          f\"({(duplicates_ratio + collisions_ratio) * 100:.3f} %)\")\n",
    "    X_train = train.drop(columns=['target'])\n",
    "    y_train = train['target']\n",
    "    print(f\"\\nTrain: X={X_train.shape} y={y_train.shape}\")\n",
    "else:\n",
    "    print(\"clear_data set to False\")"
   ]
  },
  {
   "cell_type": "code",
   "execution_count": 13,
   "id": "f662710ec89f102d",
   "metadata": {
    "ExecuteTime": {
     "end_time": "2024-11-05T00:25:42.490142Z",
     "start_time": "2024-11-05T00:25:42.098700Z"
    },
    "execution": {
     "iopub.execute_input": "2024-11-05T00:41:21.393871Z",
     "iopub.status.busy": "2024-11-05T00:41:21.393871Z",
     "iopub.status.idle": "2024-11-05T00:41:21.757336Z",
     "shell.execute_reply": "2024-11-05T00:41:21.757228Z"
    },
    "papermill": {
     "duration": 0.367937,
     "end_time": "2024-11-05T00:41:21.758256",
     "exception": false,
     "start_time": "2024-11-05T00:41:21.390319",
     "status": "completed"
    },
    "tags": []
   },
   "outputs": [
    {
     "data": {
      "text/plain": [
       "target   1.000\n",
       "f11      0.185\n",
       "f12      0.185\n",
       "f1       0.119\n",
       "f15      0.117\n",
       "f14      0.117\n",
       "f13      0.116\n",
       "f4       0.107\n",
       "f10      0.054\n",
       "f6       0.048\n",
       "f0       0.034\n",
       "f9       0.032\n",
       "f8       0.023\n",
       "f2       0.017\n",
       "f16      0.010\n",
       "f7       0.010\n",
       "f5       0.005\n",
       "f3       0.003\n",
       "Name: target, dtype: float64"
      ]
     },
     "execution_count": 13,
     "metadata": {},
     "output_type": "execute_result"
    }
   ],
   "source": [
    "comb_attributes = list(X_train.columns)\n",
    "# combinations_n = 3\n",
    "\n",
    "train = pd.concat([X_train, y_train], axis=1)\n",
    "\n",
    "attributes_combinations = []\n",
    "for i in []:#range(len(comb_attributes)):\n",
    "    atr1 = comb_attributes[i]    \n",
    "    for j in range(i + 1, len(comb_attributes)):\n",
    "        atr2 = comb_attributes[j]\n",
    "        attributes_combinations.append(f\"{atr1}_per_{atr2}\")\n",
    "        train[attributes_combinations[-1]] = train[atr1] / train[atr2]\n",
    "        \n",
    "corr_price = abs(train.corr(numeric_only=True)[\"target\"]).sort_values(ascending=False)\n",
    "corr_price\n",
    "# corr_price_combinations = corr_price[corr_price.index.isin(attributes_combinations)]\n",
    "# for atr in corr_price_combinations.iloc[combinations_n:].index:\n",
    "#     X_train.drop(atr, axis=1, inplace=True)"
   ]
  },
  {
   "cell_type": "code",
   "execution_count": 14,
   "id": "c5e26b96b7083101",
   "metadata": {
    "ExecuteTime": {
     "end_time": "2024-11-05T00:25:42.615241Z",
     "start_time": "2024-11-05T00:25:42.585183Z"
    },
    "execution": {
     "iopub.execute_input": "2024-11-05T00:41:21.764256Z",
     "iopub.status.busy": "2024-11-05T00:41:21.764256Z",
     "iopub.status.idle": "2024-11-05T00:41:21.818834Z",
     "shell.execute_reply": "2024-11-05T00:41:21.818834Z"
    },
    "papermill": {
     "duration": 0.058579,
     "end_time": "2024-11-05T00:41:21.819833",
     "exception": false,
     "start_time": "2024-11-05T00:41:21.761254",
     "status": "completed"
    },
    "tags": []
   },
   "outputs": [
    {
     "data": {
      "text/plain": [
       "[array([0, 1], dtype=int64), array([0, 1], dtype=int64)]"
      ]
     },
     "execution_count": 14,
     "metadata": {},
     "output_type": "execute_result"
    }
   ],
   "source": [
    "from sklearn.compose import ColumnTransformer\n",
    "from sklearn.linear_model import LogisticRegression\n",
    "from sklearn.preprocessing import OneHotEncoder, StandardScaler\n",
    "from sklearn.pipeline import Pipeline\n",
    "\n",
    "cat_encoder = OneHotEncoder().fit(X[cat_attrs])\n",
    "cat_encoder.categories_  # TODO"
   ]
  },
  {
   "cell_type": "code",
   "execution_count": 15,
   "id": "515460711168c32f",
   "metadata": {
    "ExecuteTime": {
     "end_time": "2024-11-05T00:25:42.661544Z",
     "start_time": "2024-11-05T00:25:42.647645Z"
    },
    "execution": {
     "iopub.execute_input": "2024-11-05T00:41:21.827837Z",
     "iopub.status.busy": "2024-11-05T00:41:21.826834Z",
     "iopub.status.idle": "2024-11-05T00:41:21.911694Z",
     "shell.execute_reply": "2024-11-05T00:41:21.911694Z"
    },
    "papermill": {
     "duration": 0.089174,
     "end_time": "2024-11-05T00:41:21.913008",
     "exception": false,
     "start_time": "2024-11-05T00:41:21.823834",
     "status": "completed"
    },
    "tags": []
   },
   "outputs": [],
   "source": [
    "from imblearn.over_sampling import SMOTE, SMOTENC\n",
    "from imblearn.pipeline import Pipeline as ImPipeline\n",
    "\n",
    "preprocessor = ColumnTransformer(\n",
    "    transformers=[\n",
    "        ('cat', OneHotEncoder(categories=cat_encoder.categories_), cat_attrs)\n",
    "    ],\n",
    "    remainder=StandardScaler(),\n",
    "    verbose_feature_names_out=True\n",
    ")\n",
    "preprocessor = preprocessor.set_output(transform='pandas')\n",
    "\n",
    "pipeline = ImPipeline(steps=[\n",
    "    ('preprocessor', preprocessor),\n",
    "    ('sampling', SMOTENC(categorical_features=list(map(lambda attr: 'cat__' + attr, cat_attrs)))),\n",
    "    ('classifier', LogisticRegression())\n",
    "])"
   ]
  },
  {
   "cell_type": "code",
   "execution_count": 16,
   "id": "f342b445ddaf788b",
   "metadata": {
    "ExecuteTime": {
     "end_time": "2024-11-05T00:25:42.724028Z",
     "start_time": "2024-11-05T00:25:42.709238Z"
    },
    "execution": {
     "iopub.execute_input": "2024-11-05T00:41:21.919013Z",
     "iopub.status.busy": "2024-11-05T00:41:21.919013Z",
     "iopub.status.idle": "2024-11-05T00:41:21.926882Z",
     "shell.execute_reply": "2024-11-05T00:41:21.926882Z"
    },
    "papermill": {
     "duration": 0.011851,
     "end_time": "2024-11-05T00:41:21.927864",
     "exception": false,
     "start_time": "2024-11-05T00:41:21.916013",
     "status": "completed"
    },
    "tags": []
   },
   "outputs": [],
   "source": [
    "from sklearn.neighbors import KNeighborsClassifier\n",
    "from sklearn.ensemble import RandomForestClassifier, HistGradientBoostingClassifier\n",
    "from imblearn.over_sampling import RandomOverSampler\n",
    "\n",
    "param_grid = [\n",
    "    {\n",
    "        'preprocessor__cat': ['passthrough'],\n",
    "        # 'sampling': ['passthrough'],\n",
    "        'classifier__categorical_features': [list(map(lambda attr: 'cat__' + attr, cat_attrs))],\n",
    "\n",
    "        'classifier': [HistGradientBoostingClassifier(random_state=42)],\n",
    "        'classifier__learning_rate': [0.1],  # 0.1\n",
    "        'classifier__max_iter': [200],  # 100\n",
    "        'classifier__early_stopping': [False],  # True\n",
    "        'classifier__class_weight': [None, \"balanced\"],\n",
    "    },\n",
    "    # {\n",
    "    #     'classifier': [RandomForestClassifier(random_state=42)],\n",
    "    #     'classifier__n_estimators': [100],\n",
    "    #     'classifier__max_depth': [None],\n",
    "    # },\n",
    "]"
   ]
  },
  {
   "cell_type": "code",
   "execution_count": 17,
   "id": "6ea08895e9330bd4",
   "metadata": {
    "ExecuteTime": {
     "start_time": "2024-11-05T00:25:42.804138Z"
    },
    "execution": {
     "iopub.execute_input": "2024-11-05T00:41:21.934864Z",
     "iopub.status.busy": "2024-11-05T00:41:21.934864Z",
     "iopub.status.idle": "2024-11-05T00:41:52.297635Z",
     "shell.execute_reply": "2024-11-05T00:41:52.297635Z"
    },
    "papermill": {
     "duration": 30.305458,
     "end_time": "2024-11-05T00:41:52.236340",
     "exception": false,
     "start_time": "2024-11-05T00:41:21.930882",
     "status": "completed"
    },
    "tags": []
   },
   "outputs": [
    {
     "name": "stdout",
     "output_type": "stream",
     "text": [
      "Fitting 5 folds for each of 2 candidates, totalling 10 fits\n"
     ]
    },
    {
     "name": "stderr",
     "output_type": "stream",
     "text": [
      "\n",
      "KeyboardInterrupt\n",
      "\n"
     ]
    }
   ],
   "source": [
    "from sklearn.model_selection import GridSearchCV\n",
    "\n",
    "grid_search = GridSearchCV(\n",
    "    pipeline, param_grid,\n",
    "    cv=5,\n",
    "    scoring=['f1', 'precision', 'recall'],\n",
    "    refit='f1',\n",
    "    return_train_score=True,\n",
    "    n_jobs=n_jobs,\n",
    "    verbose=verbose\n",
    ")\n",
    "grid_search.fit(X_train, y_train);"
   ]
  },
  {
   "cell_type": "code",
   "execution_count": null,
   "id": "6df9de92f1c370b8",
   "metadata": {
    "execution": {
     "iopub.execute_input": "2024-11-05T00:40:28.431965Z",
     "iopub.status.busy": "2024-11-05T00:40:28.431965Z",
     "iopub.status.idle": "2024-11-05T00:40:28.447057Z",
     "shell.execute_reply": "2024-11-05T00:40:28.447057Z"
    },
    "papermill": {
     "duration": null,
     "end_time": null,
     "exception": null,
     "start_time": null,
     "status": "completed"
    },
    "tags": []
   },
   "outputs": [],
   "source": [
    "grid_search.best_params_"
   ]
  },
  {
   "cell_type": "code",
   "execution_count": null,
   "id": "f2b0d1610f911a82",
   "metadata": {
    "execution": {
     "iopub.execute_input": "2024-11-05T00:40:28.458061Z",
     "iopub.status.busy": "2024-11-05T00:40:28.458061Z",
     "iopub.status.idle": "2024-11-05T00:40:28.477229Z",
     "shell.execute_reply": "2024-11-05T00:40:28.477229Z"
    },
    "papermill": {
     "duration": null,
     "end_time": null,
     "exception": null,
     "start_time": null,
     "status": "completed"
    },
    "tags": []
   },
   "outputs": [],
   "source": [
    "grid_search.best_estimator_"
   ]
  },
  {
   "cell_type": "code",
   "execution_count": null,
   "id": "3bac9ca63acaa1f9",
   "metadata": {
    "execution": {
     "iopub.execute_input": "2024-11-05T00:40:28.487622Z",
     "iopub.status.busy": "2024-11-05T00:40:28.486618Z",
     "iopub.status.idle": "2024-11-05T00:40:28.492850Z",
     "shell.execute_reply": "2024-11-05T00:40:28.492850Z"
    },
    "papermill": {
     "duration": null,
     "end_time": null,
     "exception": null,
     "start_time": null,
     "status": "completed"
    },
    "tags": []
   },
   "outputs": [],
   "source": [
    "grid_search.best_score_"
   ]
  },
  {
   "cell_type": "code",
   "execution_count": null,
   "id": "ee1faab262b6aeeb",
   "metadata": {
    "execution": {
     "iopub.execute_input": "2024-11-05T00:40:28.500851Z",
     "iopub.status.busy": "2024-11-05T00:40:28.500851Z",
     "iopub.status.idle": "2024-11-05T00:40:28.523107Z",
     "shell.execute_reply": "2024-11-05T00:40:28.523107Z"
    },
    "papermill": {
     "duration": null,
     "end_time": null,
     "exception": null,
     "start_time": null,
     "status": "completed"
    },
    "tags": []
   },
   "outputs": [],
   "source": [
    "cv_results = pd.DataFrame(grid_search.cv_results_)\n",
    "cv_results = cv_results.sort_values('rank_test_f1')\n",
    "cv_results"
   ]
  },
  {
   "cell_type": "code",
   "execution_count": null,
   "id": "472bc1c2945e2ede",
   "metadata": {
    "execution": {
     "iopub.execute_input": "2024-11-05T00:40:28.532527Z",
     "iopub.status.busy": "2024-11-05T00:40:28.532527Z",
     "iopub.status.idle": "2024-11-05T00:40:29.381582Z",
     "shell.execute_reply": "2024-11-05T00:40:29.381582Z"
    },
    "papermill": {
     "duration": null,
     "end_time": null,
     "exception": null,
     "start_time": null,
     "status": "completed"
    },
    "tags": []
   },
   "outputs": [],
   "source": [
    "from sklearn.metrics import f1_score, precision_score, recall_score\n",
    "\n",
    "y_pred = grid_search.best_estimator_.predict(X_test)\n",
    "f1 = f1_score(y_test, y_pred)\n",
    "p = precision_score(y_test, y_pred)\n",
    "r = recall_score(y_test, y_pred)\n",
    "\n",
    "print(\"F1:\", f1)\n",
    "print(\"Precision:\", p)\n",
    "print(\"Recall:\", r)"
   ]
  },
  {
   "cell_type": "code",
   "execution_count": null,
   "id": "1420d5a2ba01a421",
   "metadata": {
    "execution": {
     "iopub.execute_input": "2024-11-05T00:40:29.391086Z",
     "iopub.status.busy": "2024-11-05T00:40:29.391086Z",
     "iopub.status.idle": "2024-11-05T00:40:29.474880Z",
     "shell.execute_reply": "2024-11-05T00:40:29.474880Z"
    },
    "papermill": {
     "duration": null,
     "end_time": null,
     "exception": null,
     "start_time": null,
     "status": "completed"
    },
    "tags": []
   },
   "outputs": [],
   "source": [
    "from joblib import dump\n",
    "\n",
    "if not os.path.exists('out'):\n",
    "    os.makedirs('out')\n",
    "dump(grid_search, os.path.join('out', 'GridSearchCV_dump.pkl'), compress=True)"
   ]
  }
 ],
 "metadata": {
  "kernelspec": {
   "display_name": "Python 3 (ipykernel)",
   "language": "python",
   "name": "python3"
  },
  "language_info": {
   "codemirror_mode": {
    "name": "ipython",
    "version": 3
   },
   "file_extension": ".py",
   "mimetype": "text/x-python",
   "name": "python",
   "nbconvert_exporter": "python",
   "pygments_lexer": "ipython3",
   "version": "3.9.13"
  },
  "papermill": {
   "default_parameters": {},
   "duration": 34.650468,
   "end_time": "2024-11-05T00:41:52.782525",
   "environment_variables": {},
   "exception": null,
   "input_path": "classification_z.ipynb",
   "output_path": "classification_z.ipynb",
   "parameters": {
    "n_jobs": 4
   },
   "start_time": "2024-11-05T00:41:18.132057",
   "version": "2.6.0"
  }
 },
 "nbformat": 4,
 "nbformat_minor": 5
}