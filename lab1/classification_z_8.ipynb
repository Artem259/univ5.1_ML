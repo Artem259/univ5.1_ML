{
 "cells": [
  {
   "cell_type": "code",
   "execution_count": 1,
   "id": "initial_id",
   "metadata": {
    "execution": {
     "iopub.execute_input": "2024-11-06T20:50:18.256814Z",
     "iopub.status.busy": "2024-11-06T20:50:18.256814Z",
     "iopub.status.idle": "2024-11-06T20:50:18.703336Z",
     "shell.execute_reply": "2024-11-06T20:50:18.703336Z"
    },
    "papermill": {
     "duration": 0.453532,
     "end_time": "2024-11-06T20:50:18.704425",
     "exception": false,
     "start_time": "2024-11-06T20:50:18.250893",
     "status": "completed"
    },
    "tags": []
   },
   "outputs": [],
   "source": [
    "import os\n",
    "import pandas as pd"
   ]
  },
  {
   "cell_type": "code",
   "execution_count": 2,
   "id": "ab92d0123055b0f4",
   "metadata": {
    "execution": {
     "iopub.execute_input": "2024-11-06T20:50:18.710959Z",
     "iopub.status.busy": "2024-11-06T20:50:18.709958Z",
     "iopub.status.idle": "2024-11-06T20:50:18.718982Z",
     "shell.execute_reply": "2024-11-06T20:50:18.718982Z"
    },
    "papermill": {
     "duration": 0.012052,
     "end_time": "2024-11-06T20:50:18.719985",
     "exception": false,
     "start_time": "2024-11-06T20:50:18.707933",
     "status": "completed"
    },
    "tags": [
     "parameters"
    ]
   },
   "outputs": [],
   "source": [
    "cat_attrs: str = \"f12 f11\"\n",
    "balance_data: bool = False\n",
    "clear_data: bool = True\n",
    "n_jobs: int = 1\n",
    "verbose: int = 10"
   ]
  },
  {
   "cell_type": "code",
   "execution_count": 3,
   "id": "f3745262",
   "metadata": {
    "execution": {
     "iopub.execute_input": "2024-11-06T20:50:18.725395Z",
     "iopub.status.busy": "2024-11-06T20:50:18.725395Z",
     "iopub.status.idle": "2024-11-06T20:50:18.734466Z",
     "shell.execute_reply": "2024-11-06T20:50:18.734466Z"
    },
    "papermill": {
     "duration": 0.014017,
     "end_time": "2024-11-06T20:50:18.736001",
     "exception": false,
     "start_time": "2024-11-06T20:50:18.721984",
     "status": "completed"
    },
    "tags": [
     "injected-parameters"
    ]
   },
   "outputs": [],
   "source": [
    "# Parameters\n",
    "n_jobs = 8\n"
   ]
  },
  {
   "cell_type": "code",
   "execution_count": 4,
   "id": "b8d59c2d5723d798",
   "metadata": {
    "execution": {
     "iopub.execute_input": "2024-11-06T20:50:18.741521Z",
     "iopub.status.busy": "2024-11-06T20:50:18.741521Z",
     "iopub.status.idle": "2024-11-06T20:50:18.750027Z",
     "shell.execute_reply": "2024-11-06T20:50:18.750027Z"
    },
    "papermill": {
     "duration": 0.012516,
     "end_time": "2024-11-06T20:50:18.751029",
     "exception": false,
     "start_time": "2024-11-06T20:50:18.738513",
     "status": "completed"
    },
    "tags": []
   },
   "outputs": [
    {
     "data": {
      "text/plain": [
       "['f12', 'f11']"
      ]
     },
     "execution_count": 4,
     "metadata": {},
     "output_type": "execute_result"
    }
   ],
   "source": [
    "cat_attrs: list[str] = cat_attrs.split()\n",
    "cat_attrs"
   ]
  },
  {
   "cell_type": "code",
   "execution_count": 5,
   "id": "c9c5b653532c8121",
   "metadata": {
    "execution": {
     "iopub.execute_input": "2024-11-06T20:50:18.757727Z",
     "iopub.status.busy": "2024-11-06T20:50:18.756219Z",
     "iopub.status.idle": "2024-11-06T20:50:18.765732Z",
     "shell.execute_reply": "2024-11-06T20:50:18.765732Z"
    },
    "papermill": {
     "duration": 0.012516,
     "end_time": "2024-11-06T20:50:18.766737",
     "exception": false,
     "start_time": "2024-11-06T20:50:18.754221",
     "status": "completed"
    },
    "tags": []
   },
   "outputs": [],
   "source": [
    "pd.set_option('display.float_format', '{:.3f}'.format)"
   ]
  },
  {
   "cell_type": "code",
   "execution_count": 6,
   "id": "d56664ec8b50ea6a",
   "metadata": {
    "execution": {
     "iopub.execute_input": "2024-11-06T20:50:18.774249Z",
     "iopub.status.busy": "2024-11-06T20:50:18.774249Z",
     "iopub.status.idle": "2024-11-06T20:50:19.343022Z",
     "shell.execute_reply": "2024-11-06T20:50:19.343022Z"
    },
    "papermill": {
     "duration": 0.573775,
     "end_time": "2024-11-06T20:50:19.344025",
     "exception": false,
     "start_time": "2024-11-06T20:50:18.770250",
     "status": "completed"
    },
    "tags": []
   },
   "outputs": [],
   "source": [
    "csv_path = os.path.join('data', 'data.csv')\n",
    "data = pd.read_csv(csv_path)"
   ]
  },
  {
   "cell_type": "code",
   "execution_count": 7,
   "id": "fdba6b06da2871bf",
   "metadata": {
    "execution": {
     "iopub.execute_input": "2024-11-06T20:50:19.350533Z",
     "iopub.status.busy": "2024-11-06T20:50:19.350533Z",
     "iopub.status.idle": "2024-11-06T20:50:19.388886Z",
     "shell.execute_reply": "2024-11-06T20:50:19.388886Z"
    },
    "papermill": {
     "duration": 0.04286,
     "end_time": "2024-11-06T20:50:19.389883",
     "exception": false,
     "start_time": "2024-11-06T20:50:19.347023",
     "status": "completed"
    },
    "tags": []
   },
   "outputs": [],
   "source": [
    "X = data.drop(columns=['target', 'p', 'f16'])\n",
    "y = data['target']"
   ]
  },
  {
   "cell_type": "code",
   "execution_count": 8,
   "id": "288f06209ad7651",
   "metadata": {
    "execution": {
     "iopub.execute_input": "2024-11-06T20:50:19.395882Z",
     "iopub.status.busy": "2024-11-06T20:50:19.395882Z",
     "iopub.status.idle": "2024-11-06T20:50:20.107795Z",
     "shell.execute_reply": "2024-11-06T20:50:20.107274Z"
    },
    "papermill": {
     "duration": 0.715938,
     "end_time": "2024-11-06T20:50:20.108819",
     "exception": false,
     "start_time": "2024-11-06T20:50:19.392881",
     "status": "completed"
    },
    "tags": []
   },
   "outputs": [],
   "source": [
    "from sklearn.preprocessing import LabelEncoder\n",
    "\n",
    "label_encoder = LabelEncoder()\n",
    "y = label_encoder.fit_transform(y)\n",
    "y = pd.Series(y, name='target')"
   ]
  },
  {
   "cell_type": "code",
   "execution_count": 9,
   "id": "e32d493683b4f70f",
   "metadata": {
    "execution": {
     "iopub.execute_input": "2024-11-06T20:50:20.114368Z",
     "iopub.status.busy": "2024-11-06T20:50:20.114368Z",
     "iopub.status.idle": "2024-11-06T20:50:20.452059Z",
     "shell.execute_reply": "2024-11-06T20:50:20.452059Z"
    },
    "papermill": {
     "duration": 0.341605,
     "end_time": "2024-11-06T20:50:20.453425",
     "exception": false,
     "start_time": "2024-11-06T20:50:20.111820",
     "status": "completed"
    },
    "tags": []
   },
   "outputs": [
    {
     "name": "stdout",
     "output_type": "stream",
     "text": [
      "Train: X=(838860, 16) y=(838860,)\n",
      "Test: X=(209715, 16) y=(209715,)\n"
     ]
    }
   ],
   "source": [
    "from sklearn.model_selection import train_test_split\n",
    "\n",
    "test_size_ratio = 0.2\n",
    "X_train, X_test, y_train, y_test = train_test_split(\n",
    "    X, y,\n",
    "    test_size=test_size_ratio, \n",
    "    stratify=y, \n",
    "    random_state=42\n",
    ")\n",
    "\n",
    "print(f\"Train: X={X_train.shape} y={y_train.shape}\")\n",
    "print(f\"Test: X={X_test.shape} y={y_test.shape}\")"
   ]
  },
  {
   "cell_type": "code",
   "execution_count": 10,
   "id": "6d5455bafdcbc466",
   "metadata": {
    "execution": {
     "iopub.execute_input": "2024-11-06T20:50:20.460029Z",
     "iopub.status.busy": "2024-11-06T20:50:20.459028Z",
     "iopub.status.idle": "2024-11-06T20:50:20.468044Z",
     "shell.execute_reply": "2024-11-06T20:50:20.468044Z"
    },
    "papermill": {
     "duration": 0.013557,
     "end_time": "2024-11-06T20:50:20.469432",
     "exception": false,
     "start_time": "2024-11-06T20:50:20.455875",
     "status": "completed"
    },
    "tags": []
   },
   "outputs": [
    {
     "name": "stdout",
     "output_type": "stream",
     "text": [
      "balance_data set to False\n"
     ]
    }
   ],
   "source": [
    "from collections import Counter\n",
    "\n",
    "if balance_data:\n",
    "    train = pd.concat([X_train, y_train], axis=1)\n",
    "    train_n = train.shape[0]\n",
    "    \n",
    "    class_counts = Counter(train['target'])\n",
    "    min_class = min(class_counts, key=lambda x: class_counts[x])\n",
    "    \n",
    "    new_train = train.groupby('target').apply(\n",
    "        lambda x: x.sample(class_counts[min_class])\n",
    "    ).reset_index(drop=True)\n",
    "    removed_n = train.shape[0] - new_train.shape[0]\n",
    "    removed_ratio = removed_n / train_n\n",
    "    \n",
    "    print(f\"Majority class: '{min_class}'\")\n",
    "    print(f\"Records removed: {removed_n} ({removed_ratio * 100:.3f} %)\")\n",
    "    X_train = new_train.drop(columns=['target'])\n",
    "    y_train = new_train['target']\n",
    "    print(f\"\\nTrain: X={X_train.shape} y={y_train.shape}\")\n",
    "else:\n",
    "    print(\"balance_data set to False\")"
   ]
  },
  {
   "cell_type": "code",
   "execution_count": 11,
   "id": "ea1d2432dcd6f50a",
   "metadata": {
    "execution": {
     "iopub.execute_input": "2024-11-06T20:50:20.475440Z",
     "iopub.status.busy": "2024-11-06T20:50:20.474440Z",
     "iopub.status.idle": "2024-11-06T20:50:20.482950Z",
     "shell.execute_reply": "2024-11-06T20:50:20.482950Z"
    },
    "papermill": {
     "duration": 0.013072,
     "end_time": "2024-11-06T20:50:20.484511",
     "exception": false,
     "start_time": "2024-11-06T20:50:20.471439",
     "status": "completed"
    },
    "tags": []
   },
   "outputs": [
    {
     "name": "stdout",
     "output_type": "stream",
     "text": [
      "Train positives ratio: 1.69301 %\n",
      "Test positives ratio:  1.69325 %\n"
     ]
    }
   ],
   "source": [
    "y_train_pos_ratio = y_train[y_train == 1].shape[0] / y_train.shape[0]\n",
    "y_test_pos_ratio = y_test[y_test == 1].shape[0] / y_test.shape[0]\n",
    "\n",
    "print(\"Train positives ratio:\", f\"{y_train_pos_ratio * 100:.5f} %\")\n",
    "print(\"Test positives ratio: \", f\"{y_test_pos_ratio * 100:.5f} %\")"
   ]
  },
  {
   "cell_type": "code",
   "execution_count": 12,
   "id": "120b47e1c07d5d5d",
   "metadata": {
    "execution": {
     "iopub.execute_input": "2024-11-06T20:50:20.490535Z",
     "iopub.status.busy": "2024-11-06T20:50:20.490535Z",
     "iopub.status.idle": "2024-11-06T20:50:21.047884Z",
     "shell.execute_reply": "2024-11-06T20:50:21.047370Z"
    },
    "papermill": {
     "duration": 0.561982,
     "end_time": "2024-11-06T20:50:21.049002",
     "exception": false,
     "start_time": "2024-11-06T20:50:20.487020",
     "status": "completed"
    },
    "tags": []
   },
   "outputs": [
    {
     "name": "stdout",
     "output_type": "stream",
     "text": [
      "Duplicates removed: 61923 (7.382 %)\n"
     ]
    },
    {
     "name": "stdout",
     "output_type": "stream",
     "text": [
      "Collisions removed: 56 (0.007 %)\n",
      "Total removed:      61979 (7.388 %)\n",
      "\n",
      "Train: X=(776881, 16) y=(776881,)\n"
     ]
    }
   ],
   "source": [
    "if clear_data:\n",
    "    train = pd.concat([X_train, y_train], axis=1)\n",
    "    train_n = train.shape[0]\n",
    "    \n",
    "    new_train = train.drop_duplicates()\n",
    "    duplicates_n = train.shape[0] - new_train.shape[0]\n",
    "    duplicates_ratio = duplicates_n / train_n\n",
    "    print(f\"Duplicates removed: {duplicates_n} ({duplicates_ratio * 100:.3f} %)\")\n",
    "    train = new_train\n",
    "    \n",
    "    new_train = train.drop_duplicates(subset=train.columns.difference(['target']))\n",
    "    collisions_n = train.shape[0] - new_train.shape[0]\n",
    "    collisions_ratio = collisions_n / train_n\n",
    "    print(f\"Collisions removed: {collisions_n} ({collisions_ratio * 100:.3f} %)\")\n",
    "    train = new_train\n",
    "    \n",
    "    print(f\"Total removed:      {duplicates_n + collisions_n} \"\n",
    "          f\"({(duplicates_ratio + collisions_ratio) * 100:.3f} %)\")\n",
    "    X_train = train.drop(columns=['target'])\n",
    "    y_train = train['target']\n",
    "    print(f\"\\nTrain: X={X_train.shape} y={y_train.shape}\")\n",
    "else:\n",
    "    print(\"clear_data set to False\")"
   ]
  },
  {
   "cell_type": "code",
   "execution_count": 13,
   "id": "c5e26b96b7083101",
   "metadata": {
    "execution": {
     "iopub.execute_input": "2024-11-06T20:50:21.056519Z",
     "iopub.status.busy": "2024-11-06T20:50:21.056519Z",
     "iopub.status.idle": "2024-11-06T20:50:21.141374Z",
     "shell.execute_reply": "2024-11-06T20:50:21.141374Z"
    },
    "papermill": {
     "duration": 0.088552,
     "end_time": "2024-11-06T20:50:21.142070",
     "exception": false,
     "start_time": "2024-11-06T20:50:21.053518",
     "status": "completed"
    },
    "tags": []
   },
   "outputs": [
    {
     "data": {
      "text/plain": [
       "[array([0, 1], dtype=int64), array([0, 1], dtype=int64)]"
      ]
     },
     "execution_count": 13,
     "metadata": {},
     "output_type": "execute_result"
    }
   ],
   "source": [
    "from sklearn.compose import ColumnTransformer\n",
    "from sklearn.linear_model import LogisticRegression\n",
    "from sklearn.preprocessing import OneHotEncoder, StandardScaler\n",
    "from sklearn.pipeline import Pipeline\n",
    "\n",
    "cat_encoder = OneHotEncoder().fit(X[cat_attrs])\n",
    "cat_encoder.categories_  # TODO"
   ]
  },
  {
   "cell_type": "code",
   "execution_count": 14,
   "id": "515460711168c32f",
   "metadata": {
    "execution": {
     "iopub.execute_input": "2024-11-06T20:50:21.148082Z",
     "iopub.status.busy": "2024-11-06T20:50:21.148082Z",
     "iopub.status.idle": "2024-11-06T20:50:21.315036Z",
     "shell.execute_reply": "2024-11-06T20:50:21.315036Z"
    },
    "papermill": {
     "duration": 0.171322,
     "end_time": "2024-11-06T20:50:21.316396",
     "exception": false,
     "start_time": "2024-11-06T20:50:21.145074",
     "status": "completed"
    },
    "tags": []
   },
   "outputs": [],
   "source": [
    "from imblearn.over_sampling import SMOTE, SMOTENC\n",
    "from imblearn.pipeline import Pipeline as ImPipeline\n",
    "\n",
    "preprocessor = ColumnTransformer(\n",
    "    transformers=[\n",
    "        ('cat', 'passthrough', cat_attrs)\n",
    "    ],\n",
    "    remainder=StandardScaler(),\n",
    "    verbose_feature_names_out=True\n",
    ")\n",
    "preprocessor = preprocessor.set_output(transform='pandas')\n",
    "\n",
    "one_hot = ColumnTransformer(\n",
    "    transformers=[\n",
    "        ('cat', OneHotEncoder(), list(map(lambda attr: 'cat__' + attr, cat_attrs)))\n",
    "    ],\n",
    "    remainder='passthrough',\n",
    "    verbose_feature_names_out=True\n",
    ")\n",
    "# one_hot = one_hot.set_output(transform='pandas')\n",
    "\n",
    "pipeline = ImPipeline(steps=[\n",
    "    ('preprocessor', preprocessor),\n",
    "    ('sampling', SMOTENC(categorical_features=list(map(lambda attr: 'cat__' + attr, cat_attrs)), random_state=42)),\n",
    "    ('one_hot', one_hot),\n",
    "    ('classifier', LogisticRegression())\n",
    "])"
   ]
  },
  {
   "cell_type": "code",
   "execution_count": 15,
   "id": "d30eff5ccc2557f5",
   "metadata": {
    "execution": {
     "iopub.execute_input": "2024-11-06T20:50:21.322999Z",
     "iopub.status.busy": "2024-11-06T20:50:21.322999Z",
     "iopub.status.idle": "2024-11-06T20:50:21.331002Z",
     "shell.execute_reply": "2024-11-06T20:50:21.331002Z"
    },
    "papermill": {
     "duration": 0.013103,
     "end_time": "2024-11-06T20:50:21.332008",
     "exception": false,
     "start_time": "2024-11-06T20:50:21.318905",
     "status": "completed"
    },
    "tags": []
   },
   "outputs": [],
   "source": [
    "# z_x, z_y = pipeline.fit_resample(X_train, y_train)\n",
    "# z_x, z_y"
   ]
  },
  {
   "cell_type": "code",
   "execution_count": 16,
   "id": "66691c77924b8a7",
   "metadata": {
    "execution": {
     "iopub.execute_input": "2024-11-06T20:50:21.338009Z",
     "iopub.status.busy": "2024-11-06T20:50:21.338009Z",
     "iopub.status.idle": "2024-11-06T20:50:21.346020Z",
     "shell.execute_reply": "2024-11-06T20:50:21.346020Z"
    },
    "papermill": {
     "duration": 0.012365,
     "end_time": "2024-11-06T20:50:21.347374",
     "exception": false,
     "start_time": "2024-11-06T20:50:21.335009",
     "status": "completed"
    },
    "tags": []
   },
   "outputs": [],
   "source": [
    "# (z_y == 0).sum(), (z_y == 1).sum()"
   ]
  },
  {
   "cell_type": "code",
   "execution_count": 17,
   "id": "eb7e6f10dbbd5b71",
   "metadata": {
    "execution": {
     "iopub.execute_input": "2024-11-06T20:50:21.353542Z",
     "iopub.status.busy": "2024-11-06T20:50:21.353542Z",
     "iopub.status.idle": "2024-11-06T20:50:21.408212Z",
     "shell.execute_reply": "2024-11-06T20:50:21.408212Z"
    },
    "papermill": {
     "duration": 0.059734,
     "end_time": "2024-11-06T20:50:21.409620",
     "exception": false,
     "start_time": "2024-11-06T20:50:21.349886",
     "status": "completed"
    },
    "tags": []
   },
   "outputs": [
    {
     "data": {
      "text/plain": [
       "{0: 0.5087769277216532, 1: 28.98377107894344}"
      ]
     },
     "execution_count": 17,
     "metadata": {},
     "output_type": "execute_result"
    }
   ],
   "source": [
    "from sklearn.utils import class_weight\n",
    "\n",
    "class_weights = class_weight.compute_class_weight(class_weight='balanced', classes=y_train.unique(), y=y_train)\n",
    "class_weights = dict(enumerate(class_weights))\n",
    "class_weights"
   ]
  },
  {
   "cell_type": "code",
   "execution_count": 18,
   "id": "f342b445ddaf788b",
   "metadata": {
    "execution": {
     "iopub.execute_input": "2024-11-06T20:50:21.415882Z",
     "iopub.status.busy": "2024-11-06T20:50:21.415882Z",
     "iopub.status.idle": "2024-11-06T20:50:21.470149Z",
     "shell.execute_reply": "2024-11-06T20:50:21.470149Z"
    },
    "papermill": {
     "duration": 0.058531,
     "end_time": "2024-11-06T20:50:21.471156",
     "exception": false,
     "start_time": "2024-11-06T20:50:21.412625",
     "status": "completed"
    },
    "tags": []
   },
   "outputs": [],
   "source": [
    "from xgboost import XGBClassifier\n",
    "from sklearn.neighbors import KNeighborsClassifier\n",
    "from sklearn.ensemble import RandomForestClassifier, HistGradientBoostingClassifier\n",
    "from imblearn.over_sampling import RandomOverSampler\n",
    "\n",
    "param_grid = [\n",
    "    {\n",
    "        'sampling': [\n",
    "            SMOTENC(categorical_features=list(map(lambda attr: 'cat__' + attr, cat_attrs)), random_state=42),\n",
    "            # SMOTE(random_state=42),\n",
    "            'passthrough'\n",
    "        ],\n",
    "\n",
    "        'classifier': [RandomForestClassifier()],\n",
    "        'classifier__n_estimators': [100, 150],  # 100\n",
    "        'classifier__max_depth': [15, 20],  # None\n",
    "        'classifier__min_samples_split': [2],  # 2\n",
    "        # 'classifier__min_samples_leaf': [1, 2],  # 1\n",
    "        # 'classifier__max_features': ['sqrt', None],  # 'sqrt'\n",
    "        # 'classifier__max_leaf_nodes': [None, 20],  # None\n",
    "        # 'classifier__bootstrap': [True, False],  # True\n",
    "        'classifier__criterion': ['gini'],  # 'gini'\n",
    "        'classifier__class_weight': [None],  # None\n",
    "    },\n",
    "    # {\n",
    "    #     'sampling': [\n",
    "    #         SMOTENC(categorical_features=list(map(lambda attr: 'cat__' + attr, cat_attrs)), random_state=42),\n",
    "    #         # SMOTE(random_state=42),\n",
    "    #         'passthrough'\n",
    "    #     ],\n",
    "    # \n",
    "    #     'classifier': [RandomForestClassifier()],\n",
    "    #     'classifier__n_estimators': [100, 200],  # 100\n",
    "    #     'classifier__max_depth': [None, 20],  # None\n",
    "    #     'classifier__min_samples_split': [2, 4],  # 2\n",
    "    #     'classifier__min_samples_leaf': [1, 2],  # 1\n",
    "    #     'classifier__max_features': ['sqrt', None, 'log2'],  # 'sqrt'\n",
    "    #     'classifier__max_leaf_nodes': [None, 10, 50],  # None\n",
    "    #     'classifier__bootstrap': [True, False],  # True\n",
    "    #     'classifier__criterion': ['gini', 'log_loss'],  # 'gini'\n",
    "    #     'classifier__class_weight': [None, class_weights],  # None\n",
    "    # },\n",
    "]"
   ]
  },
  {
   "cell_type": "code",
   "execution_count": 19,
   "id": "6ea08895e9330bd4",
   "metadata": {
    "execution": {
     "iopub.execute_input": "2024-11-06T20:50:21.478161Z",
     "iopub.status.busy": "2024-11-06T20:50:21.477160Z",
     "iopub.status.idle": "2024-11-06T21:18:17.364739Z",
     "shell.execute_reply": "2024-11-06T21:18:17.348224Z"
    },
    "papermill": {
     "duration": 1675.906817,
     "end_time": "2024-11-06T21:18:17.380978",
     "exception": false,
     "start_time": "2024-11-06T20:50:21.474161",
     "status": "completed"
    },
    "tags": []
   },
   "outputs": [
    {
     "name": "stdout",
     "output_type": "stream",
     "text": [
      "Fitting 5 folds for each of 8 candidates, totalling 40 fits\n"
     ]
    }
   ],
   "source": [
    "from sklearn.model_selection import GridSearchCV, StratifiedShuffleSplit\n",
    "\n",
    "grid_search = GridSearchCV(\n",
    "    pipeline, param_grid,\n",
    "    cv=StratifiedShuffleSplit(n_splits=5, test_size=0.2, random_state=42),\n",
    "    scoring=['f1', 'precision', 'recall'],\n",
    "    refit='f1',\n",
    "    return_train_score=True,\n",
    "    n_jobs=n_jobs,\n",
    "    verbose=verbose\n",
    ")\n",
    "\n",
    "grid_search.fit(X_train, y_train);"
   ]
  },
  {
   "cell_type": "code",
   "execution_count": 20,
   "id": "6df9de92f1c370b8",
   "metadata": {
    "execution": {
     "iopub.execute_input": "2024-11-06T21:18:17.405047Z",
     "iopub.status.busy": "2024-11-06T21:18:17.404541Z",
     "iopub.status.idle": "2024-11-06T21:18:17.427091Z",
     "shell.execute_reply": "2024-11-06T21:18:17.426088Z"
    },
    "papermill": {
     "duration": 0.031071,
     "end_time": "2024-11-06T21:18:17.428093",
     "exception": false,
     "start_time": "2024-11-06T21:18:17.397022",
     "status": "completed"
    },
    "tags": []
   },
   "outputs": [
    {
     "data": {
      "text/plain": [
       "{'classifier': RandomForestClassifier(),\n",
       " 'classifier__class_weight': None,\n",
       " 'classifier__criterion': 'gini',\n",
       " 'classifier__max_depth': 20,\n",
       " 'classifier__min_samples_split': 2,\n",
       " 'classifier__n_estimators': 150,\n",
       " 'sampling': 'passthrough'}"
      ]
     },
     "execution_count": 20,
     "metadata": {},
     "output_type": "execute_result"
    }
   ],
   "source": [
    "grid_search.best_params_"
   ]
  },
  {
   "cell_type": "code",
   "execution_count": 21,
   "id": "f2b0d1610f911a82",
   "metadata": {
    "execution": {
     "iopub.execute_input": "2024-11-06T21:18:17.435605Z",
     "iopub.status.busy": "2024-11-06T21:18:17.435605Z",
     "iopub.status.idle": "2024-11-06T21:18:17.457153Z",
     "shell.execute_reply": "2024-11-06T21:18:17.457153Z"
    },
    "papermill": {
     "duration": 0.027552,
     "end_time": "2024-11-06T21:18:17.459155",
     "exception": false,
     "start_time": "2024-11-06T21:18:17.431603",
     "status": "completed"
    },
    "tags": []
   },
   "outputs": [
    {
     "data": {
      "text/html": [
       "<style>#sk-container-id-1 {\n",
       "  /* Definition of color scheme common for light and dark mode */\n",
       "  --sklearn-color-text: black;\n",
       "  --sklearn-color-line: gray;\n",
       "  /* Definition of color scheme for unfitted estimators */\n",
       "  --sklearn-color-unfitted-level-0: #fff5e6;\n",
       "  --sklearn-color-unfitted-level-1: #f6e4d2;\n",
       "  --sklearn-color-unfitted-level-2: #ffe0b3;\n",
       "  --sklearn-color-unfitted-level-3: chocolate;\n",
       "  /* Definition of color scheme for fitted estimators */\n",
       "  --sklearn-color-fitted-level-0: #f0f8ff;\n",
       "  --sklearn-color-fitted-level-1: #d4ebff;\n",
       "  --sklearn-color-fitted-level-2: #b3dbfd;\n",
       "  --sklearn-color-fitted-level-3: cornflowerblue;\n",
       "\n",
       "  /* Specific color for light theme */\n",
       "  --sklearn-color-text-on-default-background: var(--sg-text-color, var(--theme-code-foreground, var(--jp-content-font-color1, black)));\n",
       "  --sklearn-color-background: var(--sg-background-color, var(--theme-background, var(--jp-layout-color0, white)));\n",
       "  --sklearn-color-border-box: var(--sg-text-color, var(--theme-code-foreground, var(--jp-content-font-color1, black)));\n",
       "  --sklearn-color-icon: #696969;\n",
       "\n",
       "  @media (prefers-color-scheme: dark) {\n",
       "    /* Redefinition of color scheme for dark theme */\n",
       "    --sklearn-color-text-on-default-background: var(--sg-text-color, var(--theme-code-foreground, var(--jp-content-font-color1, white)));\n",
       "    --sklearn-color-background: var(--sg-background-color, var(--theme-background, var(--jp-layout-color0, #111)));\n",
       "    --sklearn-color-border-box: var(--sg-text-color, var(--theme-code-foreground, var(--jp-content-font-color1, white)));\n",
       "    --sklearn-color-icon: #878787;\n",
       "  }\n",
       "}\n",
       "\n",
       "#sk-container-id-1 {\n",
       "  color: var(--sklearn-color-text);\n",
       "}\n",
       "\n",
       "#sk-container-id-1 pre {\n",
       "  padding: 0;\n",
       "}\n",
       "\n",
       "#sk-container-id-1 input.sk-hidden--visually {\n",
       "  border: 0;\n",
       "  clip: rect(1px 1px 1px 1px);\n",
       "  clip: rect(1px, 1px, 1px, 1px);\n",
       "  height: 1px;\n",
       "  margin: -1px;\n",
       "  overflow: hidden;\n",
       "  padding: 0;\n",
       "  position: absolute;\n",
       "  width: 1px;\n",
       "}\n",
       "\n",
       "#sk-container-id-1 div.sk-dashed-wrapped {\n",
       "  border: 1px dashed var(--sklearn-color-line);\n",
       "  margin: 0 0.4em 0.5em 0.4em;\n",
       "  box-sizing: border-box;\n",
       "  padding-bottom: 0.4em;\n",
       "  background-color: var(--sklearn-color-background);\n",
       "}\n",
       "\n",
       "#sk-container-id-1 div.sk-container {\n",
       "  /* jupyter's `normalize.less` sets `[hidden] { display: none; }`\n",
       "     but bootstrap.min.css set `[hidden] { display: none !important; }`\n",
       "     so we also need the `!important` here to be able to override the\n",
       "     default hidden behavior on the sphinx rendered scikit-learn.org.\n",
       "     See: https://github.com/scikit-learn/scikit-learn/issues/21755 */\n",
       "  display: inline-block !important;\n",
       "  position: relative;\n",
       "}\n",
       "\n",
       "#sk-container-id-1 div.sk-text-repr-fallback {\n",
       "  display: none;\n",
       "}\n",
       "\n",
       "div.sk-parallel-item,\n",
       "div.sk-serial,\n",
       "div.sk-item {\n",
       "  /* draw centered vertical line to link estimators */\n",
       "  background-image: linear-gradient(var(--sklearn-color-text-on-default-background), var(--sklearn-color-text-on-default-background));\n",
       "  background-size: 2px 100%;\n",
       "  background-repeat: no-repeat;\n",
       "  background-position: center center;\n",
       "}\n",
       "\n",
       "/* Parallel-specific style estimator block */\n",
       "\n",
       "#sk-container-id-1 div.sk-parallel-item::after {\n",
       "  content: \"\";\n",
       "  width: 100%;\n",
       "  border-bottom: 2px solid var(--sklearn-color-text-on-default-background);\n",
       "  flex-grow: 1;\n",
       "}\n",
       "\n",
       "#sk-container-id-1 div.sk-parallel {\n",
       "  display: flex;\n",
       "  align-items: stretch;\n",
       "  justify-content: center;\n",
       "  background-color: var(--sklearn-color-background);\n",
       "  position: relative;\n",
       "}\n",
       "\n",
       "#sk-container-id-1 div.sk-parallel-item {\n",
       "  display: flex;\n",
       "  flex-direction: column;\n",
       "}\n",
       "\n",
       "#sk-container-id-1 div.sk-parallel-item:first-child::after {\n",
       "  align-self: flex-end;\n",
       "  width: 50%;\n",
       "}\n",
       "\n",
       "#sk-container-id-1 div.sk-parallel-item:last-child::after {\n",
       "  align-self: flex-start;\n",
       "  width: 50%;\n",
       "}\n",
       "\n",
       "#sk-container-id-1 div.sk-parallel-item:only-child::after {\n",
       "  width: 0;\n",
       "}\n",
       "\n",
       "/* Serial-specific style estimator block */\n",
       "\n",
       "#sk-container-id-1 div.sk-serial {\n",
       "  display: flex;\n",
       "  flex-direction: column;\n",
       "  align-items: center;\n",
       "  background-color: var(--sklearn-color-background);\n",
       "  padding-right: 1em;\n",
       "  padding-left: 1em;\n",
       "}\n",
       "\n",
       "\n",
       "/* Toggleable style: style used for estimator/Pipeline/ColumnTransformer box that is\n",
       "clickable and can be expanded/collapsed.\n",
       "- Pipeline and ColumnTransformer use this feature and define the default style\n",
       "- Estimators will overwrite some part of the style using the `sk-estimator` class\n",
       "*/\n",
       "\n",
       "/* Pipeline and ColumnTransformer style (default) */\n",
       "\n",
       "#sk-container-id-1 div.sk-toggleable {\n",
       "  /* Default theme specific background. It is overwritten whether we have a\n",
       "  specific estimator or a Pipeline/ColumnTransformer */\n",
       "  background-color: var(--sklearn-color-background);\n",
       "}\n",
       "\n",
       "/* Toggleable label */\n",
       "#sk-container-id-1 label.sk-toggleable__label {\n",
       "  cursor: pointer;\n",
       "  display: block;\n",
       "  width: 100%;\n",
       "  margin-bottom: 0;\n",
       "  padding: 0.5em;\n",
       "  box-sizing: border-box;\n",
       "  text-align: center;\n",
       "}\n",
       "\n",
       "#sk-container-id-1 label.sk-toggleable__label-arrow:before {\n",
       "  /* Arrow on the left of the label */\n",
       "  content: \"▸\";\n",
       "  float: left;\n",
       "  margin-right: 0.25em;\n",
       "  color: var(--sklearn-color-icon);\n",
       "}\n",
       "\n",
       "#sk-container-id-1 label.sk-toggleable__label-arrow:hover:before {\n",
       "  color: var(--sklearn-color-text);\n",
       "}\n",
       "\n",
       "/* Toggleable content - dropdown */\n",
       "\n",
       "#sk-container-id-1 div.sk-toggleable__content {\n",
       "  max-height: 0;\n",
       "  max-width: 0;\n",
       "  overflow: hidden;\n",
       "  text-align: left;\n",
       "  /* unfitted */\n",
       "  background-color: var(--sklearn-color-unfitted-level-0);\n",
       "}\n",
       "\n",
       "#sk-container-id-1 div.sk-toggleable__content.fitted {\n",
       "  /* fitted */\n",
       "  background-color: var(--sklearn-color-fitted-level-0);\n",
       "}\n",
       "\n",
       "#sk-container-id-1 div.sk-toggleable__content pre {\n",
       "  margin: 0.2em;\n",
       "  border-radius: 0.25em;\n",
       "  color: var(--sklearn-color-text);\n",
       "  /* unfitted */\n",
       "  background-color: var(--sklearn-color-unfitted-level-0);\n",
       "}\n",
       "\n",
       "#sk-container-id-1 div.sk-toggleable__content.fitted pre {\n",
       "  /* unfitted */\n",
       "  background-color: var(--sklearn-color-fitted-level-0);\n",
       "}\n",
       "\n",
       "#sk-container-id-1 input.sk-toggleable__control:checked~div.sk-toggleable__content {\n",
       "  /* Expand drop-down */\n",
       "  max-height: 200px;\n",
       "  max-width: 100%;\n",
       "  overflow: auto;\n",
       "}\n",
       "\n",
       "#sk-container-id-1 input.sk-toggleable__control:checked~label.sk-toggleable__label-arrow:before {\n",
       "  content: \"▾\";\n",
       "}\n",
       "\n",
       "/* Pipeline/ColumnTransformer-specific style */\n",
       "\n",
       "#sk-container-id-1 div.sk-label input.sk-toggleable__control:checked~label.sk-toggleable__label {\n",
       "  color: var(--sklearn-color-text);\n",
       "  background-color: var(--sklearn-color-unfitted-level-2);\n",
       "}\n",
       "\n",
       "#sk-container-id-1 div.sk-label.fitted input.sk-toggleable__control:checked~label.sk-toggleable__label {\n",
       "  background-color: var(--sklearn-color-fitted-level-2);\n",
       "}\n",
       "\n",
       "/* Estimator-specific style */\n",
       "\n",
       "/* Colorize estimator box */\n",
       "#sk-container-id-1 div.sk-estimator input.sk-toggleable__control:checked~label.sk-toggleable__label {\n",
       "  /* unfitted */\n",
       "  background-color: var(--sklearn-color-unfitted-level-2);\n",
       "}\n",
       "\n",
       "#sk-container-id-1 div.sk-estimator.fitted input.sk-toggleable__control:checked~label.sk-toggleable__label {\n",
       "  /* fitted */\n",
       "  background-color: var(--sklearn-color-fitted-level-2);\n",
       "}\n",
       "\n",
       "#sk-container-id-1 div.sk-label label.sk-toggleable__label,\n",
       "#sk-container-id-1 div.sk-label label {\n",
       "  /* The background is the default theme color */\n",
       "  color: var(--sklearn-color-text-on-default-background);\n",
       "}\n",
       "\n",
       "/* On hover, darken the color of the background */\n",
       "#sk-container-id-1 div.sk-label:hover label.sk-toggleable__label {\n",
       "  color: var(--sklearn-color-text);\n",
       "  background-color: var(--sklearn-color-unfitted-level-2);\n",
       "}\n",
       "\n",
       "/* Label box, darken color on hover, fitted */\n",
       "#sk-container-id-1 div.sk-label.fitted:hover label.sk-toggleable__label.fitted {\n",
       "  color: var(--sklearn-color-text);\n",
       "  background-color: var(--sklearn-color-fitted-level-2);\n",
       "}\n",
       "\n",
       "/* Estimator label */\n",
       "\n",
       "#sk-container-id-1 div.sk-label label {\n",
       "  font-family: monospace;\n",
       "  font-weight: bold;\n",
       "  display: inline-block;\n",
       "  line-height: 1.2em;\n",
       "}\n",
       "\n",
       "#sk-container-id-1 div.sk-label-container {\n",
       "  text-align: center;\n",
       "}\n",
       "\n",
       "/* Estimator-specific */\n",
       "#sk-container-id-1 div.sk-estimator {\n",
       "  font-family: monospace;\n",
       "  border: 1px dotted var(--sklearn-color-border-box);\n",
       "  border-radius: 0.25em;\n",
       "  box-sizing: border-box;\n",
       "  margin-bottom: 0.5em;\n",
       "  /* unfitted */\n",
       "  background-color: var(--sklearn-color-unfitted-level-0);\n",
       "}\n",
       "\n",
       "#sk-container-id-1 div.sk-estimator.fitted {\n",
       "  /* fitted */\n",
       "  background-color: var(--sklearn-color-fitted-level-0);\n",
       "}\n",
       "\n",
       "/* on hover */\n",
       "#sk-container-id-1 div.sk-estimator:hover {\n",
       "  /* unfitted */\n",
       "  background-color: var(--sklearn-color-unfitted-level-2);\n",
       "}\n",
       "\n",
       "#sk-container-id-1 div.sk-estimator.fitted:hover {\n",
       "  /* fitted */\n",
       "  background-color: var(--sklearn-color-fitted-level-2);\n",
       "}\n",
       "\n",
       "/* Specification for estimator info (e.g. \"i\" and \"?\") */\n",
       "\n",
       "/* Common style for \"i\" and \"?\" */\n",
       "\n",
       ".sk-estimator-doc-link,\n",
       "a:link.sk-estimator-doc-link,\n",
       "a:visited.sk-estimator-doc-link {\n",
       "  float: right;\n",
       "  font-size: smaller;\n",
       "  line-height: 1em;\n",
       "  font-family: monospace;\n",
       "  background-color: var(--sklearn-color-background);\n",
       "  border-radius: 1em;\n",
       "  height: 1em;\n",
       "  width: 1em;\n",
       "  text-decoration: none !important;\n",
       "  margin-left: 1ex;\n",
       "  /* unfitted */\n",
       "  border: var(--sklearn-color-unfitted-level-1) 1pt solid;\n",
       "  color: var(--sklearn-color-unfitted-level-1);\n",
       "}\n",
       "\n",
       ".sk-estimator-doc-link.fitted,\n",
       "a:link.sk-estimator-doc-link.fitted,\n",
       "a:visited.sk-estimator-doc-link.fitted {\n",
       "  /* fitted */\n",
       "  border: var(--sklearn-color-fitted-level-1) 1pt solid;\n",
       "  color: var(--sklearn-color-fitted-level-1);\n",
       "}\n",
       "\n",
       "/* On hover */\n",
       "div.sk-estimator:hover .sk-estimator-doc-link:hover,\n",
       ".sk-estimator-doc-link:hover,\n",
       "div.sk-label-container:hover .sk-estimator-doc-link:hover,\n",
       ".sk-estimator-doc-link:hover {\n",
       "  /* unfitted */\n",
       "  background-color: var(--sklearn-color-unfitted-level-3);\n",
       "  color: var(--sklearn-color-background);\n",
       "  text-decoration: none;\n",
       "}\n",
       "\n",
       "div.sk-estimator.fitted:hover .sk-estimator-doc-link.fitted:hover,\n",
       ".sk-estimator-doc-link.fitted:hover,\n",
       "div.sk-label-container:hover .sk-estimator-doc-link.fitted:hover,\n",
       ".sk-estimator-doc-link.fitted:hover {\n",
       "  /* fitted */\n",
       "  background-color: var(--sklearn-color-fitted-level-3);\n",
       "  color: var(--sklearn-color-background);\n",
       "  text-decoration: none;\n",
       "}\n",
       "\n",
       "/* Span, style for the box shown on hovering the info icon */\n",
       ".sk-estimator-doc-link span {\n",
       "  display: none;\n",
       "  z-index: 9999;\n",
       "  position: relative;\n",
       "  font-weight: normal;\n",
       "  right: .2ex;\n",
       "  padding: .5ex;\n",
       "  margin: .5ex;\n",
       "  width: min-content;\n",
       "  min-width: 20ex;\n",
       "  max-width: 50ex;\n",
       "  color: var(--sklearn-color-text);\n",
       "  box-shadow: 2pt 2pt 4pt #999;\n",
       "  /* unfitted */\n",
       "  background: var(--sklearn-color-unfitted-level-0);\n",
       "  border: .5pt solid var(--sklearn-color-unfitted-level-3);\n",
       "}\n",
       "\n",
       ".sk-estimator-doc-link.fitted span {\n",
       "  /* fitted */\n",
       "  background: var(--sklearn-color-fitted-level-0);\n",
       "  border: var(--sklearn-color-fitted-level-3);\n",
       "}\n",
       "\n",
       ".sk-estimator-doc-link:hover span {\n",
       "  display: block;\n",
       "}\n",
       "\n",
       "/* \"?\"-specific style due to the `<a>` HTML tag */\n",
       "\n",
       "#sk-container-id-1 a.estimator_doc_link {\n",
       "  float: right;\n",
       "  font-size: 1rem;\n",
       "  line-height: 1em;\n",
       "  font-family: monospace;\n",
       "  background-color: var(--sklearn-color-background);\n",
       "  border-radius: 1rem;\n",
       "  height: 1rem;\n",
       "  width: 1rem;\n",
       "  text-decoration: none;\n",
       "  /* unfitted */\n",
       "  color: var(--sklearn-color-unfitted-level-1);\n",
       "  border: var(--sklearn-color-unfitted-level-1) 1pt solid;\n",
       "}\n",
       "\n",
       "#sk-container-id-1 a.estimator_doc_link.fitted {\n",
       "  /* fitted */\n",
       "  border: var(--sklearn-color-fitted-level-1) 1pt solid;\n",
       "  color: var(--sklearn-color-fitted-level-1);\n",
       "}\n",
       "\n",
       "/* On hover */\n",
       "#sk-container-id-1 a.estimator_doc_link:hover {\n",
       "  /* unfitted */\n",
       "  background-color: var(--sklearn-color-unfitted-level-3);\n",
       "  color: var(--sklearn-color-background);\n",
       "  text-decoration: none;\n",
       "}\n",
       "\n",
       "#sk-container-id-1 a.estimator_doc_link.fitted:hover {\n",
       "  /* fitted */\n",
       "  background-color: var(--sklearn-color-fitted-level-3);\n",
       "}\n",
       "</style><div id=\"sk-container-id-1\" class=\"sk-top-container\"><div class=\"sk-text-repr-fallback\"><pre>Pipeline(steps=[(&#x27;preprocessor&#x27;,\n",
       "                 ColumnTransformer(remainder=StandardScaler(),\n",
       "                                   transformers=[(&#x27;cat&#x27;, &#x27;passthrough&#x27;,\n",
       "                                                  [&#x27;f12&#x27;, &#x27;f11&#x27;])])),\n",
       "                (&#x27;sampling&#x27;, &#x27;passthrough&#x27;),\n",
       "                (&#x27;one_hot&#x27;,\n",
       "                 ColumnTransformer(remainder=&#x27;passthrough&#x27;,\n",
       "                                   transformers=[(&#x27;cat&#x27;, OneHotEncoder(),\n",
       "                                                  [&#x27;cat__f12&#x27;, &#x27;cat__f11&#x27;])])),\n",
       "                (&#x27;classifier&#x27;,\n",
       "                 RandomForestClassifier(max_depth=20, n_estimators=150))])</pre><b>In a Jupyter environment, please rerun this cell to show the HTML representation or trust the notebook. <br />On GitHub, the HTML representation is unable to render, please try loading this page with nbviewer.org.</b></div><div class=\"sk-container\" hidden><div class=\"sk-item sk-dashed-wrapped\"><div class=\"sk-label-container\"><div class=\"sk-label fitted sk-toggleable\"><input class=\"sk-toggleable__control sk-hidden--visually\" id=\"sk-estimator-id-1\" type=\"checkbox\" ><label for=\"sk-estimator-id-1\" class=\"sk-toggleable__label fitted sk-toggleable__label-arrow fitted\">&nbsp;Pipeline<span class=\"sk-estimator-doc-link fitted\">i<span>Fitted</span></span></label><div class=\"sk-toggleable__content fitted\"><pre>Pipeline(steps=[(&#x27;preprocessor&#x27;,\n",
       "                 ColumnTransformer(remainder=StandardScaler(),\n",
       "                                   transformers=[(&#x27;cat&#x27;, &#x27;passthrough&#x27;,\n",
       "                                                  [&#x27;f12&#x27;, &#x27;f11&#x27;])])),\n",
       "                (&#x27;sampling&#x27;, &#x27;passthrough&#x27;),\n",
       "                (&#x27;one_hot&#x27;,\n",
       "                 ColumnTransformer(remainder=&#x27;passthrough&#x27;,\n",
       "                                   transformers=[(&#x27;cat&#x27;, OneHotEncoder(),\n",
       "                                                  [&#x27;cat__f12&#x27;, &#x27;cat__f11&#x27;])])),\n",
       "                (&#x27;classifier&#x27;,\n",
       "                 RandomForestClassifier(max_depth=20, n_estimators=150))])</pre></div> </div></div><div class=\"sk-serial\"><div class=\"sk-item sk-dashed-wrapped\"><div class=\"sk-label-container\"><div class=\"sk-label fitted sk-toggleable\"><input class=\"sk-toggleable__control sk-hidden--visually\" id=\"sk-estimator-id-2\" type=\"checkbox\" ><label for=\"sk-estimator-id-2\" class=\"sk-toggleable__label fitted sk-toggleable__label-arrow fitted\">&nbsp;preprocessor: ColumnTransformer<a class=\"sk-estimator-doc-link fitted\" rel=\"noreferrer\" target=\"_blank\" href=\"https://scikit-learn.org/1.4/modules/generated/sklearn.compose.ColumnTransformer.html\">?<span>Documentation for preprocessor: ColumnTransformer</span></a></label><div class=\"sk-toggleable__content fitted\"><pre>ColumnTransformer(remainder=StandardScaler(),\n",
       "                  transformers=[(&#x27;cat&#x27;, &#x27;passthrough&#x27;, [&#x27;f12&#x27;, &#x27;f11&#x27;])])</pre></div> </div></div><div class=\"sk-parallel\"><div class=\"sk-parallel-item\"><div class=\"sk-item\"><div class=\"sk-label-container\"><div class=\"sk-label fitted sk-toggleable\"><input class=\"sk-toggleable__control sk-hidden--visually\" id=\"sk-estimator-id-3\" type=\"checkbox\" ><label for=\"sk-estimator-id-3\" class=\"sk-toggleable__label fitted sk-toggleable__label-arrow fitted\">cat</label><div class=\"sk-toggleable__content fitted\"><pre>[&#x27;f12&#x27;, &#x27;f11&#x27;]</pre></div> </div></div><div class=\"sk-serial\"><div class=\"sk-item\"><div class=\"sk-estimator fitted sk-toggleable\"><input class=\"sk-toggleable__control sk-hidden--visually\" id=\"sk-estimator-id-4\" type=\"checkbox\" ><label for=\"sk-estimator-id-4\" class=\"sk-toggleable__label fitted sk-toggleable__label-arrow fitted\">passthrough</label><div class=\"sk-toggleable__content fitted\"><pre>passthrough</pre></div> </div></div></div></div></div><div class=\"sk-parallel-item\"><div class=\"sk-item\"><div class=\"sk-label-container\"><div class=\"sk-label fitted sk-toggleable\"><input class=\"sk-toggleable__control sk-hidden--visually\" id=\"sk-estimator-id-5\" type=\"checkbox\" ><label for=\"sk-estimator-id-5\" class=\"sk-toggleable__label fitted sk-toggleable__label-arrow fitted\">remainder</label><div class=\"sk-toggleable__content fitted\"><pre>[&#x27;f0&#x27;, &#x27;f1&#x27;, &#x27;f2&#x27;, &#x27;f3&#x27;, &#x27;f4&#x27;, &#x27;f5&#x27;, &#x27;f6&#x27;, &#x27;f7&#x27;, &#x27;f8&#x27;, &#x27;f9&#x27;, &#x27;f10&#x27;, &#x27;f13&#x27;, &#x27;f14&#x27;, &#x27;f15&#x27;]</pre></div> </div></div><div class=\"sk-serial\"><div class=\"sk-item\"><div class=\"sk-estimator fitted sk-toggleable\"><input class=\"sk-toggleable__control sk-hidden--visually\" id=\"sk-estimator-id-6\" type=\"checkbox\" ><label for=\"sk-estimator-id-6\" class=\"sk-toggleable__label fitted sk-toggleable__label-arrow fitted\">&nbsp;StandardScaler<a class=\"sk-estimator-doc-link fitted\" rel=\"noreferrer\" target=\"_blank\" href=\"https://scikit-learn.org/1.4/modules/generated/sklearn.preprocessing.StandardScaler.html\">?<span>Documentation for StandardScaler</span></a></label><div class=\"sk-toggleable__content fitted\"><pre>StandardScaler()</pre></div> </div></div></div></div></div></div></div><div class=\"sk-item\"><div class=\"sk-estimator fitted sk-toggleable\"><input class=\"sk-toggleable__control sk-hidden--visually\" id=\"sk-estimator-id-7\" type=\"checkbox\" ><label for=\"sk-estimator-id-7\" class=\"sk-toggleable__label fitted sk-toggleable__label-arrow fitted\">passthrough</label><div class=\"sk-toggleable__content fitted\"><pre>passthrough</pre></div> </div></div><div class=\"sk-item sk-dashed-wrapped\"><div class=\"sk-label-container\"><div class=\"sk-label fitted sk-toggleable\"><input class=\"sk-toggleable__control sk-hidden--visually\" id=\"sk-estimator-id-8\" type=\"checkbox\" ><label for=\"sk-estimator-id-8\" class=\"sk-toggleable__label fitted sk-toggleable__label-arrow fitted\">&nbsp;one_hot: ColumnTransformer<a class=\"sk-estimator-doc-link fitted\" rel=\"noreferrer\" target=\"_blank\" href=\"https://scikit-learn.org/1.4/modules/generated/sklearn.compose.ColumnTransformer.html\">?<span>Documentation for one_hot: ColumnTransformer</span></a></label><div class=\"sk-toggleable__content fitted\"><pre>ColumnTransformer(remainder=&#x27;passthrough&#x27;,\n",
       "                  transformers=[(&#x27;cat&#x27;, OneHotEncoder(),\n",
       "                                 [&#x27;cat__f12&#x27;, &#x27;cat__f11&#x27;])])</pre></div> </div></div><div class=\"sk-parallel\"><div class=\"sk-parallel-item\"><div class=\"sk-item\"><div class=\"sk-label-container\"><div class=\"sk-label fitted sk-toggleable\"><input class=\"sk-toggleable__control sk-hidden--visually\" id=\"sk-estimator-id-9\" type=\"checkbox\" ><label for=\"sk-estimator-id-9\" class=\"sk-toggleable__label fitted sk-toggleable__label-arrow fitted\">cat</label><div class=\"sk-toggleable__content fitted\"><pre>[&#x27;cat__f12&#x27;, &#x27;cat__f11&#x27;]</pre></div> </div></div><div class=\"sk-serial\"><div class=\"sk-item\"><div class=\"sk-estimator fitted sk-toggleable\"><input class=\"sk-toggleable__control sk-hidden--visually\" id=\"sk-estimator-id-10\" type=\"checkbox\" ><label for=\"sk-estimator-id-10\" class=\"sk-toggleable__label fitted sk-toggleable__label-arrow fitted\">&nbsp;OneHotEncoder<a class=\"sk-estimator-doc-link fitted\" rel=\"noreferrer\" target=\"_blank\" href=\"https://scikit-learn.org/1.4/modules/generated/sklearn.preprocessing.OneHotEncoder.html\">?<span>Documentation for OneHotEncoder</span></a></label><div class=\"sk-toggleable__content fitted\"><pre>OneHotEncoder()</pre></div> </div></div></div></div></div><div class=\"sk-parallel-item\"><div class=\"sk-item\"><div class=\"sk-label-container\"><div class=\"sk-label fitted sk-toggleable\"><input class=\"sk-toggleable__control sk-hidden--visually\" id=\"sk-estimator-id-11\" type=\"checkbox\" ><label for=\"sk-estimator-id-11\" class=\"sk-toggleable__label fitted sk-toggleable__label-arrow fitted\">remainder</label><div class=\"sk-toggleable__content fitted\"><pre>[&#x27;remainder__f0&#x27;, &#x27;remainder__f1&#x27;, &#x27;remainder__f2&#x27;, &#x27;remainder__f3&#x27;, &#x27;remainder__f4&#x27;, &#x27;remainder__f5&#x27;, &#x27;remainder__f6&#x27;, &#x27;remainder__f7&#x27;, &#x27;remainder__f8&#x27;, &#x27;remainder__f9&#x27;, &#x27;remainder__f10&#x27;, &#x27;remainder__f13&#x27;, &#x27;remainder__f14&#x27;, &#x27;remainder__f15&#x27;]</pre></div> </div></div><div class=\"sk-serial\"><div class=\"sk-item\"><div class=\"sk-estimator fitted sk-toggleable\"><input class=\"sk-toggleable__control sk-hidden--visually\" id=\"sk-estimator-id-12\" type=\"checkbox\" ><label for=\"sk-estimator-id-12\" class=\"sk-toggleable__label fitted sk-toggleable__label-arrow fitted\">passthrough</label><div class=\"sk-toggleable__content fitted\"><pre>passthrough</pre></div> </div></div></div></div></div></div></div><div class=\"sk-item\"><div class=\"sk-estimator fitted sk-toggleable\"><input class=\"sk-toggleable__control sk-hidden--visually\" id=\"sk-estimator-id-13\" type=\"checkbox\" ><label for=\"sk-estimator-id-13\" class=\"sk-toggleable__label fitted sk-toggleable__label-arrow fitted\">&nbsp;RandomForestClassifier<a class=\"sk-estimator-doc-link fitted\" rel=\"noreferrer\" target=\"_blank\" href=\"https://scikit-learn.org/1.4/modules/generated/sklearn.ensemble.RandomForestClassifier.html\">?<span>Documentation for RandomForestClassifier</span></a></label><div class=\"sk-toggleable__content fitted\"><pre>RandomForestClassifier(max_depth=20, n_estimators=150)</pre></div> </div></div></div></div></div></div>"
      ],
      "text/plain": [
       "Pipeline(steps=[('preprocessor',\n",
       "                 ColumnTransformer(remainder=StandardScaler(),\n",
       "                                   transformers=[('cat', 'passthrough',\n",
       "                                                  ['f12', 'f11'])])),\n",
       "                ('sampling', 'passthrough'),\n",
       "                ('one_hot',\n",
       "                 ColumnTransformer(remainder='passthrough',\n",
       "                                   transformers=[('cat', OneHotEncoder(),\n",
       "                                                  ['cat__f12', 'cat__f11'])])),\n",
       "                ('classifier',\n",
       "                 RandomForestClassifier(max_depth=20, n_estimators=150))])"
      ]
     },
     "execution_count": 21,
     "metadata": {},
     "output_type": "execute_result"
    }
   ],
   "source": [
    "grid_search.best_estimator_"
   ]
  },
  {
   "cell_type": "code",
   "execution_count": 22,
   "id": "3bac9ca63acaa1f9",
   "metadata": {
    "execution": {
     "iopub.execute_input": "2024-11-06T21:18:17.469181Z",
     "iopub.status.busy": "2024-11-06T21:18:17.467674Z",
     "iopub.status.idle": "2024-11-06T21:18:17.473194Z",
     "shell.execute_reply": "2024-11-06T21:18:17.473194Z"
    },
    "papermill": {
     "duration": 0.010523,
     "end_time": "2024-11-06T21:18:17.475200",
     "exception": false,
     "start_time": "2024-11-06T21:18:17.464677",
     "status": "completed"
    },
    "tags": []
   },
   "outputs": [
    {
     "data": {
      "text/plain": [
       "0.7852452416435567"
      ]
     },
     "execution_count": 22,
     "metadata": {},
     "output_type": "execute_result"
    }
   ],
   "source": [
    "grid_search.best_score_"
   ]
  },
  {
   "cell_type": "code",
   "execution_count": 23,
   "id": "ee1faab262b6aeeb",
   "metadata": {
    "execution": {
     "iopub.execute_input": "2024-11-06T21:18:17.484210Z",
     "iopub.status.busy": "2024-11-06T21:18:17.484210Z",
     "iopub.status.idle": "2024-11-06T21:18:17.520281Z",
     "shell.execute_reply": "2024-11-06T21:18:17.520281Z"
    },
    "papermill": {
     "duration": 0.041582,
     "end_time": "2024-11-06T21:18:17.521282",
     "exception": false,
     "start_time": "2024-11-06T21:18:17.479700",
     "status": "completed"
    },
    "tags": []
   },
   "outputs": [
    {
     "data": {
      "text/html": [
       "<div>\n",
       "<style scoped>\n",
       "    .dataframe tbody tr th:only-of-type {\n",
       "        vertical-align: middle;\n",
       "    }\n",
       "\n",
       "    .dataframe tbody tr th {\n",
       "        vertical-align: top;\n",
       "    }\n",
       "\n",
       "    .dataframe thead th {\n",
       "        text-align: right;\n",
       "    }\n",
       "</style>\n",
       "<table border=\"1\" class=\"dataframe\">\n",
       "  <thead>\n",
       "    <tr style=\"text-align: right;\">\n",
       "      <th></th>\n",
       "      <th>mean_fit_time</th>\n",
       "      <th>std_fit_time</th>\n",
       "      <th>mean_score_time</th>\n",
       "      <th>std_score_time</th>\n",
       "      <th>param_classifier</th>\n",
       "      <th>param_classifier__class_weight</th>\n",
       "      <th>param_classifier__criterion</th>\n",
       "      <th>param_classifier__max_depth</th>\n",
       "      <th>param_classifier__min_samples_split</th>\n",
       "      <th>param_classifier__n_estimators</th>\n",
       "      <th>...</th>\n",
       "      <th>mean_test_recall</th>\n",
       "      <th>std_test_recall</th>\n",
       "      <th>rank_test_recall</th>\n",
       "      <th>split0_train_recall</th>\n",
       "      <th>split1_train_recall</th>\n",
       "      <th>split2_train_recall</th>\n",
       "      <th>split3_train_recall</th>\n",
       "      <th>split4_train_recall</th>\n",
       "      <th>mean_train_recall</th>\n",
       "      <th>std_train_recall</th>\n",
       "    </tr>\n",
       "  </thead>\n",
       "  <tbody>\n",
       "    <tr>\n",
       "      <th>7</th>\n",
       "      <td>133.780</td>\n",
       "      <td>3.985</td>\n",
       "      <td>1.827</td>\n",
       "      <td>0.055</td>\n",
       "      <td>RandomForestClassifier()</td>\n",
       "      <td>None</td>\n",
       "      <td>gini</td>\n",
       "      <td>20</td>\n",
       "      <td>2</td>\n",
       "      <td>150</td>\n",
       "      <td>...</td>\n",
       "      <td>0.746</td>\n",
       "      <td>0.004</td>\n",
       "      <td>5</td>\n",
       "      <td>0.914</td>\n",
       "      <td>0.913</td>\n",
       "      <td>0.913</td>\n",
       "      <td>0.911</td>\n",
       "      <td>0.915</td>\n",
       "      <td>0.913</td>\n",
       "      <td>0.001</td>\n",
       "    </tr>\n",
       "    <tr>\n",
       "      <th>5</th>\n",
       "      <td>88.461</td>\n",
       "      <td>0.971</td>\n",
       "      <td>1.348</td>\n",
       "      <td>0.124</td>\n",
       "      <td>RandomForestClassifier()</td>\n",
       "      <td>None</td>\n",
       "      <td>gini</td>\n",
       "      <td>20</td>\n",
       "      <td>2</td>\n",
       "      <td>100</td>\n",
       "      <td>...</td>\n",
       "      <td>0.743</td>\n",
       "      <td>0.004</td>\n",
       "      <td>6</td>\n",
       "      <td>0.913</td>\n",
       "      <td>0.913</td>\n",
       "      <td>0.913</td>\n",
       "      <td>0.908</td>\n",
       "      <td>0.913</td>\n",
       "      <td>0.912</td>\n",
       "      <td>0.002</td>\n",
       "    </tr>\n",
       "    <tr>\n",
       "      <th>3</th>\n",
       "      <td>126.436</td>\n",
       "      <td>1.735</td>\n",
       "      <td>1.638</td>\n",
       "      <td>0.023</td>\n",
       "      <td>RandomForestClassifier()</td>\n",
       "      <td>None</td>\n",
       "      <td>gini</td>\n",
       "      <td>15</td>\n",
       "      <td>2</td>\n",
       "      <td>150</td>\n",
       "      <td>...</td>\n",
       "      <td>0.742</td>\n",
       "      <td>0.004</td>\n",
       "      <td>7</td>\n",
       "      <td>0.802</td>\n",
       "      <td>0.806</td>\n",
       "      <td>0.806</td>\n",
       "      <td>0.802</td>\n",
       "      <td>0.805</td>\n",
       "      <td>0.804</td>\n",
       "      <td>0.002</td>\n",
       "    </tr>\n",
       "    <tr>\n",
       "      <th>1</th>\n",
       "      <td>93.605</td>\n",
       "      <td>6.315</td>\n",
       "      <td>1.189</td>\n",
       "      <td>0.066</td>\n",
       "      <td>RandomForestClassifier()</td>\n",
       "      <td>None</td>\n",
       "      <td>gini</td>\n",
       "      <td>15</td>\n",
       "      <td>2</td>\n",
       "      <td>100</td>\n",
       "      <td>...</td>\n",
       "      <td>0.739</td>\n",
       "      <td>0.003</td>\n",
       "      <td>8</td>\n",
       "      <td>0.805</td>\n",
       "      <td>0.805</td>\n",
       "      <td>0.805</td>\n",
       "      <td>0.802</td>\n",
       "      <td>0.804</td>\n",
       "      <td>0.804</td>\n",
       "      <td>0.002</td>\n",
       "    </tr>\n",
       "    <tr>\n",
       "      <th>6</th>\n",
       "      <td>542.592</td>\n",
       "      <td>8.249</td>\n",
       "      <td>1.837</td>\n",
       "      <td>0.070</td>\n",
       "      <td>RandomForestClassifier()</td>\n",
       "      <td>None</td>\n",
       "      <td>gini</td>\n",
       "      <td>20</td>\n",
       "      <td>2</td>\n",
       "      <td>150</td>\n",
       "      <td>...</td>\n",
       "      <td>0.840</td>\n",
       "      <td>0.008</td>\n",
       "      <td>3</td>\n",
       "      <td>0.957</td>\n",
       "      <td>0.956</td>\n",
       "      <td>0.958</td>\n",
       "      <td>0.954</td>\n",
       "      <td>0.957</td>\n",
       "      <td>0.956</td>\n",
       "      <td>0.001</td>\n",
       "    </tr>\n",
       "    <tr>\n",
       "      <th>4</th>\n",
       "      <td>392.819</td>\n",
       "      <td>4.104</td>\n",
       "      <td>1.450</td>\n",
       "      <td>0.034</td>\n",
       "      <td>RandomForestClassifier()</td>\n",
       "      <td>None</td>\n",
       "      <td>gini</td>\n",
       "      <td>20</td>\n",
       "      <td>2</td>\n",
       "      <td>100</td>\n",
       "      <td>...</td>\n",
       "      <td>0.839</td>\n",
       "      <td>0.007</td>\n",
       "      <td>4</td>\n",
       "      <td>0.956</td>\n",
       "      <td>0.954</td>\n",
       "      <td>0.955</td>\n",
       "      <td>0.953</td>\n",
       "      <td>0.957</td>\n",
       "      <td>0.955</td>\n",
       "      <td>0.001</td>\n",
       "    </tr>\n",
       "    <tr>\n",
       "      <th>2</th>\n",
       "      <td>507.237</td>\n",
       "      <td>2.862</td>\n",
       "      <td>1.724</td>\n",
       "      <td>0.037</td>\n",
       "      <td>RandomForestClassifier()</td>\n",
       "      <td>None</td>\n",
       "      <td>gini</td>\n",
       "      <td>15</td>\n",
       "      <td>2</td>\n",
       "      <td>150</td>\n",
       "      <td>...</td>\n",
       "      <td>0.881</td>\n",
       "      <td>0.004</td>\n",
       "      <td>1</td>\n",
       "      <td>0.930</td>\n",
       "      <td>0.932</td>\n",
       "      <td>0.932</td>\n",
       "      <td>0.928</td>\n",
       "      <td>0.932</td>\n",
       "      <td>0.931</td>\n",
       "      <td>0.002</td>\n",
       "    </tr>\n",
       "    <tr>\n",
       "      <th>0</th>\n",
       "      <td>373.562</td>\n",
       "      <td>3.076</td>\n",
       "      <td>1.299</td>\n",
       "      <td>0.039</td>\n",
       "      <td>RandomForestClassifier()</td>\n",
       "      <td>None</td>\n",
       "      <td>gini</td>\n",
       "      <td>15</td>\n",
       "      <td>2</td>\n",
       "      <td>100</td>\n",
       "      <td>...</td>\n",
       "      <td>0.880</td>\n",
       "      <td>0.005</td>\n",
       "      <td>2</td>\n",
       "      <td>0.930</td>\n",
       "      <td>0.931</td>\n",
       "      <td>0.931</td>\n",
       "      <td>0.928</td>\n",
       "      <td>0.932</td>\n",
       "      <td>0.930</td>\n",
       "      <td>0.002</td>\n",
       "    </tr>\n",
       "  </tbody>\n",
       "</table>\n",
       "<p>8 rows × 57 columns</p>\n",
       "</div>"
      ],
      "text/plain": [
       "   mean_fit_time  std_fit_time  mean_score_time  std_score_time  \\\n",
       "7        133.780         3.985            1.827           0.055   \n",
       "5         88.461         0.971            1.348           0.124   \n",
       "3        126.436         1.735            1.638           0.023   \n",
       "1         93.605         6.315            1.189           0.066   \n",
       "6        542.592         8.249            1.837           0.070   \n",
       "4        392.819         4.104            1.450           0.034   \n",
       "2        507.237         2.862            1.724           0.037   \n",
       "0        373.562         3.076            1.299           0.039   \n",
       "\n",
       "           param_classifier param_classifier__class_weight  \\\n",
       "7  RandomForestClassifier()                           None   \n",
       "5  RandomForestClassifier()                           None   \n",
       "3  RandomForestClassifier()                           None   \n",
       "1  RandomForestClassifier()                           None   \n",
       "6  RandomForestClassifier()                           None   \n",
       "4  RandomForestClassifier()                           None   \n",
       "2  RandomForestClassifier()                           None   \n",
       "0  RandomForestClassifier()                           None   \n",
       "\n",
       "  param_classifier__criterion param_classifier__max_depth  \\\n",
       "7                        gini                          20   \n",
       "5                        gini                          20   \n",
       "3                        gini                          15   \n",
       "1                        gini                          15   \n",
       "6                        gini                          20   \n",
       "4                        gini                          20   \n",
       "2                        gini                          15   \n",
       "0                        gini                          15   \n",
       "\n",
       "  param_classifier__min_samples_split param_classifier__n_estimators  ...  \\\n",
       "7                                   2                            150  ...   \n",
       "5                                   2                            100  ...   \n",
       "3                                   2                            150  ...   \n",
       "1                                   2                            100  ...   \n",
       "6                                   2                            150  ...   \n",
       "4                                   2                            100  ...   \n",
       "2                                   2                            150  ...   \n",
       "0                                   2                            100  ...   \n",
       "\n",
       "  mean_test_recall std_test_recall  rank_test_recall  split0_train_recall  \\\n",
       "7            0.746           0.004                 5                0.914   \n",
       "5            0.743           0.004                 6                0.913   \n",
       "3            0.742           0.004                 7                0.802   \n",
       "1            0.739           0.003                 8                0.805   \n",
       "6            0.840           0.008                 3                0.957   \n",
       "4            0.839           0.007                 4                0.956   \n",
       "2            0.881           0.004                 1                0.930   \n",
       "0            0.880           0.005                 2                0.930   \n",
       "\n",
       "   split1_train_recall  split2_train_recall  split3_train_recall  \\\n",
       "7                0.913                0.913                0.911   \n",
       "5                0.913                0.913                0.908   \n",
       "3                0.806                0.806                0.802   \n",
       "1                0.805                0.805                0.802   \n",
       "6                0.956                0.958                0.954   \n",
       "4                0.954                0.955                0.953   \n",
       "2                0.932                0.932                0.928   \n",
       "0                0.931                0.931                0.928   \n",
       "\n",
       "   split4_train_recall  mean_train_recall  std_train_recall  \n",
       "7                0.915              0.913             0.001  \n",
       "5                0.913              0.912             0.002  \n",
       "3                0.805              0.804             0.002  \n",
       "1                0.804              0.804             0.002  \n",
       "6                0.957              0.956             0.001  \n",
       "4                0.957              0.955             0.001  \n",
       "2                0.932              0.931             0.002  \n",
       "0                0.932              0.930             0.002  \n",
       "\n",
       "[8 rows x 57 columns]"
      ]
     },
     "execution_count": 23,
     "metadata": {},
     "output_type": "execute_result"
    }
   ],
   "source": [
    "cv_results = pd.DataFrame(grid_search.cv_results_)\n",
    "cv_results = cv_results.sort_values('rank_test_f1')\n",
    "cv_results"
   ]
  },
  {
   "cell_type": "code",
   "execution_count": 24,
   "id": "472bc1c2945e2ede",
   "metadata": {
    "execution": {
     "iopub.execute_input": "2024-11-06T21:18:17.531758Z",
     "iopub.status.busy": "2024-11-06T21:18:17.531758Z",
     "iopub.status.idle": "2024-11-06T21:18:19.763681Z",
     "shell.execute_reply": "2024-11-06T21:18:19.763681Z"
    },
    "papermill": {
     "duration": 2.237486,
     "end_time": "2024-11-06T21:18:19.764686",
     "exception": false,
     "start_time": "2024-11-06T21:18:17.527200",
     "status": "completed"
    },
    "tags": []
   },
   "outputs": [
    {
     "name": "stdout",
     "output_type": "stream",
     "text": [
      "F1: 0.8114558472553699\n",
      "Precision: 0.8626704725658103\n",
      "Recall: 0.7659814136862856\n"
     ]
    }
   ],
   "source": [
    "from sklearn.metrics import f1_score, precision_score, recall_score\n",
    "\n",
    "y_pred = grid_search.best_estimator_.predict(X_test)\n",
    "f1 = f1_score(y_test, y_pred)\n",
    "p = precision_score(y_test, y_pred)\n",
    "r = recall_score(y_test, y_pred)\n",
    "\n",
    "print(\"F1:\", f1)\n",
    "print(\"Precision:\", p)\n",
    "print(\"Recall:\", r)"
   ]
  },
  {
   "cell_type": "code",
   "execution_count": 25,
   "id": "1420d5a2ba01a421",
   "metadata": {
    "execution": {
     "iopub.execute_input": "2024-11-06T21:18:19.786006Z",
     "iopub.status.busy": "2024-11-06T21:18:19.786006Z",
     "iopub.status.idle": "2024-11-06T21:18:20.888094Z",
     "shell.execute_reply": "2024-11-06T21:18:20.887022Z"
    },
    "papermill": {
     "duration": 1.118905,
     "end_time": "2024-11-06T21:18:20.888094",
     "exception": false,
     "start_time": "2024-11-06T21:18:19.769189",
     "status": "completed"
    },
    "tags": []
   },
   "outputs": [
    {
     "data": {
      "text/plain": [
       "['out\\\\GridSearchCV_dump.pkl']"
      ]
     },
     "execution_count": 25,
     "metadata": {},
     "output_type": "execute_result"
    }
   ],
   "source": [
    "from joblib import dump\n",
    "\n",
    "if not os.path.exists('out'):\n",
    "    os.makedirs('out')\n",
    "dump(grid_search, os.path.join('out', 'GridSearchCV_dump.pkl'), compress=True)"
   ]
  }
 ],
 "metadata": {
  "kernelspec": {
   "display_name": "Python 3 (ipykernel)",
   "language": "python",
   "name": "python3"
  },
  "language_info": {
   "codemirror_mode": {
    "name": "ipython",
    "version": 3
   },
   "file_extension": ".py",
   "mimetype": "text/x-python",
   "name": "python",
   "nbconvert_exporter": "python",
   "pygments_lexer": "ipython3",
   "version": "3.9.13"
  },
  "papermill": {
   "default_parameters": {},
   "duration": 1684.463004,
   "end_time": "2024-11-06T21:18:21.464705",
   "environment_variables": {},
   "exception": null,
   "input_path": "classification_z_8.ipynb",
   "output_path": "classification_z_8.ipynb",
   "parameters": {
    "n_jobs": 8
   },
   "start_time": "2024-11-06T20:50:17.001701",
   "version": "2.6.0"
  }
 },
 "nbformat": 4,
 "nbformat_minor": 5
}