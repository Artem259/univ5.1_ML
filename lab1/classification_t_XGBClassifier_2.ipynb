{
 "cells": [
  {
   "cell_type": "code",
   "execution_count": 1,
   "id": "initial_id",
   "metadata": {
    "execution": {
     "iopub.execute_input": "2024-11-06T05:07:45.578823Z",
     "iopub.status.busy": "2024-11-06T05:07:45.578823Z",
     "iopub.status.idle": "2024-11-06T05:07:45.807102Z",
     "shell.execute_reply": "2024-11-06T05:07:45.807102Z"
    },
    "papermill": {
     "duration": 0.234214,
     "end_time": "2024-11-06T05:07:45.808053",
     "exception": false,
     "start_time": "2024-11-06T05:07:45.573839",
     "status": "completed"
    },
    "tags": []
   },
   "outputs": [],
   "source": [
    "import os\n",
    "import pandas as pd"
   ]
  },
  {
   "cell_type": "code",
   "execution_count": 2,
   "id": "ab92d0123055b0f4",
   "metadata": {
    "execution": {
     "iopub.execute_input": "2024-11-06T05:07:45.815054Z",
     "iopub.status.busy": "2024-11-06T05:07:45.814054Z",
     "iopub.status.idle": "2024-11-06T05:07:45.822798Z",
     "shell.execute_reply": "2024-11-06T05:07:45.822798Z"
    },
    "papermill": {
     "duration": 0.012748,
     "end_time": "2024-11-06T05:07:45.823803",
     "exception": false,
     "start_time": "2024-11-06T05:07:45.811055",
     "status": "completed"
    },
    "tags": [
     "parameters"
    ]
   },
   "outputs": [],
   "source": [
    "cat_attrs: str = \"f12 f11\"\n",
    "balance_data: bool = False\n",
    "clear_data: bool = True\n",
    "n_jobs: int = 1\n",
    "verbose: int = 10"
   ]
  },
  {
   "cell_type": "code",
   "execution_count": 3,
   "id": "e880ef62",
   "metadata": {
    "execution": {
     "iopub.execute_input": "2024-11-06T05:07:45.829803Z",
     "iopub.status.busy": "2024-11-06T05:07:45.829803Z",
     "iopub.status.idle": "2024-11-06T05:07:45.838799Z",
     "shell.execute_reply": "2024-11-06T05:07:45.838799Z"
    },
    "papermill": {
     "duration": 0.013003,
     "end_time": "2024-11-06T05:07:45.839801",
     "exception": false,
     "start_time": "2024-11-06T05:07:45.826798",
     "status": "completed"
    },
    "tags": [
     "injected-parameters"
    ]
   },
   "outputs": [],
   "source": [
    "# Parameters\n",
    "n_jobs = 8\n"
   ]
  },
  {
   "cell_type": "code",
   "execution_count": 4,
   "id": "d5ae3913f6305108",
   "metadata": {
    "execution": {
     "iopub.execute_input": "2024-11-06T05:07:45.845803Z",
     "iopub.status.busy": "2024-11-06T05:07:45.844806Z",
     "iopub.status.idle": "2024-11-06T05:07:45.854932Z",
     "shell.execute_reply": "2024-11-06T05:07:45.854808Z"
    },
    "papermill": {
     "duration": 0.013011,
     "end_time": "2024-11-06T05:07:45.855812",
     "exception": false,
     "start_time": "2024-11-06T05:07:45.842801",
     "status": "completed"
    },
    "tags": []
   },
   "outputs": [
    {
     "data": {
      "text/plain": [
       "['f12', 'f11']"
      ]
     },
     "execution_count": 4,
     "metadata": {},
     "output_type": "execute_result"
    }
   ],
   "source": [
    "cat_attrs: list[str] = cat_attrs.split()\n",
    "cat_attrs"
   ]
  },
  {
   "cell_type": "code",
   "execution_count": 5,
   "id": "af6f5896efa57adf",
   "metadata": {
    "execution": {
     "iopub.execute_input": "2024-11-06T05:07:45.861808Z",
     "iopub.status.busy": "2024-11-06T05:07:45.860808Z",
     "iopub.status.idle": "2024-11-06T05:07:45.871006Z",
     "shell.execute_reply": "2024-11-06T05:07:45.871006Z"
    },
    "papermill": {
     "duration": 0.013122,
     "end_time": "2024-11-06T05:07:45.871932",
     "exception": false,
     "start_time": "2024-11-06T05:07:45.858810",
     "status": "completed"
    },
    "tags": []
   },
   "outputs": [],
   "source": [
    "pd.set_option('display.float_format', '{:.3f}'.format)"
   ]
  },
  {
   "cell_type": "code",
   "execution_count": 6,
   "id": "d56664ec8b50ea6a",
   "metadata": {
    "execution": {
     "iopub.execute_input": "2024-11-06T05:07:45.877440Z",
     "iopub.status.busy": "2024-11-06T05:07:45.876915Z",
     "iopub.status.idle": "2024-11-06T05:07:46.420764Z",
     "shell.execute_reply": "2024-11-06T05:07:46.420764Z"
    },
    "papermill": {
     "duration": 0.546858,
     "end_time": "2024-11-06T05:07:46.421773",
     "exception": false,
     "start_time": "2024-11-06T05:07:45.874915",
     "status": "completed"
    },
    "tags": []
   },
   "outputs": [],
   "source": [
    "csv_path = os.path.join('data', 'data.csv')\n",
    "data = pd.read_csv(csv_path)"
   ]
  },
  {
   "cell_type": "code",
   "execution_count": 7,
   "id": "fdba6b06da2871bf",
   "metadata": {
    "execution": {
     "iopub.execute_input": "2024-11-06T05:07:46.427764Z",
     "iopub.status.busy": "2024-11-06T05:07:46.427764Z",
     "iopub.status.idle": "2024-11-06T05:07:46.452767Z",
     "shell.execute_reply": "2024-11-06T05:07:46.452767Z"
    },
    "papermill": {
     "duration": 0.02902,
     "end_time": "2024-11-06T05:07:46.453784",
     "exception": false,
     "start_time": "2024-11-06T05:07:46.424764",
     "status": "completed"
    },
    "tags": []
   },
   "outputs": [],
   "source": [
    "X = data.drop(columns=['target', 'p'])\n",
    "y = data['target']"
   ]
  },
  {
   "cell_type": "code",
   "execution_count": 8,
   "id": "288f06209ad7651",
   "metadata": {
    "execution": {
     "iopub.execute_input": "2024-11-06T05:07:46.460780Z",
     "iopub.status.busy": "2024-11-06T05:07:46.459780Z",
     "iopub.status.idle": "2024-11-06T05:07:46.845989Z",
     "shell.execute_reply": "2024-11-06T05:07:46.845989Z"
    },
    "papermill": {
     "duration": 0.390759,
     "end_time": "2024-11-06T05:07:46.847539",
     "exception": false,
     "start_time": "2024-11-06T05:07:46.456780",
     "status": "completed"
    },
    "tags": []
   },
   "outputs": [],
   "source": [
    "from sklearn.preprocessing import LabelEncoder\n",
    "\n",
    "label_encoder = LabelEncoder()\n",
    "y = label_encoder.fit_transform(y)\n",
    "y = pd.Series(y, name='target')"
   ]
  },
  {
   "cell_type": "code",
   "execution_count": 9,
   "id": "e32d493683b4f70f",
   "metadata": {
    "execution": {
     "iopub.execute_input": "2024-11-06T05:07:46.852547Z",
     "iopub.status.busy": "2024-11-06T05:07:46.852547Z",
     "iopub.status.idle": "2024-11-06T05:07:47.157918Z",
     "shell.execute_reply": "2024-11-06T05:07:47.157918Z"
    },
    "papermill": {
     "duration": 0.309289,
     "end_time": "2024-11-06T05:07:47.158853",
     "exception": false,
     "start_time": "2024-11-06T05:07:46.849564",
     "status": "completed"
    },
    "tags": []
   },
   "outputs": [
    {
     "name": "stdout",
     "output_type": "stream",
     "text": [
      "Train: X=(838860, 17) y=(838860,)\n",
      "Test: X=(209715, 17) y=(209715,)\n"
     ]
    }
   ],
   "source": [
    "from sklearn.model_selection import train_test_split\n",
    "\n",
    "test_size_ratio = 0.2\n",
    "X_train, X_test, y_train, y_test = train_test_split(\n",
    "    X, y,\n",
    "    test_size=test_size_ratio, \n",
    "    stratify=y, \n",
    "    random_state=42\n",
    ")\n",
    "\n",
    "print(f\"Train: X={X_train.shape} y={y_train.shape}\")\n",
    "print(f\"Test: X={X_test.shape} y={y_test.shape}\")"
   ]
  },
  {
   "cell_type": "code",
   "execution_count": 10,
   "id": "6d5455bafdcbc466",
   "metadata": {
    "execution": {
     "iopub.execute_input": "2024-11-06T05:07:47.164851Z",
     "iopub.status.busy": "2024-11-06T05:07:47.164851Z",
     "iopub.status.idle": "2024-11-06T05:07:47.173742Z",
     "shell.execute_reply": "2024-11-06T05:07:47.173742Z"
    },
    "papermill": {
     "duration": 0.012896,
     "end_time": "2024-11-06T05:07:47.174744",
     "exception": false,
     "start_time": "2024-11-06T05:07:47.161848",
     "status": "completed"
    },
    "tags": []
   },
   "outputs": [
    {
     "name": "stdout",
     "output_type": "stream",
     "text": [
      "balance_data set to False\n"
     ]
    }
   ],
   "source": [
    "from collections import Counter\n",
    "\n",
    "if balance_data:\n",
    "    train = pd.concat([X_train, y_train], axis=1)\n",
    "    train_n = train.shape[0]\n",
    "    \n",
    "    class_counts = Counter(train['target'])\n",
    "    min_class = min(class_counts, key=lambda x: class_counts[x])\n",
    "    \n",
    "    new_train = train.groupby('target').apply(\n",
    "        lambda x: x.sample(class_counts[min_class])\n",
    "    ).reset_index(drop=True)\n",
    "    removed_n = train.shape[0] - new_train.shape[0]\n",
    "    removed_ratio = removed_n / train_n\n",
    "    \n",
    "    print(f\"Majority class: '{min_class}'\")\n",
    "    print(f\"Records removed: {removed_n} ({removed_ratio * 100:.3f} %)\")\n",
    "    X_train = new_train.drop(columns=['target'])\n",
    "    y_train = new_train['target']\n",
    "    print(f\"\\nTrain: X={X_train.shape} y={y_train.shape}\")\n",
    "else:\n",
    "    print(\"balance_data set to False\")"
   ]
  },
  {
   "cell_type": "code",
   "execution_count": 11,
   "id": "31b7b6c6fbd59207",
   "metadata": {
    "execution": {
     "iopub.execute_input": "2024-11-06T05:07:47.180050Z",
     "iopub.status.busy": "2024-11-06T05:07:47.180050Z",
     "iopub.status.idle": "2024-11-06T05:07:47.189059Z",
     "shell.execute_reply": "2024-11-06T05:07:47.189059Z"
    },
    "papermill": {
     "duration": 0.012319,
     "end_time": "2024-11-06T05:07:47.190061",
     "exception": false,
     "start_time": "2024-11-06T05:07:47.177742",
     "status": "completed"
    },
    "tags": []
   },
   "outputs": [
    {
     "name": "stdout",
     "output_type": "stream",
     "text": [
      "Train positives ratio: 1.69301 %\n",
      "Test positives ratio:  1.69325 %\n"
     ]
    }
   ],
   "source": [
    "y_train_pos_ratio = y_train[y_train == 1].shape[0] / y_train.shape[0]\n",
    "y_test_pos_ratio = y_test[y_test == 1].shape[0] / y_test.shape[0]\n",
    "\n",
    "print(\"Train positives ratio:\", f\"{y_train_pos_ratio * 100:.5f} %\")\n",
    "print(\"Test positives ratio: \", f\"{y_test_pos_ratio * 100:.5f} %\")"
   ]
  },
  {
   "cell_type": "code",
   "execution_count": 12,
   "id": "a00ac66ad05fe817",
   "metadata": {
    "execution": {
     "iopub.execute_input": "2024-11-06T05:07:47.196569Z",
     "iopub.status.busy": "2024-11-06T05:07:47.196569Z",
     "iopub.status.idle": "2024-11-06T05:07:47.831414Z",
     "shell.execute_reply": "2024-11-06T05:07:47.831414Z"
    },
    "papermill": {
     "duration": 0.639018,
     "end_time": "2024-11-06T05:07:47.832588",
     "exception": false,
     "start_time": "2024-11-06T05:07:47.193570",
     "status": "completed"
    },
    "tags": []
   },
   "outputs": [
    {
     "name": "stdout",
     "output_type": "stream",
     "text": [
      "Duplicates removed: 61923 (7.382 %)\n"
     ]
    },
    {
     "name": "stdout",
     "output_type": "stream",
     "text": [
      "Collisions removed: 56 (0.007 %)\n",
      "Total removed:      61979 (7.388 %)\n",
      "\n",
      "Train: X=(776881, 17) y=(776881,)\n"
     ]
    }
   ],
   "source": [
    "if clear_data:\n",
    "    train = pd.concat([X_train, y_train], axis=1)\n",
    "    train_n = train.shape[0]\n",
    "    \n",
    "    new_train = train.drop_duplicates()\n",
    "    duplicates_n = train.shape[0] - new_train.shape[0]\n",
    "    duplicates_ratio = duplicates_n / train_n\n",
    "    print(f\"Duplicates removed: {duplicates_n} ({duplicates_ratio * 100:.3f} %)\")\n",
    "    train = new_train\n",
    "    \n",
    "    new_train = train.drop_duplicates(subset=train.columns.difference(['target']))\n",
    "    collisions_n = train.shape[0] - new_train.shape[0]\n",
    "    collisions_ratio = collisions_n / train_n\n",
    "    print(f\"Collisions removed: {collisions_n} ({collisions_ratio * 100:.3f} %)\")\n",
    "    train = new_train\n",
    "    \n",
    "    print(f\"Total removed:      {duplicates_n + collisions_n} \"\n",
    "          f\"({(duplicates_ratio + collisions_ratio) * 100:.3f} %)\")\n",
    "    X_train = train.drop(columns=['target'])\n",
    "    y_train = train['target']\n",
    "    print(f\"\\nTrain: X={X_train.shape} y={y_train.shape}\")\n",
    "else:\n",
    "    print(\"clear_data set to False\")"
   ]
  },
  {
   "cell_type": "code",
   "execution_count": 13,
   "id": "c5e26b96b7083101",
   "metadata": {
    "execution": {
     "iopub.execute_input": "2024-11-06T05:07:47.840446Z",
     "iopub.status.busy": "2024-11-06T05:07:47.840446Z",
     "iopub.status.idle": "2024-11-06T05:07:47.894317Z",
     "shell.execute_reply": "2024-11-06T05:07:47.894317Z"
    },
    "papermill": {
     "duration": 0.058901,
     "end_time": "2024-11-06T05:07:47.895321",
     "exception": false,
     "start_time": "2024-11-06T05:07:47.836420",
     "status": "completed"
    },
    "tags": []
   },
   "outputs": [
    {
     "data": {
      "text/plain": [
       "[array([0, 1], dtype=int64), array([0, 1], dtype=int64)]"
      ]
     },
     "execution_count": 13,
     "metadata": {},
     "output_type": "execute_result"
    }
   ],
   "source": [
    "from sklearn.compose import ColumnTransformer\n",
    "from sklearn.linear_model import LogisticRegression\n",
    "from sklearn.preprocessing import OneHotEncoder, StandardScaler\n",
    "from sklearn.pipeline import Pipeline\n",
    "\n",
    "cat_encoder = OneHotEncoder().fit(X[cat_attrs])\n",
    "cat_encoder.categories_  # TODO"
   ]
  },
  {
   "cell_type": "code",
   "execution_count": 14,
   "id": "515460711168c32f",
   "metadata": {
    "execution": {
     "iopub.execute_input": "2024-11-06T05:07:47.901595Z",
     "iopub.status.busy": "2024-11-06T05:07:47.901595Z",
     "iopub.status.idle": "2024-11-06T05:07:48.031731Z",
     "shell.execute_reply": "2024-11-06T05:07:48.031731Z"
    },
    "papermill": {
     "duration": 0.135496,
     "end_time": "2024-11-06T05:07:48.032938",
     "exception": false,
     "start_time": "2024-11-06T05:07:47.897442",
     "status": "completed"
    },
    "tags": []
   },
   "outputs": [],
   "source": [
    "from imblearn.over_sampling import SMOTE, SMOTENC\n",
    "from imblearn.pipeline import Pipeline as ImPipeline\n",
    "\n",
    "preprocessor = ColumnTransformer(\n",
    "    transformers=[\n",
    "        ('cat', 'passthrough', cat_attrs)\n",
    "    ],\n",
    "    remainder=StandardScaler(),\n",
    "    verbose_feature_names_out=True\n",
    ")\n",
    "preprocessor = preprocessor.set_output(transform='pandas')\n",
    "\n",
    "one_hot = ColumnTransformer(\n",
    "    transformers=[\n",
    "        ('cat', OneHotEncoder(), list(map(lambda attr: 'cat__' + attr, cat_attrs)))\n",
    "    ],\n",
    "    remainder='passthrough',\n",
    "    verbose_feature_names_out=True\n",
    ")\n",
    "\n",
    "pipeline = ImPipeline(steps=[\n",
    "    ('preprocessor', preprocessor),\n",
    "    ('sampling', SMOTENC(categorical_features=list(map(lambda attr: 'cat__' + attr, cat_attrs)), random_state=42)),\n",
    "    ('one_hot', one_hot),\n",
    "    ('classifier', LogisticRegression())\n",
    "])"
   ]
  },
  {
   "cell_type": "code",
   "execution_count": 15,
   "id": "f342b445ddaf788b",
   "metadata": {
    "execution": {
     "iopub.execute_input": "2024-11-06T05:07:48.039945Z",
     "iopub.status.busy": "2024-11-06T05:07:48.038944Z",
     "iopub.status.idle": "2024-11-06T05:07:48.062916Z",
     "shell.execute_reply": "2024-11-06T05:07:48.062823Z"
    },
    "papermill": {
     "duration": 0.027882,
     "end_time": "2024-11-06T05:07:48.063825",
     "exception": false,
     "start_time": "2024-11-06T05:07:48.035943",
     "status": "completed"
    },
    "tags": []
   },
   "outputs": [],
   "source": [
    "from sklearn.linear_model import SGDOneClassSVM\n",
    "from sklearn.neural_network import MLPClassifier\n",
    "from sklearn.tree import DecisionTreeClassifier\n",
    "from sklearn.neighbors import KNeighborsClassifier\n",
    "from sklearn.svm import SVC\n",
    "from sklearn.ensemble import RandomForestClassifier, GradientBoostingClassifier, AdaBoostClassifier, HistGradientBoostingClassifier\n",
    "from xgboost import XGBClassifier\n",
    "\n",
    "classifiers = {\n",
    "    'LogisticRegression': LogisticRegression(random_state=42),\n",
    "    'RandomForestClassifier': RandomForestClassifier(random_state=42),\n",
    "    'SVC': SVC(random_state=42),\n",
    "    'KNeighborsClassifier': KNeighborsClassifier(),\n",
    "    'DecisionTreeClassifier': DecisionTreeClassifier(random_state=42),\n",
    "    'GradientBoostingClassifier': GradientBoostingClassifier(random_state=42),\n",
    "    'AdaBoostClassifier': AdaBoostClassifier(random_state=42),\n",
    "    'MLPClassifier': MLPClassifier(random_state=42),\n",
    "    'HistGradientBoostingClassifier': HistGradientBoostingClassifier(random_state=42),\n",
    "    'XGBClassifier': XGBClassifier(random_state=42),\n",
    "}\n",
    "param_grid = [\n",
    "    {\n",
    "        'classifier': [classifiers['XGBClassifier']],\n",
    "        'classifier__n_estimators': [150],           # Number of boosting rounds\n",
    "        'classifier__max_depth': [7],                   # Maximum depth of the trees\n",
    "        'classifier__scale_pos_weight': [None, 1.69],\n",
    "        'classifier__eval_metric': [None, 'logloss'],\n",
    "        # 'classifier__learning_rate': [0.01, 0.1, 0.2],        # Learning rate for weight updates\n",
    "        # 'classifier__colsample_bytree': [0.7, 0.8, 1.0],      # Fraction of columns to be randomly sampled for each tree\n",
    "        # 'classifier__gamma': [0, 0.1, 0.2],                   # Minimum loss reduction required to make a further partition on a leaf node\n",
    "    }\n",
    "]"
   ]
  },
  {
   "cell_type": "code",
   "execution_count": 16,
   "id": "6ea08895e9330bd4",
   "metadata": {
    "execution": {
     "iopub.execute_input": "2024-11-06T05:07:48.070919Z",
     "iopub.status.busy": "2024-11-06T05:07:48.070919Z",
     "iopub.status.idle": "2024-11-06T05:12:13.794593Z",
     "shell.execute_reply": "2024-11-06T05:12:13.791593Z"
    },
    "papermill": {
     "duration": 265.762317,
     "end_time": "2024-11-06T05:12:13.829143",
     "exception": false,
     "start_time": "2024-11-06T05:07:48.066826",
     "status": "completed"
    },
    "tags": []
   },
   "outputs": [
    {
     "name": "stdout",
     "output_type": "stream",
     "text": [
      "Fitting 5 folds for each of 4 candidates, totalling 20 fits\n"
     ]
    }
   ],
   "source": [
    "from sklearn.model_selection import GridSearchCV, StratifiedShuffleSplit\n",
    "\n",
    "grid_search = GridSearchCV(\n",
    "    pipeline, param_grid,\n",
    "    cv=StratifiedShuffleSplit(n_splits=5, test_size=0.2, random_state=42),\n",
    "    scoring=['f1', 'precision', 'recall'],\n",
    "    refit='f1',\n",
    "    return_train_score=True,\n",
    "    n_jobs=n_jobs,\n",
    "    verbose=verbose\n",
    ")\n",
    "\n",
    "grid_search.fit(X_train, y_train);"
   ]
  },
  {
   "cell_type": "code",
   "execution_count": 17,
   "id": "6df9de92f1c370b8",
   "metadata": {
    "execution": {
     "iopub.execute_input": "2024-11-06T05:12:13.859144Z",
     "iopub.status.busy": "2024-11-06T05:12:13.858146Z",
     "iopub.status.idle": "2024-11-06T05:12:13.870650Z",
     "shell.execute_reply": "2024-11-06T05:12:13.870650Z"
    },
    "papermill": {
     "duration": 0.023507,
     "end_time": "2024-11-06T05:12:13.876650",
     "exception": false,
     "start_time": "2024-11-06T05:12:13.853143",
     "status": "completed"
    },
    "tags": []
   },
   "outputs": [
    {
     "data": {
      "text/plain": [
       "{'classifier': XGBClassifier(base_score=None, booster=None, callbacks=None,\n",
       "               colsample_bylevel=None, colsample_bynode=None,\n",
       "               colsample_bytree=None, device=None, early_stopping_rounds=None,\n",
       "               enable_categorical=False, eval_metric=None, feature_types=None,\n",
       "               gamma=None, grow_policy=None, importance_type=None,\n",
       "               interaction_constraints=None, learning_rate=None, max_bin=None,\n",
       "               max_cat_threshold=None, max_cat_to_onehot=None,\n",
       "               max_delta_step=None, max_depth=None, max_leaves=None,\n",
       "               min_child_weight=None, missing=nan, monotone_constraints=None,\n",
       "               multi_strategy=None, n_estimators=None, n_jobs=None,\n",
       "               num_parallel_tree=None, random_state=42, ...),\n",
       " 'classifier__eval_metric': None,\n",
       " 'classifier__max_depth': 7,\n",
       " 'classifier__n_estimators': 150,\n",
       " 'classifier__scale_pos_weight': None}"
      ]
     },
     "execution_count": 17,
     "metadata": {},
     "output_type": "execute_result"
    }
   ],
   "source": [
    "grid_search.best_params_"
   ]
  },
  {
   "cell_type": "code",
   "execution_count": 18,
   "id": "f2b0d1610f911a82",
   "metadata": {
    "execution": {
     "iopub.execute_input": "2024-11-06T05:12:13.882651Z",
     "iopub.status.busy": "2024-11-06T05:12:13.882651Z",
     "iopub.status.idle": "2024-11-06T05:12:13.900651Z",
     "shell.execute_reply": "2024-11-06T05:12:13.900651Z"
    },
    "papermill": {
     "duration": 0.0224,
     "end_time": "2024-11-06T05:12:13.902050",
     "exception": false,
     "start_time": "2024-11-06T05:12:13.879650",
     "status": "completed"
    },
    "tags": []
   },
   "outputs": [
    {
     "data": {
      "text/html": [
       "<style>#sk-container-id-1 {\n",
       "  /* Definition of color scheme common for light and dark mode */\n",
       "  --sklearn-color-text: black;\n",
       "  --sklearn-color-line: gray;\n",
       "  /* Definition of color scheme for unfitted estimators */\n",
       "  --sklearn-color-unfitted-level-0: #fff5e6;\n",
       "  --sklearn-color-unfitted-level-1: #f6e4d2;\n",
       "  --sklearn-color-unfitted-level-2: #ffe0b3;\n",
       "  --sklearn-color-unfitted-level-3: chocolate;\n",
       "  /* Definition of color scheme for fitted estimators */\n",
       "  --sklearn-color-fitted-level-0: #f0f8ff;\n",
       "  --sklearn-color-fitted-level-1: #d4ebff;\n",
       "  --sklearn-color-fitted-level-2: #b3dbfd;\n",
       "  --sklearn-color-fitted-level-3: cornflowerblue;\n",
       "\n",
       "  /* Specific color for light theme */\n",
       "  --sklearn-color-text-on-default-background: var(--sg-text-color, var(--theme-code-foreground, var(--jp-content-font-color1, black)));\n",
       "  --sklearn-color-background: var(--sg-background-color, var(--theme-background, var(--jp-layout-color0, white)));\n",
       "  --sklearn-color-border-box: var(--sg-text-color, var(--theme-code-foreground, var(--jp-content-font-color1, black)));\n",
       "  --sklearn-color-icon: #696969;\n",
       "\n",
       "  @media (prefers-color-scheme: dark) {\n",
       "    /* Redefinition of color scheme for dark theme */\n",
       "    --sklearn-color-text-on-default-background: var(--sg-text-color, var(--theme-code-foreground, var(--jp-content-font-color1, white)));\n",
       "    --sklearn-color-background: var(--sg-background-color, var(--theme-background, var(--jp-layout-color0, #111)));\n",
       "    --sklearn-color-border-box: var(--sg-text-color, var(--theme-code-foreground, var(--jp-content-font-color1, white)));\n",
       "    --sklearn-color-icon: #878787;\n",
       "  }\n",
       "}\n",
       "\n",
       "#sk-container-id-1 {\n",
       "  color: var(--sklearn-color-text);\n",
       "}\n",
       "\n",
       "#sk-container-id-1 pre {\n",
       "  padding: 0;\n",
       "}\n",
       "\n",
       "#sk-container-id-1 input.sk-hidden--visually {\n",
       "  border: 0;\n",
       "  clip: rect(1px 1px 1px 1px);\n",
       "  clip: rect(1px, 1px, 1px, 1px);\n",
       "  height: 1px;\n",
       "  margin: -1px;\n",
       "  overflow: hidden;\n",
       "  padding: 0;\n",
       "  position: absolute;\n",
       "  width: 1px;\n",
       "}\n",
       "\n",
       "#sk-container-id-1 div.sk-dashed-wrapped {\n",
       "  border: 1px dashed var(--sklearn-color-line);\n",
       "  margin: 0 0.4em 0.5em 0.4em;\n",
       "  box-sizing: border-box;\n",
       "  padding-bottom: 0.4em;\n",
       "  background-color: var(--sklearn-color-background);\n",
       "}\n",
       "\n",
       "#sk-container-id-1 div.sk-container {\n",
       "  /* jupyter's `normalize.less` sets `[hidden] { display: none; }`\n",
       "     but bootstrap.min.css set `[hidden] { display: none !important; }`\n",
       "     so we also need the `!important` here to be able to override the\n",
       "     default hidden behavior on the sphinx rendered scikit-learn.org.\n",
       "     See: https://github.com/scikit-learn/scikit-learn/issues/21755 */\n",
       "  display: inline-block !important;\n",
       "  position: relative;\n",
       "}\n",
       "\n",
       "#sk-container-id-1 div.sk-text-repr-fallback {\n",
       "  display: none;\n",
       "}\n",
       "\n",
       "div.sk-parallel-item,\n",
       "div.sk-serial,\n",
       "div.sk-item {\n",
       "  /* draw centered vertical line to link estimators */\n",
       "  background-image: linear-gradient(var(--sklearn-color-text-on-default-background), var(--sklearn-color-text-on-default-background));\n",
       "  background-size: 2px 100%;\n",
       "  background-repeat: no-repeat;\n",
       "  background-position: center center;\n",
       "}\n",
       "\n",
       "/* Parallel-specific style estimator block */\n",
       "\n",
       "#sk-container-id-1 div.sk-parallel-item::after {\n",
       "  content: \"\";\n",
       "  width: 100%;\n",
       "  border-bottom: 2px solid var(--sklearn-color-text-on-default-background);\n",
       "  flex-grow: 1;\n",
       "}\n",
       "\n",
       "#sk-container-id-1 div.sk-parallel {\n",
       "  display: flex;\n",
       "  align-items: stretch;\n",
       "  justify-content: center;\n",
       "  background-color: var(--sklearn-color-background);\n",
       "  position: relative;\n",
       "}\n",
       "\n",
       "#sk-container-id-1 div.sk-parallel-item {\n",
       "  display: flex;\n",
       "  flex-direction: column;\n",
       "}\n",
       "\n",
       "#sk-container-id-1 div.sk-parallel-item:first-child::after {\n",
       "  align-self: flex-end;\n",
       "  width: 50%;\n",
       "}\n",
       "\n",
       "#sk-container-id-1 div.sk-parallel-item:last-child::after {\n",
       "  align-self: flex-start;\n",
       "  width: 50%;\n",
       "}\n",
       "\n",
       "#sk-container-id-1 div.sk-parallel-item:only-child::after {\n",
       "  width: 0;\n",
       "}\n",
       "\n",
       "/* Serial-specific style estimator block */\n",
       "\n",
       "#sk-container-id-1 div.sk-serial {\n",
       "  display: flex;\n",
       "  flex-direction: column;\n",
       "  align-items: center;\n",
       "  background-color: var(--sklearn-color-background);\n",
       "  padding-right: 1em;\n",
       "  padding-left: 1em;\n",
       "}\n",
       "\n",
       "\n",
       "/* Toggleable style: style used for estimator/Pipeline/ColumnTransformer box that is\n",
       "clickable and can be expanded/collapsed.\n",
       "- Pipeline and ColumnTransformer use this feature and define the default style\n",
       "- Estimators will overwrite some part of the style using the `sk-estimator` class\n",
       "*/\n",
       "\n",
       "/* Pipeline and ColumnTransformer style (default) */\n",
       "\n",
       "#sk-container-id-1 div.sk-toggleable {\n",
       "  /* Default theme specific background. It is overwritten whether we have a\n",
       "  specific estimator or a Pipeline/ColumnTransformer */\n",
       "  background-color: var(--sklearn-color-background);\n",
       "}\n",
       "\n",
       "/* Toggleable label */\n",
       "#sk-container-id-1 label.sk-toggleable__label {\n",
       "  cursor: pointer;\n",
       "  display: block;\n",
       "  width: 100%;\n",
       "  margin-bottom: 0;\n",
       "  padding: 0.5em;\n",
       "  box-sizing: border-box;\n",
       "  text-align: center;\n",
       "}\n",
       "\n",
       "#sk-container-id-1 label.sk-toggleable__label-arrow:before {\n",
       "  /* Arrow on the left of the label */\n",
       "  content: \"▸\";\n",
       "  float: left;\n",
       "  margin-right: 0.25em;\n",
       "  color: var(--sklearn-color-icon);\n",
       "}\n",
       "\n",
       "#sk-container-id-1 label.sk-toggleable__label-arrow:hover:before {\n",
       "  color: var(--sklearn-color-text);\n",
       "}\n",
       "\n",
       "/* Toggleable content - dropdown */\n",
       "\n",
       "#sk-container-id-1 div.sk-toggleable__content {\n",
       "  max-height: 0;\n",
       "  max-width: 0;\n",
       "  overflow: hidden;\n",
       "  text-align: left;\n",
       "  /* unfitted */\n",
       "  background-color: var(--sklearn-color-unfitted-level-0);\n",
       "}\n",
       "\n",
       "#sk-container-id-1 div.sk-toggleable__content.fitted {\n",
       "  /* fitted */\n",
       "  background-color: var(--sklearn-color-fitted-level-0);\n",
       "}\n",
       "\n",
       "#sk-container-id-1 div.sk-toggleable__content pre {\n",
       "  margin: 0.2em;\n",
       "  border-radius: 0.25em;\n",
       "  color: var(--sklearn-color-text);\n",
       "  /* unfitted */\n",
       "  background-color: var(--sklearn-color-unfitted-level-0);\n",
       "}\n",
       "\n",
       "#sk-container-id-1 div.sk-toggleable__content.fitted pre {\n",
       "  /* unfitted */\n",
       "  background-color: var(--sklearn-color-fitted-level-0);\n",
       "}\n",
       "\n",
       "#sk-container-id-1 input.sk-toggleable__control:checked~div.sk-toggleable__content {\n",
       "  /* Expand drop-down */\n",
       "  max-height: 200px;\n",
       "  max-width: 100%;\n",
       "  overflow: auto;\n",
       "}\n",
       "\n",
       "#sk-container-id-1 input.sk-toggleable__control:checked~label.sk-toggleable__label-arrow:before {\n",
       "  content: \"▾\";\n",
       "}\n",
       "\n",
       "/* Pipeline/ColumnTransformer-specific style */\n",
       "\n",
       "#sk-container-id-1 div.sk-label input.sk-toggleable__control:checked~label.sk-toggleable__label {\n",
       "  color: var(--sklearn-color-text);\n",
       "  background-color: var(--sklearn-color-unfitted-level-2);\n",
       "}\n",
       "\n",
       "#sk-container-id-1 div.sk-label.fitted input.sk-toggleable__control:checked~label.sk-toggleable__label {\n",
       "  background-color: var(--sklearn-color-fitted-level-2);\n",
       "}\n",
       "\n",
       "/* Estimator-specific style */\n",
       "\n",
       "/* Colorize estimator box */\n",
       "#sk-container-id-1 div.sk-estimator input.sk-toggleable__control:checked~label.sk-toggleable__label {\n",
       "  /* unfitted */\n",
       "  background-color: var(--sklearn-color-unfitted-level-2);\n",
       "}\n",
       "\n",
       "#sk-container-id-1 div.sk-estimator.fitted input.sk-toggleable__control:checked~label.sk-toggleable__label {\n",
       "  /* fitted */\n",
       "  background-color: var(--sklearn-color-fitted-level-2);\n",
       "}\n",
       "\n",
       "#sk-container-id-1 div.sk-label label.sk-toggleable__label,\n",
       "#sk-container-id-1 div.sk-label label {\n",
       "  /* The background is the default theme color */\n",
       "  color: var(--sklearn-color-text-on-default-background);\n",
       "}\n",
       "\n",
       "/* On hover, darken the color of the background */\n",
       "#sk-container-id-1 div.sk-label:hover label.sk-toggleable__label {\n",
       "  color: var(--sklearn-color-text);\n",
       "  background-color: var(--sklearn-color-unfitted-level-2);\n",
       "}\n",
       "\n",
       "/* Label box, darken color on hover, fitted */\n",
       "#sk-container-id-1 div.sk-label.fitted:hover label.sk-toggleable__label.fitted {\n",
       "  color: var(--sklearn-color-text);\n",
       "  background-color: var(--sklearn-color-fitted-level-2);\n",
       "}\n",
       "\n",
       "/* Estimator label */\n",
       "\n",
       "#sk-container-id-1 div.sk-label label {\n",
       "  font-family: monospace;\n",
       "  font-weight: bold;\n",
       "  display: inline-block;\n",
       "  line-height: 1.2em;\n",
       "}\n",
       "\n",
       "#sk-container-id-1 div.sk-label-container {\n",
       "  text-align: center;\n",
       "}\n",
       "\n",
       "/* Estimator-specific */\n",
       "#sk-container-id-1 div.sk-estimator {\n",
       "  font-family: monospace;\n",
       "  border: 1px dotted var(--sklearn-color-border-box);\n",
       "  border-radius: 0.25em;\n",
       "  box-sizing: border-box;\n",
       "  margin-bottom: 0.5em;\n",
       "  /* unfitted */\n",
       "  background-color: var(--sklearn-color-unfitted-level-0);\n",
       "}\n",
       "\n",
       "#sk-container-id-1 div.sk-estimator.fitted {\n",
       "  /* fitted */\n",
       "  background-color: var(--sklearn-color-fitted-level-0);\n",
       "}\n",
       "\n",
       "/* on hover */\n",
       "#sk-container-id-1 div.sk-estimator:hover {\n",
       "  /* unfitted */\n",
       "  background-color: var(--sklearn-color-unfitted-level-2);\n",
       "}\n",
       "\n",
       "#sk-container-id-1 div.sk-estimator.fitted:hover {\n",
       "  /* fitted */\n",
       "  background-color: var(--sklearn-color-fitted-level-2);\n",
       "}\n",
       "\n",
       "/* Specification for estimator info (e.g. \"i\" and \"?\") */\n",
       "\n",
       "/* Common style for \"i\" and \"?\" */\n",
       "\n",
       ".sk-estimator-doc-link,\n",
       "a:link.sk-estimator-doc-link,\n",
       "a:visited.sk-estimator-doc-link {\n",
       "  float: right;\n",
       "  font-size: smaller;\n",
       "  line-height: 1em;\n",
       "  font-family: monospace;\n",
       "  background-color: var(--sklearn-color-background);\n",
       "  border-radius: 1em;\n",
       "  height: 1em;\n",
       "  width: 1em;\n",
       "  text-decoration: none !important;\n",
       "  margin-left: 1ex;\n",
       "  /* unfitted */\n",
       "  border: var(--sklearn-color-unfitted-level-1) 1pt solid;\n",
       "  color: var(--sklearn-color-unfitted-level-1);\n",
       "}\n",
       "\n",
       ".sk-estimator-doc-link.fitted,\n",
       "a:link.sk-estimator-doc-link.fitted,\n",
       "a:visited.sk-estimator-doc-link.fitted {\n",
       "  /* fitted */\n",
       "  border: var(--sklearn-color-fitted-level-1) 1pt solid;\n",
       "  color: var(--sklearn-color-fitted-level-1);\n",
       "}\n",
       "\n",
       "/* On hover */\n",
       "div.sk-estimator:hover .sk-estimator-doc-link:hover,\n",
       ".sk-estimator-doc-link:hover,\n",
       "div.sk-label-container:hover .sk-estimator-doc-link:hover,\n",
       ".sk-estimator-doc-link:hover {\n",
       "  /* unfitted */\n",
       "  background-color: var(--sklearn-color-unfitted-level-3);\n",
       "  color: var(--sklearn-color-background);\n",
       "  text-decoration: none;\n",
       "}\n",
       "\n",
       "div.sk-estimator.fitted:hover .sk-estimator-doc-link.fitted:hover,\n",
       ".sk-estimator-doc-link.fitted:hover,\n",
       "div.sk-label-container:hover .sk-estimator-doc-link.fitted:hover,\n",
       ".sk-estimator-doc-link.fitted:hover {\n",
       "  /* fitted */\n",
       "  background-color: var(--sklearn-color-fitted-level-3);\n",
       "  color: var(--sklearn-color-background);\n",
       "  text-decoration: none;\n",
       "}\n",
       "\n",
       "/* Span, style for the box shown on hovering the info icon */\n",
       ".sk-estimator-doc-link span {\n",
       "  display: none;\n",
       "  z-index: 9999;\n",
       "  position: relative;\n",
       "  font-weight: normal;\n",
       "  right: .2ex;\n",
       "  padding: .5ex;\n",
       "  margin: .5ex;\n",
       "  width: min-content;\n",
       "  min-width: 20ex;\n",
       "  max-width: 50ex;\n",
       "  color: var(--sklearn-color-text);\n",
       "  box-shadow: 2pt 2pt 4pt #999;\n",
       "  /* unfitted */\n",
       "  background: var(--sklearn-color-unfitted-level-0);\n",
       "  border: .5pt solid var(--sklearn-color-unfitted-level-3);\n",
       "}\n",
       "\n",
       ".sk-estimator-doc-link.fitted span {\n",
       "  /* fitted */\n",
       "  background: var(--sklearn-color-fitted-level-0);\n",
       "  border: var(--sklearn-color-fitted-level-3);\n",
       "}\n",
       "\n",
       ".sk-estimator-doc-link:hover span {\n",
       "  display: block;\n",
       "}\n",
       "\n",
       "/* \"?\"-specific style due to the `<a>` HTML tag */\n",
       "\n",
       "#sk-container-id-1 a.estimator_doc_link {\n",
       "  float: right;\n",
       "  font-size: 1rem;\n",
       "  line-height: 1em;\n",
       "  font-family: monospace;\n",
       "  background-color: var(--sklearn-color-background);\n",
       "  border-radius: 1rem;\n",
       "  height: 1rem;\n",
       "  width: 1rem;\n",
       "  text-decoration: none;\n",
       "  /* unfitted */\n",
       "  color: var(--sklearn-color-unfitted-level-1);\n",
       "  border: var(--sklearn-color-unfitted-level-1) 1pt solid;\n",
       "}\n",
       "\n",
       "#sk-container-id-1 a.estimator_doc_link.fitted {\n",
       "  /* fitted */\n",
       "  border: var(--sklearn-color-fitted-level-1) 1pt solid;\n",
       "  color: var(--sklearn-color-fitted-level-1);\n",
       "}\n",
       "\n",
       "/* On hover */\n",
       "#sk-container-id-1 a.estimator_doc_link:hover {\n",
       "  /* unfitted */\n",
       "  background-color: var(--sklearn-color-unfitted-level-3);\n",
       "  color: var(--sklearn-color-background);\n",
       "  text-decoration: none;\n",
       "}\n",
       "\n",
       "#sk-container-id-1 a.estimator_doc_link.fitted:hover {\n",
       "  /* fitted */\n",
       "  background-color: var(--sklearn-color-fitted-level-3);\n",
       "}\n",
       "</style><div id=\"sk-container-id-1\" class=\"sk-top-container\"><div class=\"sk-text-repr-fallback\"><pre>Pipeline(steps=[(&#x27;preprocessor&#x27;,\n",
       "                 ColumnTransformer(remainder=StandardScaler(),\n",
       "                                   transformers=[(&#x27;cat&#x27;, &#x27;passthrough&#x27;,\n",
       "                                                  [&#x27;f12&#x27;, &#x27;f11&#x27;])])),\n",
       "                (&#x27;sampling&#x27;,\n",
       "                 SMOTENC(categorical_features=[&#x27;cat__f12&#x27;, &#x27;cat__f11&#x27;],\n",
       "                         random_state=42)),\n",
       "                (&#x27;one_hot&#x27;,\n",
       "                 ColumnTransformer(remainder=&#x27;passthrough&#x27;,\n",
       "                                   transformers=[(&#x27;cat&#x27;, OneHotEncoder(),\n",
       "                                                  [&#x27;cat__f12&#x27;, &#x27;cat__f11&#x27;])])),\n",
       "                (&#x27;classifier&#x27;,\n",
       "                 XGBCl...\n",
       "                               feature_types=None, gamma=None, grow_policy=None,\n",
       "                               importance_type=None,\n",
       "                               interaction_constraints=None, learning_rate=None,\n",
       "                               max_bin=None, max_cat_threshold=None,\n",
       "                               max_cat_to_onehot=None, max_delta_step=None,\n",
       "                               max_depth=7, max_leaves=None,\n",
       "                               min_child_weight=None, missing=nan,\n",
       "                               monotone_constraints=None, multi_strategy=None,\n",
       "                               n_estimators=150, n_jobs=None,\n",
       "                               num_parallel_tree=None, random_state=42, ...))])</pre><b>In a Jupyter environment, please rerun this cell to show the HTML representation or trust the notebook. <br />On GitHub, the HTML representation is unable to render, please try loading this page with nbviewer.org.</b></div><div class=\"sk-container\" hidden><div class=\"sk-item sk-dashed-wrapped\"><div class=\"sk-label-container\"><div class=\"sk-label fitted sk-toggleable\"><input class=\"sk-toggleable__control sk-hidden--visually\" id=\"sk-estimator-id-1\" type=\"checkbox\" ><label for=\"sk-estimator-id-1\" class=\"sk-toggleable__label fitted sk-toggleable__label-arrow fitted\">&nbsp;Pipeline<span class=\"sk-estimator-doc-link fitted\">i<span>Fitted</span></span></label><div class=\"sk-toggleable__content fitted\"><pre>Pipeline(steps=[(&#x27;preprocessor&#x27;,\n",
       "                 ColumnTransformer(remainder=StandardScaler(),\n",
       "                                   transformers=[(&#x27;cat&#x27;, &#x27;passthrough&#x27;,\n",
       "                                                  [&#x27;f12&#x27;, &#x27;f11&#x27;])])),\n",
       "                (&#x27;sampling&#x27;,\n",
       "                 SMOTENC(categorical_features=[&#x27;cat__f12&#x27;, &#x27;cat__f11&#x27;],\n",
       "                         random_state=42)),\n",
       "                (&#x27;one_hot&#x27;,\n",
       "                 ColumnTransformer(remainder=&#x27;passthrough&#x27;,\n",
       "                                   transformers=[(&#x27;cat&#x27;, OneHotEncoder(),\n",
       "                                                  [&#x27;cat__f12&#x27;, &#x27;cat__f11&#x27;])])),\n",
       "                (&#x27;classifier&#x27;,\n",
       "                 XGBCl...\n",
       "                               feature_types=None, gamma=None, grow_policy=None,\n",
       "                               importance_type=None,\n",
       "                               interaction_constraints=None, learning_rate=None,\n",
       "                               max_bin=None, max_cat_threshold=None,\n",
       "                               max_cat_to_onehot=None, max_delta_step=None,\n",
       "                               max_depth=7, max_leaves=None,\n",
       "                               min_child_weight=None, missing=nan,\n",
       "                               monotone_constraints=None, multi_strategy=None,\n",
       "                               n_estimators=150, n_jobs=None,\n",
       "                               num_parallel_tree=None, random_state=42, ...))])</pre></div> </div></div><div class=\"sk-serial\"><div class=\"sk-item sk-dashed-wrapped\"><div class=\"sk-label-container\"><div class=\"sk-label fitted sk-toggleable\"><input class=\"sk-toggleable__control sk-hidden--visually\" id=\"sk-estimator-id-2\" type=\"checkbox\" ><label for=\"sk-estimator-id-2\" class=\"sk-toggleable__label fitted sk-toggleable__label-arrow fitted\">&nbsp;preprocessor: ColumnTransformer<a class=\"sk-estimator-doc-link fitted\" rel=\"noreferrer\" target=\"_blank\" href=\"https://scikit-learn.org/1.4/modules/generated/sklearn.compose.ColumnTransformer.html\">?<span>Documentation for preprocessor: ColumnTransformer</span></a></label><div class=\"sk-toggleable__content fitted\"><pre>ColumnTransformer(remainder=StandardScaler(),\n",
       "                  transformers=[(&#x27;cat&#x27;, &#x27;passthrough&#x27;, [&#x27;f12&#x27;, &#x27;f11&#x27;])])</pre></div> </div></div><div class=\"sk-parallel\"><div class=\"sk-parallel-item\"><div class=\"sk-item\"><div class=\"sk-label-container\"><div class=\"sk-label fitted sk-toggleable\"><input class=\"sk-toggleable__control sk-hidden--visually\" id=\"sk-estimator-id-3\" type=\"checkbox\" ><label for=\"sk-estimator-id-3\" class=\"sk-toggleable__label fitted sk-toggleable__label-arrow fitted\">cat</label><div class=\"sk-toggleable__content fitted\"><pre>[&#x27;f12&#x27;, &#x27;f11&#x27;]</pre></div> </div></div><div class=\"sk-serial\"><div class=\"sk-item\"><div class=\"sk-estimator fitted sk-toggleable\"><input class=\"sk-toggleable__control sk-hidden--visually\" id=\"sk-estimator-id-4\" type=\"checkbox\" ><label for=\"sk-estimator-id-4\" class=\"sk-toggleable__label fitted sk-toggleable__label-arrow fitted\">passthrough</label><div class=\"sk-toggleable__content fitted\"><pre>passthrough</pre></div> </div></div></div></div></div><div class=\"sk-parallel-item\"><div class=\"sk-item\"><div class=\"sk-label-container\"><div class=\"sk-label fitted sk-toggleable\"><input class=\"sk-toggleable__control sk-hidden--visually\" id=\"sk-estimator-id-5\" type=\"checkbox\" ><label for=\"sk-estimator-id-5\" class=\"sk-toggleable__label fitted sk-toggleable__label-arrow fitted\">remainder</label><div class=\"sk-toggleable__content fitted\"><pre>[&#x27;f0&#x27;, &#x27;f1&#x27;, &#x27;f2&#x27;, &#x27;f3&#x27;, &#x27;f4&#x27;, &#x27;f5&#x27;, &#x27;f6&#x27;, &#x27;f7&#x27;, &#x27;f8&#x27;, &#x27;f9&#x27;, &#x27;f10&#x27;, &#x27;f13&#x27;, &#x27;f14&#x27;, &#x27;f15&#x27;, &#x27;f16&#x27;]</pre></div> </div></div><div class=\"sk-serial\"><div class=\"sk-item\"><div class=\"sk-estimator fitted sk-toggleable\"><input class=\"sk-toggleable__control sk-hidden--visually\" id=\"sk-estimator-id-6\" type=\"checkbox\" ><label for=\"sk-estimator-id-6\" class=\"sk-toggleable__label fitted sk-toggleable__label-arrow fitted\">&nbsp;StandardScaler<a class=\"sk-estimator-doc-link fitted\" rel=\"noreferrer\" target=\"_blank\" href=\"https://scikit-learn.org/1.4/modules/generated/sklearn.preprocessing.StandardScaler.html\">?<span>Documentation for StandardScaler</span></a></label><div class=\"sk-toggleable__content fitted\"><pre>StandardScaler()</pre></div> </div></div></div></div></div></div></div><div class=\"sk-item\"><div class=\"sk-estimator fitted sk-toggleable\"><input class=\"sk-toggleable__control sk-hidden--visually\" id=\"sk-estimator-id-7\" type=\"checkbox\" ><label for=\"sk-estimator-id-7\" class=\"sk-toggleable__label fitted sk-toggleable__label-arrow fitted\">SMOTENC</label><div class=\"sk-toggleable__content fitted\"><pre>SMOTENC(categorical_features=[&#x27;cat__f12&#x27;, &#x27;cat__f11&#x27;], random_state=42)</pre></div> </div></div><div class=\"sk-item sk-dashed-wrapped\"><div class=\"sk-label-container\"><div class=\"sk-label fitted sk-toggleable\"><input class=\"sk-toggleable__control sk-hidden--visually\" id=\"sk-estimator-id-8\" type=\"checkbox\" ><label for=\"sk-estimator-id-8\" class=\"sk-toggleable__label fitted sk-toggleable__label-arrow fitted\">&nbsp;one_hot: ColumnTransformer<a class=\"sk-estimator-doc-link fitted\" rel=\"noreferrer\" target=\"_blank\" href=\"https://scikit-learn.org/1.4/modules/generated/sklearn.compose.ColumnTransformer.html\">?<span>Documentation for one_hot: ColumnTransformer</span></a></label><div class=\"sk-toggleable__content fitted\"><pre>ColumnTransformer(remainder=&#x27;passthrough&#x27;,\n",
       "                  transformers=[(&#x27;cat&#x27;, OneHotEncoder(),\n",
       "                                 [&#x27;cat__f12&#x27;, &#x27;cat__f11&#x27;])])</pre></div> </div></div><div class=\"sk-parallel\"><div class=\"sk-parallel-item\"><div class=\"sk-item\"><div class=\"sk-label-container\"><div class=\"sk-label fitted sk-toggleable\"><input class=\"sk-toggleable__control sk-hidden--visually\" id=\"sk-estimator-id-9\" type=\"checkbox\" ><label for=\"sk-estimator-id-9\" class=\"sk-toggleable__label fitted sk-toggleable__label-arrow fitted\">cat</label><div class=\"sk-toggleable__content fitted\"><pre>[&#x27;cat__f12&#x27;, &#x27;cat__f11&#x27;]</pre></div> </div></div><div class=\"sk-serial\"><div class=\"sk-item\"><div class=\"sk-estimator fitted sk-toggleable\"><input class=\"sk-toggleable__control sk-hidden--visually\" id=\"sk-estimator-id-10\" type=\"checkbox\" ><label for=\"sk-estimator-id-10\" class=\"sk-toggleable__label fitted sk-toggleable__label-arrow fitted\">&nbsp;OneHotEncoder<a class=\"sk-estimator-doc-link fitted\" rel=\"noreferrer\" target=\"_blank\" href=\"https://scikit-learn.org/1.4/modules/generated/sklearn.preprocessing.OneHotEncoder.html\">?<span>Documentation for OneHotEncoder</span></a></label><div class=\"sk-toggleable__content fitted\"><pre>OneHotEncoder()</pre></div> </div></div></div></div></div><div class=\"sk-parallel-item\"><div class=\"sk-item\"><div class=\"sk-label-container\"><div class=\"sk-label fitted sk-toggleable\"><input class=\"sk-toggleable__control sk-hidden--visually\" id=\"sk-estimator-id-11\" type=\"checkbox\" ><label for=\"sk-estimator-id-11\" class=\"sk-toggleable__label fitted sk-toggleable__label-arrow fitted\">remainder</label><div class=\"sk-toggleable__content fitted\"><pre>[&#x27;remainder__f0&#x27;, &#x27;remainder__f1&#x27;, &#x27;remainder__f2&#x27;, &#x27;remainder__f3&#x27;, &#x27;remainder__f4&#x27;, &#x27;remainder__f5&#x27;, &#x27;remainder__f6&#x27;, &#x27;remainder__f7&#x27;, &#x27;remainder__f8&#x27;, &#x27;remainder__f9&#x27;, &#x27;remainder__f10&#x27;, &#x27;remainder__f13&#x27;, &#x27;remainder__f14&#x27;, &#x27;remainder__f15&#x27;, &#x27;remainder__f16&#x27;]</pre></div> </div></div><div class=\"sk-serial\"><div class=\"sk-item\"><div class=\"sk-estimator fitted sk-toggleable\"><input class=\"sk-toggleable__control sk-hidden--visually\" id=\"sk-estimator-id-12\" type=\"checkbox\" ><label for=\"sk-estimator-id-12\" class=\"sk-toggleable__label fitted sk-toggleable__label-arrow fitted\">passthrough</label><div class=\"sk-toggleable__content fitted\"><pre>passthrough</pre></div> </div></div></div></div></div></div></div><div class=\"sk-item\"><div class=\"sk-estimator fitted sk-toggleable\"><input class=\"sk-toggleable__control sk-hidden--visually\" id=\"sk-estimator-id-13\" type=\"checkbox\" ><label for=\"sk-estimator-id-13\" class=\"sk-toggleable__label fitted sk-toggleable__label-arrow fitted\">XGBClassifier</label><div class=\"sk-toggleable__content fitted\"><pre>XGBClassifier(base_score=None, booster=None, callbacks=None,\n",
       "              colsample_bylevel=None, colsample_bynode=None,\n",
       "              colsample_bytree=None, device=None, early_stopping_rounds=None,\n",
       "              enable_categorical=False, eval_metric=None, feature_types=None,\n",
       "              gamma=None, grow_policy=None, importance_type=None,\n",
       "              interaction_constraints=None, learning_rate=None, max_bin=None,\n",
       "              max_cat_threshold=None, max_cat_to_onehot=None,\n",
       "              max_delta_step=None, max_depth=7, max_leaves=None,\n",
       "              min_child_weight=None, missing=nan, monotone_constraints=None,\n",
       "              multi_strategy=None, n_estimators=150, n_jobs=None,\n",
       "              num_parallel_tree=None, random_state=42, ...)</pre></div> </div></div></div></div></div></div>"
      ],
      "text/plain": [
       "Pipeline(steps=[('preprocessor',\n",
       "                 ColumnTransformer(remainder=StandardScaler(),\n",
       "                                   transformers=[('cat', 'passthrough',\n",
       "                                                  ['f12', 'f11'])])),\n",
       "                ('sampling',\n",
       "                 SMOTENC(categorical_features=['cat__f12', 'cat__f11'],\n",
       "                         random_state=42)),\n",
       "                ('one_hot',\n",
       "                 ColumnTransformer(remainder='passthrough',\n",
       "                                   transformers=[('cat', OneHotEncoder(),\n",
       "                                                  ['cat__f12', 'cat__f11'])])),\n",
       "                ('classifier',\n",
       "                 XGBCl...\n",
       "                               feature_types=None, gamma=None, grow_policy=None,\n",
       "                               importance_type=None,\n",
       "                               interaction_constraints=None, learning_rate=None,\n",
       "                               max_bin=None, max_cat_threshold=None,\n",
       "                               max_cat_to_onehot=None, max_delta_step=None,\n",
       "                               max_depth=7, max_leaves=None,\n",
       "                               min_child_weight=None, missing=nan,\n",
       "                               monotone_constraints=None, multi_strategy=None,\n",
       "                               n_estimators=150, n_jobs=None,\n",
       "                               num_parallel_tree=None, random_state=42, ...))])"
      ]
     },
     "execution_count": 18,
     "metadata": {},
     "output_type": "execute_result"
    }
   ],
   "source": [
    "grid_search.best_estimator_"
   ]
  },
  {
   "cell_type": "code",
   "execution_count": 19,
   "id": "3bac9ca63acaa1f9",
   "metadata": {
    "execution": {
     "iopub.execute_input": "2024-11-06T05:12:13.909056Z",
     "iopub.status.busy": "2024-11-06T05:12:13.909056Z",
     "iopub.status.idle": "2024-11-06T05:12:13.916055Z",
     "shell.execute_reply": "2024-11-06T05:12:13.916055Z"
    },
    "papermill": {
     "duration": 0.012308,
     "end_time": "2024-11-06T05:12:13.917365",
     "exception": false,
     "start_time": "2024-11-06T05:12:13.905057",
     "status": "completed"
    },
    "tags": []
   },
   "outputs": [
    {
     "data": {
      "text/plain": [
       "0.7504930126779901"
      ]
     },
     "execution_count": 19,
     "metadata": {},
     "output_type": "execute_result"
    }
   ],
   "source": [
    "grid_search.best_score_"
   ]
  },
  {
   "cell_type": "code",
   "execution_count": 20,
   "id": "ee1faab262b6aeeb",
   "metadata": {
    "execution": {
     "iopub.execute_input": "2024-11-06T05:12:13.924372Z",
     "iopub.status.busy": "2024-11-06T05:12:13.923371Z",
     "iopub.status.idle": "2024-11-06T05:12:13.947951Z",
     "shell.execute_reply": "2024-11-06T05:12:13.947951Z"
    },
    "papermill": {
     "duration": 0.028583,
     "end_time": "2024-11-06T05:12:13.948954",
     "exception": false,
     "start_time": "2024-11-06T05:12:13.920371",
     "status": "completed"
    },
    "tags": []
   },
   "outputs": [
    {
     "data": {
      "text/html": [
       "<div>\n",
       "<style scoped>\n",
       "    .dataframe tbody tr th:only-of-type {\n",
       "        vertical-align: middle;\n",
       "    }\n",
       "\n",
       "    .dataframe tbody tr th {\n",
       "        vertical-align: top;\n",
       "    }\n",
       "\n",
       "    .dataframe thead th {\n",
       "        text-align: right;\n",
       "    }\n",
       "</style>\n",
       "<table border=\"1\" class=\"dataframe\">\n",
       "  <thead>\n",
       "    <tr style=\"text-align: right;\">\n",
       "      <th></th>\n",
       "      <th>rank_test_f1</th>\n",
       "      <th>mean_test_f1</th>\n",
       "      <th>param_classifier</th>\n",
       "      <th>params</th>\n",
       "    </tr>\n",
       "  </thead>\n",
       "  <tbody>\n",
       "    <tr>\n",
       "      <th>0</th>\n",
       "      <td>1</td>\n",
       "      <td>0.750</td>\n",
       "      <td>XGBClassifier(base_score=None, booster=None, c...</td>\n",
       "      <td>{'classifier': XGBClassifier(base_score=None, ...</td>\n",
       "    </tr>\n",
       "    <tr>\n",
       "      <th>2</th>\n",
       "      <td>1</td>\n",
       "      <td>0.750</td>\n",
       "      <td>XGBClassifier(base_score=None, booster=None, c...</td>\n",
       "      <td>{'classifier': XGBClassifier(base_score=None, ...</td>\n",
       "    </tr>\n",
       "    <tr>\n",
       "      <th>1</th>\n",
       "      <td>3</td>\n",
       "      <td>0.723</td>\n",
       "      <td>XGBClassifier(base_score=None, booster=None, c...</td>\n",
       "      <td>{'classifier': XGBClassifier(base_score=None, ...</td>\n",
       "    </tr>\n",
       "    <tr>\n",
       "      <th>3</th>\n",
       "      <td>3</td>\n",
       "      <td>0.723</td>\n",
       "      <td>XGBClassifier(base_score=None, booster=None, c...</td>\n",
       "      <td>{'classifier': XGBClassifier(base_score=None, ...</td>\n",
       "    </tr>\n",
       "  </tbody>\n",
       "</table>\n",
       "</div>"
      ],
      "text/plain": [
       "   rank_test_f1  mean_test_f1  \\\n",
       "0             1         0.750   \n",
       "2             1         0.750   \n",
       "1             3         0.723   \n",
       "3             3         0.723   \n",
       "\n",
       "                                    param_classifier  \\\n",
       "0  XGBClassifier(base_score=None, booster=None, c...   \n",
       "2  XGBClassifier(base_score=None, booster=None, c...   \n",
       "1  XGBClassifier(base_score=None, booster=None, c...   \n",
       "3  XGBClassifier(base_score=None, booster=None, c...   \n",
       "\n",
       "                                              params  \n",
       "0  {'classifier': XGBClassifier(base_score=None, ...  \n",
       "2  {'classifier': XGBClassifier(base_score=None, ...  \n",
       "1  {'classifier': XGBClassifier(base_score=None, ...  \n",
       "3  {'classifier': XGBClassifier(base_score=None, ...  "
      ]
     },
     "execution_count": 20,
     "metadata": {},
     "output_type": "execute_result"
    }
   ],
   "source": [
    "cv_results = pd.DataFrame(grid_search.cv_results_)\n",
    "cv_results = cv_results.sort_values('rank_test_f1')\n",
    "cv_results[[\n",
    "    'rank_test_f1',\n",
    "    'mean_test_f1',\n",
    "    'param_classifier',\n",
    "    # 'param_preprocessor__dynamic_column_transformer__cat_attrs',\n",
    "    'params'\n",
    "]].head(10)"
   ]
  },
  {
   "cell_type": "code",
   "execution_count": 21,
   "id": "472bc1c2945e2ede",
   "metadata": {
    "execution": {
     "iopub.execute_input": "2024-11-06T05:12:13.956844Z",
     "iopub.status.busy": "2024-11-06T05:12:13.956844Z",
     "iopub.status.idle": "2024-11-06T05:12:14.288928Z",
     "shell.execute_reply": "2024-11-06T05:12:14.288928Z"
    },
    "papermill": {
     "duration": 0.337119,
     "end_time": "2024-11-06T05:12:14.289933",
     "exception": false,
     "start_time": "2024-11-06T05:12:13.952814",
     "status": "completed"
    },
    "tags": []
   },
   "outputs": [
    {
     "name": "stdout",
     "output_type": "stream",
     "text": [
      "F1: 0.7632231944625832\n",
      "Precision: 0.711641500243546\n",
      "Recall: 0.8228667980850465\n"
     ]
    }
   ],
   "source": [
    "from sklearn.metrics import f1_score, precision_score, recall_score\n",
    "\n",
    "y_pred = grid_search.best_estimator_.predict(X_test)\n",
    "f1 = f1_score(y_test, y_pred)\n",
    "p = precision_score(y_test, y_pred)\n",
    "r = recall_score(y_test, y_pred)\n",
    "\n",
    "print(\"F1:\", f1)\n",
    "print(\"Precision:\", p)\n",
    "print(\"Recall:\", r)"
   ]
  },
  {
   "cell_type": "code",
   "execution_count": 22,
   "id": "1420d5a2ba01a421",
   "metadata": {
    "execution": {
     "iopub.execute_input": "2024-11-06T05:12:14.296940Z",
     "iopub.status.busy": "2024-11-06T05:12:14.296940Z",
     "iopub.status.idle": "2024-11-06T05:12:14.351276Z",
     "shell.execute_reply": "2024-11-06T05:12:14.351276Z"
    },
    "papermill": {
     "duration": 0.058339,
     "end_time": "2024-11-06T05:12:14.352276",
     "exception": false,
     "start_time": "2024-11-06T05:12:14.293937",
     "status": "completed"
    },
    "tags": []
   },
   "outputs": [
    {
     "data": {
      "text/plain": [
       "['out\\\\GridSearchCV_dump.pkl']"
      ]
     },
     "execution_count": 22,
     "metadata": {},
     "output_type": "execute_result"
    }
   ],
   "source": [
    "from joblib import dump\n",
    "\n",
    "if not os.path.exists('out'):\n",
    "    os.makedirs('out')\n",
    "dump(grid_search, os.path.join('out', 'GridSearchCV_dump.pkl'), compress=True)"
   ]
  }
 ],
 "metadata": {
  "kernelspec": {
   "display_name": "Python 3 (ipykernel)",
   "language": "python",
   "name": "python3"
  },
  "language_info": {
   "codemirror_mode": {
    "name": "ipython",
    "version": 3
   },
   "file_extension": ".py",
   "mimetype": "text/x-python",
   "name": "python",
   "nbconvert_exporter": "python",
   "pygments_lexer": "ipython3",
   "version": "3.9.13"
  },
  "papermill": {
   "default_parameters": {},
   "duration": 270.474206,
   "end_time": "2024-11-06T05:12:15.041347",
   "environment_variables": {},
   "exception": null,
   "input_path": "classification_t_XGBClassifier_2.ipynb",
   "output_path": "classification_t_XGBClassifier_2.ipynb",
   "parameters": {
    "n_jobs": 8
   },
   "start_time": "2024-11-06T05:07:44.567141",
   "version": "2.6.0"
  }
 },
 "nbformat": 4,
 "nbformat_minor": 5
}