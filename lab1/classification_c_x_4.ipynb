{
 "cells": [
  {
   "cell_type": "code",
   "id": "initial_id",
   "metadata": {
    "execution": {
     "iopub.execute_input": "2024-11-01T23:35:09.446558Z",
     "iopub.status.busy": "2024-11-01T23:35:09.446558Z",
     "iopub.status.idle": "2024-11-01T23:35:09.675512Z",
     "shell.execute_reply": "2024-11-01T23:35:09.675512Z"
    },
    "papermill": {
     "duration": 0.23396,
     "end_time": "2024-11-01T23:35:09.676515",
     "exception": false,
     "start_time": "2024-11-01T23:35:09.442555",
     "status": "completed"
    },
    "tags": [],
    "ExecuteTime": {
     "end_time": "2024-11-01T23:41:18.550372Z",
     "start_time": "2024-11-01T23:41:18.320043Z"
    }
   },
   "source": [
    "import os\n",
    "import pandas as pd"
   ],
   "outputs": [],
   "execution_count": 1
  },
  {
   "cell_type": "code",
   "id": "ab92d0123055b0f4",
   "metadata": {
    "execution": {
     "iopub.execute_input": "2024-11-01T23:35:09.682021Z",
     "iopub.status.busy": "2024-11-01T23:35:09.682021Z",
     "iopub.status.idle": "2024-11-01T23:35:09.691034Z",
     "shell.execute_reply": "2024-11-01T23:35:09.691034Z"
    },
    "papermill": {
     "duration": 0.013207,
     "end_time": "2024-11-01T23:35:09.692224",
     "exception": false,
     "start_time": "2024-11-01T23:35:09.679017",
     "status": "completed"
    },
    "tags": [
     "parameters"
    ],
    "ExecuteTime": {
     "end_time": "2024-11-01T23:41:18.565765Z",
     "start_time": "2024-11-01T23:41:18.561738Z"
    }
   },
   "source": [
    "cat_attrs: str = \"f12 f11\"\n",
    "balance_data: bool = False\n",
    "clear_data: bool = True\n",
    "n_jobs: int = 1\n",
    "verbose: int = 10"
   ],
   "outputs": [],
   "execution_count": 2
  },
  {
   "cell_type": "code",
   "id": "a6248055",
   "metadata": {
    "execution": {
     "iopub.execute_input": "2024-11-01T23:35:09.697229Z",
     "iopub.status.busy": "2024-11-01T23:35:09.697229Z",
     "iopub.status.idle": "2024-11-01T23:35:09.707034Z",
     "shell.execute_reply": "2024-11-01T23:35:09.707034Z"
    },
    "papermill": {
     "duration": 0.014309,
     "end_time": "2024-11-01T23:35:09.708538",
     "exception": false,
     "start_time": "2024-11-01T23:35:09.694229",
     "status": "completed"
    },
    "tags": [
     "injected-parameters"
    ],
    "ExecuteTime": {
     "end_time": "2024-11-01T23:41:18.581066Z",
     "start_time": "2024-11-01T23:41:18.569154Z"
    }
   },
   "source": [
    "# Parameters\n",
    "n_jobs = 8\n",
    "cat_attrs = \"\"\n"
   ],
   "outputs": [],
   "execution_count": 3
  },
  {
   "cell_type": "code",
   "id": "af6f5896efa57adf",
   "metadata": {
    "execution": {
     "iopub.execute_input": "2024-11-01T23:35:09.714418Z",
     "iopub.status.busy": "2024-11-01T23:35:09.714418Z",
     "iopub.status.idle": "2024-11-01T23:35:09.722432Z",
     "shell.execute_reply": "2024-11-01T23:35:09.722432Z"
    },
    "papermill": {
     "duration": 0.013219,
     "end_time": "2024-11-01T23:35:09.723761",
     "exception": false,
     "start_time": "2024-11-01T23:35:09.710542",
     "status": "completed"
    },
    "tags": [],
    "ExecuteTime": {
     "end_time": "2024-11-01T23:41:18.596998Z",
     "start_time": "2024-11-01T23:41:18.589486Z"
    }
   },
   "source": [
    "pd.set_option('display.float_format', '{:.3f}'.format)\n",
    "\n",
    "cat_attrs: list[str] = cat_attrs.split()\n",
    "cat_attrs"
   ],
   "outputs": [
    {
     "data": {
      "text/plain": [
       "[]"
      ]
     },
     "execution_count": 4,
     "metadata": {},
     "output_type": "execute_result"
    }
   ],
   "execution_count": 4
  },
  {
   "cell_type": "code",
   "id": "d56664ec8b50ea6a",
   "metadata": {
    "execution": {
     "iopub.execute_input": "2024-11-01T23:35:09.730281Z",
     "iopub.status.busy": "2024-11-01T23:35:09.729280Z",
     "iopub.status.idle": "2024-11-01T23:35:10.345666Z",
     "shell.execute_reply": "2024-11-01T23:35:10.345666Z"
    },
    "papermill": {
     "duration": 0.620907,
     "end_time": "2024-11-01T23:35:10.346673",
     "exception": false,
     "start_time": "2024-11-01T23:35:09.725766",
     "status": "completed"
    },
    "tags": [],
    "ExecuteTime": {
     "end_time": "2024-11-01T23:41:19.577597Z",
     "start_time": "2024-11-01T23:41:19.015127Z"
    }
   },
   "source": [
    "csv_path = os.path.join('data', 'data.csv')\n",
    "data = pd.read_csv(csv_path)"
   ],
   "outputs": [],
   "execution_count": 5
  },
  {
   "cell_type": "code",
   "id": "fdba6b06da2871bf",
   "metadata": {
    "execution": {
     "iopub.execute_input": "2024-11-01T23:35:10.359858Z",
     "iopub.status.busy": "2024-11-01T23:35:10.359858Z",
     "iopub.status.idle": "2024-11-01T23:35:10.392672Z",
     "shell.execute_reply": "2024-11-01T23:35:10.391667Z"
    },
    "papermill": {
     "duration": 0.037469,
     "end_time": "2024-11-01T23:35:10.393670",
     "exception": false,
     "start_time": "2024-11-01T23:35:10.356201",
     "status": "completed"
    },
    "tags": [],
    "ExecuteTime": {
     "end_time": "2024-11-01T23:41:19.624209Z",
     "start_time": "2024-11-01T23:41:19.595148Z"
    }
   },
   "source": [
    "X = data.drop(columns=['target', 'p'])\n",
    "y = data['target']"
   ],
   "outputs": [],
   "execution_count": 6
  },
  {
   "cell_type": "code",
   "id": "288f06209ad7651",
   "metadata": {
    "execution": {
     "iopub.execute_input": "2024-11-01T23:35:10.404216Z",
     "iopub.status.busy": "2024-11-01T23:35:10.402898Z",
     "iopub.status.idle": "2024-11-01T23:35:10.889228Z",
     "shell.execute_reply": "2024-11-01T23:35:10.889228Z"
    },
    "papermill": {
     "duration": 0.491356,
     "end_time": "2024-11-01T23:35:10.891156",
     "exception": false,
     "start_time": "2024-11-01T23:35:10.399800",
     "status": "completed"
    },
    "tags": [],
    "ExecuteTime": {
     "end_time": "2024-11-01T23:41:20.060603Z",
     "start_time": "2024-11-01T23:41:19.640501Z"
    }
   },
   "source": [
    "from sklearn.preprocessing import LabelEncoder\n",
    "\n",
    "label_encoder = LabelEncoder()\n",
    "y = label_encoder.fit_transform(y)\n",
    "y = pd.Series(y, name='target')"
   ],
   "outputs": [],
   "execution_count": 7
  },
  {
   "cell_type": "code",
   "id": "e32d493683b4f70f",
   "metadata": {
    "execution": {
     "iopub.execute_input": "2024-11-01T23:35:10.897448Z",
     "iopub.status.busy": "2024-11-01T23:35:10.896743Z",
     "iopub.status.idle": "2024-11-01T23:35:11.201869Z",
     "shell.execute_reply": "2024-11-01T23:35:11.201869Z"
    },
    "papermill": {
     "duration": 0.3093,
     "end_time": "2024-11-01T23:35:11.203038",
     "exception": false,
     "start_time": "2024-11-01T23:35:10.893738",
     "status": "completed"
    },
    "tags": [],
    "ExecuteTime": {
     "end_time": "2024-11-01T23:41:20.373113Z",
     "start_time": "2024-11-01T23:41:20.076763Z"
    }
   },
   "source": [
    "from sklearn.model_selection import train_test_split\n",
    "\n",
    "test_size_ratio = 0.2\n",
    "X_train, X_test, y_train, y_test = train_test_split(\n",
    "    X, y,\n",
    "    test_size=test_size_ratio, \n",
    "    stratify=y, \n",
    "    random_state=42\n",
    ")\n",
    "\n",
    "print(f\"Train: X={X_train.shape} y={y_train.shape}\")\n",
    "print(f\"Test: X={X_test.shape} y={y_test.shape}\")"
   ],
   "outputs": [
    {
     "name": "stdout",
     "output_type": "stream",
     "text": [
      "Train: X=(838860, 17) y=(838860,)\n",
      "Test: X=(209715, 17) y=(209715,)\n"
     ]
    }
   ],
   "execution_count": 8
  },
  {
   "cell_type": "code",
   "id": "6d5455bafdcbc466",
   "metadata": {
    "execution": {
     "iopub.execute_input": "2024-11-01T23:35:11.208250Z",
     "iopub.status.busy": "2024-11-01T23:35:11.208250Z",
     "iopub.status.idle": "2024-11-01T23:35:11.217349Z",
     "shell.execute_reply": "2024-11-01T23:35:11.217349Z"
    },
    "papermill": {
     "duration": 0.013309,
     "end_time": "2024-11-01T23:35:11.218351",
     "exception": false,
     "start_time": "2024-11-01T23:35:11.205042",
     "status": "completed"
    },
    "tags": [],
    "ExecuteTime": {
     "end_time": "2024-11-01T23:41:20.404438Z",
     "start_time": "2024-11-01T23:41:20.389940Z"
    }
   },
   "source": [
    "from collections import Counter\n",
    "\n",
    "if balance_data:\n",
    "    train = pd.concat([X_train, y_train], axis=1)\n",
    "    train_n = train.shape[0]\n",
    "    \n",
    "    class_counts = Counter(train['target'])\n",
    "    min_class = min(class_counts, key=lambda x: class_counts[x])\n",
    "    \n",
    "    new_train = train.groupby('target').apply(\n",
    "        lambda x: x.sample(class_counts[min_class])\n",
    "    ).reset_index(drop=True)\n",
    "    removed_n = train.shape[0] - new_train.shape[0]\n",
    "    removed_ratio = removed_n / train_n\n",
    "    \n",
    "    print(f\"Majority class: '{min_class}'\")\n",
    "    print(f\"Records removed: {removed_n} ({removed_ratio * 100:.3f} %)\")\n",
    "    X_train = new_train.drop(columns=['target'])\n",
    "    y_train = new_train['target']\n",
    "    print(f\"\\nTrain: X={X_train.shape} y={y_train.shape}\")\n",
    "else:\n",
    "    print(\"balance_data set to False\")"
   ],
   "outputs": [
    {
     "name": "stdout",
     "output_type": "stream",
     "text": [
      "balance_data set to False\n"
     ]
    }
   ],
   "execution_count": 9
  },
  {
   "cell_type": "code",
   "id": "ea1d2432dcd6f50a",
   "metadata": {
    "execution": {
     "iopub.execute_input": "2024-11-01T23:35:11.223864Z",
     "iopub.status.busy": "2024-11-01T23:35:11.222864Z",
     "iopub.status.idle": "2024-11-01T23:35:11.232377Z",
     "shell.execute_reply": "2024-11-01T23:35:11.232377Z"
    },
    "papermill": {
     "duration": 0.012531,
     "end_time": "2024-11-01T23:35:11.233393",
     "exception": false,
     "start_time": "2024-11-01T23:35:11.220862",
     "status": "completed"
    },
    "tags": [],
    "ExecuteTime": {
     "end_time": "2024-11-01T23:41:20.435685Z",
     "start_time": "2024-11-01T23:41:20.428805Z"
    }
   },
   "source": [
    "y_train_pos_ratio = y_train[y_train == 1].shape[0] / y_train.shape[0]\n",
    "y_test_pos_ratio = y_test[y_test == 1].shape[0] / y_test.shape[0]\n",
    "\n",
    "print(\"Train positives ratio:\", f\"{y_train_pos_ratio * 100:.5f} %\")\n",
    "print(\"Test positives ratio: \", f\"{y_test_pos_ratio * 100:.5f} %\")"
   ],
   "outputs": [
    {
     "name": "stdout",
     "output_type": "stream",
     "text": [
      "Train positives ratio: 1.69301 %\n",
      "Test positives ratio:  1.69325 %\n"
     ]
    }
   ],
   "execution_count": 10
  },
  {
   "cell_type": "code",
   "id": "120b47e1c07d5d5d",
   "metadata": {
    "execution": {
     "iopub.execute_input": "2024-11-01T23:35:11.246030Z",
     "iopub.status.busy": "2024-11-01T23:35:11.244998Z",
     "iopub.status.idle": "2024-11-01T23:35:11.823795Z",
     "shell.execute_reply": "2024-11-01T23:35:11.823795Z"
    },
    "papermill": {
     "duration": 0.588408,
     "end_time": "2024-11-01T23:35:11.824798",
     "exception": false,
     "start_time": "2024-11-01T23:35:11.236390",
     "status": "completed"
    },
    "tags": [],
    "ExecuteTime": {
     "end_time": "2024-11-01T23:41:21.120565Z",
     "start_time": "2024-11-01T23:41:20.467752Z"
    }
   },
   "source": [
    "if clear_data:\n",
    "    train = pd.concat([X_train, y_train], axis=1)\n",
    "    train_n = train.shape[0]\n",
    "    \n",
    "    new_train = train.drop_duplicates()\n",
    "    duplicates_n = train.shape[0] - new_train.shape[0]\n",
    "    duplicates_ratio = duplicates_n / train_n\n",
    "    print(f\"Duplicates removed: {duplicates_n} ({duplicates_ratio * 100:.3f} %)\")\n",
    "    train = new_train\n",
    "    \n",
    "    new_train = train.drop_duplicates(subset=train.columns.difference(['target']))\n",
    "    collisions_n = train.shape[0] - new_train.shape[0]\n",
    "    collisions_ratio = collisions_n / train_n\n",
    "    print(f\"Collisions removed: {collisions_n} ({collisions_ratio * 100:.3f} %)\")\n",
    "    train = new_train\n",
    "    \n",
    "    print(f\"Total removed:      {duplicates_n + collisions_n} \"\n",
    "          f\"({(duplicates_ratio + collisions_ratio) * 100:.3f} %)\")\n",
    "    X_train = train.drop(columns=['target'])\n",
    "    y_train = train['target']\n",
    "    print(f\"\\nTrain: X={X_train.shape} y={y_train.shape}\")\n",
    "else:\n",
    "    print(\"clear_data set to False\")"
   ],
   "outputs": [
    {
     "name": "stdout",
     "output_type": "stream",
     "text": [
      "Duplicates removed: 61923 (7.382 %)\n",
      "Collisions removed: 56 (0.007 %)\n",
      "Total removed:      61979 (7.388 %)\n",
      "\n",
      "Train: X=(776881, 17) y=(776881,)\n"
     ]
    }
   ],
   "execution_count": 11
  },
  {
   "cell_type": "code",
   "id": "f662710ec89f102d",
   "metadata": {
    "execution": {
     "iopub.execute_input": "2024-11-01T23:35:11.831798Z",
     "iopub.status.busy": "2024-11-01T23:35:11.830790Z",
     "iopub.status.idle": "2024-11-01T23:35:12.186464Z",
     "shell.execute_reply": "2024-11-01T23:35:12.186464Z"
    },
    "papermill": {
     "duration": 0.35919,
     "end_time": "2024-11-01T23:35:12.187471",
     "exception": false,
     "start_time": "2024-11-01T23:35:11.828281",
     "status": "completed"
    },
    "tags": [],
    "ExecuteTime": {
     "end_time": "2024-11-01T23:41:21.527519Z",
     "start_time": "2024-11-01T23:41:21.152325Z"
    }
   },
   "source": [
    "comb_attributes = list(X_train.columns)\n",
    "# combinations_n = 3\n",
    "\n",
    "train = pd.concat([X_train, y_train], axis=1)\n",
    "\n",
    "attributes_combinations = []\n",
    "for i in []:#range(len(comb_attributes)):\n",
    "    atr1 = comb_attributes[i]    \n",
    "    for j in range(i + 1, len(comb_attributes)):\n",
    "        atr2 = comb_attributes[j]\n",
    "        attributes_combinations.append(f\"{atr1}_per_{atr2}\")\n",
    "        train[attributes_combinations[-1]] = train[atr1] / train[atr2]\n",
    "        \n",
    "corr_price = abs(train.corr(numeric_only=True)[\"target\"]).sort_values(ascending=False)\n",
    "corr_price\n",
    "# corr_price_combinations = corr_price[corr_price.index.isin(attributes_combinations)]\n",
    "# for atr in corr_price_combinations.iloc[combinations_n:].index:\n",
    "#     X_train.drop(atr, axis=1, inplace=True)"
   ],
   "outputs": [
    {
     "data": {
      "text/plain": [
       "target   1.000\n",
       "f11      0.185\n",
       "f12      0.185\n",
       "f1       0.119\n",
       "f15      0.117\n",
       "f14      0.117\n",
       "f13      0.116\n",
       "f4       0.107\n",
       "f10      0.054\n",
       "f6       0.048\n",
       "f0       0.034\n",
       "f9       0.032\n",
       "f8       0.023\n",
       "f2       0.017\n",
       "f16      0.010\n",
       "f7       0.010\n",
       "f5       0.005\n",
       "f3       0.003\n",
       "Name: target, dtype: float64"
      ]
     },
     "execution_count": 12,
     "metadata": {},
     "output_type": "execute_result"
    }
   ],
   "execution_count": 12
  },
  {
   "cell_type": "code",
   "id": "c5e26b96b7083101",
   "metadata": {
    "execution": {
     "iopub.execute_input": "2024-11-01T23:35:12.193982Z",
     "iopub.status.busy": "2024-11-01T23:35:12.193982Z",
     "iopub.status.idle": "2024-11-01T23:35:12.232700Z",
     "shell.execute_reply": "2024-11-01T23:35:12.232700Z"
    },
    "papermill": {
     "duration": 0.043724,
     "end_time": "2024-11-01T23:35:12.233703",
     "exception": false,
     "start_time": "2024-11-01T23:35:12.189979",
     "status": "completed"
    },
    "tags": [],
    "ExecuteTime": {
     "end_time": "2024-11-01T23:41:21.635819Z",
     "start_time": "2024-11-01T23:41:21.590317Z"
    }
   },
   "source": [
    "from sklearn.compose import ColumnTransformer\n",
    "from sklearn.linear_model import LogisticRegression\n",
    "from sklearn.preprocessing import OneHotEncoder, StandardScaler, MinMaxScaler\n",
    "from sklearn.pipeline import Pipeline\n",
    "\n",
    "cat_encoder = OneHotEncoder().fit(X[cat_attrs])\n",
    "cat_encoder.categories_  # TODO"
   ],
   "outputs": [
    {
     "data": {
      "text/plain": [
       "[]"
      ]
     },
     "execution_count": 13,
     "metadata": {},
     "output_type": "execute_result"
    }
   ],
   "execution_count": 13
  },
  {
   "cell_type": "code",
   "id": "515460711168c32f",
   "metadata": {
    "execution": {
     "iopub.execute_input": "2024-11-01T23:35:12.240221Z",
     "iopub.status.busy": "2024-11-01T23:35:12.239217Z",
     "iopub.status.idle": "2024-11-01T23:35:12.389245Z",
     "shell.execute_reply": "2024-11-01T23:35:12.389245Z"
    },
    "papermill": {
     "duration": 0.153837,
     "end_time": "2024-11-01T23:35:12.390549",
     "exception": false,
     "start_time": "2024-11-01T23:35:12.236712",
     "status": "completed"
    },
    "tags": [],
    "ExecuteTime": {
     "end_time": "2024-11-01T23:41:21.888043Z",
     "start_time": "2024-11-01T23:41:21.668524Z"
    }
   },
   "source": [
    "from imblearn.under_sampling import NeighbourhoodCleaningRule\n",
    "from xgboost import XGBClassifier\n",
    "from imblearn.over_sampling import SMOTE\n",
    "from imblearn.pipeline import Pipeline as ImPipeline\n",
    "from sklearn.pipeline import make_pipeline\n",
    "from sklearn.svm import LinearSVC\n",
    "from sklearn.neighbors import KNeighborsClassifier\n",
    "from sklearn.ensemble import RandomForestClassifier, HistGradientBoostingClassifier, StackingClassifier\n",
    "from imblearn.over_sampling import RandomOverSampler\n",
    "from lightgbm import LGBMClassifier\n",
    "\n",
    "preprocessor = ColumnTransformer(\n",
    "    transformers=[\n",
    "        ('cat', OneHotEncoder(categories=cat_encoder.categories_), cat_attrs)\n",
    "    ],\n",
    "    remainder=StandardScaler()\n",
    ")\n",
    "# preprocessor = preprocessor.set_output(transform='pandas')\n",
    "\n",
    "classifiers = [\n",
    "    # ('boost', HistGradientBoostingClassifier(random_state=42)),\n",
    "    ('xgb', XGBClassifier()),\n",
    "    # ('lgbm', LGBMClassifier(random_state=42, class_weight='balanced')),\n",
    "    # ('rf', RandomForestClassifier(n_estimators=200, random_state=42, class_weight='balanced')),\n",
    "    ('svr', make_pipeline(StandardScaler(), \n",
    "                          LinearSVC(random_state=42, dual=False)))\n",
    "]\n",
    "clf = StackingClassifier(\n",
    "    estimators=classifiers, final_estimator=LogisticRegression()\n",
    ")\n",
    "\n",
    "pipeline = ImPipeline(steps=[\n",
    "    ('preprocessor', preprocessor),\n",
    "    # ('sampling', SMOTE(random_state=42)),\n",
    "    # ('sampling', NeighbourhoodCleaningRule()),\n",
    "    ('classifier', clf)\n",
    "])"
   ],
   "outputs": [],
   "execution_count": 14
  },
  {
   "cell_type": "code",
   "id": "f342b445ddaf788b",
   "metadata": {
    "execution": {
     "iopub.execute_input": "2024-11-01T23:35:12.396557Z",
     "iopub.status.busy": "2024-11-01T23:35:12.396557Z",
     "iopub.status.idle": "2024-11-01T23:35:12.405141Z",
     "shell.execute_reply": "2024-11-01T23:35:12.405141Z"
    },
    "papermill": {
     "duration": 0.012589,
     "end_time": "2024-11-01T23:35:12.406145",
     "exception": false,
     "start_time": "2024-11-01T23:35:12.393556",
     "status": "completed"
    },
    "tags": [],
    "ExecuteTime": {
     "end_time": "2024-11-01T23:41:21.904139Z",
     "start_time": "2024-11-01T23:41:21.892571Z"
    }
   },
   "source": [
    "param_grid = [\n",
    "    {\n",
    "        # 'preprocessor__cat': ['passthrough'],\n",
    "        # 'sampling': ['passthrough'],\n",
    "        # 'sampling__sampling_strategy': [0.5],\n",
    "        \n",
    "        # 'classifier__boost__categorical_features': [list(map(lambda attr: 'cat__' + attr, cat_attrs))],\n",
    "        # 'classifier__boost__learning_rate': [0.1],  # 0.1\n",
    "        # 'classifier__boost__max_iter': [1000],  # 100\n",
    "        # 'classifier__boost__max_depth': [20],  # 31\n",
    "        # 'classifier__boost__l2_regularization': [1.0],  # 0.0\n",
    "        \n",
    "        'classifier__xgb__n_estimators': [150],\n",
    "        'classifier__xgb__max_depth': [7],\n",
    "        # 'classifier__xgb__scale_pos_weight': [1.69],\n",
    "        # 'classifier__xgb__eval_metric': ['logloss'],\n",
    "        # 'classifier__xgb__learning_rate': [0.5],  # 1.0\n",
    "        \n",
    "        # 'classifier__lgbm__n_estimators': [10],\n",
    "        # 'classifier__lgbm__learning_rate': [0.01],\n",
    "        # 'classifier__lgbm__num_iterations': [1000],\n",
    "        # 'classifier__lgbm__max_depth': [20],\n",
    "\n",
    "        # 'classifier__svr__linearsvc__C': [0.5],  # 1.0\n",
    "        \n",
    "        # 'classifier__final_estimator__C': [0.5],  # 1.0\n",
    "        # 'classifier__final_estimator__penalty': ['l1'],\n",
    "        # 'classifier__final_estimator__solver': ['saga'],\n",
    "        # 'classifier__final_estimator__max_iter': [1000],\n",
    "    },\n",
    "]"
   ],
   "outputs": [],
   "execution_count": 15
  },
  {
   "cell_type": "code",
   "id": "6ea08895e9330bd4",
   "metadata": {
    "execution": {
     "iopub.execute_input": "2024-11-01T23:35:12.411882Z",
     "iopub.status.busy": "2024-11-01T23:35:12.411882Z",
     "iopub.status.idle": "2024-11-01T23:36:54.436471Z",
     "shell.execute_reply": "2024-11-01T23:36:54.436471Z"
    },
    "papermill": {
     "duration": 102.028097,
     "end_time": "2024-11-01T23:36:54.437471",
     "exception": false,
     "start_time": "2024-11-01T23:35:12.409374",
     "status": "completed"
    },
    "tags": [],
    "ExecuteTime": {
     "end_time": "2024-11-01T23:43:03.185503Z",
     "start_time": "2024-11-01T23:41:21.952421Z"
    }
   },
   "source": [
    "from sklearn.model_selection import GridSearchCV\n",
    "\n",
    "grid_search = GridSearchCV(\n",
    "    pipeline, param_grid,\n",
    "    cv=5,\n",
    "    scoring=['f1', 'precision', 'recall'],\n",
    "    refit='f1',\n",
    "    return_train_score=True,\n",
    "    n_jobs=n_jobs,\n",
    "    verbose=verbose\n",
    ")\n",
    "grid_search.fit(X_train, y_train);"
   ],
   "outputs": [
    {
     "name": "stdout",
     "output_type": "stream",
     "text": [
      "Fitting 5 folds for each of 1 candidates, totalling 5 fits\n"
     ]
    }
   ],
   "execution_count": 16
  },
  {
   "cell_type": "code",
   "id": "6df9de92f1c370b8",
   "metadata": {
    "execution": {
     "iopub.execute_input": "2024-11-01T23:36:54.444471Z",
     "iopub.status.busy": "2024-11-01T23:36:54.443472Z",
     "iopub.status.idle": "2024-11-01T23:36:54.452041Z",
     "shell.execute_reply": "2024-11-01T23:36:54.452041Z"
    },
    "papermill": {
     "duration": 0.012616,
     "end_time": "2024-11-01T23:36:54.453086",
     "exception": false,
     "start_time": "2024-11-01T23:36:54.440470",
     "status": "completed"
    },
    "tags": [],
    "ExecuteTime": {
     "end_time": "2024-11-01T23:43:03.264162Z",
     "start_time": "2024-11-01T23:43:03.249845Z"
    }
   },
   "source": [
    "grid_search.best_params_"
   ],
   "outputs": [
    {
     "data": {
      "text/plain": [
       "{'classifier__xgb__max_depth': 7, 'classifier__xgb__n_estimators': 150}"
      ]
     },
     "execution_count": 17,
     "metadata": {},
     "output_type": "execute_result"
    }
   ],
   "execution_count": 17
  },
  {
   "cell_type": "code",
   "id": "f2b0d1610f911a82",
   "metadata": {
    "execution": {
     "iopub.execute_input": "2024-11-01T23:36:54.458633Z",
     "iopub.status.busy": "2024-11-01T23:36:54.458633Z",
     "iopub.status.idle": "2024-11-01T23:36:54.499351Z",
     "shell.execute_reply": "2024-11-01T23:36:54.499351Z"
    },
    "papermill": {
     "duration": 0.044721,
     "end_time": "2024-11-01T23:36:54.500354",
     "exception": false,
     "start_time": "2024-11-01T23:36:54.455633",
     "status": "completed"
    },
    "tags": [],
    "ExecuteTime": {
     "end_time": "2024-11-01T23:43:03.357500Z",
     "start_time": "2024-11-01T23:43:03.327647Z"
    }
   },
   "source": [
    "grid_search.best_estimator_"
   ],
   "outputs": [
    {
     "data": {
      "text/plain": [
       "Pipeline(steps=[('preprocessor',\n",
       "                 ColumnTransformer(remainder=StandardScaler(),\n",
       "                                   transformers=[('cat',\n",
       "                                                  OneHotEncoder(categories=[]),\n",
       "                                                  [])])),\n",
       "                ('classifier',\n",
       "                 StackingClassifier(estimators=[('xgb',\n",
       "                                                 XGBClassifier(base_score=None,\n",
       "                                                               booster=None,\n",
       "                                                               callbacks=None,\n",
       "                                                               colsample_bylevel=None,\n",
       "                                                               colsample_bynode=None,\n",
       "                                                               colsample_bytree=None,\n",
       "                                                               device=None,\n",
       "                                                               early_stopping_rounds=None,...\n",
       "                                                               max_delta_step=None,\n",
       "                                                               max_depth=7,\n",
       "                                                               max_leaves=None,\n",
       "                                                               min_child_weight=None,\n",
       "                                                               missing=nan,\n",
       "                                                               monotone_constraints=None,\n",
       "                                                               multi_strategy=None,\n",
       "                                                               n_estimators=150,\n",
       "                                                               n_jobs=None,\n",
       "                                                               num_parallel_tree=None,\n",
       "                                                               random_state=None, ...)),\n",
       "                                                ('svr',\n",
       "                                                 Pipeline(steps=[('standardscaler',\n",
       "                                                                  StandardScaler()),\n",
       "                                                                 ('linearsvc',\n",
       "                                                                  LinearSVC(dual=False,\n",
       "                                                                            random_state=42))]))],\n",
       "                                    final_estimator=LogisticRegression()))])"
      ],
      "text/html": [
       "<style>#sk-container-id-1 {\n",
       "  /* Definition of color scheme common for light and dark mode */\n",
       "  --sklearn-color-text: black;\n",
       "  --sklearn-color-line: gray;\n",
       "  /* Definition of color scheme for unfitted estimators */\n",
       "  --sklearn-color-unfitted-level-0: #fff5e6;\n",
       "  --sklearn-color-unfitted-level-1: #f6e4d2;\n",
       "  --sklearn-color-unfitted-level-2: #ffe0b3;\n",
       "  --sklearn-color-unfitted-level-3: chocolate;\n",
       "  /* Definition of color scheme for fitted estimators */\n",
       "  --sklearn-color-fitted-level-0: #f0f8ff;\n",
       "  --sklearn-color-fitted-level-1: #d4ebff;\n",
       "  --sklearn-color-fitted-level-2: #b3dbfd;\n",
       "  --sklearn-color-fitted-level-3: cornflowerblue;\n",
       "\n",
       "  /* Specific color for light theme */\n",
       "  --sklearn-color-text-on-default-background: var(--sg-text-color, var(--theme-code-foreground, var(--jp-content-font-color1, black)));\n",
       "  --sklearn-color-background: var(--sg-background-color, var(--theme-background, var(--jp-layout-color0, white)));\n",
       "  --sklearn-color-border-box: var(--sg-text-color, var(--theme-code-foreground, var(--jp-content-font-color1, black)));\n",
       "  --sklearn-color-icon: #696969;\n",
       "\n",
       "  @media (prefers-color-scheme: dark) {\n",
       "    /* Redefinition of color scheme for dark theme */\n",
       "    --sklearn-color-text-on-default-background: var(--sg-text-color, var(--theme-code-foreground, var(--jp-content-font-color1, white)));\n",
       "    --sklearn-color-background: var(--sg-background-color, var(--theme-background, var(--jp-layout-color0, #111)));\n",
       "    --sklearn-color-border-box: var(--sg-text-color, var(--theme-code-foreground, var(--jp-content-font-color1, white)));\n",
       "    --sklearn-color-icon: #878787;\n",
       "  }\n",
       "}\n",
       "\n",
       "#sk-container-id-1 {\n",
       "  color: var(--sklearn-color-text);\n",
       "}\n",
       "\n",
       "#sk-container-id-1 pre {\n",
       "  padding: 0;\n",
       "}\n",
       "\n",
       "#sk-container-id-1 input.sk-hidden--visually {\n",
       "  border: 0;\n",
       "  clip: rect(1px 1px 1px 1px);\n",
       "  clip: rect(1px, 1px, 1px, 1px);\n",
       "  height: 1px;\n",
       "  margin: -1px;\n",
       "  overflow: hidden;\n",
       "  padding: 0;\n",
       "  position: absolute;\n",
       "  width: 1px;\n",
       "}\n",
       "\n",
       "#sk-container-id-1 div.sk-dashed-wrapped {\n",
       "  border: 1px dashed var(--sklearn-color-line);\n",
       "  margin: 0 0.4em 0.5em 0.4em;\n",
       "  box-sizing: border-box;\n",
       "  padding-bottom: 0.4em;\n",
       "  background-color: var(--sklearn-color-background);\n",
       "}\n",
       "\n",
       "#sk-container-id-1 div.sk-container {\n",
       "  /* jupyter's `normalize.less` sets `[hidden] { display: none; }`\n",
       "     but bootstrap.min.css set `[hidden] { display: none !important; }`\n",
       "     so we also need the `!important` here to be able to override the\n",
       "     default hidden behavior on the sphinx rendered scikit-learn.org.\n",
       "     See: https://github.com/scikit-learn/scikit-learn/issues/21755 */\n",
       "  display: inline-block !important;\n",
       "  position: relative;\n",
       "}\n",
       "\n",
       "#sk-container-id-1 div.sk-text-repr-fallback {\n",
       "  display: none;\n",
       "}\n",
       "\n",
       "div.sk-parallel-item,\n",
       "div.sk-serial,\n",
       "div.sk-item {\n",
       "  /* draw centered vertical line to link estimators */\n",
       "  background-image: linear-gradient(var(--sklearn-color-text-on-default-background), var(--sklearn-color-text-on-default-background));\n",
       "  background-size: 2px 100%;\n",
       "  background-repeat: no-repeat;\n",
       "  background-position: center center;\n",
       "}\n",
       "\n",
       "/* Parallel-specific style estimator block */\n",
       "\n",
       "#sk-container-id-1 div.sk-parallel-item::after {\n",
       "  content: \"\";\n",
       "  width: 100%;\n",
       "  border-bottom: 2px solid var(--sklearn-color-text-on-default-background);\n",
       "  flex-grow: 1;\n",
       "}\n",
       "\n",
       "#sk-container-id-1 div.sk-parallel {\n",
       "  display: flex;\n",
       "  align-items: stretch;\n",
       "  justify-content: center;\n",
       "  background-color: var(--sklearn-color-background);\n",
       "  position: relative;\n",
       "}\n",
       "\n",
       "#sk-container-id-1 div.sk-parallel-item {\n",
       "  display: flex;\n",
       "  flex-direction: column;\n",
       "}\n",
       "\n",
       "#sk-container-id-1 div.sk-parallel-item:first-child::after {\n",
       "  align-self: flex-end;\n",
       "  width: 50%;\n",
       "}\n",
       "\n",
       "#sk-container-id-1 div.sk-parallel-item:last-child::after {\n",
       "  align-self: flex-start;\n",
       "  width: 50%;\n",
       "}\n",
       "\n",
       "#sk-container-id-1 div.sk-parallel-item:only-child::after {\n",
       "  width: 0;\n",
       "}\n",
       "\n",
       "/* Serial-specific style estimator block */\n",
       "\n",
       "#sk-container-id-1 div.sk-serial {\n",
       "  display: flex;\n",
       "  flex-direction: column;\n",
       "  align-items: center;\n",
       "  background-color: var(--sklearn-color-background);\n",
       "  padding-right: 1em;\n",
       "  padding-left: 1em;\n",
       "}\n",
       "\n",
       "\n",
       "/* Toggleable style: style used for estimator/Pipeline/ColumnTransformer box that is\n",
       "clickable and can be expanded/collapsed.\n",
       "- Pipeline and ColumnTransformer use this feature and define the default style\n",
       "- Estimators will overwrite some part of the style using the `sk-estimator` class\n",
       "*/\n",
       "\n",
       "/* Pipeline and ColumnTransformer style (default) */\n",
       "\n",
       "#sk-container-id-1 div.sk-toggleable {\n",
       "  /* Default theme specific background. It is overwritten whether we have a\n",
       "  specific estimator or a Pipeline/ColumnTransformer */\n",
       "  background-color: var(--sklearn-color-background);\n",
       "}\n",
       "\n",
       "/* Toggleable label */\n",
       "#sk-container-id-1 label.sk-toggleable__label {\n",
       "  cursor: pointer;\n",
       "  display: block;\n",
       "  width: 100%;\n",
       "  margin-bottom: 0;\n",
       "  padding: 0.5em;\n",
       "  box-sizing: border-box;\n",
       "  text-align: center;\n",
       "}\n",
       "\n",
       "#sk-container-id-1 label.sk-toggleable__label-arrow:before {\n",
       "  /* Arrow on the left of the label */\n",
       "  content: \"▸\";\n",
       "  float: left;\n",
       "  margin-right: 0.25em;\n",
       "  color: var(--sklearn-color-icon);\n",
       "}\n",
       "\n",
       "#sk-container-id-1 label.sk-toggleable__label-arrow:hover:before {\n",
       "  color: var(--sklearn-color-text);\n",
       "}\n",
       "\n",
       "/* Toggleable content - dropdown */\n",
       "\n",
       "#sk-container-id-1 div.sk-toggleable__content {\n",
       "  max-height: 0;\n",
       "  max-width: 0;\n",
       "  overflow: hidden;\n",
       "  text-align: left;\n",
       "  /* unfitted */\n",
       "  background-color: var(--sklearn-color-unfitted-level-0);\n",
       "}\n",
       "\n",
       "#sk-container-id-1 div.sk-toggleable__content.fitted {\n",
       "  /* fitted */\n",
       "  background-color: var(--sklearn-color-fitted-level-0);\n",
       "}\n",
       "\n",
       "#sk-container-id-1 div.sk-toggleable__content pre {\n",
       "  margin: 0.2em;\n",
       "  border-radius: 0.25em;\n",
       "  color: var(--sklearn-color-text);\n",
       "  /* unfitted */\n",
       "  background-color: var(--sklearn-color-unfitted-level-0);\n",
       "}\n",
       "\n",
       "#sk-container-id-1 div.sk-toggleable__content.fitted pre {\n",
       "  /* unfitted */\n",
       "  background-color: var(--sklearn-color-fitted-level-0);\n",
       "}\n",
       "\n",
       "#sk-container-id-1 input.sk-toggleable__control:checked~div.sk-toggleable__content {\n",
       "  /* Expand drop-down */\n",
       "  max-height: 200px;\n",
       "  max-width: 100%;\n",
       "  overflow: auto;\n",
       "}\n",
       "\n",
       "#sk-container-id-1 input.sk-toggleable__control:checked~label.sk-toggleable__label-arrow:before {\n",
       "  content: \"▾\";\n",
       "}\n",
       "\n",
       "/* Pipeline/ColumnTransformer-specific style */\n",
       "\n",
       "#sk-container-id-1 div.sk-label input.sk-toggleable__control:checked~label.sk-toggleable__label {\n",
       "  color: var(--sklearn-color-text);\n",
       "  background-color: var(--sklearn-color-unfitted-level-2);\n",
       "}\n",
       "\n",
       "#sk-container-id-1 div.sk-label.fitted input.sk-toggleable__control:checked~label.sk-toggleable__label {\n",
       "  background-color: var(--sklearn-color-fitted-level-2);\n",
       "}\n",
       "\n",
       "/* Estimator-specific style */\n",
       "\n",
       "/* Colorize estimator box */\n",
       "#sk-container-id-1 div.sk-estimator input.sk-toggleable__control:checked~label.sk-toggleable__label {\n",
       "  /* unfitted */\n",
       "  background-color: var(--sklearn-color-unfitted-level-2);\n",
       "}\n",
       "\n",
       "#sk-container-id-1 div.sk-estimator.fitted input.sk-toggleable__control:checked~label.sk-toggleable__label {\n",
       "  /* fitted */\n",
       "  background-color: var(--sklearn-color-fitted-level-2);\n",
       "}\n",
       "\n",
       "#sk-container-id-1 div.sk-label label.sk-toggleable__label,\n",
       "#sk-container-id-1 div.sk-label label {\n",
       "  /* The background is the default theme color */\n",
       "  color: var(--sklearn-color-text-on-default-background);\n",
       "}\n",
       "\n",
       "/* On hover, darken the color of the background */\n",
       "#sk-container-id-1 div.sk-label:hover label.sk-toggleable__label {\n",
       "  color: var(--sklearn-color-text);\n",
       "  background-color: var(--sklearn-color-unfitted-level-2);\n",
       "}\n",
       "\n",
       "/* Label box, darken color on hover, fitted */\n",
       "#sk-container-id-1 div.sk-label.fitted:hover label.sk-toggleable__label.fitted {\n",
       "  color: var(--sklearn-color-text);\n",
       "  background-color: var(--sklearn-color-fitted-level-2);\n",
       "}\n",
       "\n",
       "/* Estimator label */\n",
       "\n",
       "#sk-container-id-1 div.sk-label label {\n",
       "  font-family: monospace;\n",
       "  font-weight: bold;\n",
       "  display: inline-block;\n",
       "  line-height: 1.2em;\n",
       "}\n",
       "\n",
       "#sk-container-id-1 div.sk-label-container {\n",
       "  text-align: center;\n",
       "}\n",
       "\n",
       "/* Estimator-specific */\n",
       "#sk-container-id-1 div.sk-estimator {\n",
       "  font-family: monospace;\n",
       "  border: 1px dotted var(--sklearn-color-border-box);\n",
       "  border-radius: 0.25em;\n",
       "  box-sizing: border-box;\n",
       "  margin-bottom: 0.5em;\n",
       "  /* unfitted */\n",
       "  background-color: var(--sklearn-color-unfitted-level-0);\n",
       "}\n",
       "\n",
       "#sk-container-id-1 div.sk-estimator.fitted {\n",
       "  /* fitted */\n",
       "  background-color: var(--sklearn-color-fitted-level-0);\n",
       "}\n",
       "\n",
       "/* on hover */\n",
       "#sk-container-id-1 div.sk-estimator:hover {\n",
       "  /* unfitted */\n",
       "  background-color: var(--sklearn-color-unfitted-level-2);\n",
       "}\n",
       "\n",
       "#sk-container-id-1 div.sk-estimator.fitted:hover {\n",
       "  /* fitted */\n",
       "  background-color: var(--sklearn-color-fitted-level-2);\n",
       "}\n",
       "\n",
       "/* Specification for estimator info (e.g. \"i\" and \"?\") */\n",
       "\n",
       "/* Common style for \"i\" and \"?\" */\n",
       "\n",
       ".sk-estimator-doc-link,\n",
       "a:link.sk-estimator-doc-link,\n",
       "a:visited.sk-estimator-doc-link {\n",
       "  float: right;\n",
       "  font-size: smaller;\n",
       "  line-height: 1em;\n",
       "  font-family: monospace;\n",
       "  background-color: var(--sklearn-color-background);\n",
       "  border-radius: 1em;\n",
       "  height: 1em;\n",
       "  width: 1em;\n",
       "  text-decoration: none !important;\n",
       "  margin-left: 1ex;\n",
       "  /* unfitted */\n",
       "  border: var(--sklearn-color-unfitted-level-1) 1pt solid;\n",
       "  color: var(--sklearn-color-unfitted-level-1);\n",
       "}\n",
       "\n",
       ".sk-estimator-doc-link.fitted,\n",
       "a:link.sk-estimator-doc-link.fitted,\n",
       "a:visited.sk-estimator-doc-link.fitted {\n",
       "  /* fitted */\n",
       "  border: var(--sklearn-color-fitted-level-1) 1pt solid;\n",
       "  color: var(--sklearn-color-fitted-level-1);\n",
       "}\n",
       "\n",
       "/* On hover */\n",
       "div.sk-estimator:hover .sk-estimator-doc-link:hover,\n",
       ".sk-estimator-doc-link:hover,\n",
       "div.sk-label-container:hover .sk-estimator-doc-link:hover,\n",
       ".sk-estimator-doc-link:hover {\n",
       "  /* unfitted */\n",
       "  background-color: var(--sklearn-color-unfitted-level-3);\n",
       "  color: var(--sklearn-color-background);\n",
       "  text-decoration: none;\n",
       "}\n",
       "\n",
       "div.sk-estimator.fitted:hover .sk-estimator-doc-link.fitted:hover,\n",
       ".sk-estimator-doc-link.fitted:hover,\n",
       "div.sk-label-container:hover .sk-estimator-doc-link.fitted:hover,\n",
       ".sk-estimator-doc-link.fitted:hover {\n",
       "  /* fitted */\n",
       "  background-color: var(--sklearn-color-fitted-level-3);\n",
       "  color: var(--sklearn-color-background);\n",
       "  text-decoration: none;\n",
       "}\n",
       "\n",
       "/* Span, style for the box shown on hovering the info icon */\n",
       ".sk-estimator-doc-link span {\n",
       "  display: none;\n",
       "  z-index: 9999;\n",
       "  position: relative;\n",
       "  font-weight: normal;\n",
       "  right: .2ex;\n",
       "  padding: .5ex;\n",
       "  margin: .5ex;\n",
       "  width: min-content;\n",
       "  min-width: 20ex;\n",
       "  max-width: 50ex;\n",
       "  color: var(--sklearn-color-text);\n",
       "  box-shadow: 2pt 2pt 4pt #999;\n",
       "  /* unfitted */\n",
       "  background: var(--sklearn-color-unfitted-level-0);\n",
       "  border: .5pt solid var(--sklearn-color-unfitted-level-3);\n",
       "}\n",
       "\n",
       ".sk-estimator-doc-link.fitted span {\n",
       "  /* fitted */\n",
       "  background: var(--sklearn-color-fitted-level-0);\n",
       "  border: var(--sklearn-color-fitted-level-3);\n",
       "}\n",
       "\n",
       ".sk-estimator-doc-link:hover span {\n",
       "  display: block;\n",
       "}\n",
       "\n",
       "/* \"?\"-specific style due to the `<a>` HTML tag */\n",
       "\n",
       "#sk-container-id-1 a.estimator_doc_link {\n",
       "  float: right;\n",
       "  font-size: 1rem;\n",
       "  line-height: 1em;\n",
       "  font-family: monospace;\n",
       "  background-color: var(--sklearn-color-background);\n",
       "  border-radius: 1rem;\n",
       "  height: 1rem;\n",
       "  width: 1rem;\n",
       "  text-decoration: none;\n",
       "  /* unfitted */\n",
       "  color: var(--sklearn-color-unfitted-level-1);\n",
       "  border: var(--sklearn-color-unfitted-level-1) 1pt solid;\n",
       "}\n",
       "\n",
       "#sk-container-id-1 a.estimator_doc_link.fitted {\n",
       "  /* fitted */\n",
       "  border: var(--sklearn-color-fitted-level-1) 1pt solid;\n",
       "  color: var(--sklearn-color-fitted-level-1);\n",
       "}\n",
       "\n",
       "/* On hover */\n",
       "#sk-container-id-1 a.estimator_doc_link:hover {\n",
       "  /* unfitted */\n",
       "  background-color: var(--sklearn-color-unfitted-level-3);\n",
       "  color: var(--sklearn-color-background);\n",
       "  text-decoration: none;\n",
       "}\n",
       "\n",
       "#sk-container-id-1 a.estimator_doc_link.fitted:hover {\n",
       "  /* fitted */\n",
       "  background-color: var(--sklearn-color-fitted-level-3);\n",
       "}\n",
       "</style><div id=\"sk-container-id-1\" class=\"sk-top-container\"><div class=\"sk-text-repr-fallback\"><pre>Pipeline(steps=[(&#x27;preprocessor&#x27;,\n",
       "                 ColumnTransformer(remainder=StandardScaler(),\n",
       "                                   transformers=[(&#x27;cat&#x27;,\n",
       "                                                  OneHotEncoder(categories=[]),\n",
       "                                                  [])])),\n",
       "                (&#x27;classifier&#x27;,\n",
       "                 StackingClassifier(estimators=[(&#x27;xgb&#x27;,\n",
       "                                                 XGBClassifier(base_score=None,\n",
       "                                                               booster=None,\n",
       "                                                               callbacks=None,\n",
       "                                                               colsample_bylevel=None,\n",
       "                                                               colsample_bynode=None,\n",
       "                                                               colsample_bytree=None,\n",
       "                                                               device=None,\n",
       "                                                               early_stopping_rounds=None,...\n",
       "                                                               max_delta_step=None,\n",
       "                                                               max_depth=7,\n",
       "                                                               max_leaves=None,\n",
       "                                                               min_child_weight=None,\n",
       "                                                               missing=nan,\n",
       "                                                               monotone_constraints=None,\n",
       "                                                               multi_strategy=None,\n",
       "                                                               n_estimators=150,\n",
       "                                                               n_jobs=None,\n",
       "                                                               num_parallel_tree=None,\n",
       "                                                               random_state=None, ...)),\n",
       "                                                (&#x27;svr&#x27;,\n",
       "                                                 Pipeline(steps=[(&#x27;standardscaler&#x27;,\n",
       "                                                                  StandardScaler()),\n",
       "                                                                 (&#x27;linearsvc&#x27;,\n",
       "                                                                  LinearSVC(dual=False,\n",
       "                                                                            random_state=42))]))],\n",
       "                                    final_estimator=LogisticRegression()))])</pre><b>In a Jupyter environment, please rerun this cell to show the HTML representation or trust the notebook. <br />On GitHub, the HTML representation is unable to render, please try loading this page with nbviewer.org.</b></div><div class=\"sk-container\" hidden><div class=\"sk-item sk-dashed-wrapped\"><div class=\"sk-label-container\"><div class=\"sk-label fitted sk-toggleable\"><input class=\"sk-toggleable__control sk-hidden--visually\" id=\"sk-estimator-id-1\" type=\"checkbox\" ><label for=\"sk-estimator-id-1\" class=\"sk-toggleable__label fitted sk-toggleable__label-arrow fitted\">&nbsp;Pipeline<span class=\"sk-estimator-doc-link fitted\">i<span>Fitted</span></span></label><div class=\"sk-toggleable__content fitted\"><pre>Pipeline(steps=[(&#x27;preprocessor&#x27;,\n",
       "                 ColumnTransformer(remainder=StandardScaler(),\n",
       "                                   transformers=[(&#x27;cat&#x27;,\n",
       "                                                  OneHotEncoder(categories=[]),\n",
       "                                                  [])])),\n",
       "                (&#x27;classifier&#x27;,\n",
       "                 StackingClassifier(estimators=[(&#x27;xgb&#x27;,\n",
       "                                                 XGBClassifier(base_score=None,\n",
       "                                                               booster=None,\n",
       "                                                               callbacks=None,\n",
       "                                                               colsample_bylevel=None,\n",
       "                                                               colsample_bynode=None,\n",
       "                                                               colsample_bytree=None,\n",
       "                                                               device=None,\n",
       "                                                               early_stopping_rounds=None,...\n",
       "                                                               max_delta_step=None,\n",
       "                                                               max_depth=7,\n",
       "                                                               max_leaves=None,\n",
       "                                                               min_child_weight=None,\n",
       "                                                               missing=nan,\n",
       "                                                               monotone_constraints=None,\n",
       "                                                               multi_strategy=None,\n",
       "                                                               n_estimators=150,\n",
       "                                                               n_jobs=None,\n",
       "                                                               num_parallel_tree=None,\n",
       "                                                               random_state=None, ...)),\n",
       "                                                (&#x27;svr&#x27;,\n",
       "                                                 Pipeline(steps=[(&#x27;standardscaler&#x27;,\n",
       "                                                                  StandardScaler()),\n",
       "                                                                 (&#x27;linearsvc&#x27;,\n",
       "                                                                  LinearSVC(dual=False,\n",
       "                                                                            random_state=42))]))],\n",
       "                                    final_estimator=LogisticRegression()))])</pre></div> </div></div><div class=\"sk-serial\"><div class=\"sk-item sk-dashed-wrapped\"><div class=\"sk-label-container\"><div class=\"sk-label fitted sk-toggleable\"><input class=\"sk-toggleable__control sk-hidden--visually\" id=\"sk-estimator-id-2\" type=\"checkbox\" ><label for=\"sk-estimator-id-2\" class=\"sk-toggleable__label fitted sk-toggleable__label-arrow fitted\">&nbsp;preprocessor: ColumnTransformer<a class=\"sk-estimator-doc-link fitted\" rel=\"noreferrer\" target=\"_blank\" href=\"https://scikit-learn.org/1.4/modules/generated/sklearn.compose.ColumnTransformer.html\">?<span>Documentation for preprocessor: ColumnTransformer</span></a></label><div class=\"sk-toggleable__content fitted\"><pre>ColumnTransformer(remainder=StandardScaler(),\n",
       "                  transformers=[(&#x27;cat&#x27;, OneHotEncoder(categories=[]), [])])</pre></div> </div></div><div class=\"sk-parallel\"><div class=\"sk-parallel-item\"><div class=\"sk-item\"><div class=\"sk-label-container\"><div class=\"sk-label fitted sk-toggleable\"><input class=\"sk-toggleable__control sk-hidden--visually\" id=\"sk-estimator-id-3\" type=\"checkbox\" ><label for=\"sk-estimator-id-3\" class=\"sk-toggleable__label fitted sk-toggleable__label-arrow fitted\">cat</label><div class=\"sk-toggleable__content fitted\"><pre>[]</pre></div> </div></div><div class=\"sk-serial\"><div class=\"sk-item\"><div class=\"sk-estimator fitted sk-toggleable\"><input class=\"sk-toggleable__control sk-hidden--visually\" id=\"sk-estimator-id-4\" type=\"checkbox\" ><label for=\"sk-estimator-id-4\" class=\"sk-toggleable__label fitted sk-toggleable__label-arrow fitted\">&nbsp;OneHotEncoder<a class=\"sk-estimator-doc-link fitted\" rel=\"noreferrer\" target=\"_blank\" href=\"https://scikit-learn.org/1.4/modules/generated/sklearn.preprocessing.OneHotEncoder.html\">?<span>Documentation for OneHotEncoder</span></a></label><div class=\"sk-toggleable__content fitted\"><pre>OneHotEncoder(categories=[])</pre></div> </div></div></div></div></div><div class=\"sk-parallel-item\"><div class=\"sk-item\"><div class=\"sk-label-container\"><div class=\"sk-label fitted sk-toggleable\"><input class=\"sk-toggleable__control sk-hidden--visually\" id=\"sk-estimator-id-5\" type=\"checkbox\" ><label for=\"sk-estimator-id-5\" class=\"sk-toggleable__label fitted sk-toggleable__label-arrow fitted\">remainder</label><div class=\"sk-toggleable__content fitted\"><pre>[&#x27;f0&#x27;, &#x27;f1&#x27;, &#x27;f2&#x27;, &#x27;f3&#x27;, &#x27;f4&#x27;, &#x27;f5&#x27;, &#x27;f6&#x27;, &#x27;f7&#x27;, &#x27;f8&#x27;, &#x27;f9&#x27;, &#x27;f10&#x27;, &#x27;f11&#x27;, &#x27;f12&#x27;, &#x27;f13&#x27;, &#x27;f14&#x27;, &#x27;f15&#x27;, &#x27;f16&#x27;]</pre></div> </div></div><div class=\"sk-serial\"><div class=\"sk-item\"><div class=\"sk-estimator fitted sk-toggleable\"><input class=\"sk-toggleable__control sk-hidden--visually\" id=\"sk-estimator-id-6\" type=\"checkbox\" ><label for=\"sk-estimator-id-6\" class=\"sk-toggleable__label fitted sk-toggleable__label-arrow fitted\">&nbsp;StandardScaler<a class=\"sk-estimator-doc-link fitted\" rel=\"noreferrer\" target=\"_blank\" href=\"https://scikit-learn.org/1.4/modules/generated/sklearn.preprocessing.StandardScaler.html\">?<span>Documentation for StandardScaler</span></a></label><div class=\"sk-toggleable__content fitted\"><pre>StandardScaler()</pre></div> </div></div></div></div></div></div></div><div class=\"sk-item\"><div class=\"sk-label-container\"><div class=\"sk-label fitted sk-toggleable\"><input class=\"sk-toggleable__control sk-hidden--visually\" id=\"sk-estimator-id-7\" type=\"checkbox\" ><label for=\"sk-estimator-id-7\" class=\"sk-toggleable__label fitted sk-toggleable__label-arrow fitted\">&nbsp;classifier: StackingClassifier<a class=\"sk-estimator-doc-link fitted\" rel=\"noreferrer\" target=\"_blank\" href=\"https://scikit-learn.org/1.4/modules/generated/sklearn.ensemble.StackingClassifier.html\">?<span>Documentation for classifier: StackingClassifier</span></a></label><div class=\"sk-toggleable__content fitted\"><pre>StackingClassifier(estimators=[(&#x27;xgb&#x27;,\n",
       "                                XGBClassifier(base_score=None, booster=None,\n",
       "                                              callbacks=None,\n",
       "                                              colsample_bylevel=None,\n",
       "                                              colsample_bynode=None,\n",
       "                                              colsample_bytree=None,\n",
       "                                              device=None,\n",
       "                                              early_stopping_rounds=None,\n",
       "                                              enable_categorical=False,\n",
       "                                              eval_metric=None,\n",
       "                                              feature_types=None, gamma=None,\n",
       "                                              grow_policy=None,\n",
       "                                              importance_type=None,\n",
       "                                              interaction_constraints=None,\n",
       "                                              learning_...\n",
       "                                              max_delta_step=None, max_depth=7,\n",
       "                                              max_leaves=None,\n",
       "                                              min_child_weight=None,\n",
       "                                              missing=nan,\n",
       "                                              monotone_constraints=None,\n",
       "                                              multi_strategy=None,\n",
       "                                              n_estimators=150, n_jobs=None,\n",
       "                                              num_parallel_tree=None,\n",
       "                                              random_state=None, ...)),\n",
       "                               (&#x27;svr&#x27;,\n",
       "                                Pipeline(steps=[(&#x27;standardscaler&#x27;,\n",
       "                                                 StandardScaler()),\n",
       "                                                (&#x27;linearsvc&#x27;,\n",
       "                                                 LinearSVC(dual=False,\n",
       "                                                           random_state=42))]))],\n",
       "                   final_estimator=LogisticRegression())</pre></div> </div></div><div class=\"sk-serial\"><div class=\"sk-item\"><div class=\"sk-parallel\"><div class=\"sk-parallel-item\"><div class=\"sk-item\"><div class=\"sk-label-container\"><div class=\"sk-label fitted sk-toggleable\"><label>xgb</label></div></div><div class=\"sk-serial\"><div class=\"sk-item\"><div class=\"sk-estimator fitted sk-toggleable\"><input class=\"sk-toggleable__control sk-hidden--visually\" id=\"sk-estimator-id-8\" type=\"checkbox\" ><label for=\"sk-estimator-id-8\" class=\"sk-toggleable__label fitted sk-toggleable__label-arrow fitted\">XGBClassifier</label><div class=\"sk-toggleable__content fitted\"><pre>XGBClassifier(base_score=None, booster=None, callbacks=None,\n",
       "              colsample_bylevel=None, colsample_bynode=None,\n",
       "              colsample_bytree=None, device=None, early_stopping_rounds=None,\n",
       "              enable_categorical=False, eval_metric=None, feature_types=None,\n",
       "              gamma=None, grow_policy=None, importance_type=None,\n",
       "              interaction_constraints=None, learning_rate=None, max_bin=None,\n",
       "              max_cat_threshold=None, max_cat_to_onehot=None,\n",
       "              max_delta_step=None, max_depth=7, max_leaves=None,\n",
       "              min_child_weight=None, missing=nan, monotone_constraints=None,\n",
       "              multi_strategy=None, n_estimators=150, n_jobs=None,\n",
       "              num_parallel_tree=None, random_state=None, ...)</pre></div> </div></div></div></div></div><div class=\"sk-parallel-item\"><div class=\"sk-item\"><div class=\"sk-label-container\"><div class=\"sk-label fitted sk-toggleable\"><label>svr</label></div></div><div class=\"sk-serial\"><div class=\"sk-item\"><div class=\"sk-serial\"><div class=\"sk-item\"><div class=\"sk-estimator fitted sk-toggleable\"><input class=\"sk-toggleable__control sk-hidden--visually\" id=\"sk-estimator-id-9\" type=\"checkbox\" ><label for=\"sk-estimator-id-9\" class=\"sk-toggleable__label fitted sk-toggleable__label-arrow fitted\">&nbsp;StandardScaler<a class=\"sk-estimator-doc-link fitted\" rel=\"noreferrer\" target=\"_blank\" href=\"https://scikit-learn.org/1.4/modules/generated/sklearn.preprocessing.StandardScaler.html\">?<span>Documentation for StandardScaler</span></a></label><div class=\"sk-toggleable__content fitted\"><pre>StandardScaler()</pre></div> </div></div><div class=\"sk-item\"><div class=\"sk-estimator fitted sk-toggleable\"><input class=\"sk-toggleable__control sk-hidden--visually\" id=\"sk-estimator-id-10\" type=\"checkbox\" ><label for=\"sk-estimator-id-10\" class=\"sk-toggleable__label fitted sk-toggleable__label-arrow fitted\">&nbsp;LinearSVC<a class=\"sk-estimator-doc-link fitted\" rel=\"noreferrer\" target=\"_blank\" href=\"https://scikit-learn.org/1.4/modules/generated/sklearn.svm.LinearSVC.html\">?<span>Documentation for LinearSVC</span></a></label><div class=\"sk-toggleable__content fitted\"><pre>LinearSVC(dual=False, random_state=42)</pre></div> </div></div></div></div></div></div></div></div></div><div class=\"sk-item\"><div class=\"sk-parallel\"><div class=\"sk-parallel-item\"><div class=\"sk-item\"><div class=\"sk-label-container\"><div class=\"sk-label fitted sk-toggleable\"><label>final_estimator</label></div></div><div class=\"sk-serial\"><div class=\"sk-item\"><div class=\"sk-estimator fitted sk-toggleable\"><input class=\"sk-toggleable__control sk-hidden--visually\" id=\"sk-estimator-id-11\" type=\"checkbox\" ><label for=\"sk-estimator-id-11\" class=\"sk-toggleable__label fitted sk-toggleable__label-arrow fitted\">&nbsp;LogisticRegression<a class=\"sk-estimator-doc-link fitted\" rel=\"noreferrer\" target=\"_blank\" href=\"https://scikit-learn.org/1.4/modules/generated/sklearn.linear_model.LogisticRegression.html\">?<span>Documentation for LogisticRegression</span></a></label><div class=\"sk-toggleable__content fitted\"><pre>LogisticRegression()</pre></div> </div></div></div></div></div></div></div></div></div></div></div></div></div>"
      ]
     },
     "execution_count": 18,
     "metadata": {},
     "output_type": "execute_result"
    }
   ],
   "execution_count": 18
  },
  {
   "cell_type": "code",
   "id": "3bac9ca63acaa1f9",
   "metadata": {
    "execution": {
     "iopub.execute_input": "2024-11-01T23:36:54.508272Z",
     "iopub.status.busy": "2024-11-01T23:36:54.508272Z",
     "iopub.status.idle": "2024-11-01T23:36:54.514558Z",
     "shell.execute_reply": "2024-11-01T23:36:54.514558Z"
    },
    "papermill": {
     "duration": 0.011055,
     "end_time": "2024-11-01T23:36:54.515508",
     "exception": false,
     "start_time": "2024-11-01T23:36:54.504453",
     "status": "completed"
    },
    "tags": [],
    "ExecuteTime": {
     "end_time": "2024-11-01T23:43:03.437420Z",
     "start_time": "2024-11-01T23:43:03.422831Z"
    }
   },
   "source": [
    "grid_search.best_score_"
   ],
   "outputs": [
    {
     "data": {
      "text/plain": [
       "0.7726696281252042"
      ]
     },
     "execution_count": 19,
     "metadata": {},
     "output_type": "execute_result"
    }
   ],
   "execution_count": 19
  },
  {
   "cell_type": "code",
   "id": "ee1faab262b6aeeb",
   "metadata": {
    "execution": {
     "iopub.execute_input": "2024-11-01T23:36:54.522964Z",
     "iopub.status.busy": "2024-11-01T23:36:54.522964Z",
     "iopub.status.idle": "2024-11-01T23:36:54.544873Z",
     "shell.execute_reply": "2024-11-01T23:36:54.544783Z"
    },
    "papermill": {
     "duration": 0.027519,
     "end_time": "2024-11-01T23:36:54.546025",
     "exception": false,
     "start_time": "2024-11-01T23:36:54.518506",
     "status": "completed"
    },
    "tags": [],
    "ExecuteTime": {
     "end_time": "2024-11-01T23:43:03.515683Z",
     "start_time": "2024-11-01T23:43:03.500813Z"
    }
   },
   "source": [
    "cv_results = pd.DataFrame(grid_search.cv_results_)\n",
    "cv_results = cv_results.sort_values('rank_test_f1')\n",
    "cv_results"
   ],
   "outputs": [
    {
     "data": {
      "text/plain": [
       "   mean_fit_time  std_fit_time  mean_score_time  std_score_time  \\\n",
       "0         67.011         1.215            0.724           0.050   \n",
       "\n",
       "  param_classifier__xgb__max_depth param_classifier__xgb__n_estimators  \\\n",
       "0                                7                                 150   \n",
       "\n",
       "                                              params  split0_test_f1  \\\n",
       "0  {'classifier__xgb__max_depth': 7, 'classifier_...           0.772   \n",
       "\n",
       "   split1_test_f1  split2_test_f1  ...  mean_test_recall  std_test_recall  \\\n",
       "0           0.778           0.773  ...             0.713            0.010   \n",
       "\n",
       "   rank_test_recall  split0_train_recall  split1_train_recall  \\\n",
       "0                 1                0.783                0.778   \n",
       "\n",
       "   split2_train_recall  split3_train_recall  split4_train_recall  \\\n",
       "0                0.784                0.787                0.782   \n",
       "\n",
       "   mean_train_recall  std_train_recall  \n",
       "0              0.783             0.003  \n",
       "\n",
       "[1 rows x 52 columns]"
      ],
      "text/html": [
       "<div>\n",
       "<style scoped>\n",
       "    .dataframe tbody tr th:only-of-type {\n",
       "        vertical-align: middle;\n",
       "    }\n",
       "\n",
       "    .dataframe tbody tr th {\n",
       "        vertical-align: top;\n",
       "    }\n",
       "\n",
       "    .dataframe thead th {\n",
       "        text-align: right;\n",
       "    }\n",
       "</style>\n",
       "<table border=\"1\" class=\"dataframe\">\n",
       "  <thead>\n",
       "    <tr style=\"text-align: right;\">\n",
       "      <th></th>\n",
       "      <th>mean_fit_time</th>\n",
       "      <th>std_fit_time</th>\n",
       "      <th>mean_score_time</th>\n",
       "      <th>std_score_time</th>\n",
       "      <th>param_classifier__xgb__max_depth</th>\n",
       "      <th>param_classifier__xgb__n_estimators</th>\n",
       "      <th>params</th>\n",
       "      <th>split0_test_f1</th>\n",
       "      <th>split1_test_f1</th>\n",
       "      <th>split2_test_f1</th>\n",
       "      <th>...</th>\n",
       "      <th>mean_test_recall</th>\n",
       "      <th>std_test_recall</th>\n",
       "      <th>rank_test_recall</th>\n",
       "      <th>split0_train_recall</th>\n",
       "      <th>split1_train_recall</th>\n",
       "      <th>split2_train_recall</th>\n",
       "      <th>split3_train_recall</th>\n",
       "      <th>split4_train_recall</th>\n",
       "      <th>mean_train_recall</th>\n",
       "      <th>std_train_recall</th>\n",
       "    </tr>\n",
       "  </thead>\n",
       "  <tbody>\n",
       "    <tr>\n",
       "      <th>0</th>\n",
       "      <td>67.011</td>\n",
       "      <td>1.215</td>\n",
       "      <td>0.724</td>\n",
       "      <td>0.050</td>\n",
       "      <td>7</td>\n",
       "      <td>150</td>\n",
       "      <td>{'classifier__xgb__max_depth': 7, 'classifier_...</td>\n",
       "      <td>0.772</td>\n",
       "      <td>0.778</td>\n",
       "      <td>0.773</td>\n",
       "      <td>...</td>\n",
       "      <td>0.713</td>\n",
       "      <td>0.010</td>\n",
       "      <td>1</td>\n",
       "      <td>0.783</td>\n",
       "      <td>0.778</td>\n",
       "      <td>0.784</td>\n",
       "      <td>0.787</td>\n",
       "      <td>0.782</td>\n",
       "      <td>0.783</td>\n",
       "      <td>0.003</td>\n",
       "    </tr>\n",
       "  </tbody>\n",
       "</table>\n",
       "<p>1 rows × 52 columns</p>\n",
       "</div>"
      ]
     },
     "execution_count": 20,
     "metadata": {},
     "output_type": "execute_result"
    }
   ],
   "execution_count": 20
  },
  {
   "cell_type": "code",
   "id": "472bc1c2945e2ede",
   "metadata": {
    "execution": {
     "iopub.execute_input": "2024-11-01T23:36:54.553535Z",
     "iopub.status.busy": "2024-11-01T23:36:54.552536Z",
     "iopub.status.idle": "2024-11-01T23:36:54.828284Z",
     "shell.execute_reply": "2024-11-01T23:36:54.828284Z"
    },
    "papermill": {
     "duration": 0.279756,
     "end_time": "2024-11-01T23:36:54.829291",
     "exception": false,
     "start_time": "2024-11-01T23:36:54.549535",
     "status": "completed"
    },
    "tags": [],
    "ExecuteTime": {
     "end_time": "2024-11-01T23:43:03.845517Z",
     "start_time": "2024-11-01T23:43:03.579710Z"
    }
   },
   "source": [
    "from sklearn.metrics import f1_score, precision_score, recall_score\n",
    "\n",
    "y_pred = grid_search.best_estimator_.predict(X_test)\n",
    "f1 = f1_score(y_test, y_pred)\n",
    "p = precision_score(y_test, y_pred)\n",
    "r = recall_score(y_test, y_pred)\n",
    "\n",
    "print(\"F1:\", f1)\n",
    "print(\"Precision:\", p)\n",
    "print(\"Recall:\", r)"
   ],
   "outputs": [
    {
     "name": "stdout",
     "output_type": "stream",
     "text": [
      "F1: 0.8008480993487809\n",
      "Precision: 0.8663171690694627\n",
      "Recall: 0.7445789918332864\n"
     ]
    }
   ],
   "execution_count": 21
  },
  {
   "cell_type": "code",
   "id": "1420d5a2ba01a421",
   "metadata": {
    "execution": {
     "iopub.execute_input": "2024-11-01T23:36:54.850232Z",
     "iopub.status.busy": "2024-11-01T23:36:54.850232Z",
     "iopub.status.idle": "2024-11-01T23:36:54.876814Z",
     "shell.execute_reply": "2024-11-01T23:36:54.876814Z"
    },
    "papermill": {
     "duration": 0.033078,
     "end_time": "2024-11-01T23:36:54.877819",
     "exception": false,
     "start_time": "2024-11-01T23:36:54.844741",
     "status": "completed"
    },
    "tags": [],
    "ExecuteTime": {
     "end_time": "2024-11-01T23:43:03.875797Z",
     "start_time": "2024-11-01T23:43:03.848373Z"
    }
   },
   "source": [
    "from joblib import dump\n",
    "\n",
    "if not os.path.exists('out'):\n",
    "    os.makedirs('out')\n",
    "dump(grid_search, os.path.join('out', 'GridSearchCV_dump.pkl'), compress=True)"
   ],
   "outputs": [
    {
     "data": {
      "text/plain": [
       "['out\\\\GridSearchCV_dump.pkl']"
      ]
     },
     "execution_count": 22,
     "metadata": {},
     "output_type": "execute_result"
    }
   ],
   "execution_count": 22
  }
 ],
 "metadata": {
  "kernelspec": {
   "display_name": "Python 3 (ipykernel)",
   "language": "python",
   "name": "python3"
  },
  "language_info": {
   "codemirror_mode": {
    "name": "ipython",
    "version": 3
   },
   "file_extension": ".py",
   "mimetype": "text/x-python",
   "name": "python",
   "nbconvert_exporter": "python",
   "pygments_lexer": "ipython3",
   "version": "3.9.13"
  },
  "papermill": {
   "default_parameters": {},
   "duration": 106.977247,
   "end_time": "2024-11-01T23:36:55.436738",
   "environment_variables": {},
   "exception": null,
   "input_path": "classification_c.ipynb",
   "output_path": "classification_c_x_4.ipynb",
   "parameters": {
    "cat_attrs": "",
    "n_jobs": 8
   },
   "start_time": "2024-11-01T23:35:08.459491",
   "version": "2.6.0"
  }
 },
 "nbformat": 4,
 "nbformat_minor": 5
}
