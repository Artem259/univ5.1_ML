{
 "cells": [
  {
   "cell_type": "code",
   "id": "initial_id",
   "metadata": {
    "execution": {
     "iopub.execute_input": "2024-10-26T20:38:00.936277Z",
     "iopub.status.busy": "2024-10-26T20:38:00.935270Z",
     "iopub.status.idle": "2024-10-26T20:38:01.182350Z",
     "shell.execute_reply": "2024-10-26T20:38:01.182350Z"
    },
    "papermill": {
     "duration": 0.248301,
     "end_time": "2024-10-24T07:31:02.472296",
     "exception": false,
     "start_time": "2024-10-24T07:31:02.223995",
     "status": "completed"
    },
    "tags": []
   },
   "source": [
    "import os\n",
    "import pandas as pd"
   ],
   "outputs": [],
   "execution_count": null
  },
  {
   "cell_type": "code",
   "id": "ab92d0123055b0f4",
   "metadata": {
    "execution": {
     "iopub.execute_input": "2024-10-26T20:38:01.184355Z",
     "iopub.status.busy": "2024-10-26T20:38:01.184355Z",
     "iopub.status.idle": "2024-10-26T20:38:01.197889Z",
     "shell.execute_reply": "2024-10-26T20:38:01.197889Z"
    },
    "papermill": {
     "duration": 0.01557,
     "end_time": "2024-10-24T07:31:02.503462",
     "exception": false,
     "start_time": "2024-10-24T07:31:02.487892",
     "status": "completed"
    },
    "tags": [
     "parameters"
    ]
   },
   "source": [
    "cat_attrs: list[str] = ['f12', 'f11']\n",
    "balance_data: bool = False\n",
    "clear_data: bool = True\n",
    "n_jobs: int = 1\n",
    "verbose: int = 10"
   ],
   "outputs": [],
   "execution_count": null
  },
  {
   "cell_type": "code",
   "id": "af6f5896efa57adf",
   "metadata": {
    "execution": {
     "iopub.execute_input": "2024-10-26T20:38:01.199347Z",
     "iopub.status.busy": "2024-10-26T20:38:01.199347Z",
     "iopub.status.idle": "2024-10-26T20:38:01.213483Z",
     "shell.execute_reply": "2024-10-26T20:38:01.213483Z"
    },
    "papermill": {
     "duration": 0.014086,
     "end_time": "2024-10-24T07:31:02.551292",
     "exception": false,
     "start_time": "2024-10-24T07:31:02.537206",
     "status": "completed"
    },
    "tags": []
   },
   "source": [
    "pd.set_option('display.float_format', '{:.3f}'.format)"
   ],
   "outputs": [],
   "execution_count": null
  },
  {
   "cell_type": "code",
   "id": "d56664ec8b50ea6a",
   "metadata": {
    "execution": {
     "iopub.execute_input": "2024-10-26T20:38:01.214910Z",
     "iopub.status.busy": "2024-10-26T20:38:01.214910Z",
     "iopub.status.idle": "2024-10-26T20:38:01.790080Z",
     "shell.execute_reply": "2024-10-26T20:38:01.789575Z"
    },
    "papermill": {
     "duration": 0.573926,
     "end_time": "2024-10-24T07:31:03.128365",
     "exception": false,
     "start_time": "2024-10-24T07:31:02.554439",
     "status": "completed"
    },
    "tags": []
   },
   "source": [
    "csv_path = os.path.join('data', 'data.csv')\n",
    "data = pd.read_csv(csv_path)"
   ],
   "outputs": [],
   "execution_count": null
  },
  {
   "cell_type": "code",
   "id": "fdba6b06da2871bf",
   "metadata": {
    "execution": {
     "iopub.execute_input": "2024-10-26T20:38:01.792085Z",
     "iopub.status.busy": "2024-10-26T20:38:01.791085Z",
     "iopub.status.idle": "2024-10-26T20:38:01.851245Z",
     "shell.execute_reply": "2024-10-26T20:38:01.851245Z"
    },
    "papermill": {
     "duration": 0.061439,
     "end_time": "2024-10-24T07:31:03.205794",
     "exception": false,
     "start_time": "2024-10-24T07:31:03.144355",
     "status": "completed"
    },
    "tags": []
   },
   "source": [
    "X = data.drop(columns=['target', 'p'])\n",
    "y = data['target']"
   ],
   "outputs": [],
   "execution_count": null
  },
  {
   "cell_type": "code",
   "id": "288f06209ad7651",
   "metadata": {
    "execution": {
     "iopub.execute_input": "2024-10-26T20:38:01.853245Z",
     "iopub.status.busy": "2024-10-26T20:38:01.853245Z",
     "iopub.status.idle": "2024-10-26T20:38:02.254227Z",
     "shell.execute_reply": "2024-10-26T20:38:02.254227Z"
    },
    "papermill": {
     "duration": 0.433726,
     "end_time": "2024-10-24T07:31:03.642520",
     "exception": false,
     "start_time": "2024-10-24T07:31:03.208794",
     "status": "completed"
    },
    "tags": []
   },
   "source": [
    "from sklearn.preprocessing import LabelEncoder\n",
    "\n",
    "label_encoder = LabelEncoder()\n",
    "y = label_encoder.fit_transform(y)\n",
    "y = pd.Series(y, name='target')"
   ],
   "outputs": [],
   "execution_count": null
  },
  {
   "cell_type": "code",
   "id": "e32d493683b4f70f",
   "metadata": {
    "execution": {
     "iopub.execute_input": "2024-10-26T20:38:02.256228Z",
     "iopub.status.busy": "2024-10-26T20:38:02.256228Z",
     "iopub.status.idle": "2024-10-26T20:38:02.554444Z",
     "shell.execute_reply": "2024-10-26T20:38:02.554444Z"
    },
    "papermill": {
     "duration": 0.355701,
     "end_time": "2024-10-24T07:31:04.000218",
     "exception": false,
     "start_time": "2024-10-24T07:31:03.644517",
     "status": "completed"
    },
    "tags": []
   },
   "source": [
    "from sklearn.model_selection import StratifiedShuffleSplit\n",
    "\n",
    "test_size_ratio = 0.2\n",
    "test_split = StratifiedShuffleSplit(n_splits=1, test_size=test_size_ratio, random_state=42)\n",
    "train_index, test_index = next(test_split.split(X, y))\n",
    "X_train, X_test = X.iloc[train_index], X.iloc[test_index]\n",
    "y_train, y_test = y.iloc[train_index], y.iloc[test_index]\n",
    "\n",
    "print(f\"Train: X={X_train.shape} y={y_train.shape}\")\n",
    "print(f\"Test: X={X_test.shape} y={y_test.shape}\")"
   ],
   "outputs": [],
   "execution_count": null
  },
  {
   "cell_type": "code",
   "id": "6d5455bafdcbc466",
   "metadata": {
    "execution": {
     "iopub.execute_input": "2024-10-26T20:38:02.556910Z",
     "iopub.status.busy": "2024-10-26T20:38:02.555901Z",
     "iopub.status.idle": "2024-10-26T20:38:02.570401Z",
     "shell.execute_reply": "2024-10-26T20:38:02.570401Z"
    }
   },
   "source": [
    "from collections import Counter\n",
    "\n",
    "if balance_data:\n",
    "    train = pd.concat([X_train, y_train], axis=1)\n",
    "    train_n = train.shape[0]\n",
    "    \n",
    "    class_counts = Counter(train['target'])\n",
    "    min_class = min(class_counts, key=lambda x: class_counts[x])\n",
    "    \n",
    "    new_train = train.groupby('target').apply(\n",
    "        lambda x: x.sample(class_counts[min_class])\n",
    "    ).reset_index(drop=True)\n",
    "    removed_n = train.shape[0] - new_train.shape[0]\n",
    "    removed_ratio = removed_n / train_n\n",
    "    \n",
    "    print(f\"Majority class: '{min_class}'\")\n",
    "    print(f\"Records removed: {removed_n} ({removed_ratio * 100:.3f} %)\")\n",
    "    X_train = new_train.drop(columns=['target'])\n",
    "    y_train = new_train['target']\n",
    "    print(f\"\\nTrain: X={X_train.shape} y={y_train.shape}\")\n",
    "else:\n",
    "    print(\"balance_data set to False\")"
   ],
   "outputs": [],
   "execution_count": null
  },
  {
   "cell_type": "code",
   "id": "ea1d2432dcd6f50a",
   "metadata": {
    "execution": {
     "iopub.execute_input": "2024-10-26T20:38:02.572402Z",
     "iopub.status.busy": "2024-10-26T20:38:02.572402Z",
     "iopub.status.idle": "2024-10-26T20:38:02.585532Z",
     "shell.execute_reply": "2024-10-26T20:38:02.585532Z"
    }
   },
   "source": [
    "y_train_pos_ratio = y_train[y_train == 1].shape[0] / y_train.shape[0]\n",
    "y_test_pos_ratio = y_test[y_test == 1].shape[0] / y_test.shape[0]\n",
    "\n",
    "print(\"Train positives ratio:\", f\"{y_train_pos_ratio * 100:.5f} %\")\n",
    "print(\"Test positives ratio: \", f\"{y_test_pos_ratio * 100:.5f} %\")"
   ],
   "outputs": [],
   "execution_count": null
  },
  {
   "metadata": {},
   "cell_type": "code",
   "source": [
    "if clear_data:\n",
    "    train = pd.concat([X_train, y_train], axis=1)\n",
    "    train_n = train.shape[0]\n",
    "    \n",
    "    new_train = train.drop_duplicates()\n",
    "    duplicates_n = train.shape[0] - new_train.shape[0]\n",
    "    duplicates_ratio = duplicates_n / train_n\n",
    "    print(f\"Duplicates removed: {duplicates_n} ({duplicates_ratio * 100:.3f} %)\")\n",
    "    train = new_train\n",
    "    \n",
    "    new_train = train.drop_duplicates(subset=train.columns.difference(['target']))\n",
    "    collisions_n = train.shape[0] - new_train.shape[0]\n",
    "    collisions_ratio = collisions_n / train_n\n",
    "    print(f\"Collisions removed: {collisions_n} ({collisions_ratio * 100:.3f} %)\")\n",
    "    train = new_train\n",
    "    \n",
    "    print(f\"Total removed:      {duplicates_n + collisions_n} \"\n",
    "          f\"({(duplicates_ratio + collisions_ratio) * 100:.3f} %)\")\n",
    "    X_train = train.drop(columns=['target'])\n",
    "    y_train = train['target']\n",
    "    print(f\"\\nTrain: X={X_train.shape} y={y_train.shape}\")\n",
    "else:\n",
    "    print(\"clear_data set to False\")"
   ],
   "id": "120b47e1c07d5d5d",
   "outputs": [],
   "execution_count": null
  },
  {
   "cell_type": "code",
   "id": "c5e26b96b7083101",
   "metadata": {
    "execution": {
     "iopub.execute_input": "2024-10-26T20:38:02.586883Z",
     "iopub.status.busy": "2024-10-26T20:38:02.586883Z",
     "iopub.status.idle": "2024-10-26T20:38:02.663442Z",
     "shell.execute_reply": "2024-10-26T20:38:02.663442Z"
    }
   },
   "source": [
    "from sklearn.compose import ColumnTransformer\n",
    "from sklearn.linear_model import LogisticRegression\n",
    "from sklearn.preprocessing import OneHotEncoder, StandardScaler\n",
    "from sklearn.pipeline import Pipeline\n",
    "\n",
    "cat_encoder = OneHotEncoder().fit(X[cat_attrs])\n",
    "cat_encoder.categories_  # TODO"
   ],
   "outputs": [],
   "execution_count": null
  },
  {
   "cell_type": "code",
   "id": "515460711168c32f",
   "metadata": {
    "execution": {
     "iopub.execute_input": "2024-10-26T20:38:02.664795Z",
     "iopub.status.busy": "2024-10-26T20:38:02.664795Z",
     "iopub.status.idle": "2024-10-26T20:38:02.679425Z",
     "shell.execute_reply": "2024-10-26T20:38:02.679425Z"
    },
    "papermill": {
     "duration": 0.032144,
     "end_time": "2024-10-24T07:31:04.064063",
     "exception": false,
     "start_time": "2024-10-24T07:31:04.031919",
     "status": "completed"
    },
    "tags": []
   },
   "source": [
    "preprocessor = ColumnTransformer(\n",
    "    transformers=[\n",
    "        ('cat', OneHotEncoder(categories=cat_encoder.categories_), cat_attrs)\n",
    "    ],\n",
    "    remainder=StandardScaler()\n",
    ")\n",
    "pipeline = Pipeline(steps=[\n",
    "    ('preprocessor', preprocessor),\n",
    "    ('classifier', LogisticRegression())\n",
    "])"
   ],
   "outputs": [],
   "execution_count": null
  },
  {
   "cell_type": "code",
   "id": "f342b445ddaf788b",
   "metadata": {
    "execution": {
     "iopub.execute_input": "2024-10-26T20:38:02.680630Z",
     "iopub.status.busy": "2024-10-26T20:38:02.680630Z",
     "iopub.status.idle": "2024-10-26T20:38:02.724760Z",
     "shell.execute_reply": "2024-10-26T20:38:02.724760Z"
    },
    "papermill": {
     "duration": 0.059618,
     "end_time": "2024-10-24T07:31:04.126678",
     "exception": false,
     "start_time": "2024-10-24T07:31:04.067060",
     "status": "completed"
    },
    "tags": []
   },
   "source": [
    "from sklearn.neural_network import MLPClassifier\n",
    "from sklearn.tree import DecisionTreeClassifier\n",
    "from sklearn.neighbors import KNeighborsClassifier\n",
    "from sklearn.svm import SVC\n",
    "from sklearn.ensemble import RandomForestClassifier, GradientBoostingClassifier, AdaBoostClassifier, HistGradientBoostingClassifier\n",
    "from xgboost import XGBClassifier\n",
    "from imblearn.ensemble import BalancedBaggingClassifier\n",
    "\n",
    "classifiers = {\n",
    "    'LogisticRegression': LogisticRegression(random_state=42),\n",
    "    'RandomForestClassifier': RandomForestClassifier(random_state=42),\n",
    "    'SVC': SVC(random_state=42),\n",
    "    'KNeighborsClassifier': KNeighborsClassifier(),\n",
    "    'DecisionTreeClassifier': DecisionTreeClassifier(random_state=42),\n",
    "    'GradientBoostingClassifier': GradientBoostingClassifier(random_state=42),\n",
    "    'AdaBoostClassifier': AdaBoostClassifier(random_state=42),\n",
    "    'MLPClassifier': MLPClassifier(random_state=42),\n",
    "    'HistGradientBoostingClassifier': HistGradientBoostingClassifier(random_state=42),\n",
    "    'XGBClassifier': XGBClassifier(scale_pos_weight=1.69, eval_metric='logloss'),\n",
    "    'BalancedBaggingClassifier': BalancedBaggingClassifier(random_state=42),\n",
    "}\n",
    "param_grid = [\n",
    "    {\n",
    "        'classifier': [classifiers['RandomForestClassifier']],\n",
    "        'classifier__n_estimators': [100],\n",
    "        'classifier__max_depth': [None],\n",
    "    },\n",
    "    # {\n",
    "    #     'classifier': [classifiers['MLPClassifier']],\n",
    "    #     'classifier__hidden_layer_sizes': [(512, ), (256, ), (256, 64), (64, 64, 64)],\n",
    "    #     'classifier__batch_size': [32],\n",
    "    #     'classifier__early_stopping': [True],\n",
    "    # },\n",
    "    # {\n",
    "    #     'classifier': [classifiers['MLPClassifier']],\n",
    "    #     'classifier__hidden_layer_sizes': [(64,), (64, 64), (128, 64), (64, 128), (128, 128), (64, 64, 64)],\n",
    "    #     'classifier__learning_rate_init': [0.00001, 0.0001, 0.001],\n",
    "    #     'classifier__alpha': [0.00001, 0.0001, 0.001],\n",
    "    #     'classifier__early_stopping': [True],\n",
    "    # },\n",
    "    # {\n",
    "    #     'classifier': [classifiers['HistGradientBoostingClassifier']],\n",
    "    #     'classifier__learning_rate': [0.001, 0.01, 0.1],\n",
    "    #     'classifier__max_leaf_nodes': [None, 20, 50],\n",
    "    #     'classifier__max_depth': [None, 10, 20],\n",
    "    #     'classifier__min_samples_leaf': [None, 20, 50],\n",
    "    #     'classifier__l2_regularization': [0.0, 0.1, 1.0],\n",
    "    #     'classifier__early_stopping': [True],\n",
    "    #     'classifier__class_weight': [None, 'balanced'],\n",
    "    # },\n",
    "    # {\n",
    "    #     'classifier': [classifiers['KNeighborsClassifier']],\n",
    "    #     'classifier__n_neighbors': [3, 5, 7, 9],\n",
    "    #     'classifier__weights': ['uniform', 'distance'],\n",
    "    # },\n",
    "    \n",
    "    # {\n",
    "    #     'classifier': [classifiers['RandomForestClassifier']],\n",
    "    #     'classifier__n_estimators': [None, 200],  # 100\n",
    "    #     'classifier__max_depth': [None],\n",
    "    #     'classifier__class_weight': [None, 'balanced'],\n",
    "    # },\n",
    "    # {\n",
    "    #     # 'classifier': [classifiers['XGBClassifier']],\n",
    "    #     # 'classifier__n_estimators': [50, 100, 150],           # Number of boosting rounds\n",
    "    #     # 'classifier__max_depth': [3, 5, 7],                   # Maximum depth of the trees\n",
    "    #     # 'classifier__learning_rate': [0.01, 0.1, 0.2],        # Learning rate for weight updates\n",
    "    #     # 'classifier__colsample_bytree': [0.7, 0.8, 1.0],      # Fraction of columns to be randomly sampled for each tree\n",
    "    #     # 'classifier__gamma': [0, 0.1, 0.2],                   # Minimum loss reduction required to make a further partition on a leaf node\n",
    "    # },\n",
    "    # {\n",
    "    #     'classifier': [classifiers['BalancedBaggingClassifier']],\n",
    "    #     'classifier__estimator': [DecisionTreeClassifier(random_state=42),],\n",
    "    #     'classifier__bootstrap': [True, False],\n",
    "    #     # 'classifier__max_features': [1.0,2.0,3.0],\n",
    "    #     'classifier__n_estimators': [100, 200],\n",
    "    #     'classifier__estimator__class_weight': [None, 'balanced'],\n",
    "    #     'classifier__estimator__criterion': ['gini', 'entropy'],\n",
    "    #     # 'classifier__estimator__max_depth':[1,2,3,4,5,6],\n",
    "    #     # 'classifier__estimator__max_features':[1, 'auto'],\n",
    "    #     'classifier__estimator__min_weight_fraction_leaf': [0.001, 0.005, 0.01],\n",
    "    #     # 'classifier__estimator__splitter': ['best','random'],\n",
    "    # }\n",
    "]\n",
    "# param_grid = [ \n",
    "#     {\n",
    "#         'classifier': [classifiers['LogisticRegression']],\n",
    "#         'classifier__C': [0.01, 0.1, 1, 10],\n",
    "#         'classifier__solver': ['liblinear', 'lbfgs'],\n",
    "#         'preprocessor__dynamic_column_transformer__cat_attrs': cat_attrs_combinations\n",
    "#     },\n",
    "#     {\n",
    "#         'classifier': [classifiers['RandomForestClassifier']],\n",
    "#         'classifier__n_estimators': [100, 200, 300],\n",
    "#         'classifier__max_depth': [None, 30],\n",
    "#         'preprocessor__dynamic_column_transformer__cat_attrs': cat_attrs_combinations\n",
    "#     },\n",
    "#     {\n",
    "#         'classifier': [classifiers['SVC']],\n",
    "#         'classifier__C': [0.1, 1, 10, 100],\n",
    "#         'classifier__kernel': ['linear', 'rbf', 'poly'],\n",
    "#         'preprocessor__dynamic_column_transformer__cat_attrs': cat_attrs_combinations\n",
    "#     },\n",
    "#     {\n",
    "#         'classifier': [classifiers['KNeighborsClassifier']],\n",
    "#         'classifier__n_neighbors': [3, 5, 7, 9],\n",
    "#         'classifier__weights': ['uniform', 'distance'],\n",
    "#         'preprocessor__dynamic_column_transformer__cat_attrs': cat_attrs_combinations\n",
    "#     },\n",
    "#     {\n",
    "#         'classifier': [classifiers['DecisionTreeClassifier']],\n",
    "#         'classifier__max_depth': [None, 10, 20, 30],\n",
    "#         'classifier__min_samples_split': [2, 10, 20],\n",
    "#         'preprocessor__dynamic_column_transformer__cat_attrs': cat_attrs_combinations\n",
    "#     },\n",
    "#     {\n",
    "#         'classifier': [classifiers['GradientBoostingClassifier']],\n",
    "#         'classifier__n_estimators': [50, 100, 200],\n",
    "#         'classifier__learning_rate': [0.01, 0.1, 0.2],\n",
    "#         'classifier__max_depth': [3, 5, 7],\n",
    "#         'preprocessor__dynamic_column_transformer__cat_attrs': cat_attrs_combinations\n",
    "#     },\n",
    "#     {\n",
    "#         'classifier': [classifiers['AdaBoostClassifier']],\n",
    "#         'classifier__n_estimators': [50, 100, 200],\n",
    "#         'classifier__learning_rate': [0.01, 0.1, 0.2],\n",
    "#         'preprocessor__dynamic_column_transformer__cat_attrs': cat_attrs_combinations\n",
    "#     },\n",
    "#     {\n",
    "#         'classifier': [classifiers['MLPClassifier']],\n",
    "#         'classifier__hidden_layer_sizes': [(50,), (100,), (50, 50), (100, 50), (50, 100), (100, 100), (50, 100, 50)],\n",
    "#         'classifier__learning_rate_init': [0.001, 0.01, 0.1],\n",
    "#         'classifier__alpha': [0.0001, 0.001, 0.01],\n",
    "#         'classifier__early_stopping': [True],\n",
    "#         'preprocessor__dynamic_column_transformer__cat_attrs': cat_attrs_combinations\n",
    "#     }\n",
    "# ]"
   ],
   "outputs": [],
   "execution_count": null
  },
  {
   "cell_type": "code",
   "id": "6ea08895e9330bd4",
   "metadata": {
    "execution": {
     "iopub.execute_input": "2024-10-26T20:38:02.727267Z",
     "iopub.status.busy": "2024-10-26T20:38:02.726763Z",
     "iopub.status.idle": "2024-10-26T21:37:53.872644Z",
     "shell.execute_reply": "2024-10-26T21:37:53.869815Z"
    },
    "papermill": {
     "duration": 13.13052,
     "end_time": "2024-10-24T07:31:17.260297",
     "exception": false,
     "start_time": "2024-10-24T07:31:04.129777",
     "status": "completed"
    },
    "tags": []
   },
   "source": [
    "from sklearn.model_selection import GridSearchCV\n",
    "\n",
    "grid_search = GridSearchCV(\n",
    "    pipeline, param_grid,\n",
    "    cv=5,\n",
    "    scoring=['f1', 'precision', 'recall'],\n",
    "    refit='f1',\n",
    "    n_jobs=n_jobs,\n",
    "    verbose=verbose\n",
    ")\n",
    "grid_search.fit(X_train, y_train);"
   ],
   "outputs": [],
   "execution_count": null
  },
  {
   "cell_type": "code",
   "id": "6df9de92f1c370b8",
   "metadata": {
    "execution": {
     "iopub.execute_input": "2024-10-26T21:37:53.926584Z",
     "iopub.status.busy": "2024-10-26T21:37:53.926584Z",
     "iopub.status.idle": "2024-10-26T21:37:53.945700Z",
     "shell.execute_reply": "2024-10-26T21:37:53.945700Z"
    },
    "papermill": {
     "duration": null,
     "end_time": null,
     "exception": null,
     "start_time": null,
     "status": "completed"
    },
    "tags": []
   },
   "source": [
    "grid_search.best_params_"
   ],
   "outputs": [],
   "execution_count": null
  },
  {
   "cell_type": "code",
   "id": "f2b0d1610f911a82",
   "metadata": {
    "execution": {
     "iopub.execute_input": "2024-10-26T21:37:53.954105Z",
     "iopub.status.busy": "2024-10-26T21:37:53.954105Z",
     "iopub.status.idle": "2024-10-26T21:37:53.991505Z",
     "shell.execute_reply": "2024-10-26T21:37:53.991505Z"
    },
    "papermill": {
     "duration": null,
     "end_time": null,
     "exception": null,
     "start_time": null,
     "status": "completed"
    },
    "tags": []
   },
   "source": [
    "grid_search.best_estimator_"
   ],
   "outputs": [],
   "execution_count": null
  },
  {
   "cell_type": "code",
   "id": "3bac9ca63acaa1f9",
   "metadata": {
    "execution": {
     "iopub.execute_input": "2024-10-26T21:37:53.993465Z",
     "iopub.status.busy": "2024-10-26T21:37:53.993465Z",
     "iopub.status.idle": "2024-10-26T21:37:54.006837Z",
     "shell.execute_reply": "2024-10-26T21:37:54.006837Z"
    }
   },
   "source": [
    "grid_search.best_score_"
   ],
   "outputs": [],
   "execution_count": null
  },
  {
   "cell_type": "code",
   "id": "ee1faab262b6aeeb",
   "metadata": {
    "execution": {
     "iopub.execute_input": "2024-10-26T21:37:54.008839Z",
     "iopub.status.busy": "2024-10-26T21:37:54.008839Z",
     "iopub.status.idle": "2024-10-26T21:37:54.067774Z",
     "shell.execute_reply": "2024-10-26T21:37:54.067774Z"
    }
   },
   "source": [
    "cv_results = pd.DataFrame(grid_search.cv_results_)\n",
    "cv_results = cv_results.sort_values('rank_test_f1')\n",
    "cv_results[[\n",
    "    'rank_test_f1',\n",
    "    'mean_test_f1',\n",
    "    'param_classifier',\n",
    "    'params'\n",
    "]].head(10)"
   ],
   "outputs": [],
   "execution_count": null
  },
  {
   "cell_type": "code",
   "id": "472bc1c2945e2ede",
   "metadata": {
    "execution": {
     "iopub.execute_input": "2024-10-26T21:37:54.069139Z",
     "iopub.status.busy": "2024-10-26T21:37:54.069139Z",
     "iopub.status.idle": "2024-10-26T21:37:54.349489Z",
     "shell.execute_reply": "2024-10-26T21:37:54.349315Z"
    },
    "papermill": {
     "duration": null,
     "end_time": null,
     "exception": null,
     "start_time": null,
     "status": "completed"
    },
    "tags": []
   },
   "source": [
    "from sklearn.metrics import f1_score, precision_score, recall_score\n",
    "\n",
    "y_pred = grid_search.best_estimator_.predict(X_test)\n",
    "f1 = f1_score(y_test, y_pred)\n",
    "p = precision_score(y_test, y_pred)\n",
    "r = recall_score(y_test, y_pred)\n",
    "\n",
    "print(\"F1:\", f1)\n",
    "print(\"Precision:\", p)\n",
    "print(\"Recall:\", r)"
   ],
   "outputs": [],
   "execution_count": null
  },
  {
   "cell_type": "code",
   "id": "1420d5a2ba01a421",
   "metadata": {
    "execution": {
     "iopub.execute_input": "2024-10-26T21:37:54.358985Z",
     "iopub.status.busy": "2024-10-26T21:37:54.358985Z",
     "iopub.status.idle": "2024-10-26T21:37:54.380203Z",
     "shell.execute_reply": "2024-10-26T21:37:54.380203Z"
    },
    "papermill": {
     "duration": null,
     "end_time": null,
     "exception": null,
     "start_time": null,
     "status": "completed"
    },
    "tags": []
   },
   "source": [
    "from joblib import dump\n",
    "\n",
    "if not os.path.exists('out'):\n",
    "    os.makedirs('out')\n",
    "dump(grid_search, os.path.join('out', 'GridSearchCV_dump.pkl'), compress=True)"
   ],
   "outputs": [],
   "execution_count": null
  }
 ],
 "metadata": {
  "kernelspec": {
   "display_name": "Python 3 (ipykernel)",
   "language": "python",
   "name": "python3"
  },
  "language_info": {
   "codemirror_mode": {
    "name": "ipython",
    "version": 3
   },
   "file_extension": ".py",
   "mimetype": "text/x-python",
   "name": "python",
   "nbconvert_exporter": "python",
   "pygments_lexer": "ipython3",
   "version": "3.9.13"
  },
  "papermill": {
   "default_parameters": {},
   "duration": 17.275201,
   "end_time": "2024-10-24T07:31:18.494153",
   "environment_variables": {},
   "exception": null,
   "input_path": "classification.ipynb",
   "output_path": "classification.ipynb",
   "parameters": {
    "n_jobs": 7
   },
   "start_time": "2024-10-24T07:31:01.218952",
   "version": "2.6.0"
  }
 },
 "nbformat": 4,
 "nbformat_minor": 5
}
