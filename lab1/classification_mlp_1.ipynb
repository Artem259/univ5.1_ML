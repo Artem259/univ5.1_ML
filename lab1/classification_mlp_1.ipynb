{
 "cells": [
  {
   "cell_type": "code",
   "execution_count": 1,
   "id": "initial_id",
   "metadata": {
    "ExecuteTime": {
     "end_time": "2024-11-07T02:03:24.105482Z",
     "start_time": "2024-11-07T02:03:24.090743Z"
    },
    "execution": {
     "iopub.execute_input": "2024-11-07T09:12:07.005698Z",
     "iopub.status.busy": "2024-11-07T09:12:07.004707Z",
     "iopub.status.idle": "2024-11-07T09:12:07.480002Z",
     "shell.execute_reply": "2024-11-07T09:12:07.480002Z"
    },
    "papermill": {
     "duration": 0.480824,
     "end_time": "2024-11-07T09:12:07.481006",
     "exception": false,
     "start_time": "2024-11-07T09:12:07.000182",
     "status": "completed"
    },
    "tags": []
   },
   "outputs": [],
   "source": [
    "import os\n",
    "import pandas as pd"
   ]
  },
  {
   "cell_type": "code",
   "execution_count": 2,
   "id": "ab92d0123055b0f4",
   "metadata": {
    "ExecuteTime": {
     "end_time": "2024-11-07T02:03:24.135905Z",
     "start_time": "2024-11-07T02:03:24.129368Z"
    },
    "execution": {
     "iopub.execute_input": "2024-11-07T09:12:07.489370Z",
     "iopub.status.busy": "2024-11-07T09:12:07.488373Z",
     "iopub.status.idle": "2024-11-07T09:12:07.495935Z",
     "shell.execute_reply": "2024-11-07T09:12:07.495935Z"
    },
    "papermill": {
     "duration": 0.011576,
     "end_time": "2024-11-07T09:12:07.496938",
     "exception": false,
     "start_time": "2024-11-07T09:12:07.485362",
     "status": "completed"
    },
    "tags": [
     "parameters"
    ]
   },
   "outputs": [],
   "source": [
    "cat_attrs: str = \"f12 f11\"\n",
    "balance_data: bool = False\n",
    "clear_data: bool = True\n",
    "n_jobs: int = 1\n",
    "verbose: int = 10"
   ]
  },
  {
   "cell_type": "code",
   "execution_count": 3,
   "id": "f4cc931a",
   "metadata": {
    "execution": {
     "iopub.execute_input": "2024-11-07T09:12:07.503950Z",
     "iopub.status.busy": "2024-11-07T09:12:07.503950Z",
     "iopub.status.idle": "2024-11-07T09:12:07.510949Z",
     "shell.execute_reply": "2024-11-07T09:12:07.510949Z"
    },
    "papermill": {
     "duration": 0.012013,
     "end_time": "2024-11-07T09:12:07.511949",
     "exception": false,
     "start_time": "2024-11-07T09:12:07.499936",
     "status": "completed"
    },
    "tags": [
     "injected-parameters"
    ]
   },
   "outputs": [],
   "source": [
    "# Parameters\n",
    "n_jobs = 8\n"
   ]
  },
  {
   "cell_type": "code",
   "execution_count": 4,
   "id": "b8d59c2d5723d798",
   "metadata": {
    "ExecuteTime": {
     "end_time": "2024-11-07T02:03:24.245290Z",
     "start_time": "2024-11-07T02:03:24.230511Z"
    },
    "execution": {
     "iopub.execute_input": "2024-11-07T09:12:07.519195Z",
     "iopub.status.busy": "2024-11-07T09:12:07.517986Z",
     "iopub.status.idle": "2024-11-07T09:12:07.526460Z",
     "shell.execute_reply": "2024-11-07T09:12:07.526460Z"
    },
    "papermill": {
     "duration": 0.012476,
     "end_time": "2024-11-07T09:12:07.527462",
     "exception": false,
     "start_time": "2024-11-07T09:12:07.514986",
     "status": "completed"
    },
    "tags": []
   },
   "outputs": [
    {
     "data": {
      "text/plain": [
       "['f12', 'f11']"
      ]
     },
     "execution_count": 4,
     "metadata": {},
     "output_type": "execute_result"
    }
   ],
   "source": [
    "cat_attrs: list[str] = cat_attrs.split()\n",
    "cat_attrs"
   ]
  },
  {
   "cell_type": "code",
   "execution_count": 5,
   "id": "c9c5b653532c8121",
   "metadata": {
    "ExecuteTime": {
     "end_time": "2024-11-07T02:03:24.323915Z",
     "start_time": "2024-11-07T02:03:24.321472Z"
    },
    "execution": {
     "iopub.execute_input": "2024-11-07T09:12:07.535275Z",
     "iopub.status.busy": "2024-11-07T09:12:07.535275Z",
     "iopub.status.idle": "2024-11-07T09:12:07.541786Z",
     "shell.execute_reply": "2024-11-07T09:12:07.541786Z"
    },
    "papermill": {
     "duration": 0.011309,
     "end_time": "2024-11-07T09:12:07.542788",
     "exception": false,
     "start_time": "2024-11-07T09:12:07.531479",
     "status": "completed"
    },
    "tags": []
   },
   "outputs": [],
   "source": [
    "pd.set_option('display.float_format', '{:.3f}'.format)"
   ]
  },
  {
   "cell_type": "code",
   "execution_count": 6,
   "id": "d56664ec8b50ea6a",
   "metadata": {
    "ExecuteTime": {
     "end_time": "2024-11-07T02:03:25.042066Z",
     "start_time": "2024-11-07T02:03:24.372072Z"
    },
    "execution": {
     "iopub.execute_input": "2024-11-07T09:12:07.549996Z",
     "iopub.status.busy": "2024-11-07T09:12:07.549996Z",
     "iopub.status.idle": "2024-11-07T09:12:08.336206Z",
     "shell.execute_reply": "2024-11-07T09:12:08.336206Z"
    },
    "papermill": {
     "duration": 0.791625,
     "end_time": "2024-11-07T09:12:08.337624",
     "exception": false,
     "start_time": "2024-11-07T09:12:07.545999",
     "status": "completed"
    },
    "tags": []
   },
   "outputs": [],
   "source": [
    "csv_path = os.path.join('data', 'data.csv')\n",
    "data = pd.read_csv(csv_path)"
   ]
  },
  {
   "cell_type": "code",
   "execution_count": 7,
   "id": "fdba6b06da2871bf",
   "metadata": {
    "ExecuteTime": {
     "end_time": "2024-11-07T02:03:25.120074Z",
     "start_time": "2024-11-07T02:03:25.089978Z"
    },
    "execution": {
     "iopub.execute_input": "2024-11-07T09:12:08.344647Z",
     "iopub.status.busy": "2024-11-07T09:12:08.344647Z",
     "iopub.status.idle": "2024-11-07T09:12:08.366794Z",
     "shell.execute_reply": "2024-11-07T09:12:08.366794Z"
    },
    "papermill": {
     "duration": 0.027101,
     "end_time": "2024-11-07T09:12:08.368234",
     "exception": false,
     "start_time": "2024-11-07T09:12:08.341133",
     "status": "completed"
    },
    "tags": []
   },
   "outputs": [],
   "source": [
    "X = data.drop(columns=['target', 'p', 'f16', 'f2', 'f5'])\n",
    "y = data['target']"
   ]
  },
  {
   "cell_type": "code",
   "execution_count": 8,
   "id": "288f06209ad7651",
   "metadata": {
    "ExecuteTime": {
     "end_time": "2024-11-07T02:03:25.259008Z",
     "start_time": "2024-11-07T02:03:25.168531Z"
    },
    "execution": {
     "iopub.execute_input": "2024-11-07T09:12:08.375259Z",
     "iopub.status.busy": "2024-11-07T09:12:08.375259Z",
     "iopub.status.idle": "2024-11-07T09:12:09.128139Z",
     "shell.execute_reply": "2024-11-07T09:12:09.127127Z"
    },
    "papermill": {
     "duration": 0.757397,
     "end_time": "2024-11-07T09:12:09.129141",
     "exception": false,
     "start_time": "2024-11-07T09:12:08.371744",
     "status": "completed"
    },
    "tags": []
   },
   "outputs": [],
   "source": [
    "from sklearn.preprocessing import LabelEncoder\n",
    "\n",
    "label_encoder = LabelEncoder()\n",
    "y = label_encoder.fit_transform(y)\n",
    "y = pd.Series(y, name='target')"
   ]
  },
  {
   "cell_type": "code",
   "execution_count": 9,
   "id": "e32d493683b4f70f",
   "metadata": {
    "ExecuteTime": {
     "end_time": "2024-11-07T02:03:25.583369Z",
     "start_time": "2024-11-07T02:03:25.306196Z"
    },
    "execution": {
     "iopub.execute_input": "2024-11-07T09:12:09.136423Z",
     "iopub.status.busy": "2024-11-07T09:12:09.136423Z",
     "iopub.status.idle": "2024-11-07T09:12:09.469401Z",
     "shell.execute_reply": "2024-11-07T09:12:09.469401Z"
    },
    "papermill": {
     "duration": 0.338541,
     "end_time": "2024-11-07T09:12:09.470836",
     "exception": false,
     "start_time": "2024-11-07T09:12:09.132295",
     "status": "completed"
    },
    "tags": []
   },
   "outputs": [
    {
     "name": "stdout",
     "output_type": "stream",
     "text": [
      "Train: X=(838860, 14) y=(838860,)\n",
      "Test: X=(209715, 14) y=(209715,)\n"
     ]
    }
   ],
   "source": [
    "from sklearn.model_selection import train_test_split\n",
    "\n",
    "test_size_ratio = 0.2\n",
    "X_train, X_test, y_train, y_test = train_test_split(\n",
    "    X, y,\n",
    "    test_size=test_size_ratio, \n",
    "    stratify=y, \n",
    "    random_state=42\n",
    ")\n",
    "\n",
    "print(f\"Train: X={X_train.shape} y={y_train.shape}\")\n",
    "print(f\"Test: X={X_test.shape} y={y_test.shape}\")"
   ]
  },
  {
   "cell_type": "code",
   "execution_count": 10,
   "id": "6d5455bafdcbc466",
   "metadata": {
    "ExecuteTime": {
     "end_time": "2024-11-07T02:03:25.676128Z",
     "start_time": "2024-11-07T02:03:25.662399Z"
    },
    "execution": {
     "iopub.execute_input": "2024-11-07T09:12:09.492364Z",
     "iopub.status.busy": "2024-11-07T09:12:09.492364Z",
     "iopub.status.idle": "2024-11-07T09:12:09.500249Z",
     "shell.execute_reply": "2024-11-07T09:12:09.500249Z"
    },
    "papermill": {
     "duration": 0.026857,
     "end_time": "2024-11-07T09:12:09.501250",
     "exception": false,
     "start_time": "2024-11-07T09:12:09.474393",
     "status": "completed"
    },
    "tags": []
   },
   "outputs": [
    {
     "name": "stdout",
     "output_type": "stream",
     "text": [
      "balance_data set to False\n"
     ]
    }
   ],
   "source": [
    "from collections import Counter\n",
    "\n",
    "if balance_data:\n",
    "    train = pd.concat([X_train, y_train], axis=1)\n",
    "    train_n = train.shape[0]\n",
    "    \n",
    "    class_counts = Counter(train['target'])\n",
    "    min_class = min(class_counts, key=lambda x: class_counts[x])\n",
    "    \n",
    "    new_train = train.groupby('target').apply(\n",
    "        lambda x: x.sample(class_counts[min_class])\n",
    "    ).reset_index(drop=True)\n",
    "    removed_n = train.shape[0] - new_train.shape[0]\n",
    "    removed_ratio = removed_n / train_n\n",
    "    \n",
    "    print(f\"Majority class: '{min_class}'\")\n",
    "    print(f\"Records removed: {removed_n} ({removed_ratio * 100:.3f} %)\")\n",
    "    X_train = new_train.drop(columns=['target'])\n",
    "    y_train = new_train['target']\n",
    "    print(f\"\\nTrain: X={X_train.shape} y={y_train.shape}\")\n",
    "else:\n",
    "    print(\"balance_data set to False\")"
   ]
  },
  {
   "cell_type": "code",
   "execution_count": 11,
   "id": "ea1d2432dcd6f50a",
   "metadata": {
    "ExecuteTime": {
     "end_time": "2024-11-07T02:03:25.738634Z",
     "start_time": "2024-11-07T02:03:25.727538Z"
    },
    "execution": {
     "iopub.execute_input": "2024-11-07T09:12:09.509261Z",
     "iopub.status.busy": "2024-11-07T09:12:09.507978Z",
     "iopub.status.idle": "2024-11-07T09:12:09.515686Z",
     "shell.execute_reply": "2024-11-07T09:12:09.515686Z"
    },
    "papermill": {
     "duration": 0.012782,
     "end_time": "2024-11-07T09:12:09.517066",
     "exception": false,
     "start_time": "2024-11-07T09:12:09.504284",
     "status": "completed"
    },
    "tags": []
   },
   "outputs": [
    {
     "name": "stdout",
     "output_type": "stream",
     "text": [
      "Train positives ratio: 1.69301 %\n",
      "Test positives ratio:  1.69325 %\n"
     ]
    }
   ],
   "source": [
    "y_train_pos_ratio = y_train[y_train == 1].shape[0] / y_train.shape[0]\n",
    "y_test_pos_ratio = y_test[y_test == 1].shape[0] / y_test.shape[0]\n",
    "\n",
    "print(\"Train positives ratio:\", f\"{y_train_pos_ratio * 100:.5f} %\")\n",
    "print(\"Test positives ratio: \", f\"{y_test_pos_ratio * 100:.5f} %\")"
   ]
  },
  {
   "cell_type": "code",
   "execution_count": 12,
   "id": "120b47e1c07d5d5d",
   "metadata": {
    "ExecuteTime": {
     "end_time": "2024-11-07T02:03:26.268190Z",
     "start_time": "2024-11-07T02:03:25.785169Z"
    },
    "execution": {
     "iopub.execute_input": "2024-11-07T09:12:09.526650Z",
     "iopub.status.busy": "2024-11-07T09:12:09.526650Z",
     "iopub.status.idle": "2024-11-07T09:12:10.013268Z",
     "shell.execute_reply": "2024-11-07T09:12:10.013268Z"
    },
    "papermill": {
     "duration": 0.492926,
     "end_time": "2024-11-07T09:12:10.014722",
     "exception": false,
     "start_time": "2024-11-07T09:12:09.521796",
     "status": "completed"
    },
    "tags": []
   },
   "outputs": [
    {
     "name": "stdout",
     "output_type": "stream",
     "text": [
      "Duplicates removed: 62020 (7.393 %)\n",
      "Collisions removed: 57 (0.007 %)\n",
      "Total removed:      62077 (7.400 %)\n"
     ]
    },
    {
     "name": "stdout",
     "output_type": "stream",
     "text": [
      "\n",
      "Train: X=(776783, 14) y=(776783,)\n"
     ]
    }
   ],
   "source": [
    "if clear_data:\n",
    "    train = pd.concat([X_train, y_train], axis=1)\n",
    "    train_n = train.shape[0]\n",
    "    \n",
    "    new_train = train.drop_duplicates()\n",
    "    duplicates_n = train.shape[0] - new_train.shape[0]\n",
    "    duplicates_ratio = duplicates_n / train_n\n",
    "    print(f\"Duplicates removed: {duplicates_n} ({duplicates_ratio * 100:.3f} %)\")\n",
    "    train = new_train\n",
    "    \n",
    "    new_train = train.drop_duplicates(subset=train.columns.difference(['target']))\n",
    "    collisions_n = train.shape[0] - new_train.shape[0]\n",
    "    collisions_ratio = collisions_n / train_n\n",
    "    print(f\"Collisions removed: {collisions_n} ({collisions_ratio * 100:.3f} %)\")\n",
    "    train = new_train\n",
    "    \n",
    "    print(f\"Total removed:      {duplicates_n + collisions_n} \"\n",
    "          f\"({(duplicates_ratio + collisions_ratio) * 100:.3f} %)\")\n",
    "    X_train = train.drop(columns=['target'])\n",
    "    y_train = train['target']\n",
    "    print(f\"\\nTrain: X={X_train.shape} y={y_train.shape}\")\n",
    "else:\n",
    "    print(\"clear_data set to False\")"
   ]
  },
  {
   "cell_type": "code",
   "execution_count": 13,
   "id": "c5e26b96b7083101",
   "metadata": {
    "ExecuteTime": {
     "end_time": "2024-11-07T02:03:26.344872Z",
     "start_time": "2024-11-07T02:03:26.316093Z"
    },
    "execution": {
     "iopub.execute_input": "2024-11-07T09:12:10.035637Z",
     "iopub.status.busy": "2024-11-07T09:12:10.035637Z",
     "iopub.status.idle": "2024-11-07T09:12:10.123118Z",
     "shell.execute_reply": "2024-11-07T09:12:10.123118Z"
    },
    "papermill": {
     "duration": 0.105569,
     "end_time": "2024-11-07T09:12:10.124335",
     "exception": false,
     "start_time": "2024-11-07T09:12:10.018766",
     "status": "completed"
    },
    "tags": []
   },
   "outputs": [
    {
     "data": {
      "text/plain": [
       "[array([0, 1], dtype=int64), array([0, 1], dtype=int64)]"
      ]
     },
     "execution_count": 13,
     "metadata": {},
     "output_type": "execute_result"
    }
   ],
   "source": [
    "from sklearn.compose import ColumnTransformer\n",
    "from sklearn.linear_model import LogisticRegression\n",
    "from sklearn.preprocessing import OneHotEncoder, StandardScaler\n",
    "from sklearn.pipeline import Pipeline\n",
    "\n",
    "cat_encoder = OneHotEncoder().fit(X[cat_attrs])\n",
    "cat_encoder.categories_  # TODO"
   ]
  },
  {
   "cell_type": "code",
   "execution_count": 14,
   "id": "515460711168c32f",
   "metadata": {
    "ExecuteTime": {
     "end_time": "2024-11-07T02:03:26.406574Z",
     "start_time": "2024-11-07T02:03:26.393312Z"
    },
    "execution": {
     "iopub.execute_input": "2024-11-07T09:12:10.132331Z",
     "iopub.status.busy": "2024-11-07T09:12:10.131330Z",
     "iopub.status.idle": "2024-11-07T09:12:10.309200Z",
     "shell.execute_reply": "2024-11-07T09:12:10.309200Z"
    },
    "papermill": {
     "duration": 0.181872,
     "end_time": "2024-11-07T09:12:10.310202",
     "exception": false,
     "start_time": "2024-11-07T09:12:10.128330",
     "status": "completed"
    },
    "tags": []
   },
   "outputs": [],
   "source": [
    "from imblearn.over_sampling import SMOTE, SMOTENC\n",
    "from imblearn.pipeline import Pipeline as ImPipeline\n",
    "\n",
    "preprocessor = ColumnTransformer(\n",
    "    transformers=[\n",
    "        ('cat', 'passthrough', cat_attrs)\n",
    "    ],\n",
    "    remainder=StandardScaler(),\n",
    "    verbose_feature_names_out=True\n",
    ")\n",
    "preprocessor = preprocessor.set_output(transform='pandas')\n",
    "\n",
    "one_hot = ColumnTransformer(\n",
    "    transformers=[\n",
    "        ('cat', OneHotEncoder(), list(map(lambda attr: 'cat__' + attr, cat_attrs)))\n",
    "    ],\n",
    "    remainder='passthrough',\n",
    "    verbose_feature_names_out=True\n",
    ")\n",
    "# one_hot = one_hot.set_output(transform='pandas')\n",
    "\n",
    "pipeline = ImPipeline(steps=[\n",
    "    ('preprocessor', preprocessor),\n",
    "    ('sampling', SMOTENC(categorical_features=list(map(lambda attr: 'cat__' + attr, cat_attrs)), random_state=42)),\n",
    "    ('one_hot', one_hot),\n",
    "    ('classifier', LogisticRegression())\n",
    "])"
   ]
  },
  {
   "cell_type": "code",
   "execution_count": 15,
   "id": "d30eff5ccc2557f5",
   "metadata": {
    "ExecuteTime": {
     "end_time": "2024-11-07T02:03:26.468141Z",
     "start_time": "2024-11-07T02:03:26.455442Z"
    },
    "execution": {
     "iopub.execute_input": "2024-11-07T09:12:10.318712Z",
     "iopub.status.busy": "2024-11-07T09:12:10.317711Z",
     "iopub.status.idle": "2024-11-07T09:12:10.324223Z",
     "shell.execute_reply": "2024-11-07T09:12:10.324223Z"
    },
    "papermill": {
     "duration": 0.010505,
     "end_time": "2024-11-07T09:12:10.325221",
     "exception": false,
     "start_time": "2024-11-07T09:12:10.314716",
     "status": "completed"
    },
    "tags": []
   },
   "outputs": [],
   "source": [
    "# z_x, z_y = pipeline.fit_resample(X_train, y_train)\n",
    "# z_x, z_y"
   ]
  },
  {
   "cell_type": "code",
   "execution_count": 16,
   "id": "66691c77924b8a7",
   "metadata": {
    "ExecuteTime": {
     "end_time": "2024-11-07T02:03:26.515197Z",
     "start_time": "2024-11-07T02:03:26.501200Z"
    },
    "execution": {
     "iopub.execute_input": "2024-11-07T09:12:10.333221Z",
     "iopub.status.busy": "2024-11-07T09:12:10.333221Z",
     "iopub.status.idle": "2024-11-07T09:12:10.339774Z",
     "shell.execute_reply": "2024-11-07T09:12:10.339774Z"
    },
    "papermill": {
     "duration": 0.011553,
     "end_time": "2024-11-07T09:12:10.340775",
     "exception": false,
     "start_time": "2024-11-07T09:12:10.329222",
     "status": "completed"
    },
    "tags": []
   },
   "outputs": [],
   "source": [
    "# (z_y == 0).sum(), (z_y == 1).sum()"
   ]
  },
  {
   "cell_type": "code",
   "execution_count": 17,
   "id": "eb7e6f10dbbd5b71",
   "metadata": {
    "ExecuteTime": {
     "end_time": "2024-11-07T02:03:26.608010Z",
     "start_time": "2024-11-07T02:03:26.547077Z"
    },
    "execution": {
     "iopub.execute_input": "2024-11-07T09:12:10.348539Z",
     "iopub.status.busy": "2024-11-07T09:12:10.348539Z",
     "iopub.status.idle": "2024-11-07T09:12:10.403368Z",
     "shell.execute_reply": "2024-11-07T09:12:10.403368Z"
    },
    "papermill": {
     "duration": 0.060033,
     "end_time": "2024-11-07T09:12:10.404316",
     "exception": false,
     "start_time": "2024-11-07T09:12:10.344283",
     "status": "completed"
    },
    "tags": []
   },
   "outputs": [
    {
     "data": {
      "text/plain": [
       "{0: 0.5087780544708344, 1: 28.980114908222653}"
      ]
     },
     "execution_count": 17,
     "metadata": {},
     "output_type": "execute_result"
    }
   ],
   "source": [
    "from sklearn.utils import class_weight\n",
    "\n",
    "class_weights = class_weight.compute_class_weight(class_weight='balanced', classes=y_train.unique(), y=y_train)\n",
    "class_weights = dict(enumerate(class_weights))\n",
    "class_weights"
   ]
  },
  {
   "cell_type": "code",
   "execution_count": 18,
   "id": "f342b445ddaf788b",
   "metadata": {
    "ExecuteTime": {
     "end_time": "2024-11-07T02:03:26.654739Z",
     "start_time": "2024-11-07T02:03:26.640386Z"
    },
    "execution": {
     "iopub.execute_input": "2024-11-07T09:12:10.412318Z",
     "iopub.status.busy": "2024-11-07T09:12:10.412318Z",
     "iopub.status.idle": "2024-11-07T09:12:10.466212Z",
     "shell.execute_reply": "2024-11-07T09:12:10.466212Z"
    },
    "papermill": {
     "duration": 0.059374,
     "end_time": "2024-11-07T09:12:10.467689",
     "exception": false,
     "start_time": "2024-11-07T09:12:10.408315",
     "status": "completed"
    },
    "tags": []
   },
   "outputs": [],
   "source": [
    "from sklearn.neural_network import MLPClassifier\n",
    "from xgboost import XGBClassifier\n",
    "from sklearn.neighbors import KNeighborsClassifier\n",
    "from sklearn.ensemble import RandomForestClassifier, HistGradientBoostingClassifier\n",
    "from imblearn.over_sampling import RandomOverSampler\n",
    "\n",
    "param_grid = [\n",
    "    {\n",
    "        'sampling': [\n",
    "            SMOTENC(categorical_features=list(map(lambda attr: 'cat__' + attr, cat_attrs)), random_state=42),\n",
    "            'passthrough',\n",
    "        ],\n",
    "        \n",
    "        'classifier': [MLPClassifier()],\n",
    "        'classifier__hidden_layer_sizes': [(64,), (64, 64), (128, 64), (64, 128), (128, 128), (64, 64, 64)],\n",
    "        'classifier__learning_rate_init': [0.00001, 0.0001, 0.001],\n",
    "        'classifier__alpha': [0.00001, 0.0001, 0.001],\n",
    "        'classifier__early_stopping': [True],\n",
    "    },\n",
    "]"
   ]
  },
  {
   "cell_type": "code",
   "execution_count": null,
   "id": "6ea08895e9330bd4",
   "metadata": {
    "ExecuteTime": {
     "end_time": "2024-11-07T02:07:26.965327Z",
     "start_time": "2024-11-07T02:03:26.687365Z"
    },
    "execution": {
     "iopub.execute_input": "2024-11-07T02:24:56.908813Z",
     "iopub.status.busy": "2024-11-07T02:24:56.908813Z",
     "iopub.status.idle": "2024-11-07T02:26:08.464660Z"
    },
    "papermill": {
     "duration": null,
     "end_time": null,
     "exception": false,
     "start_time": "2024-11-07T09:12:10.470694",
     "status": "running"
    },
    "tags": []
   },
   "outputs": [],
   "source": [
    "from sklearn.model_selection import GridSearchCV, StratifiedShuffleSplit\n",
    "\n",
    "grid_search = GridSearchCV(\n",
    "    pipeline, param_grid,\n",
    "    cv=StratifiedShuffleSplit(n_splits=5, test_size=0.2, random_state=42),\n",
    "    scoring=['f1', 'precision', 'recall'],\n",
    "    refit='f1',\n",
    "    return_train_score=True,\n",
    "    n_jobs=n_jobs,\n",
    "    verbose=verbose\n",
    ")\n",
    "\n",
    "grid_search.fit(X_train, y_train);"
   ]
  },
  {
   "cell_type": "code",
   "execution_count": null,
   "id": "6df9de92f1c370b8",
   "metadata": {
    "ExecuteTime": {
     "end_time": "2024-11-07T02:07:27.027787Z",
     "start_time": "2024-11-07T02:07:27.014857Z"
    },
    "execution": {
     "iopub.execute_input": "2024-11-07T01:36:41.510456Z",
     "iopub.status.busy": "2024-11-07T01:36:41.509457Z",
     "iopub.status.idle": "2024-11-07T01:36:41.532139Z",
     "shell.execute_reply": "2024-11-07T01:36:41.532139Z"
    },
    "papermill": {
     "duration": null,
     "end_time": null,
     "exception": null,
     "start_time": null,
     "status": "pending"
    },
    "tags": []
   },
   "outputs": [],
   "source": [
    "grid_search.best_params_"
   ]
  },
  {
   "cell_type": "code",
   "execution_count": null,
   "id": "f2b0d1610f911a82",
   "metadata": {
    "ExecuteTime": {
     "end_time": "2024-11-07T02:07:27.166937Z",
     "start_time": "2024-11-07T02:07:27.149213Z"
    },
    "execution": {
     "iopub.execute_input": "2024-11-07T01:36:41.540891Z",
     "iopub.status.busy": "2024-11-07T01:36:41.540891Z",
     "iopub.status.idle": "2024-11-07T01:36:41.563210Z",
     "shell.execute_reply": "2024-11-07T01:36:41.563210Z"
    },
    "papermill": {
     "duration": null,
     "end_time": null,
     "exception": null,
     "start_time": null,
     "status": "pending"
    },
    "tags": []
   },
   "outputs": [],
   "source": [
    "grid_search.best_estimator_"
   ]
  },
  {
   "cell_type": "code",
   "execution_count": null,
   "id": "3bac9ca63acaa1f9",
   "metadata": {
    "ExecuteTime": {
     "end_time": "2024-11-07T02:07:27.246231Z",
     "start_time": "2024-11-07T02:07:27.228086Z"
    },
    "execution": {
     "iopub.execute_input": "2024-11-07T01:36:41.573593Z",
     "iopub.status.busy": "2024-11-07T01:36:41.573593Z",
     "iopub.status.idle": "2024-11-07T01:36:41.579250Z",
     "shell.execute_reply": "2024-11-07T01:36:41.579250Z"
    },
    "papermill": {
     "duration": null,
     "end_time": null,
     "exception": null,
     "start_time": null,
     "status": "pending"
    },
    "tags": []
   },
   "outputs": [],
   "source": [
    "grid_search.best_score_"
   ]
  },
  {
   "cell_type": "code",
   "execution_count": null,
   "id": "e27241ff35d06224",
   "metadata": {
    "ExecuteTime": {
     "end_time": "2024-11-07T02:07:27.323443Z",
     "start_time": "2024-11-07T02:07:27.293215Z"
    },
    "papermill": {
     "duration": null,
     "end_time": null,
     "exception": null,
     "start_time": null,
     "status": "pending"
    },
    "tags": []
   },
   "outputs": [],
   "source": [
    "importances = grid_search.best_estimator_['classifier'].feature_importances_\n",
    "importances"
   ]
  },
  {
   "cell_type": "code",
   "execution_count": null,
   "id": "23f961f1fa2a3e2d",
   "metadata": {
    "ExecuteTime": {
     "end_time": "2024-11-07T02:07:27.369890Z",
     "start_time": "2024-11-07T02:07:27.356259Z"
    },
    "execution": {
     "iopub.execute_input": "2024-11-07T01:36:41.588675Z",
     "iopub.status.busy": "2024-11-07T01:36:41.588675Z",
     "iopub.status.idle": "2024-11-07T01:36:42.267911Z",
     "shell.execute_reply": "2024-11-07T01:36:42.265395Z"
    },
    "papermill": {
     "duration": null,
     "end_time": null,
     "exception": null,
     "start_time": null,
     "status": "pending"
    },
    "tags": []
   },
   "outputs": [],
   "source": [
    "# feature_importance = pd.DataFrame(importances, index=X_train.columns, columns=['Importance'])\n",
    "# feature_importance.sort_values(by='Importance')"
   ]
  },
  {
   "cell_type": "code",
   "execution_count": null,
   "id": "ee1faab262b6aeeb",
   "metadata": {
    "ExecuteTime": {
     "end_time": "2024-11-07T02:07:27.416881Z",
     "start_time": "2024-11-07T02:07:27.401848Z"
    },
    "execution": {
     "iopub.execute_input": "2024-11-06T21:18:17.484210Z",
     "iopub.status.busy": "2024-11-06T21:18:17.484210Z",
     "iopub.status.idle": "2024-11-06T21:18:17.520281Z",
     "shell.execute_reply": "2024-11-06T21:18:17.520281Z"
    },
    "papermill": {
     "duration": null,
     "end_time": null,
     "exception": null,
     "start_time": null,
     "status": "pending"
    },
    "tags": []
   },
   "outputs": [],
   "source": [
    "cv_results = pd.DataFrame(grid_search.cv_results_)\n",
    "cv_results = cv_results.sort_values('rank_test_f1')\n",
    "cv_results"
   ]
  },
  {
   "cell_type": "code",
   "execution_count": null,
   "id": "472bc1c2945e2ede",
   "metadata": {
    "ExecuteTime": {
     "end_time": "2024-11-07T02:07:29.612665Z",
     "start_time": "2024-11-07T02:07:27.496165Z"
    },
    "execution": {
     "iopub.execute_input": "2024-11-06T21:18:17.531758Z",
     "iopub.status.busy": "2024-11-06T21:18:17.531758Z",
     "iopub.status.idle": "2024-11-06T21:18:19.763681Z",
     "shell.execute_reply": "2024-11-06T21:18:19.763681Z"
    },
    "papermill": {
     "duration": null,
     "end_time": null,
     "exception": null,
     "start_time": null,
     "status": "pending"
    },
    "tags": []
   },
   "outputs": [],
   "source": [
    "from sklearn.metrics import f1_score, precision_score, recall_score\n",
    "\n",
    "y_pred = grid_search.best_estimator_.predict(X_test)\n",
    "f1 = f1_score(y_test, y_pred)\n",
    "p = precision_score(y_test, y_pred)\n",
    "r = recall_score(y_test, y_pred)\n",
    "\n",
    "print(\"F1:\", f1)\n",
    "print(\"Precision:\", p)\n",
    "print(\"Recall:\", r)"
   ]
  },
  {
   "cell_type": "code",
   "execution_count": null,
   "id": "1420d5a2ba01a421",
   "metadata": {
    "ExecuteTime": {
     "end_time": "2024-11-07T02:07:30.796547Z",
     "start_time": "2024-11-07T02:07:29.644761Z"
    },
    "execution": {
     "iopub.execute_input": "2024-11-06T21:18:19.786006Z",
     "iopub.status.busy": "2024-11-06T21:18:19.786006Z",
     "iopub.status.idle": "2024-11-06T21:18:20.888094Z",
     "shell.execute_reply": "2024-11-06T21:18:20.887022Z"
    },
    "papermill": {
     "duration": null,
     "end_time": null,
     "exception": null,
     "start_time": null,
     "status": "pending"
    },
    "tags": []
   },
   "outputs": [],
   "source": [
    "from joblib import dump\n",
    "\n",
    "if not os.path.exists('out'):\n",
    "    os.makedirs('out')\n",
    "dump(grid_search, os.path.join('out', 'GridSearchCV_dump.pkl'), compress=True)"
   ]
  },
  {
   "cell_type": "code",
   "execution_count": null,
   "id": "4f02c210c80b2930",
   "metadata": {
    "ExecuteTime": {
     "end_time": "2024-11-07T02:07:30.827366Z",
     "start_time": "2024-11-07T02:07:30.818095Z"
    },
    "papermill": {
     "duration": null,
     "end_time": null,
     "exception": null,
     "start_time": null,
     "status": "pending"
    },
    "tags": []
   },
   "outputs": [],
   "source": []
  }
 ],
 "metadata": {
  "kernelspec": {
   "display_name": "Python 3 (ipykernel)",
   "language": "python",
   "name": "python3"
  },
  "language_info": {
   "codemirror_mode": {
    "name": "ipython",
    "version": 3
   },
   "file_extension": ".py",
   "mimetype": "text/x-python",
   "name": "python",
   "nbconvert_exporter": "python",
   "pygments_lexer": "ipython3",
   "version": "3.9.13"
  },
  "papermill": {
   "default_parameters": {},
   "duration": null,
   "end_time": null,
   "environment_variables": {},
   "exception": null,
   "input_path": "classification_mlp_1.ipynb",
   "output_path": "classification_mlp_1.ipynb",
   "parameters": {
    "n_jobs": 8
   },
   "start_time": "2024-11-07T09:12:05.729926",
   "version": "2.6.0"
  }
 },
 "nbformat": 4,
 "nbformat_minor": 5
}