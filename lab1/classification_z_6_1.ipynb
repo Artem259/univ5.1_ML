{
 "cells": [
  {
   "cell_type": "code",
   "execution_count": 1,
   "id": "initial_id",
   "metadata": {
    "execution": {
     "iopub.execute_input": "2024-11-07T08:50:29.052471Z",
     "iopub.status.busy": "2024-11-07T08:50:29.052471Z",
     "iopub.status.idle": "2024-11-07T08:50:29.406495Z",
     "shell.execute_reply": "2024-11-07T08:50:29.406495Z"
    },
    "papermill": {
     "duration": 0.359451,
     "end_time": "2024-11-07T08:50:29.407497",
     "exception": false,
     "start_time": "2024-11-07T08:50:29.048046",
     "status": "completed"
    },
    "tags": []
   },
   "outputs": [],
   "source": [
    "import os\n",
    "import pandas as pd"
   ]
  },
  {
   "cell_type": "code",
   "execution_count": 2,
   "id": "ab92d0123055b0f4",
   "metadata": {
    "execution": {
     "iopub.execute_input": "2024-11-07T08:50:29.414010Z",
     "iopub.status.busy": "2024-11-07T08:50:29.414010Z",
     "iopub.status.idle": "2024-11-07T08:50:29.422538Z",
     "shell.execute_reply": "2024-11-07T08:50:29.422538Z"
    },
    "papermill": {
     "duration": 0.012527,
     "end_time": "2024-11-07T08:50:29.423541",
     "exception": false,
     "start_time": "2024-11-07T08:50:29.411014",
     "status": "completed"
    },
    "tags": [
     "parameters"
    ]
   },
   "outputs": [],
   "source": [
    "cat_attrs: str = \"f12 f11\"\n",
    "balance_data: bool = False\n",
    "clear_data: bool = True\n",
    "n_jobs: int = 1\n",
    "verbose: int = 10"
   ]
  },
  {
   "cell_type": "code",
   "execution_count": 3,
   "id": "260eccb8",
   "metadata": {
    "execution": {
     "iopub.execute_input": "2024-11-07T08:50:29.429541Z",
     "iopub.status.busy": "2024-11-07T08:50:29.428540Z",
     "iopub.status.idle": "2024-11-07T08:50:29.438896Z",
     "shell.execute_reply": "2024-11-07T08:50:29.438177Z"
    },
    "papermill": {
     "duration": 0.012857,
     "end_time": "2024-11-07T08:50:29.439399",
     "exception": false,
     "start_time": "2024-11-07T08:50:29.426542",
     "status": "completed"
    },
    "tags": [
     "injected-parameters"
    ]
   },
   "outputs": [],
   "source": [
    "# Parameters\n",
    "n_jobs = 8\n"
   ]
  },
  {
   "cell_type": "code",
   "execution_count": 4,
   "id": "b8d59c2d5723d798",
   "metadata": {
    "execution": {
     "iopub.execute_input": "2024-11-07T08:50:29.445417Z",
     "iopub.status.busy": "2024-11-07T08:50:29.444412Z",
     "iopub.status.idle": "2024-11-07T08:50:29.453950Z",
     "shell.execute_reply": "2024-11-07T08:50:29.453950Z"
    },
    "papermill": {
     "duration": 0.012583,
     "end_time": "2024-11-07T08:50:29.454995",
     "exception": false,
     "start_time": "2024-11-07T08:50:29.442412",
     "status": "completed"
    },
    "tags": []
   },
   "outputs": [
    {
     "data": {
      "text/plain": [
       "['f12', 'f11']"
      ]
     },
     "execution_count": 4,
     "metadata": {},
     "output_type": "execute_result"
    }
   ],
   "source": [
    "cat_attrs: list[str] = cat_attrs.split()\n",
    "cat_attrs"
   ]
  },
  {
   "cell_type": "code",
   "execution_count": 5,
   "id": "c9c5b653532c8121",
   "metadata": {
    "execution": {
     "iopub.execute_input": "2024-11-07T08:50:29.462034Z",
     "iopub.status.busy": "2024-11-07T08:50:29.462034Z",
     "iopub.status.idle": "2024-11-07T08:50:29.469609Z",
     "shell.execute_reply": "2024-11-07T08:50:29.469508Z"
    },
    "papermill": {
     "duration": 0.013002,
     "end_time": "2024-11-07T08:50:29.471003",
     "exception": false,
     "start_time": "2024-11-07T08:50:29.458001",
     "status": "completed"
    },
    "tags": []
   },
   "outputs": [],
   "source": [
    "pd.set_option('display.float_format', '{:.3f}'.format)"
   ]
  },
  {
   "cell_type": "code",
   "execution_count": 6,
   "id": "d56664ec8b50ea6a",
   "metadata": {
    "execution": {
     "iopub.execute_input": "2024-11-07T08:50:29.477011Z",
     "iopub.status.busy": "2024-11-07T08:50:29.476008Z",
     "iopub.status.idle": "2024-11-07T08:50:30.059707Z",
     "shell.execute_reply": "2024-11-07T08:50:30.059707Z"
    },
    "papermill": {
     "duration": 0.586703,
     "end_time": "2024-11-07T08:50:30.060712",
     "exception": false,
     "start_time": "2024-11-07T08:50:29.474009",
     "status": "completed"
    },
    "tags": []
   },
   "outputs": [],
   "source": [
    "csv_path = os.path.join('data', 'data.csv')\n",
    "data = pd.read_csv(csv_path)"
   ]
  },
  {
   "cell_type": "code",
   "execution_count": 7,
   "id": "fdba6b06da2871bf",
   "metadata": {
    "execution": {
     "iopub.execute_input": "2024-11-07T08:50:30.067712Z",
     "iopub.status.busy": "2024-11-07T08:50:30.066711Z",
     "iopub.status.idle": "2024-11-07T08:50:30.090669Z",
     "shell.execute_reply": "2024-11-07T08:50:30.090669Z"
    },
    "papermill": {
     "duration": 0.027963,
     "end_time": "2024-11-07T08:50:30.091674",
     "exception": false,
     "start_time": "2024-11-07T08:50:30.063711",
     "status": "completed"
    },
    "tags": []
   },
   "outputs": [],
   "source": [
    "X = data.drop(columns=['target', 'p'])\n",
    "y = data['target']"
   ]
  },
  {
   "cell_type": "code",
   "execution_count": 8,
   "id": "288f06209ad7651",
   "metadata": {
    "execution": {
     "iopub.execute_input": "2024-11-07T08:50:30.098670Z",
     "iopub.status.busy": "2024-11-07T08:50:30.098670Z",
     "iopub.status.idle": "2024-11-07T08:50:30.729384Z",
     "shell.execute_reply": "2024-11-07T08:50:30.729384Z"
    },
    "papermill": {
     "duration": 0.636323,
     "end_time": "2024-11-07T08:50:30.730992",
     "exception": false,
     "start_time": "2024-11-07T08:50:30.094669",
     "status": "completed"
    },
    "tags": []
   },
   "outputs": [],
   "source": [
    "from sklearn.preprocessing import LabelEncoder\n",
    "\n",
    "label_encoder = LabelEncoder()\n",
    "y = label_encoder.fit_transform(y)\n",
    "y = pd.Series(y, name='target')"
   ]
  },
  {
   "cell_type": "code",
   "execution_count": 9,
   "id": "e32d493683b4f70f",
   "metadata": {
    "execution": {
     "iopub.execute_input": "2024-11-07T08:50:30.738009Z",
     "iopub.status.busy": "2024-11-07T08:50:30.737008Z",
     "iopub.status.idle": "2024-11-07T08:50:31.102322Z",
     "shell.execute_reply": "2024-11-07T08:50:31.102322Z"
    },
    "papermill": {
     "duration": 0.369704,
     "end_time": "2024-11-07T08:50:31.103716",
     "exception": false,
     "start_time": "2024-11-07T08:50:30.734012",
     "status": "completed"
    },
    "tags": []
   },
   "outputs": [
    {
     "name": "stdout",
     "output_type": "stream",
     "text": [
      "Train: X=(838860, 17) y=(838860,)\n",
      "Test: X=(209715, 17) y=(209715,)\n"
     ]
    }
   ],
   "source": [
    "from sklearn.model_selection import train_test_split\n",
    "\n",
    "test_size_ratio = 0.2\n",
    "X_train, X_test, y_train, y_test = train_test_split(\n",
    "    X, y,\n",
    "    test_size=test_size_ratio, \n",
    "    stratify=y, \n",
    "    random_state=42\n",
    ")\n",
    "\n",
    "print(f\"Train: X={X_train.shape} y={y_train.shape}\")\n",
    "print(f\"Test: X={X_test.shape} y={y_test.shape}\")"
   ]
  },
  {
   "cell_type": "code",
   "execution_count": 10,
   "id": "6d5455bafdcbc466",
   "metadata": {
    "execution": {
     "iopub.execute_input": "2024-11-07T08:50:31.109721Z",
     "iopub.status.busy": "2024-11-07T08:50:31.109721Z",
     "iopub.status.idle": "2024-11-07T08:50:31.117464Z",
     "shell.execute_reply": "2024-11-07T08:50:31.117464Z"
    },
    "papermill": {
     "duration": 0.012079,
     "end_time": "2024-11-07T08:50:31.118802",
     "exception": false,
     "start_time": "2024-11-07T08:50:31.106723",
     "status": "completed"
    },
    "tags": []
   },
   "outputs": [
    {
     "name": "stdout",
     "output_type": "stream",
     "text": [
      "balance_data set to False\n"
     ]
    }
   ],
   "source": [
    "from collections import Counter\n",
    "\n",
    "if balance_data:\n",
    "    train = pd.concat([X_train, y_train], axis=1)\n",
    "    train_n = train.shape[0]\n",
    "    \n",
    "    class_counts = Counter(train['target'])\n",
    "    min_class = min(class_counts, key=lambda x: class_counts[x])\n",
    "    \n",
    "    new_train = train.groupby('target').apply(\n",
    "        lambda x: x.sample(class_counts[min_class])\n",
    "    ).reset_index(drop=True)\n",
    "    removed_n = train.shape[0] - new_train.shape[0]\n",
    "    removed_ratio = removed_n / train_n\n",
    "    \n",
    "    print(f\"Majority class: '{min_class}'\")\n",
    "    print(f\"Records removed: {removed_n} ({removed_ratio * 100:.3f} %)\")\n",
    "    X_train = new_train.drop(columns=['target'])\n",
    "    y_train = new_train['target']\n",
    "    print(f\"\\nTrain: X={X_train.shape} y={y_train.shape}\")\n",
    "else:\n",
    "    print(\"balance_data set to False\")"
   ]
  },
  {
   "cell_type": "code",
   "execution_count": 11,
   "id": "ea1d2432dcd6f50a",
   "metadata": {
    "execution": {
     "iopub.execute_input": "2024-11-07T08:50:31.125822Z",
     "iopub.status.busy": "2024-11-07T08:50:31.125822Z",
     "iopub.status.idle": "2024-11-07T08:50:31.133164Z",
     "shell.execute_reply": "2024-11-07T08:50:31.133164Z"
    },
    "papermill": {
     "duration": 0.012814,
     "end_time": "2024-11-07T08:50:31.134639",
     "exception": false,
     "start_time": "2024-11-07T08:50:31.121825",
     "status": "completed"
    },
    "tags": []
   },
   "outputs": [
    {
     "name": "stdout",
     "output_type": "stream",
     "text": [
      "Train positives ratio: 1.69301 %\n",
      "Test positives ratio:  1.69325 %\n"
     ]
    }
   ],
   "source": [
    "y_train_pos_ratio = y_train[y_train == 1].shape[0] / y_train.shape[0]\n",
    "y_test_pos_ratio = y_test[y_test == 1].shape[0] / y_test.shape[0]\n",
    "\n",
    "print(\"Train positives ratio:\", f\"{y_train_pos_ratio * 100:.5f} %\")\n",
    "print(\"Test positives ratio: \", f\"{y_test_pos_ratio * 100:.5f} %\")"
   ]
  },
  {
   "cell_type": "code",
   "execution_count": 12,
   "id": "120b47e1c07d5d5d",
   "metadata": {
    "execution": {
     "iopub.execute_input": "2024-11-07T08:50:31.141059Z",
     "iopub.status.busy": "2024-11-07T08:50:31.141059Z",
     "iopub.status.idle": "2024-11-07T08:50:31.790536Z",
     "shell.execute_reply": "2024-11-07T08:50:31.790536Z"
    },
    "papermill": {
     "duration": 0.653893,
     "end_time": "2024-11-07T08:50:31.791537",
     "exception": false,
     "start_time": "2024-11-07T08:50:31.137644",
     "status": "completed"
    },
    "tags": []
   },
   "outputs": [
    {
     "name": "stdout",
     "output_type": "stream",
     "text": [
      "Duplicates removed: 61923 (7.382 %)\n"
     ]
    },
    {
     "name": "stdout",
     "output_type": "stream",
     "text": [
      "Collisions removed: 56 (0.007 %)\n",
      "Total removed:      61979 (7.388 %)\n",
      "\n",
      "Train: X=(776881, 17) y=(776881,)\n"
     ]
    }
   ],
   "source": [
    "if clear_data:\n",
    "    train = pd.concat([X_train, y_train], axis=1)\n",
    "    train_n = train.shape[0]\n",
    "    \n",
    "    new_train = train.drop_duplicates()\n",
    "    duplicates_n = train.shape[0] - new_train.shape[0]\n",
    "    duplicates_ratio = duplicates_n / train_n\n",
    "    print(f\"Duplicates removed: {duplicates_n} ({duplicates_ratio * 100:.3f} %)\")\n",
    "    train = new_train\n",
    "    \n",
    "    new_train = train.drop_duplicates(subset=train.columns.difference(['target']))\n",
    "    collisions_n = train.shape[0] - new_train.shape[0]\n",
    "    collisions_ratio = collisions_n / train_n\n",
    "    print(f\"Collisions removed: {collisions_n} ({collisions_ratio * 100:.3f} %)\")\n",
    "    train = new_train\n",
    "    \n",
    "    print(f\"Total removed:      {duplicates_n + collisions_n} \"\n",
    "          f\"({(duplicates_ratio + collisions_ratio) * 100:.3f} %)\")\n",
    "    X_train = train.drop(columns=['target'])\n",
    "    y_train = train['target']\n",
    "    print(f\"\\nTrain: X={X_train.shape} y={y_train.shape}\")\n",
    "else:\n",
    "    print(\"clear_data set to False\")"
   ]
  },
  {
   "cell_type": "code",
   "execution_count": 13,
   "id": "c5e26b96b7083101",
   "metadata": {
    "execution": {
     "iopub.execute_input": "2024-11-07T08:50:31.807417Z",
     "iopub.status.busy": "2024-11-07T08:50:31.807417Z",
     "iopub.status.idle": "2024-11-07T08:50:31.884979Z",
     "shell.execute_reply": "2024-11-07T08:50:31.884302Z"
    },
    "papermill": {
     "duration": 0.083059,
     "end_time": "2024-11-07T08:50:31.886462",
     "exception": false,
     "start_time": "2024-11-07T08:50:31.803403",
     "status": "completed"
    },
    "tags": []
   },
   "outputs": [
    {
     "data": {
      "text/plain": [
       "[array([0, 1], dtype=int64), array([0, 1], dtype=int64)]"
      ]
     },
     "execution_count": 13,
     "metadata": {},
     "output_type": "execute_result"
    }
   ],
   "source": [
    "from sklearn.compose import ColumnTransformer\n",
    "from sklearn.linear_model import LogisticRegression\n",
    "from sklearn.preprocessing import OneHotEncoder, StandardScaler\n",
    "from sklearn.pipeline import Pipeline\n",
    "\n",
    "cat_encoder = OneHotEncoder().fit(X[cat_attrs])\n",
    "cat_encoder.categories_  # TODO"
   ]
  },
  {
   "cell_type": "code",
   "execution_count": 14,
   "id": "515460711168c32f",
   "metadata": {
    "execution": {
     "iopub.execute_input": "2024-11-07T08:50:31.895135Z",
     "iopub.status.busy": "2024-11-07T08:50:31.895135Z",
     "iopub.status.idle": "2024-11-07T08:50:32.042523Z",
     "shell.execute_reply": "2024-11-07T08:50:32.042523Z"
    },
    "papermill": {
     "duration": 0.153044,
     "end_time": "2024-11-07T08:50:32.043524",
     "exception": false,
     "start_time": "2024-11-07T08:50:31.890480",
     "status": "completed"
    },
    "tags": []
   },
   "outputs": [],
   "source": [
    "from imblearn.over_sampling import SMOTE, SMOTENC\n",
    "from imblearn.pipeline import Pipeline as ImPipeline\n",
    "\n",
    "preprocessor = ColumnTransformer(\n",
    "    transformers=[\n",
    "        ('cat', 'passthrough', cat_attrs)\n",
    "    ],\n",
    "    remainder=StandardScaler(),\n",
    "    verbose_feature_names_out=True\n",
    ")\n",
    "preprocessor = preprocessor.set_output(transform='pandas')\n",
    "\n",
    "one_hot = ColumnTransformer(\n",
    "    transformers=[\n",
    "        ('cat', OneHotEncoder(), list(map(lambda attr: 'cat__' + attr, cat_attrs)))\n",
    "    ],\n",
    "    remainder='passthrough',\n",
    "    verbose_feature_names_out=True\n",
    ")\n",
    "\n",
    "pipeline = ImPipeline(steps=[\n",
    "    ('preprocessor', preprocessor),\n",
    "    ('sampling', SMOTENC(categorical_features=list(map(lambda attr: 'cat__' + attr, cat_attrs)), random_state=42)),\n",
    "    ('one_hot', one_hot),\n",
    "    ('classifier', LogisticRegression())\n",
    "])"
   ]
  },
  {
   "cell_type": "code",
   "execution_count": 15,
   "id": "d30eff5ccc2557f5",
   "metadata": {
    "execution": {
     "iopub.execute_input": "2024-11-07T08:50:32.050791Z",
     "iopub.status.busy": "2024-11-07T08:50:32.050791Z",
     "iopub.status.idle": "2024-11-07T08:50:32.057789Z",
     "shell.execute_reply": "2024-11-07T08:50:32.057789Z"
    },
    "papermill": {
     "duration": 0.012253,
     "end_time": "2024-11-07T08:50:32.058793",
     "exception": false,
     "start_time": "2024-11-07T08:50:32.046540",
     "status": "completed"
    },
    "tags": []
   },
   "outputs": [],
   "source": [
    "# z_x, z_y = pipeline.fit_resample(X_train, y_train)\n",
    "# z_x, z_y"
   ]
  },
  {
   "cell_type": "code",
   "execution_count": 16,
   "id": "66691c77924b8a7",
   "metadata": {
    "execution": {
     "iopub.execute_input": "2024-11-07T08:50:32.066920Z",
     "iopub.status.busy": "2024-11-07T08:50:32.065919Z",
     "iopub.status.idle": "2024-11-07T08:50:32.073444Z",
     "shell.execute_reply": "2024-11-07T08:50:32.073444Z"
    },
    "papermill": {
     "duration": 0.011533,
     "end_time": "2024-11-07T08:50:32.074446",
     "exception": false,
     "start_time": "2024-11-07T08:50:32.062913",
     "status": "completed"
    },
    "tags": []
   },
   "outputs": [],
   "source": [
    "# (z_y == 0).sum(), (z_y == 1).sum()"
   ]
  },
  {
   "cell_type": "code",
   "execution_count": 17,
   "id": "eb7e6f10dbbd5b71",
   "metadata": {
    "execution": {
     "iopub.execute_input": "2024-11-07T08:50:32.082582Z",
     "iopub.status.busy": "2024-11-07T08:50:32.082582Z",
     "iopub.status.idle": "2024-11-07T08:50:32.136728Z",
     "shell.execute_reply": "2024-11-07T08:50:32.136728Z"
    },
    "papermill": {
     "duration": 0.059354,
     "end_time": "2024-11-07T08:50:32.137802",
     "exception": false,
     "start_time": "2024-11-07T08:50:32.078448",
     "status": "completed"
    },
    "tags": []
   },
   "outputs": [
    {
     "data": {
      "text/plain": [
       "{0: 0.5087769277216532, 1: 28.98377107894344}"
      ]
     },
     "execution_count": 17,
     "metadata": {},
     "output_type": "execute_result"
    }
   ],
   "source": [
    "from sklearn.utils import class_weight\n",
    "\n",
    "class_weights = class_weight.compute_class_weight(class_weight='balanced', classes=y_train.unique(), y=y_train)\n",
    "class_weights = dict(enumerate(class_weights))\n",
    "class_weights"
   ]
  },
  {
   "cell_type": "code",
   "execution_count": 18,
   "id": "f342b445ddaf788b",
   "metadata": {
    "execution": {
     "iopub.execute_input": "2024-11-07T08:50:32.144907Z",
     "iopub.status.busy": "2024-11-07T08:50:32.144907Z",
     "iopub.status.idle": "2024-11-07T08:50:32.183208Z",
     "shell.execute_reply": "2024-11-07T08:50:32.183208Z"
    },
    "papermill": {
     "duration": 0.043155,
     "end_time": "2024-11-07T08:50:32.184210",
     "exception": false,
     "start_time": "2024-11-07T08:50:32.141055",
     "status": "completed"
    },
    "tags": []
   },
   "outputs": [],
   "source": [
    "from xgboost import XGBClassifier\n",
    "from sklearn.neighbors import KNeighborsClassifier\n",
    "from sklearn.ensemble import RandomForestClassifier, HistGradientBoostingClassifier\n",
    "from imblearn.over_sampling import RandomOverSampler\n",
    "\n",
    "param_grid = [\n",
    "    {\n",
    "        # 'one_hot': ['passthrough'],\n",
    "        # 'classifier__categorical_features': [list(map(lambda attr: 'cat__' + attr, cat_attrs))],\n",
    "\n",
    "        'classifier': [HistGradientBoostingClassifier(random_state=42)],\n",
    "        'classifier__learning_rate': [0.1],  # 0.1\n",
    "        'classifier__max_leaf_nodes': [50, None],  # 31\n",
    "        'classifier__max_iter': [10000],  # 100\n",
    "        'classifier__l2_regularization': [0.5],\n",
    "        'classifier__early_stopping': [True],  # True\n",
    "        'classifier__n_iter_no_change': [30],  # 10\n",
    "        'classifier__class_weight': [None],\n",
    "    },\n",
    "    # {\n",
    "    #     'one_hot': ['passthrough'],\n",
    "    #     'classifier__categorical_features': [list(map(lambda attr: 'cat__' + attr, cat_attrs))],\n",
    "    # \n",
    "    #     'classifier': [HistGradientBoostingClassifier(random_state=42)],\n",
    "    #     'classifier__learning_rate': [0.1, 1],  # 0.1\n",
    "    #     'classifier__max_leaf_nodes': [31, None],  # 31\n",
    "    #     'classifier__max_iter': [1000],  # 100\n",
    "    #     'classifier__early_stopping': [True],  # True\n",
    "    #     'classifier__n_iter_no_change': [30],  # 10\n",
    "    #     'classifier__class_weight': [None],\n",
    "    # },\n",
    "]"
   ]
  },
  {
   "cell_type": "code",
   "execution_count": 19,
   "id": "6ea08895e9330bd4",
   "metadata": {
    "execution": {
     "iopub.execute_input": "2024-11-07T08:50:32.191723Z",
     "iopub.status.busy": "2024-11-07T08:50:32.191723Z",
     "iopub.status.idle": "2024-11-07T09:06:37.774611Z",
     "shell.execute_reply": "2024-11-07T09:06:37.773606Z"
    },
    "papermill": {
     "duration": 965.61811,
     "end_time": "2024-11-07T09:06:37.806319",
     "exception": false,
     "start_time": "2024-11-07T08:50:32.188209",
     "status": "completed"
    },
    "tags": []
   },
   "outputs": [
    {
     "name": "stdout",
     "output_type": "stream",
     "text": [
      "Fitting 5 folds for each of 2 candidates, totalling 10 fits\n"
     ]
    }
   ],
   "source": [
    "from sklearn.model_selection import GridSearchCV, StratifiedShuffleSplit\n",
    "\n",
    "grid_search = GridSearchCV(\n",
    "    pipeline, param_grid,\n",
    "    cv=StratifiedShuffleSplit(n_splits=5, test_size=0.2, random_state=42),\n",
    "    scoring=['f1', 'precision', 'recall'],\n",
    "    refit='f1',\n",
    "    return_train_score=True,\n",
    "    n_jobs=n_jobs,\n",
    "    verbose=verbose\n",
    ")\n",
    "\n",
    "grid_search.fit(X_train, y_train);"
   ]
  },
  {
   "cell_type": "code",
   "execution_count": 20,
   "id": "6df9de92f1c370b8",
   "metadata": {
    "execution": {
     "iopub.execute_input": "2024-11-07T09:06:37.831579Z",
     "iopub.status.busy": "2024-11-07T09:06:37.831579Z",
     "iopub.status.idle": "2024-11-07T09:06:37.849862Z",
     "shell.execute_reply": "2024-11-07T09:06:37.849862Z"
    },
    "papermill": {
     "duration": 0.025199,
     "end_time": "2024-11-07T09:06:37.851266",
     "exception": false,
     "start_time": "2024-11-07T09:06:37.826067",
     "status": "completed"
    },
    "tags": []
   },
   "outputs": [
    {
     "data": {
      "text/plain": [
       "{'classifier': HistGradientBoostingClassifier(random_state=42),\n",
       " 'classifier__class_weight': None,\n",
       " 'classifier__early_stopping': True,\n",
       " 'classifier__l2_regularization': 0.5,\n",
       " 'classifier__learning_rate': 0.1,\n",
       " 'classifier__max_iter': 10000,\n",
       " 'classifier__max_leaf_nodes': 50,\n",
       " 'classifier__n_iter_no_change': 30}"
      ]
     },
     "execution_count": 20,
     "metadata": {},
     "output_type": "execute_result"
    }
   ],
   "source": [
    "grid_search.best_params_"
   ]
  },
  {
   "cell_type": "code",
   "execution_count": 21,
   "id": "f2b0d1610f911a82",
   "metadata": {
    "execution": {
     "iopub.execute_input": "2024-11-07T09:06:37.859032Z",
     "iopub.status.busy": "2024-11-07T09:06:37.859032Z",
     "iopub.status.idle": "2024-11-07T09:06:37.880987Z",
     "shell.execute_reply": "2024-11-07T09:06:37.880987Z"
    },
    "papermill": {
     "duration": 0.028327,
     "end_time": "2024-11-07T09:06:37.882845",
     "exception": false,
     "start_time": "2024-11-07T09:06:37.854518",
     "status": "completed"
    },
    "tags": []
   },
   "outputs": [
    {
     "data": {
      "text/html": [
       "<style>#sk-container-id-1 {\n",
       "  /* Definition of color scheme common for light and dark mode */\n",
       "  --sklearn-color-text: black;\n",
       "  --sklearn-color-line: gray;\n",
       "  /* Definition of color scheme for unfitted estimators */\n",
       "  --sklearn-color-unfitted-level-0: #fff5e6;\n",
       "  --sklearn-color-unfitted-level-1: #f6e4d2;\n",
       "  --sklearn-color-unfitted-level-2: #ffe0b3;\n",
       "  --sklearn-color-unfitted-level-3: chocolate;\n",
       "  /* Definition of color scheme for fitted estimators */\n",
       "  --sklearn-color-fitted-level-0: #f0f8ff;\n",
       "  --sklearn-color-fitted-level-1: #d4ebff;\n",
       "  --sklearn-color-fitted-level-2: #b3dbfd;\n",
       "  --sklearn-color-fitted-level-3: cornflowerblue;\n",
       "\n",
       "  /* Specific color for light theme */\n",
       "  --sklearn-color-text-on-default-background: var(--sg-text-color, var(--theme-code-foreground, var(--jp-content-font-color1, black)));\n",
       "  --sklearn-color-background: var(--sg-background-color, var(--theme-background, var(--jp-layout-color0, white)));\n",
       "  --sklearn-color-border-box: var(--sg-text-color, var(--theme-code-foreground, var(--jp-content-font-color1, black)));\n",
       "  --sklearn-color-icon: #696969;\n",
       "\n",
       "  @media (prefers-color-scheme: dark) {\n",
       "    /* Redefinition of color scheme for dark theme */\n",
       "    --sklearn-color-text-on-default-background: var(--sg-text-color, var(--theme-code-foreground, var(--jp-content-font-color1, white)));\n",
       "    --sklearn-color-background: var(--sg-background-color, var(--theme-background, var(--jp-layout-color0, #111)));\n",
       "    --sklearn-color-border-box: var(--sg-text-color, var(--theme-code-foreground, var(--jp-content-font-color1, white)));\n",
       "    --sklearn-color-icon: #878787;\n",
       "  }\n",
       "}\n",
       "\n",
       "#sk-container-id-1 {\n",
       "  color: var(--sklearn-color-text);\n",
       "}\n",
       "\n",
       "#sk-container-id-1 pre {\n",
       "  padding: 0;\n",
       "}\n",
       "\n",
       "#sk-container-id-1 input.sk-hidden--visually {\n",
       "  border: 0;\n",
       "  clip: rect(1px 1px 1px 1px);\n",
       "  clip: rect(1px, 1px, 1px, 1px);\n",
       "  height: 1px;\n",
       "  margin: -1px;\n",
       "  overflow: hidden;\n",
       "  padding: 0;\n",
       "  position: absolute;\n",
       "  width: 1px;\n",
       "}\n",
       "\n",
       "#sk-container-id-1 div.sk-dashed-wrapped {\n",
       "  border: 1px dashed var(--sklearn-color-line);\n",
       "  margin: 0 0.4em 0.5em 0.4em;\n",
       "  box-sizing: border-box;\n",
       "  padding-bottom: 0.4em;\n",
       "  background-color: var(--sklearn-color-background);\n",
       "}\n",
       "\n",
       "#sk-container-id-1 div.sk-container {\n",
       "  /* jupyter's `normalize.less` sets `[hidden] { display: none; }`\n",
       "     but bootstrap.min.css set `[hidden] { display: none !important; }`\n",
       "     so we also need the `!important` here to be able to override the\n",
       "     default hidden behavior on the sphinx rendered scikit-learn.org.\n",
       "     See: https://github.com/scikit-learn/scikit-learn/issues/21755 */\n",
       "  display: inline-block !important;\n",
       "  position: relative;\n",
       "}\n",
       "\n",
       "#sk-container-id-1 div.sk-text-repr-fallback {\n",
       "  display: none;\n",
       "}\n",
       "\n",
       "div.sk-parallel-item,\n",
       "div.sk-serial,\n",
       "div.sk-item {\n",
       "  /* draw centered vertical line to link estimators */\n",
       "  background-image: linear-gradient(var(--sklearn-color-text-on-default-background), var(--sklearn-color-text-on-default-background));\n",
       "  background-size: 2px 100%;\n",
       "  background-repeat: no-repeat;\n",
       "  background-position: center center;\n",
       "}\n",
       "\n",
       "/* Parallel-specific style estimator block */\n",
       "\n",
       "#sk-container-id-1 div.sk-parallel-item::after {\n",
       "  content: \"\";\n",
       "  width: 100%;\n",
       "  border-bottom: 2px solid var(--sklearn-color-text-on-default-background);\n",
       "  flex-grow: 1;\n",
       "}\n",
       "\n",
       "#sk-container-id-1 div.sk-parallel {\n",
       "  display: flex;\n",
       "  align-items: stretch;\n",
       "  justify-content: center;\n",
       "  background-color: var(--sklearn-color-background);\n",
       "  position: relative;\n",
       "}\n",
       "\n",
       "#sk-container-id-1 div.sk-parallel-item {\n",
       "  display: flex;\n",
       "  flex-direction: column;\n",
       "}\n",
       "\n",
       "#sk-container-id-1 div.sk-parallel-item:first-child::after {\n",
       "  align-self: flex-end;\n",
       "  width: 50%;\n",
       "}\n",
       "\n",
       "#sk-container-id-1 div.sk-parallel-item:last-child::after {\n",
       "  align-self: flex-start;\n",
       "  width: 50%;\n",
       "}\n",
       "\n",
       "#sk-container-id-1 div.sk-parallel-item:only-child::after {\n",
       "  width: 0;\n",
       "}\n",
       "\n",
       "/* Serial-specific style estimator block */\n",
       "\n",
       "#sk-container-id-1 div.sk-serial {\n",
       "  display: flex;\n",
       "  flex-direction: column;\n",
       "  align-items: center;\n",
       "  background-color: var(--sklearn-color-background);\n",
       "  padding-right: 1em;\n",
       "  padding-left: 1em;\n",
       "}\n",
       "\n",
       "\n",
       "/* Toggleable style: style used for estimator/Pipeline/ColumnTransformer box that is\n",
       "clickable and can be expanded/collapsed.\n",
       "- Pipeline and ColumnTransformer use this feature and define the default style\n",
       "- Estimators will overwrite some part of the style using the `sk-estimator` class\n",
       "*/\n",
       "\n",
       "/* Pipeline and ColumnTransformer style (default) */\n",
       "\n",
       "#sk-container-id-1 div.sk-toggleable {\n",
       "  /* Default theme specific background. It is overwritten whether we have a\n",
       "  specific estimator or a Pipeline/ColumnTransformer */\n",
       "  background-color: var(--sklearn-color-background);\n",
       "}\n",
       "\n",
       "/* Toggleable label */\n",
       "#sk-container-id-1 label.sk-toggleable__label {\n",
       "  cursor: pointer;\n",
       "  display: block;\n",
       "  width: 100%;\n",
       "  margin-bottom: 0;\n",
       "  padding: 0.5em;\n",
       "  box-sizing: border-box;\n",
       "  text-align: center;\n",
       "}\n",
       "\n",
       "#sk-container-id-1 label.sk-toggleable__label-arrow:before {\n",
       "  /* Arrow on the left of the label */\n",
       "  content: \"▸\";\n",
       "  float: left;\n",
       "  margin-right: 0.25em;\n",
       "  color: var(--sklearn-color-icon);\n",
       "}\n",
       "\n",
       "#sk-container-id-1 label.sk-toggleable__label-arrow:hover:before {\n",
       "  color: var(--sklearn-color-text);\n",
       "}\n",
       "\n",
       "/* Toggleable content - dropdown */\n",
       "\n",
       "#sk-container-id-1 div.sk-toggleable__content {\n",
       "  max-height: 0;\n",
       "  max-width: 0;\n",
       "  overflow: hidden;\n",
       "  text-align: left;\n",
       "  /* unfitted */\n",
       "  background-color: var(--sklearn-color-unfitted-level-0);\n",
       "}\n",
       "\n",
       "#sk-container-id-1 div.sk-toggleable__content.fitted {\n",
       "  /* fitted */\n",
       "  background-color: var(--sklearn-color-fitted-level-0);\n",
       "}\n",
       "\n",
       "#sk-container-id-1 div.sk-toggleable__content pre {\n",
       "  margin: 0.2em;\n",
       "  border-radius: 0.25em;\n",
       "  color: var(--sklearn-color-text);\n",
       "  /* unfitted */\n",
       "  background-color: var(--sklearn-color-unfitted-level-0);\n",
       "}\n",
       "\n",
       "#sk-container-id-1 div.sk-toggleable__content.fitted pre {\n",
       "  /* unfitted */\n",
       "  background-color: var(--sklearn-color-fitted-level-0);\n",
       "}\n",
       "\n",
       "#sk-container-id-1 input.sk-toggleable__control:checked~div.sk-toggleable__content {\n",
       "  /* Expand drop-down */\n",
       "  max-height: 200px;\n",
       "  max-width: 100%;\n",
       "  overflow: auto;\n",
       "}\n",
       "\n",
       "#sk-container-id-1 input.sk-toggleable__control:checked~label.sk-toggleable__label-arrow:before {\n",
       "  content: \"▾\";\n",
       "}\n",
       "\n",
       "/* Pipeline/ColumnTransformer-specific style */\n",
       "\n",
       "#sk-container-id-1 div.sk-label input.sk-toggleable__control:checked~label.sk-toggleable__label {\n",
       "  color: var(--sklearn-color-text);\n",
       "  background-color: var(--sklearn-color-unfitted-level-2);\n",
       "}\n",
       "\n",
       "#sk-container-id-1 div.sk-label.fitted input.sk-toggleable__control:checked~label.sk-toggleable__label {\n",
       "  background-color: var(--sklearn-color-fitted-level-2);\n",
       "}\n",
       "\n",
       "/* Estimator-specific style */\n",
       "\n",
       "/* Colorize estimator box */\n",
       "#sk-container-id-1 div.sk-estimator input.sk-toggleable__control:checked~label.sk-toggleable__label {\n",
       "  /* unfitted */\n",
       "  background-color: var(--sklearn-color-unfitted-level-2);\n",
       "}\n",
       "\n",
       "#sk-container-id-1 div.sk-estimator.fitted input.sk-toggleable__control:checked~label.sk-toggleable__label {\n",
       "  /* fitted */\n",
       "  background-color: var(--sklearn-color-fitted-level-2);\n",
       "}\n",
       "\n",
       "#sk-container-id-1 div.sk-label label.sk-toggleable__label,\n",
       "#sk-container-id-1 div.sk-label label {\n",
       "  /* The background is the default theme color */\n",
       "  color: var(--sklearn-color-text-on-default-background);\n",
       "}\n",
       "\n",
       "/* On hover, darken the color of the background */\n",
       "#sk-container-id-1 div.sk-label:hover label.sk-toggleable__label {\n",
       "  color: var(--sklearn-color-text);\n",
       "  background-color: var(--sklearn-color-unfitted-level-2);\n",
       "}\n",
       "\n",
       "/* Label box, darken color on hover, fitted */\n",
       "#sk-container-id-1 div.sk-label.fitted:hover label.sk-toggleable__label.fitted {\n",
       "  color: var(--sklearn-color-text);\n",
       "  background-color: var(--sklearn-color-fitted-level-2);\n",
       "}\n",
       "\n",
       "/* Estimator label */\n",
       "\n",
       "#sk-container-id-1 div.sk-label label {\n",
       "  font-family: monospace;\n",
       "  font-weight: bold;\n",
       "  display: inline-block;\n",
       "  line-height: 1.2em;\n",
       "}\n",
       "\n",
       "#sk-container-id-1 div.sk-label-container {\n",
       "  text-align: center;\n",
       "}\n",
       "\n",
       "/* Estimator-specific */\n",
       "#sk-container-id-1 div.sk-estimator {\n",
       "  font-family: monospace;\n",
       "  border: 1px dotted var(--sklearn-color-border-box);\n",
       "  border-radius: 0.25em;\n",
       "  box-sizing: border-box;\n",
       "  margin-bottom: 0.5em;\n",
       "  /* unfitted */\n",
       "  background-color: var(--sklearn-color-unfitted-level-0);\n",
       "}\n",
       "\n",
       "#sk-container-id-1 div.sk-estimator.fitted {\n",
       "  /* fitted */\n",
       "  background-color: var(--sklearn-color-fitted-level-0);\n",
       "}\n",
       "\n",
       "/* on hover */\n",
       "#sk-container-id-1 div.sk-estimator:hover {\n",
       "  /* unfitted */\n",
       "  background-color: var(--sklearn-color-unfitted-level-2);\n",
       "}\n",
       "\n",
       "#sk-container-id-1 div.sk-estimator.fitted:hover {\n",
       "  /* fitted */\n",
       "  background-color: var(--sklearn-color-fitted-level-2);\n",
       "}\n",
       "\n",
       "/* Specification for estimator info (e.g. \"i\" and \"?\") */\n",
       "\n",
       "/* Common style for \"i\" and \"?\" */\n",
       "\n",
       ".sk-estimator-doc-link,\n",
       "a:link.sk-estimator-doc-link,\n",
       "a:visited.sk-estimator-doc-link {\n",
       "  float: right;\n",
       "  font-size: smaller;\n",
       "  line-height: 1em;\n",
       "  font-family: monospace;\n",
       "  background-color: var(--sklearn-color-background);\n",
       "  border-radius: 1em;\n",
       "  height: 1em;\n",
       "  width: 1em;\n",
       "  text-decoration: none !important;\n",
       "  margin-left: 1ex;\n",
       "  /* unfitted */\n",
       "  border: var(--sklearn-color-unfitted-level-1) 1pt solid;\n",
       "  color: var(--sklearn-color-unfitted-level-1);\n",
       "}\n",
       "\n",
       ".sk-estimator-doc-link.fitted,\n",
       "a:link.sk-estimator-doc-link.fitted,\n",
       "a:visited.sk-estimator-doc-link.fitted {\n",
       "  /* fitted */\n",
       "  border: var(--sklearn-color-fitted-level-1) 1pt solid;\n",
       "  color: var(--sklearn-color-fitted-level-1);\n",
       "}\n",
       "\n",
       "/* On hover */\n",
       "div.sk-estimator:hover .sk-estimator-doc-link:hover,\n",
       ".sk-estimator-doc-link:hover,\n",
       "div.sk-label-container:hover .sk-estimator-doc-link:hover,\n",
       ".sk-estimator-doc-link:hover {\n",
       "  /* unfitted */\n",
       "  background-color: var(--sklearn-color-unfitted-level-3);\n",
       "  color: var(--sklearn-color-background);\n",
       "  text-decoration: none;\n",
       "}\n",
       "\n",
       "div.sk-estimator.fitted:hover .sk-estimator-doc-link.fitted:hover,\n",
       ".sk-estimator-doc-link.fitted:hover,\n",
       "div.sk-label-container:hover .sk-estimator-doc-link.fitted:hover,\n",
       ".sk-estimator-doc-link.fitted:hover {\n",
       "  /* fitted */\n",
       "  background-color: var(--sklearn-color-fitted-level-3);\n",
       "  color: var(--sklearn-color-background);\n",
       "  text-decoration: none;\n",
       "}\n",
       "\n",
       "/* Span, style for the box shown on hovering the info icon */\n",
       ".sk-estimator-doc-link span {\n",
       "  display: none;\n",
       "  z-index: 9999;\n",
       "  position: relative;\n",
       "  font-weight: normal;\n",
       "  right: .2ex;\n",
       "  padding: .5ex;\n",
       "  margin: .5ex;\n",
       "  width: min-content;\n",
       "  min-width: 20ex;\n",
       "  max-width: 50ex;\n",
       "  color: var(--sklearn-color-text);\n",
       "  box-shadow: 2pt 2pt 4pt #999;\n",
       "  /* unfitted */\n",
       "  background: var(--sklearn-color-unfitted-level-0);\n",
       "  border: .5pt solid var(--sklearn-color-unfitted-level-3);\n",
       "}\n",
       "\n",
       ".sk-estimator-doc-link.fitted span {\n",
       "  /* fitted */\n",
       "  background: var(--sklearn-color-fitted-level-0);\n",
       "  border: var(--sklearn-color-fitted-level-3);\n",
       "}\n",
       "\n",
       ".sk-estimator-doc-link:hover span {\n",
       "  display: block;\n",
       "}\n",
       "\n",
       "/* \"?\"-specific style due to the `<a>` HTML tag */\n",
       "\n",
       "#sk-container-id-1 a.estimator_doc_link {\n",
       "  float: right;\n",
       "  font-size: 1rem;\n",
       "  line-height: 1em;\n",
       "  font-family: monospace;\n",
       "  background-color: var(--sklearn-color-background);\n",
       "  border-radius: 1rem;\n",
       "  height: 1rem;\n",
       "  width: 1rem;\n",
       "  text-decoration: none;\n",
       "  /* unfitted */\n",
       "  color: var(--sklearn-color-unfitted-level-1);\n",
       "  border: var(--sklearn-color-unfitted-level-1) 1pt solid;\n",
       "}\n",
       "\n",
       "#sk-container-id-1 a.estimator_doc_link.fitted {\n",
       "  /* fitted */\n",
       "  border: var(--sklearn-color-fitted-level-1) 1pt solid;\n",
       "  color: var(--sklearn-color-fitted-level-1);\n",
       "}\n",
       "\n",
       "/* On hover */\n",
       "#sk-container-id-1 a.estimator_doc_link:hover {\n",
       "  /* unfitted */\n",
       "  background-color: var(--sklearn-color-unfitted-level-3);\n",
       "  color: var(--sklearn-color-background);\n",
       "  text-decoration: none;\n",
       "}\n",
       "\n",
       "#sk-container-id-1 a.estimator_doc_link.fitted:hover {\n",
       "  /* fitted */\n",
       "  background-color: var(--sklearn-color-fitted-level-3);\n",
       "}\n",
       "</style><div id=\"sk-container-id-1\" class=\"sk-top-container\"><div class=\"sk-text-repr-fallback\"><pre>Pipeline(steps=[(&#x27;preprocessor&#x27;,\n",
       "                 ColumnTransformer(remainder=StandardScaler(),\n",
       "                                   transformers=[(&#x27;cat&#x27;, &#x27;passthrough&#x27;,\n",
       "                                                  [&#x27;f12&#x27;, &#x27;f11&#x27;])])),\n",
       "                (&#x27;sampling&#x27;,\n",
       "                 SMOTENC(categorical_features=[&#x27;cat__f12&#x27;, &#x27;cat__f11&#x27;],\n",
       "                         random_state=42)),\n",
       "                (&#x27;one_hot&#x27;,\n",
       "                 ColumnTransformer(remainder=&#x27;passthrough&#x27;,\n",
       "                                   transformers=[(&#x27;cat&#x27;, OneHotEncoder(),\n",
       "                                                  [&#x27;cat__f12&#x27;, &#x27;cat__f11&#x27;])])),\n",
       "                (&#x27;classifier&#x27;,\n",
       "                 HistGradientBoostingClassifier(early_stopping=True,\n",
       "                                                l2_regularization=0.5,\n",
       "                                                max_iter=10000,\n",
       "                                                max_leaf_nodes=50,\n",
       "                                                n_iter_no_change=30,\n",
       "                                                random_state=42))])</pre><b>In a Jupyter environment, please rerun this cell to show the HTML representation or trust the notebook. <br />On GitHub, the HTML representation is unable to render, please try loading this page with nbviewer.org.</b></div><div class=\"sk-container\" hidden><div class=\"sk-item sk-dashed-wrapped\"><div class=\"sk-label-container\"><div class=\"sk-label fitted sk-toggleable\"><input class=\"sk-toggleable__control sk-hidden--visually\" id=\"sk-estimator-id-1\" type=\"checkbox\" ><label for=\"sk-estimator-id-1\" class=\"sk-toggleable__label fitted sk-toggleable__label-arrow fitted\">&nbsp;Pipeline<span class=\"sk-estimator-doc-link fitted\">i<span>Fitted</span></span></label><div class=\"sk-toggleable__content fitted\"><pre>Pipeline(steps=[(&#x27;preprocessor&#x27;,\n",
       "                 ColumnTransformer(remainder=StandardScaler(),\n",
       "                                   transformers=[(&#x27;cat&#x27;, &#x27;passthrough&#x27;,\n",
       "                                                  [&#x27;f12&#x27;, &#x27;f11&#x27;])])),\n",
       "                (&#x27;sampling&#x27;,\n",
       "                 SMOTENC(categorical_features=[&#x27;cat__f12&#x27;, &#x27;cat__f11&#x27;],\n",
       "                         random_state=42)),\n",
       "                (&#x27;one_hot&#x27;,\n",
       "                 ColumnTransformer(remainder=&#x27;passthrough&#x27;,\n",
       "                                   transformers=[(&#x27;cat&#x27;, OneHotEncoder(),\n",
       "                                                  [&#x27;cat__f12&#x27;, &#x27;cat__f11&#x27;])])),\n",
       "                (&#x27;classifier&#x27;,\n",
       "                 HistGradientBoostingClassifier(early_stopping=True,\n",
       "                                                l2_regularization=0.5,\n",
       "                                                max_iter=10000,\n",
       "                                                max_leaf_nodes=50,\n",
       "                                                n_iter_no_change=30,\n",
       "                                                random_state=42))])</pre></div> </div></div><div class=\"sk-serial\"><div class=\"sk-item sk-dashed-wrapped\"><div class=\"sk-label-container\"><div class=\"sk-label fitted sk-toggleable\"><input class=\"sk-toggleable__control sk-hidden--visually\" id=\"sk-estimator-id-2\" type=\"checkbox\" ><label for=\"sk-estimator-id-2\" class=\"sk-toggleable__label fitted sk-toggleable__label-arrow fitted\">&nbsp;preprocessor: ColumnTransformer<a class=\"sk-estimator-doc-link fitted\" rel=\"noreferrer\" target=\"_blank\" href=\"https://scikit-learn.org/1.4/modules/generated/sklearn.compose.ColumnTransformer.html\">?<span>Documentation for preprocessor: ColumnTransformer</span></a></label><div class=\"sk-toggleable__content fitted\"><pre>ColumnTransformer(remainder=StandardScaler(),\n",
       "                  transformers=[(&#x27;cat&#x27;, &#x27;passthrough&#x27;, [&#x27;f12&#x27;, &#x27;f11&#x27;])])</pre></div> </div></div><div class=\"sk-parallel\"><div class=\"sk-parallel-item\"><div class=\"sk-item\"><div class=\"sk-label-container\"><div class=\"sk-label fitted sk-toggleable\"><input class=\"sk-toggleable__control sk-hidden--visually\" id=\"sk-estimator-id-3\" type=\"checkbox\" ><label for=\"sk-estimator-id-3\" class=\"sk-toggleable__label fitted sk-toggleable__label-arrow fitted\">cat</label><div class=\"sk-toggleable__content fitted\"><pre>[&#x27;f12&#x27;, &#x27;f11&#x27;]</pre></div> </div></div><div class=\"sk-serial\"><div class=\"sk-item\"><div class=\"sk-estimator fitted sk-toggleable\"><input class=\"sk-toggleable__control sk-hidden--visually\" id=\"sk-estimator-id-4\" type=\"checkbox\" ><label for=\"sk-estimator-id-4\" class=\"sk-toggleable__label fitted sk-toggleable__label-arrow fitted\">passthrough</label><div class=\"sk-toggleable__content fitted\"><pre>passthrough</pre></div> </div></div></div></div></div><div class=\"sk-parallel-item\"><div class=\"sk-item\"><div class=\"sk-label-container\"><div class=\"sk-label fitted sk-toggleable\"><input class=\"sk-toggleable__control sk-hidden--visually\" id=\"sk-estimator-id-5\" type=\"checkbox\" ><label for=\"sk-estimator-id-5\" class=\"sk-toggleable__label fitted sk-toggleable__label-arrow fitted\">remainder</label><div class=\"sk-toggleable__content fitted\"><pre>[&#x27;f0&#x27;, &#x27;f1&#x27;, &#x27;f2&#x27;, &#x27;f3&#x27;, &#x27;f4&#x27;, &#x27;f5&#x27;, &#x27;f6&#x27;, &#x27;f7&#x27;, &#x27;f8&#x27;, &#x27;f9&#x27;, &#x27;f10&#x27;, &#x27;f13&#x27;, &#x27;f14&#x27;, &#x27;f15&#x27;, &#x27;f16&#x27;]</pre></div> </div></div><div class=\"sk-serial\"><div class=\"sk-item\"><div class=\"sk-estimator fitted sk-toggleable\"><input class=\"sk-toggleable__control sk-hidden--visually\" id=\"sk-estimator-id-6\" type=\"checkbox\" ><label for=\"sk-estimator-id-6\" class=\"sk-toggleable__label fitted sk-toggleable__label-arrow fitted\">&nbsp;StandardScaler<a class=\"sk-estimator-doc-link fitted\" rel=\"noreferrer\" target=\"_blank\" href=\"https://scikit-learn.org/1.4/modules/generated/sklearn.preprocessing.StandardScaler.html\">?<span>Documentation for StandardScaler</span></a></label><div class=\"sk-toggleable__content fitted\"><pre>StandardScaler()</pre></div> </div></div></div></div></div></div></div><div class=\"sk-item\"><div class=\"sk-estimator fitted sk-toggleable\"><input class=\"sk-toggleable__control sk-hidden--visually\" id=\"sk-estimator-id-7\" type=\"checkbox\" ><label for=\"sk-estimator-id-7\" class=\"sk-toggleable__label fitted sk-toggleable__label-arrow fitted\">SMOTENC</label><div class=\"sk-toggleable__content fitted\"><pre>SMOTENC(categorical_features=[&#x27;cat__f12&#x27;, &#x27;cat__f11&#x27;], random_state=42)</pre></div> </div></div><div class=\"sk-item sk-dashed-wrapped\"><div class=\"sk-label-container\"><div class=\"sk-label fitted sk-toggleable\"><input class=\"sk-toggleable__control sk-hidden--visually\" id=\"sk-estimator-id-8\" type=\"checkbox\" ><label for=\"sk-estimator-id-8\" class=\"sk-toggleable__label fitted sk-toggleable__label-arrow fitted\">&nbsp;one_hot: ColumnTransformer<a class=\"sk-estimator-doc-link fitted\" rel=\"noreferrer\" target=\"_blank\" href=\"https://scikit-learn.org/1.4/modules/generated/sklearn.compose.ColumnTransformer.html\">?<span>Documentation for one_hot: ColumnTransformer</span></a></label><div class=\"sk-toggleable__content fitted\"><pre>ColumnTransformer(remainder=&#x27;passthrough&#x27;,\n",
       "                  transformers=[(&#x27;cat&#x27;, OneHotEncoder(),\n",
       "                                 [&#x27;cat__f12&#x27;, &#x27;cat__f11&#x27;])])</pre></div> </div></div><div class=\"sk-parallel\"><div class=\"sk-parallel-item\"><div class=\"sk-item\"><div class=\"sk-label-container\"><div class=\"sk-label fitted sk-toggleable\"><input class=\"sk-toggleable__control sk-hidden--visually\" id=\"sk-estimator-id-9\" type=\"checkbox\" ><label for=\"sk-estimator-id-9\" class=\"sk-toggleable__label fitted sk-toggleable__label-arrow fitted\">cat</label><div class=\"sk-toggleable__content fitted\"><pre>[&#x27;cat__f12&#x27;, &#x27;cat__f11&#x27;]</pre></div> </div></div><div class=\"sk-serial\"><div class=\"sk-item\"><div class=\"sk-estimator fitted sk-toggleable\"><input class=\"sk-toggleable__control sk-hidden--visually\" id=\"sk-estimator-id-10\" type=\"checkbox\" ><label for=\"sk-estimator-id-10\" class=\"sk-toggleable__label fitted sk-toggleable__label-arrow fitted\">&nbsp;OneHotEncoder<a class=\"sk-estimator-doc-link fitted\" rel=\"noreferrer\" target=\"_blank\" href=\"https://scikit-learn.org/1.4/modules/generated/sklearn.preprocessing.OneHotEncoder.html\">?<span>Documentation for OneHotEncoder</span></a></label><div class=\"sk-toggleable__content fitted\"><pre>OneHotEncoder()</pre></div> </div></div></div></div></div><div class=\"sk-parallel-item\"><div class=\"sk-item\"><div class=\"sk-label-container\"><div class=\"sk-label fitted sk-toggleable\"><input class=\"sk-toggleable__control sk-hidden--visually\" id=\"sk-estimator-id-11\" type=\"checkbox\" ><label for=\"sk-estimator-id-11\" class=\"sk-toggleable__label fitted sk-toggleable__label-arrow fitted\">remainder</label><div class=\"sk-toggleable__content fitted\"><pre>[&#x27;remainder__f0&#x27;, &#x27;remainder__f1&#x27;, &#x27;remainder__f2&#x27;, &#x27;remainder__f3&#x27;, &#x27;remainder__f4&#x27;, &#x27;remainder__f5&#x27;, &#x27;remainder__f6&#x27;, &#x27;remainder__f7&#x27;, &#x27;remainder__f8&#x27;, &#x27;remainder__f9&#x27;, &#x27;remainder__f10&#x27;, &#x27;remainder__f13&#x27;, &#x27;remainder__f14&#x27;, &#x27;remainder__f15&#x27;, &#x27;remainder__f16&#x27;]</pre></div> </div></div><div class=\"sk-serial\"><div class=\"sk-item\"><div class=\"sk-estimator fitted sk-toggleable\"><input class=\"sk-toggleable__control sk-hidden--visually\" id=\"sk-estimator-id-12\" type=\"checkbox\" ><label for=\"sk-estimator-id-12\" class=\"sk-toggleable__label fitted sk-toggleable__label-arrow fitted\">passthrough</label><div class=\"sk-toggleable__content fitted\"><pre>passthrough</pre></div> </div></div></div></div></div></div></div><div class=\"sk-item\"><div class=\"sk-estimator fitted sk-toggleable\"><input class=\"sk-toggleable__control sk-hidden--visually\" id=\"sk-estimator-id-13\" type=\"checkbox\" ><label for=\"sk-estimator-id-13\" class=\"sk-toggleable__label fitted sk-toggleable__label-arrow fitted\">&nbsp;HistGradientBoostingClassifier<a class=\"sk-estimator-doc-link fitted\" rel=\"noreferrer\" target=\"_blank\" href=\"https://scikit-learn.org/1.4/modules/generated/sklearn.ensemble.HistGradientBoostingClassifier.html\">?<span>Documentation for HistGradientBoostingClassifier</span></a></label><div class=\"sk-toggleable__content fitted\"><pre>HistGradientBoostingClassifier(early_stopping=True, l2_regularization=0.5,\n",
       "                               max_iter=10000, max_leaf_nodes=50,\n",
       "                               n_iter_no_change=30, random_state=42)</pre></div> </div></div></div></div></div></div>"
      ],
      "text/plain": [
       "Pipeline(steps=[('preprocessor',\n",
       "                 ColumnTransformer(remainder=StandardScaler(),\n",
       "                                   transformers=[('cat', 'passthrough',\n",
       "                                                  ['f12', 'f11'])])),\n",
       "                ('sampling',\n",
       "                 SMOTENC(categorical_features=['cat__f12', 'cat__f11'],\n",
       "                         random_state=42)),\n",
       "                ('one_hot',\n",
       "                 ColumnTransformer(remainder='passthrough',\n",
       "                                   transformers=[('cat', OneHotEncoder(),\n",
       "                                                  ['cat__f12', 'cat__f11'])])),\n",
       "                ('classifier',\n",
       "                 HistGradientBoostingClassifier(early_stopping=True,\n",
       "                                                l2_regularization=0.5,\n",
       "                                                max_iter=10000,\n",
       "                                                max_leaf_nodes=50,\n",
       "                                                n_iter_no_change=30,\n",
       "                                                random_state=42))])"
      ]
     },
     "execution_count": 21,
     "metadata": {},
     "output_type": "execute_result"
    }
   ],
   "source": [
    "grid_search.best_estimator_"
   ]
  },
  {
   "cell_type": "code",
   "execution_count": 22,
   "id": "3bac9ca63acaa1f9",
   "metadata": {
    "execution": {
     "iopub.execute_input": "2024-11-07T09:06:37.891233Z",
     "iopub.status.busy": "2024-11-07T09:06:37.891233Z",
     "iopub.status.idle": "2024-11-07T09:06:37.896309Z",
     "shell.execute_reply": "2024-11-07T09:06:37.896309Z"
    },
    "papermill": {
     "duration": 0.009455,
     "end_time": "2024-11-07T09:06:37.896309",
     "exception": false,
     "start_time": "2024-11-07T09:06:37.886854",
     "status": "completed"
    },
    "tags": []
   },
   "outputs": [
    {
     "data": {
      "text/plain": [
       "0.7502980083459108"
      ]
     },
     "execution_count": 22,
     "metadata": {},
     "output_type": "execute_result"
    }
   ],
   "source": [
    "grid_search.best_score_"
   ]
  },
  {
   "cell_type": "code",
   "execution_count": 23,
   "id": "ee1faab262b6aeeb",
   "metadata": {
    "execution": {
     "iopub.execute_input": "2024-11-07T09:06:37.905553Z",
     "iopub.status.busy": "2024-11-07T09:06:37.905553Z",
     "iopub.status.idle": "2024-11-07T09:06:37.927901Z",
     "shell.execute_reply": "2024-11-07T09:06:37.927901Z"
    },
    "papermill": {
     "duration": 0.028118,
     "end_time": "2024-11-07T09:06:37.928902",
     "exception": false,
     "start_time": "2024-11-07T09:06:37.900784",
     "status": "completed"
    },
    "tags": []
   },
   "outputs": [
    {
     "data": {
      "text/html": [
       "<div>\n",
       "<style scoped>\n",
       "    .dataframe tbody tr th:only-of-type {\n",
       "        vertical-align: middle;\n",
       "    }\n",
       "\n",
       "    .dataframe tbody tr th {\n",
       "        vertical-align: top;\n",
       "    }\n",
       "\n",
       "    .dataframe thead th {\n",
       "        text-align: right;\n",
       "    }\n",
       "</style>\n",
       "<table border=\"1\" class=\"dataframe\">\n",
       "  <thead>\n",
       "    <tr style=\"text-align: right;\">\n",
       "      <th></th>\n",
       "      <th>mean_fit_time</th>\n",
       "      <th>std_fit_time</th>\n",
       "      <th>mean_score_time</th>\n",
       "      <th>std_score_time</th>\n",
       "      <th>param_classifier</th>\n",
       "      <th>param_classifier__class_weight</th>\n",
       "      <th>param_classifier__early_stopping</th>\n",
       "      <th>param_classifier__l2_regularization</th>\n",
       "      <th>param_classifier__learning_rate</th>\n",
       "      <th>param_classifier__max_iter</th>\n",
       "      <th>...</th>\n",
       "      <th>mean_test_recall</th>\n",
       "      <th>std_test_recall</th>\n",
       "      <th>rank_test_recall</th>\n",
       "      <th>split0_train_recall</th>\n",
       "      <th>split1_train_recall</th>\n",
       "      <th>split2_train_recall</th>\n",
       "      <th>split3_train_recall</th>\n",
       "      <th>split4_train_recall</th>\n",
       "      <th>mean_train_recall</th>\n",
       "      <th>std_train_recall</th>\n",
       "    </tr>\n",
       "  </thead>\n",
       "  <tbody>\n",
       "    <tr>\n",
       "      <th>0</th>\n",
       "      <td>625.332</td>\n",
       "      <td>29.701</td>\n",
       "      <td>25.433</td>\n",
       "      <td>1.267</td>\n",
       "      <td>HistGradientBoostingClassifier(random_state=42)</td>\n",
       "      <td>None</td>\n",
       "      <td>True</td>\n",
       "      <td>0.500</td>\n",
       "      <td>0.100</td>\n",
       "      <td>10000</td>\n",
       "      <td>...</td>\n",
       "      <td>0.780</td>\n",
       "      <td>0.003</td>\n",
       "      <td>2</td>\n",
       "      <td>0.934</td>\n",
       "      <td>0.941</td>\n",
       "      <td>0.948</td>\n",
       "      <td>0.938</td>\n",
       "      <td>0.940</td>\n",
       "      <td>0.940</td>\n",
       "      <td>0.005</td>\n",
       "    </tr>\n",
       "    <tr>\n",
       "      <th>1</th>\n",
       "      <td>304.284</td>\n",
       "      <td>88.657</td>\n",
       "      <td>5.933</td>\n",
       "      <td>0.327</td>\n",
       "      <td>HistGradientBoostingClassifier(random_state=42)</td>\n",
       "      <td>None</td>\n",
       "      <td>True</td>\n",
       "      <td>0.500</td>\n",
       "      <td>0.100</td>\n",
       "      <td>10000</td>\n",
       "      <td>...</td>\n",
       "      <td>0.789</td>\n",
       "      <td>0.004</td>\n",
       "      <td>1</td>\n",
       "      <td>0.971</td>\n",
       "      <td>0.969</td>\n",
       "      <td>0.972</td>\n",
       "      <td>0.967</td>\n",
       "      <td>0.970</td>\n",
       "      <td>0.970</td>\n",
       "      <td>0.002</td>\n",
       "    </tr>\n",
       "  </tbody>\n",
       "</table>\n",
       "<p>2 rows × 58 columns</p>\n",
       "</div>"
      ],
      "text/plain": [
       "   mean_fit_time  std_fit_time  mean_score_time  std_score_time  \\\n",
       "0        625.332        29.701           25.433           1.267   \n",
       "1        304.284        88.657            5.933           0.327   \n",
       "\n",
       "                                  param_classifier  \\\n",
       "0  HistGradientBoostingClassifier(random_state=42)   \n",
       "1  HistGradientBoostingClassifier(random_state=42)   \n",
       "\n",
       "  param_classifier__class_weight param_classifier__early_stopping  \\\n",
       "0                           None                             True   \n",
       "1                           None                             True   \n",
       "\n",
       "  param_classifier__l2_regularization param_classifier__learning_rate  \\\n",
       "0                               0.500                           0.100   \n",
       "1                               0.500                           0.100   \n",
       "\n",
       "  param_classifier__max_iter  ... mean_test_recall std_test_recall  \\\n",
       "0                      10000  ...            0.780           0.003   \n",
       "1                      10000  ...            0.789           0.004   \n",
       "\n",
       "  rank_test_recall  split0_train_recall  split1_train_recall  \\\n",
       "0                2                0.934                0.941   \n",
       "1                1                0.971                0.969   \n",
       "\n",
       "   split2_train_recall  split3_train_recall  split4_train_recall  \\\n",
       "0                0.948                0.938                0.940   \n",
       "1                0.972                0.967                0.970   \n",
       "\n",
       "   mean_train_recall  std_train_recall  \n",
       "0              0.940             0.005  \n",
       "1              0.970             0.002  \n",
       "\n",
       "[2 rows x 58 columns]"
      ]
     },
     "execution_count": 23,
     "metadata": {},
     "output_type": "execute_result"
    }
   ],
   "source": [
    "cv_results = pd.DataFrame(grid_search.cv_results_)\n",
    "cv_results = cv_results.sort_values('rank_test_f1')\n",
    "cv_results"
   ]
  },
  {
   "cell_type": "code",
   "execution_count": 24,
   "id": "472bc1c2945e2ede",
   "metadata": {
    "execution": {
     "iopub.execute_input": "2024-11-07T09:06:37.937430Z",
     "iopub.status.busy": "2024-11-07T09:06:37.937430Z",
     "iopub.status.idle": "2024-11-07T09:06:45.415784Z",
     "shell.execute_reply": "2024-11-07T09:06:45.415784Z"
    },
    "papermill": {
     "duration": 7.483747,
     "end_time": "2024-11-07T09:06:45.417162",
     "exception": false,
     "start_time": "2024-11-07T09:06:37.933415",
     "status": "completed"
    },
    "tags": []
   },
   "outputs": [
    {
     "name": "stdout",
     "output_type": "stream",
     "text": [
      "F1: 0.7798502382573179\n",
      "Precision: 0.7548761201897733\n",
      "Recall: 0.8065333708814418\n"
     ]
    }
   ],
   "source": [
    "from sklearn.metrics import f1_score, precision_score, recall_score\n",
    "\n",
    "y_pred = grid_search.best_estimator_.predict(X_test)\n",
    "f1 = f1_score(y_test, y_pred)\n",
    "p = precision_score(y_test, y_pred)\n",
    "r = recall_score(y_test, y_pred)\n",
    "\n",
    "print(\"F1:\", f1)\n",
    "print(\"Precision:\", p)\n",
    "print(\"Recall:\", r)"
   ]
  },
  {
   "cell_type": "code",
   "execution_count": 25,
   "id": "1420d5a2ba01a421",
   "metadata": {
    "execution": {
     "iopub.execute_input": "2024-11-07T09:06:45.428125Z",
     "iopub.status.busy": "2024-11-07T09:06:45.427106Z",
     "iopub.status.idle": "2024-11-07T09:06:46.004465Z",
     "shell.execute_reply": "2024-11-07T09:06:46.004465Z"
    },
    "papermill": {
     "duration": 0.583785,
     "end_time": "2024-11-07T09:06:46.005953",
     "exception": false,
     "start_time": "2024-11-07T09:06:45.422168",
     "status": "completed"
    },
    "tags": []
   },
   "outputs": [
    {
     "data": {
      "text/plain": [
       "['out\\\\GridSearchCV_dump.pkl']"
      ]
     },
     "execution_count": 25,
     "metadata": {},
     "output_type": "execute_result"
    }
   ],
   "source": [
    "from joblib import dump\n",
    "\n",
    "if not os.path.exists('out'):\n",
    "    os.makedirs('out')\n",
    "dump(grid_search, os.path.join('out', 'GridSearchCV_dump.pkl'), compress=True)"
   ]
  }
 ],
 "metadata": {
  "kernelspec": {
   "display_name": "Python 3 (ipykernel)",
   "language": "python",
   "name": "python3"
  },
  "language_info": {
   "codemirror_mode": {
    "name": "ipython",
    "version": 3
   },
   "file_extension": ".py",
   "mimetype": "text/x-python",
   "name": "python",
   "nbconvert_exporter": "python",
   "pygments_lexer": "ipython3",
   "version": "3.9.13"
  },
  "papermill": {
   "default_parameters": {},
   "duration": 978.718178,
   "end_time": "2024-11-07T09:06:46.582526",
   "environment_variables": {},
   "exception": null,
   "input_path": "classification_z_6_1.ipynb",
   "output_path": "classification_z_6_1.ipynb",
   "parameters": {
    "n_jobs": 8
   },
   "start_time": "2024-11-07T08:50:27.864348",
   "version": "2.6.0"
  }
 },
 "nbformat": 4,
 "nbformat_minor": 5
}