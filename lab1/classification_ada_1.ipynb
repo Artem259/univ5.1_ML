{
 "cells": [
  {
   "cell_type": "code",
   "execution_count": 1,
   "id": "initial_id",
   "metadata": {
    "execution": {
     "iopub.execute_input": "2024-11-07T09:21:13.307739Z",
     "iopub.status.busy": "2024-11-07T09:21:13.307739Z",
     "iopub.status.idle": "2024-11-07T09:21:13.957171Z",
     "shell.execute_reply": "2024-11-07T09:21:13.956171Z"
    },
    "papermill": {
     "duration": 0.657434,
     "end_time": "2024-11-07T09:21:13.958171",
     "exception": false,
     "start_time": "2024-11-07T09:21:13.300737",
     "status": "completed"
    },
    "tags": []
   },
   "outputs": [],
   "source": [
    "import os\n",
    "import pandas as pd"
   ]
  },
  {
   "cell_type": "code",
   "execution_count": 2,
   "id": "ab92d0123055b0f4",
   "metadata": {
    "execution": {
     "iopub.execute_input": "2024-11-07T09:21:13.966171Z",
     "iopub.status.busy": "2024-11-07T09:21:13.965170Z",
     "iopub.status.idle": "2024-11-07T09:21:13.972275Z",
     "shell.execute_reply": "2024-11-07T09:21:13.972275Z"
    },
    "papermill": {
     "duration": 0.010999,
     "end_time": "2024-11-07T09:21:13.973171",
     "exception": false,
     "start_time": "2024-11-07T09:21:13.962172",
     "status": "completed"
    },
    "tags": [
     "parameters"
    ]
   },
   "outputs": [],
   "source": [
    "cat_attrs: str = \"f12 f11\"\n",
    "balance_data: bool = False\n",
    "clear_data: bool = True\n",
    "n_jobs: int = 1\n",
    "verbose: int = 10"
   ]
  },
  {
   "cell_type": "code",
   "execution_count": 3,
   "id": "1a56cdb6",
   "metadata": {
    "execution": {
     "iopub.execute_input": "2024-11-07T09:21:13.982679Z",
     "iopub.status.busy": "2024-11-07T09:21:13.982679Z",
     "iopub.status.idle": "2024-11-07T09:21:13.988716Z",
     "shell.execute_reply": "2024-11-07T09:21:13.987690Z"
    },
    "papermill": {
     "duration": 0.012557,
     "end_time": "2024-11-07T09:21:13.989727",
     "exception": false,
     "start_time": "2024-11-07T09:21:13.977170",
     "status": "completed"
    },
    "tags": [
     "injected-parameters"
    ]
   },
   "outputs": [],
   "source": [
    "# Parameters\n",
    "n_jobs = 8\n"
   ]
  },
  {
   "cell_type": "code",
   "execution_count": 4,
   "id": "b8d59c2d5723d798",
   "metadata": {
    "execution": {
     "iopub.execute_input": "2024-11-07T09:21:13.998728Z",
     "iopub.status.busy": "2024-11-07T09:21:13.998728Z",
     "iopub.status.idle": "2024-11-07T09:21:14.020467Z",
     "shell.execute_reply": "2024-11-07T09:21:14.018728Z"
    },
    "papermill": {
     "duration": 0.027714,
     "end_time": "2024-11-07T09:21:14.022441",
     "exception": false,
     "start_time": "2024-11-07T09:21:13.994727",
     "status": "completed"
    },
    "tags": []
   },
   "outputs": [
    {
     "data": {
      "text/plain": [
       "['f12', 'f11']"
      ]
     },
     "execution_count": 4,
     "metadata": {},
     "output_type": "execute_result"
    }
   ],
   "source": [
    "cat_attrs: list[str] = cat_attrs.split()\n",
    "cat_attrs"
   ]
  },
  {
   "cell_type": "code",
   "execution_count": 5,
   "id": "c9c5b653532c8121",
   "metadata": {
    "execution": {
     "iopub.execute_input": "2024-11-07T09:21:14.032956Z",
     "iopub.status.busy": "2024-11-07T09:21:14.032956Z",
     "iopub.status.idle": "2024-11-07T09:21:14.052274Z",
     "shell.execute_reply": "2024-11-07T09:21:14.050260Z"
    },
    "papermill": {
     "duration": 0.02584,
     "end_time": "2024-11-07T09:21:14.053274",
     "exception": false,
     "start_time": "2024-11-07T09:21:14.027434",
     "status": "completed"
    },
    "tags": []
   },
   "outputs": [],
   "source": [
    "pd.set_option('display.float_format', '{:.3f}'.format)"
   ]
  },
  {
   "cell_type": "code",
   "execution_count": 6,
   "id": "d56664ec8b50ea6a",
   "metadata": {
    "execution": {
     "iopub.execute_input": "2024-11-07T09:21:14.063272Z",
     "iopub.status.busy": "2024-11-07T09:21:14.063272Z",
     "iopub.status.idle": "2024-11-07T09:21:14.925021Z",
     "shell.execute_reply": "2024-11-07T09:21:14.924022Z"
    },
    "papermill": {
     "duration": 0.868751,
     "end_time": "2024-11-07T09:21:14.926023",
     "exception": false,
     "start_time": "2024-11-07T09:21:14.057272",
     "status": "completed"
    },
    "tags": []
   },
   "outputs": [],
   "source": [
    "csv_path = os.path.join('data', 'data.csv')\n",
    "data = pd.read_csv(csv_path)"
   ]
  },
  {
   "cell_type": "code",
   "execution_count": 7,
   "id": "fdba6b06da2871bf",
   "metadata": {
    "execution": {
     "iopub.execute_input": "2024-11-07T09:21:14.936549Z",
     "iopub.status.busy": "2024-11-07T09:21:14.936549Z",
     "iopub.status.idle": "2024-11-07T09:21:14.971762Z",
     "shell.execute_reply": "2024-11-07T09:21:14.970760Z"
    },
    "papermill": {
     "duration": 0.041736,
     "end_time": "2024-11-07T09:21:14.972761",
     "exception": false,
     "start_time": "2024-11-07T09:21:14.931025",
     "status": "completed"
    },
    "tags": []
   },
   "outputs": [],
   "source": [
    "X = data.drop(columns=['target', 'p', 'f16', 'f2', 'f5'])\n",
    "y = data['target']"
   ]
  },
  {
   "cell_type": "code",
   "execution_count": 8,
   "id": "288f06209ad7651",
   "metadata": {
    "execution": {
     "iopub.execute_input": "2024-11-07T09:21:14.979764Z",
     "iopub.status.busy": "2024-11-07T09:21:14.979764Z",
     "iopub.status.idle": "2024-11-07T09:21:16.079996Z",
     "shell.execute_reply": "2024-11-07T09:21:16.079116Z"
    },
    "papermill": {
     "duration": 1.105236,
     "end_time": "2024-11-07T09:21:16.080997",
     "exception": false,
     "start_time": "2024-11-07T09:21:14.975761",
     "status": "completed"
    },
    "tags": []
   },
   "outputs": [],
   "source": [
    "from sklearn.preprocessing import LabelEncoder\n",
    "\n",
    "label_encoder = LabelEncoder()\n",
    "y = label_encoder.fit_transform(y)\n",
    "y = pd.Series(y, name='target')"
   ]
  },
  {
   "cell_type": "code",
   "execution_count": 9,
   "id": "e32d493683b4f70f",
   "metadata": {
    "execution": {
     "iopub.execute_input": "2024-11-07T09:21:16.092521Z",
     "iopub.status.busy": "2024-11-07T09:21:16.091520Z",
     "iopub.status.idle": "2024-11-07T09:21:16.672136Z",
     "shell.execute_reply": "2024-11-07T09:21:16.671208Z"
    },
    "papermill": {
     "duration": 0.587138,
     "end_time": "2024-11-07T09:21:16.673135",
     "exception": false,
     "start_time": "2024-11-07T09:21:16.085997",
     "status": "completed"
    },
    "tags": []
   },
   "outputs": [
    {
     "name": "stdout",
     "output_type": "stream",
     "text": [
      "Train: X=(838860, 14) y=(838860,)\n",
      "Test: X=(209715, 14) y=(209715,)\n"
     ]
    }
   ],
   "source": [
    "from sklearn.model_selection import train_test_split\n",
    "\n",
    "test_size_ratio = 0.2\n",
    "X_train, X_test, y_train, y_test = train_test_split(\n",
    "    X, y,\n",
    "    test_size=test_size_ratio, \n",
    "    stratify=y, \n",
    "    random_state=42\n",
    ")\n",
    "\n",
    "print(f\"Train: X={X_train.shape} y={y_train.shape}\")\n",
    "print(f\"Test: X={X_test.shape} y={y_test.shape}\")"
   ]
  },
  {
   "cell_type": "code",
   "execution_count": 10,
   "id": "6d5455bafdcbc466",
   "metadata": {
    "execution": {
     "iopub.execute_input": "2024-11-07T09:21:16.697122Z",
     "iopub.status.busy": "2024-11-07T09:21:16.696120Z",
     "iopub.status.idle": "2024-11-07T09:21:16.718124Z",
     "shell.execute_reply": "2024-11-07T09:21:16.717216Z"
    },
    "papermill": {
     "duration": 0.042994,
     "end_time": "2024-11-07T09:21:16.720127",
     "exception": false,
     "start_time": "2024-11-07T09:21:16.677133",
     "status": "completed"
    },
    "tags": []
   },
   "outputs": [
    {
     "name": "stdout",
     "output_type": "stream",
     "text": [
      "balance_data set to False\n"
     ]
    }
   ],
   "source": [
    "from collections import Counter\n",
    "\n",
    "if balance_data:\n",
    "    train = pd.concat([X_train, y_train], axis=1)\n",
    "    train_n = train.shape[0]\n",
    "    \n",
    "    class_counts = Counter(train['target'])\n",
    "    min_class = min(class_counts, key=lambda x: class_counts[x])\n",
    "    \n",
    "    new_train = train.groupby('target').apply(\n",
    "        lambda x: x.sample(class_counts[min_class])\n",
    "    ).reset_index(drop=True)\n",
    "    removed_n = train.shape[0] - new_train.shape[0]\n",
    "    removed_ratio = removed_n / train_n\n",
    "    \n",
    "    print(f\"Majority class: '{min_class}'\")\n",
    "    print(f\"Records removed: {removed_n} ({removed_ratio * 100:.3f} %)\")\n",
    "    X_train = new_train.drop(columns=['target'])\n",
    "    y_train = new_train['target']\n",
    "    print(f\"\\nTrain: X={X_train.shape} y={y_train.shape}\")\n",
    "else:\n",
    "    print(\"balance_data set to False\")"
   ]
  },
  {
   "cell_type": "code",
   "execution_count": 11,
   "id": "ea1d2432dcd6f50a",
   "metadata": {
    "execution": {
     "iopub.execute_input": "2024-11-07T09:21:16.729146Z",
     "iopub.status.busy": "2024-11-07T09:21:16.729146Z",
     "iopub.status.idle": "2024-11-07T09:21:16.750151Z",
     "shell.execute_reply": "2024-11-07T09:21:16.749148Z"
    },
    "papermill": {
     "duration": 0.02803,
     "end_time": "2024-11-07T09:21:16.752152",
     "exception": false,
     "start_time": "2024-11-07T09:21:16.724122",
     "status": "completed"
    },
    "tags": []
   },
   "outputs": [
    {
     "name": "stdout",
     "output_type": "stream",
     "text": [
      "Train positives ratio: 1.69301 %\n",
      "Test positives ratio:  1.69325 %\n"
     ]
    }
   ],
   "source": [
    "y_train_pos_ratio = y_train[y_train == 1].shape[0] / y_train.shape[0]\n",
    "y_test_pos_ratio = y_test[y_test == 1].shape[0] / y_test.shape[0]\n",
    "\n",
    "print(\"Train positives ratio:\", f\"{y_train_pos_ratio * 100:.5f} %\")\n",
    "print(\"Test positives ratio: \", f\"{y_test_pos_ratio * 100:.5f} %\")"
   ]
  },
  {
   "cell_type": "code",
   "execution_count": 12,
   "id": "120b47e1c07d5d5d",
   "metadata": {
    "execution": {
     "iopub.execute_input": "2024-11-07T09:21:16.762859Z",
     "iopub.status.busy": "2024-11-07T09:21:16.762859Z",
     "iopub.status.idle": "2024-11-07T09:21:17.623398Z",
     "shell.execute_reply": "2024-11-07T09:21:17.622400Z"
    },
    "papermill": {
     "duration": 0.867253,
     "end_time": "2024-11-07T09:21:17.624400",
     "exception": false,
     "start_time": "2024-11-07T09:21:16.757147",
     "status": "completed"
    },
    "tags": []
   },
   "outputs": [
    {
     "name": "stdout",
     "output_type": "stream",
     "text": [
      "Duplicates removed: 62020 (7.393 %)\n"
     ]
    },
    {
     "name": "stdout",
     "output_type": "stream",
     "text": [
      "Collisions removed: 57 (0.007 %)\n",
      "Total removed:      62077 (7.400 %)\n",
      "\n",
      "Train: X=(776783, 14) y=(776783,)\n"
     ]
    }
   ],
   "source": [
    "if clear_data:\n",
    "    train = pd.concat([X_train, y_train], axis=1)\n",
    "    train_n = train.shape[0]\n",
    "    \n",
    "    new_train = train.drop_duplicates()\n",
    "    duplicates_n = train.shape[0] - new_train.shape[0]\n",
    "    duplicates_ratio = duplicates_n / train_n\n",
    "    print(f\"Duplicates removed: {duplicates_n} ({duplicates_ratio * 100:.3f} %)\")\n",
    "    train = new_train\n",
    "    \n",
    "    new_train = train.drop_duplicates(subset=train.columns.difference(['target']))\n",
    "    collisions_n = train.shape[0] - new_train.shape[0]\n",
    "    collisions_ratio = collisions_n / train_n\n",
    "    print(f\"Collisions removed: {collisions_n} ({collisions_ratio * 100:.3f} %)\")\n",
    "    train = new_train\n",
    "    \n",
    "    print(f\"Total removed:      {duplicates_n + collisions_n} \"\n",
    "          f\"({(duplicates_ratio + collisions_ratio) * 100:.3f} %)\")\n",
    "    X_train = train.drop(columns=['target'])\n",
    "    y_train = train['target']\n",
    "    print(f\"\\nTrain: X={X_train.shape} y={y_train.shape}\")\n",
    "else:\n",
    "    print(\"clear_data set to False\")"
   ]
  },
  {
   "cell_type": "code",
   "execution_count": 13,
   "id": "c5e26b96b7083101",
   "metadata": {
    "execution": {
     "iopub.execute_input": "2024-11-07T09:21:17.639164Z",
     "iopub.status.busy": "2024-11-07T09:21:17.638164Z",
     "iopub.status.idle": "2024-11-07T09:21:17.764365Z",
     "shell.execute_reply": "2024-11-07T09:21:17.763363Z"
    },
    "papermill": {
     "duration": 0.136729,
     "end_time": "2024-11-07T09:21:17.766366",
     "exception": false,
     "start_time": "2024-11-07T09:21:17.629637",
     "status": "completed"
    },
    "tags": []
   },
   "outputs": [
    {
     "data": {
      "text/plain": [
       "[array([0, 1], dtype=int64), array([0, 1], dtype=int64)]"
      ]
     },
     "execution_count": 13,
     "metadata": {},
     "output_type": "execute_result"
    }
   ],
   "source": [
    "from sklearn.compose import ColumnTransformer\n",
    "from sklearn.linear_model import LogisticRegression\n",
    "from sklearn.preprocessing import OneHotEncoder, StandardScaler\n",
    "from sklearn.pipeline import Pipeline\n",
    "\n",
    "cat_encoder = OneHotEncoder().fit(X[cat_attrs])\n",
    "cat_encoder.categories_  # TODO"
   ]
  },
  {
   "cell_type": "code",
   "execution_count": 14,
   "id": "515460711168c32f",
   "metadata": {
    "execution": {
     "iopub.execute_input": "2024-11-07T09:21:17.779403Z",
     "iopub.status.busy": "2024-11-07T09:21:17.778404Z",
     "iopub.status.idle": "2024-11-07T09:21:18.233750Z",
     "shell.execute_reply": "2024-11-07T09:21:18.232735Z"
    },
    "papermill": {
     "duration": 0.464345,
     "end_time": "2024-11-07T09:21:18.236746",
     "exception": false,
     "start_time": "2024-11-07T09:21:17.772401",
     "status": "completed"
    },
    "tags": []
   },
   "outputs": [],
   "source": [
    "from imblearn.over_sampling import SMOTE, SMOTENC\n",
    "from imblearn.pipeline import Pipeline as ImPipeline\n",
    "\n",
    "preprocessor = ColumnTransformer(\n",
    "    transformers=[\n",
    "        ('cat', 'passthrough', cat_attrs)\n",
    "    ],\n",
    "    remainder=StandardScaler(),\n",
    "    verbose_feature_names_out=True\n",
    ")\n",
    "preprocessor = preprocessor.set_output(transform='pandas')\n",
    "\n",
    "one_hot = ColumnTransformer(\n",
    "    transformers=[\n",
    "        ('cat', OneHotEncoder(), list(map(lambda attr: 'cat__' + attr, cat_attrs)))\n",
    "    ],\n",
    "    remainder='passthrough',\n",
    "    verbose_feature_names_out=True\n",
    ")\n",
    "# one_hot = one_hot.set_output(transform='pandas')\n",
    "\n",
    "pipeline = ImPipeline(steps=[\n",
    "    ('preprocessor', preprocessor),\n",
    "    ('sampling', SMOTENC(categorical_features=list(map(lambda attr: 'cat__' + attr, cat_attrs)), random_state=42)),\n",
    "    ('one_hot', one_hot),\n",
    "    ('classifier', LogisticRegression())\n",
    "])"
   ]
  },
  {
   "cell_type": "code",
   "execution_count": 15,
   "id": "d30eff5ccc2557f5",
   "metadata": {
    "execution": {
     "iopub.execute_input": "2024-11-07T09:21:18.249268Z",
     "iopub.status.busy": "2024-11-07T09:21:18.248269Z",
     "iopub.status.idle": "2024-11-07T09:21:18.261271Z",
     "shell.execute_reply": "2024-11-07T09:21:18.260273Z"
    },
    "papermill": {
     "duration": 0.020524,
     "end_time": "2024-11-07T09:21:18.263271",
     "exception": false,
     "start_time": "2024-11-07T09:21:18.242747",
     "status": "completed"
    },
    "tags": []
   },
   "outputs": [],
   "source": [
    "# z_x, z_y = pipeline.fit_resample(X_train, y_train)\n",
    "# z_x, z_y"
   ]
  },
  {
   "cell_type": "code",
   "execution_count": 16,
   "id": "66691c77924b8a7",
   "metadata": {
    "execution": {
     "iopub.execute_input": "2024-11-07T09:21:18.289613Z",
     "iopub.status.busy": "2024-11-07T09:21:18.289613Z",
     "iopub.status.idle": "2024-11-07T09:21:18.310628Z",
     "shell.execute_reply": "2024-11-07T09:21:18.307632Z"
    },
    "papermill": {
     "duration": 0.029525,
     "end_time": "2024-11-07T09:21:18.312626",
     "exception": false,
     "start_time": "2024-11-07T09:21:18.283101",
     "status": "completed"
    },
    "tags": []
   },
   "outputs": [],
   "source": [
    "# (z_y == 0).sum(), (z_y == 1).sum()"
   ]
  },
  {
   "cell_type": "code",
   "execution_count": 17,
   "id": "eb7e6f10dbbd5b71",
   "metadata": {
    "execution": {
     "iopub.execute_input": "2024-11-07T09:21:18.341167Z",
     "iopub.status.busy": "2024-11-07T09:21:18.340173Z",
     "iopub.status.idle": "2024-11-07T09:21:18.434647Z",
     "shell.execute_reply": "2024-11-07T09:21:18.433646Z"
    },
    "papermill": {
     "duration": 0.104019,
     "end_time": "2024-11-07T09:21:18.435647",
     "exception": false,
     "start_time": "2024-11-07T09:21:18.331628",
     "status": "completed"
    },
    "tags": []
   },
   "outputs": [
    {
     "data": {
      "text/plain": [
       "{0: 0.5087780544708344, 1: 28.980114908222653}"
      ]
     },
     "execution_count": 17,
     "metadata": {},
     "output_type": "execute_result"
    }
   ],
   "source": [
    "from sklearn.utils import class_weight\n",
    "\n",
    "class_weights = class_weight.compute_class_weight(class_weight='balanced', classes=y_train.unique(), y=y_train)\n",
    "class_weights = dict(enumerate(class_weights))\n",
    "class_weights"
   ]
  },
  {
   "cell_type": "code",
   "execution_count": 18,
   "id": "f342b445ddaf788b",
   "metadata": {
    "execution": {
     "iopub.execute_input": "2024-11-07T09:21:18.447650Z",
     "iopub.status.busy": "2024-11-07T09:21:18.447650Z",
     "iopub.status.idle": "2024-11-07T09:21:18.527608Z",
     "shell.execute_reply": "2024-11-07T09:21:18.526609Z"
    },
    "papermill": {
     "duration": 0.087967,
     "end_time": "2024-11-07T09:21:18.528610",
     "exception": false,
     "start_time": "2024-11-07T09:21:18.440643",
     "status": "completed"
    },
    "tags": []
   },
   "outputs": [],
   "source": [
    "from sklearn.neural_network import MLPClassifier\n",
    "from xgboost import XGBClassifier\n",
    "from sklearn.neighbors import KNeighborsClassifier\n",
    "from sklearn.ensemble import RandomForestClassifier, HistGradientBoostingClassifier, AdaBoostClassifier\n",
    "from imblearn.over_sampling import RandomOverSampler\n",
    "\n",
    "param_grid = [\n",
    "    {\n",
    "        'sampling': [\n",
    "            SMOTENC(categorical_features=list(map(lambda attr: 'cat__' + attr, cat_attrs)), random_state=42),\n",
    "            'passthrough',\n",
    "        ],\n",
    "        \n",
    "        'classifier': [AdaBoostClassifier()],\n",
    "        'classifier__n_estimators': [50, 100, 200],\n",
    "        'classifier__learning_rate': [0.01, 0.1, 0.2],\n",
    "    },\n",
    "]"
   ]
  },
  {
   "cell_type": "code",
   "execution_count": 19,
   "id": "6ea08895e9330bd4",
   "metadata": {
    "execution": {
     "iopub.execute_input": "2024-11-07T09:21:18.540134Z",
     "iopub.status.busy": "2024-11-07T09:21:18.540134Z"
    },
    "papermill": {
     "duration": 2157.856594,
     "end_time": "2024-11-07T09:57:16.390207",
     "exception": false,
     "start_time": "2024-11-07T09:21:18.533613",
     "status": "completed"
    },
    "tags": []
   },
   "outputs": [
    {
     "name": "stdout",
     "output_type": "stream",
     "text": [
      "Fitting 5 folds for each of 18 candidates, totalling 90 fits\n"
     ]
    }
   ],
   "source": [
    "from sklearn.model_selection import GridSearchCV, StratifiedShuffleSplit\n",
    "\n",
    "grid_search = GridSearchCV(\n",
    "    pipeline, param_grid,\n",
    "    cv=StratifiedShuffleSplit(n_splits=5, test_size=0.2, random_state=42),\n",
    "    scoring=['f1', 'precision', 'recall'],\n",
    "    refit='f1',\n",
    "    return_train_score=True,\n",
    "    n_jobs=n_jobs,\n",
    "    verbose=verbose\n",
    ")\n",
    "\n",
    "grid_search.fit(X_train, y_train);"
   ]
  },
  {
   "cell_type": "code",
   "execution_count": null,
   "id": "6df9de92f1c370b8",
   "metadata": {
    "execution": {
     "iopub.execute_input": "2024-11-07T01:36:41.510456Z",
     "iopub.status.busy": "2024-11-07T01:36:41.509457Z",
     "iopub.status.idle": "2024-11-07T01:36:41.532139Z",
     "shell.execute_reply": "2024-11-07T01:36:41.532139Z"
    },
    "papermill": {
     "duration": null,
     "end_time": null,
     "exception": null,
     "start_time": null,
     "status": "completed"
    },
    "tags": []
   },
   "outputs": [],
   "source": [
    "grid_search.best_params_"
   ]
  },
  {
   "cell_type": "code",
   "execution_count": null,
   "id": "f2b0d1610f911a82",
   "metadata": {
    "execution": {
     "iopub.execute_input": "2024-11-07T01:36:41.540891Z",
     "iopub.status.busy": "2024-11-07T01:36:41.540891Z",
     "iopub.status.idle": "2024-11-07T01:36:41.563210Z",
     "shell.execute_reply": "2024-11-07T01:36:41.563210Z"
    },
    "papermill": {
     "duration": null,
     "end_time": null,
     "exception": null,
     "start_time": null,
     "status": "completed"
    },
    "tags": []
   },
   "outputs": [],
   "source": [
    "grid_search.best_estimator_"
   ]
  },
  {
   "cell_type": "code",
   "execution_count": null,
   "id": "3bac9ca63acaa1f9",
   "metadata": {
    "execution": {
     "iopub.execute_input": "2024-11-07T01:36:41.573593Z",
     "iopub.status.busy": "2024-11-07T01:36:41.573593Z",
     "iopub.status.idle": "2024-11-07T01:36:41.579250Z",
     "shell.execute_reply": "2024-11-07T01:36:41.579250Z"
    },
    "papermill": {
     "duration": null,
     "end_time": null,
     "exception": null,
     "start_time": null,
     "status": "completed"
    },
    "tags": []
   },
   "outputs": [],
   "source": [
    "grid_search.best_score_"
   ]
  },
  {
   "cell_type": "code",
   "execution_count": null,
   "id": "e27241ff35d06224",
   "metadata": {
    "papermill": {
     "duration": null,
     "end_time": null,
     "exception": null,
     "start_time": null,
     "status": "completed"
    },
    "tags": []
   },
   "outputs": [],
   "source": [
    "importances = grid_search.best_estimator_['classifier'].feature_importances_\n",
    "importances"
   ]
  },
  {
   "cell_type": "code",
   "execution_count": null,
   "id": "23f961f1fa2a3e2d",
   "metadata": {
    "execution": {
     "iopub.execute_input": "2024-11-07T01:36:41.588675Z",
     "iopub.status.busy": "2024-11-07T01:36:41.588675Z",
     "iopub.status.idle": "2024-11-07T01:36:42.267911Z",
     "shell.execute_reply": "2024-11-07T01:36:42.265395Z"
    },
    "papermill": {
     "duration": null,
     "end_time": null,
     "exception": null,
     "start_time": null,
     "status": "completed"
    },
    "tags": []
   },
   "outputs": [],
   "source": [
    "# feature_importance = pd.DataFrame(importances, index=X_train.columns, columns=['Importance'])\n",
    "# feature_importance.sort_values(by='Importance')"
   ]
  },
  {
   "cell_type": "code",
   "execution_count": null,
   "id": "ee1faab262b6aeeb",
   "metadata": {
    "execution": {
     "iopub.execute_input": "2024-11-06T21:18:17.484210Z",
     "iopub.status.busy": "2024-11-06T21:18:17.484210Z",
     "iopub.status.idle": "2024-11-06T21:18:17.520281Z",
     "shell.execute_reply": "2024-11-06T21:18:17.520281Z"
    },
    "papermill": {
     "duration": null,
     "end_time": null,
     "exception": null,
     "start_time": null,
     "status": "completed"
    },
    "tags": []
   },
   "outputs": [],
   "source": [
    "cv_results = pd.DataFrame(grid_search.cv_results_)\n",
    "cv_results = cv_results.sort_values('rank_test_f1')\n",
    "cv_results"
   ]
  },
  {
   "cell_type": "code",
   "execution_count": null,
   "id": "472bc1c2945e2ede",
   "metadata": {
    "execution": {
     "iopub.execute_input": "2024-11-06T21:18:17.531758Z",
     "iopub.status.busy": "2024-11-06T21:18:17.531758Z",
     "iopub.status.idle": "2024-11-06T21:18:19.763681Z",
     "shell.execute_reply": "2024-11-06T21:18:19.763681Z"
    },
    "papermill": {
     "duration": null,
     "end_time": null,
     "exception": null,
     "start_time": null,
     "status": "completed"
    },
    "tags": []
   },
   "outputs": [],
   "source": [
    "from sklearn.metrics import f1_score, precision_score, recall_score\n",
    "\n",
    "y_pred = grid_search.best_estimator_.predict(X_test)\n",
    "f1 = f1_score(y_test, y_pred)\n",
    "p = precision_score(y_test, y_pred)\n",
    "r = recall_score(y_test, y_pred)\n",
    "\n",
    "print(\"F1:\", f1)\n",
    "print(\"Precision:\", p)\n",
    "print(\"Recall:\", r)"
   ]
  },
  {
   "cell_type": "code",
   "execution_count": null,
   "id": "1420d5a2ba01a421",
   "metadata": {
    "execution": {
     "iopub.execute_input": "2024-11-06T21:18:19.786006Z",
     "iopub.status.busy": "2024-11-06T21:18:19.786006Z",
     "iopub.status.idle": "2024-11-06T21:18:20.888094Z",
     "shell.execute_reply": "2024-11-06T21:18:20.887022Z"
    },
    "papermill": {
     "duration": null,
     "end_time": null,
     "exception": null,
     "start_time": null,
     "status": "completed"
    },
    "tags": []
   },
   "outputs": [],
   "source": [
    "from joblib import dump\n",
    "\n",
    "if not os.path.exists('out'):\n",
    "    os.makedirs('out')\n",
    "dump(grid_search, os.path.join('out', 'GridSearchCV_dump.pkl'), compress=True)"
   ]
  }
 ],
 "metadata": {
  "kernelspec": {
   "display_name": "Python 3 (ipykernel)",
   "language": "python",
   "name": "python3"
  },
  "language_info": {
   "codemirror_mode": {
    "name": "ipython",
    "version": 3
   },
   "file_extension": ".py",
   "mimetype": "text/x-python",
   "name": "python",
   "nbconvert_exporter": "python",
   "pygments_lexer": "ipython3",
   "version": "3.9.13"
  },
  "papermill": {
   "default_parameters": {},
   "duration": 2167.751016,
   "end_time": "2024-11-07T09:57:19.130785",
   "environment_variables": {},
   "exception": null,
   "input_path": "classification_ada_1.ipynb",
   "output_path": "classification_ada_1.ipynb",
   "parameters": {
    "n_jobs": 8
   },
   "start_time": "2024-11-07T09:21:11.379769",
   "version": "2.6.0"
  }
 },
 "nbformat": 4,
 "nbformat_minor": 5
}