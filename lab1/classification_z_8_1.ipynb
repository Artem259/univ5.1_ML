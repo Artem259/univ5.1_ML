{
 "cells": [
  {
   "cell_type": "code",
   "execution_count": 1,
   "id": "initial_id",
   "metadata": {
    "ExecuteTime": {
     "end_time": "2024-11-07T02:03:24.105482Z",
     "start_time": "2024-11-07T02:03:24.090743Z"
    },
    "execution": {
     "iopub.execute_input": "2024-11-07T02:24:54.208929Z",
     "iopub.status.busy": "2024-11-07T02:24:54.208929Z",
     "iopub.status.idle": "2024-11-07T02:24:54.469553Z",
     "shell.execute_reply": "2024-11-07T02:24:54.469553Z"
    },
    "papermill": {
     "duration": 0.26784,
     "end_time": "2024-11-07T02:24:54.471554",
     "exception": false,
     "start_time": "2024-11-07T02:24:54.203714",
     "status": "completed"
    },
    "tags": []
   },
   "outputs": [],
   "source": [
    "import os\n",
    "import pandas as pd"
   ]
  },
  {
   "cell_type": "code",
   "execution_count": 2,
   "id": "ab92d0123055b0f4",
   "metadata": {
    "ExecuteTime": {
     "end_time": "2024-11-07T02:03:24.135905Z",
     "start_time": "2024-11-07T02:03:24.129368Z"
    },
    "execution": {
     "iopub.execute_input": "2024-11-07T02:24:54.477555Z",
     "iopub.status.busy": "2024-11-07T02:24:54.477555Z",
     "iopub.status.idle": "2024-11-07T02:24:54.485262Z",
     "shell.execute_reply": "2024-11-07T02:24:54.485262Z"
    },
    "papermill": {
     "duration": 0.011688,
     "end_time": "2024-11-07T02:24:54.486243",
     "exception": false,
     "start_time": "2024-11-07T02:24:54.474555",
     "status": "completed"
    },
    "tags": [
     "parameters"
    ]
   },
   "outputs": [],
   "source": [
    "cat_attrs: str = \"f12 f11\"\n",
    "balance_data: bool = False\n",
    "clear_data: bool = True\n",
    "n_jobs: int = 1\n",
    "verbose: int = 10"
   ]
  },
  {
   "cell_type": "code",
   "execution_count": 3,
   "id": "7c359f80",
   "metadata": {
    "execution": {
     "iopub.execute_input": "2024-11-07T02:24:54.492242Z",
     "iopub.status.busy": "2024-11-07T02:24:54.492242Z",
     "iopub.status.idle": "2024-11-07T02:24:54.500338Z",
     "shell.execute_reply": "2024-11-07T02:24:54.500338Z"
    },
    "papermill": {
     "duration": 0.012009,
     "end_time": "2024-11-07T02:24:54.501251",
     "exception": false,
     "start_time": "2024-11-07T02:24:54.489242",
     "status": "completed"
    },
    "tags": [
     "injected-parameters"
    ]
   },
   "outputs": [],
   "source": [
    "# Parameters\n",
    "n_jobs = 8\n"
   ]
  },
  {
   "cell_type": "code",
   "execution_count": 4,
   "id": "b8d59c2d5723d798",
   "metadata": {
    "ExecuteTime": {
     "end_time": "2024-11-07T02:03:24.245290Z",
     "start_time": "2024-11-07T02:03:24.230511Z"
    },
    "execution": {
     "iopub.execute_input": "2024-11-07T02:24:54.507249Z",
     "iopub.status.busy": "2024-11-07T02:24:54.507249Z",
     "iopub.status.idle": "2024-11-07T02:24:54.515429Z",
     "shell.execute_reply": "2024-11-07T02:24:54.515429Z"
    },
    "papermill": {
     "duration": 0.012213,
     "end_time": "2024-11-07T02:24:54.516462",
     "exception": false,
     "start_time": "2024-11-07T02:24:54.504249",
     "status": "completed"
    },
    "tags": []
   },
   "outputs": [
    {
     "data": {
      "text/plain": [
       "['f12', 'f11']"
      ]
     },
     "execution_count": 4,
     "metadata": {},
     "output_type": "execute_result"
    }
   ],
   "source": [
    "cat_attrs: list[str] = cat_attrs.split()\n",
    "cat_attrs"
   ]
  },
  {
   "cell_type": "code",
   "execution_count": 5,
   "id": "c9c5b653532c8121",
   "metadata": {
    "ExecuteTime": {
     "end_time": "2024-11-07T02:03:24.323915Z",
     "start_time": "2024-11-07T02:03:24.321472Z"
    },
    "execution": {
     "iopub.execute_input": "2024-11-07T02:24:54.523460Z",
     "iopub.status.busy": "2024-11-07T02:24:54.523460Z",
     "iopub.status.idle": "2024-11-07T02:24:54.531475Z",
     "shell.execute_reply": "2024-11-07T02:24:54.531475Z"
    },
    "papermill": {
     "duration": 0.01338,
     "end_time": "2024-11-07T02:24:54.532859",
     "exception": false,
     "start_time": "2024-11-07T02:24:54.519479",
     "status": "completed"
    },
    "tags": []
   },
   "outputs": [],
   "source": [
    "pd.set_option('display.float_format', '{:.3f}'.format)"
   ]
  },
  {
   "cell_type": "code",
   "execution_count": 6,
   "id": "d56664ec8b50ea6a",
   "metadata": {
    "ExecuteTime": {
     "end_time": "2024-11-07T02:03:25.042066Z",
     "start_time": "2024-11-07T02:03:24.372072Z"
    },
    "execution": {
     "iopub.execute_input": "2024-11-07T02:24:54.538865Z",
     "iopub.status.busy": "2024-11-07T02:24:54.538865Z",
     "iopub.status.idle": "2024-11-07T02:24:55.121934Z",
     "shell.execute_reply": "2024-11-07T02:24:55.121934Z"
    },
    "papermill": {
     "duration": 0.587511,
     "end_time": "2024-11-07T02:24:55.123379",
     "exception": false,
     "start_time": "2024-11-07T02:24:54.535868",
     "status": "completed"
    },
    "tags": []
   },
   "outputs": [],
   "source": [
    "csv_path = os.path.join('data', 'data.csv')\n",
    "data = pd.read_csv(csv_path)"
   ]
  },
  {
   "cell_type": "code",
   "execution_count": 7,
   "id": "fdba6b06da2871bf",
   "metadata": {
    "ExecuteTime": {
     "end_time": "2024-11-07T02:03:25.120074Z",
     "start_time": "2024-11-07T02:03:25.089978Z"
    },
    "execution": {
     "iopub.execute_input": "2024-11-07T02:24:55.129786Z",
     "iopub.status.busy": "2024-11-07T02:24:55.129786Z",
     "iopub.status.idle": "2024-11-07T02:24:55.153232Z",
     "shell.execute_reply": "2024-11-07T02:24:55.153137Z"
    },
    "papermill": {
     "duration": 0.027324,
     "end_time": "2024-11-07T02:24:55.154108",
     "exception": false,
     "start_time": "2024-11-07T02:24:55.126784",
     "status": "completed"
    },
    "tags": []
   },
   "outputs": [],
   "source": [
    "X = data.drop(columns=['target', 'p', 'f16', 'f2', 'f5'])\n",
    "y = data['target']"
   ]
  },
  {
   "cell_type": "code",
   "execution_count": 8,
   "id": "288f06209ad7651",
   "metadata": {
    "ExecuteTime": {
     "end_time": "2024-11-07T02:03:25.259008Z",
     "start_time": "2024-11-07T02:03:25.168531Z"
    },
    "execution": {
     "iopub.execute_input": "2024-11-07T02:24:55.162109Z",
     "iopub.status.busy": "2024-11-07T02:24:55.162109Z",
     "iopub.status.idle": "2024-11-07T02:24:55.589624Z",
     "shell.execute_reply": "2024-11-07T02:24:55.589624Z"
    },
    "papermill": {
     "duration": 0.432849,
     "end_time": "2024-11-07T02:24:55.590974",
     "exception": false,
     "start_time": "2024-11-07T02:24:55.158125",
     "status": "completed"
    },
    "tags": []
   },
   "outputs": [],
   "source": [
    "from sklearn.preprocessing import LabelEncoder\n",
    "\n",
    "label_encoder = LabelEncoder()\n",
    "y = label_encoder.fit_transform(y)\n",
    "y = pd.Series(y, name='target')"
   ]
  },
  {
   "cell_type": "code",
   "execution_count": 9,
   "id": "e32d493683b4f70f",
   "metadata": {
    "ExecuteTime": {
     "end_time": "2024-11-07T02:03:25.583369Z",
     "start_time": "2024-11-07T02:03:25.306196Z"
    },
    "execution": {
     "iopub.execute_input": "2024-11-07T02:24:55.600069Z",
     "iopub.status.busy": "2024-11-07T02:24:55.599069Z",
     "iopub.status.idle": "2024-11-07T02:24:55.979195Z",
     "shell.execute_reply": "2024-11-07T02:24:55.979195Z"
    },
    "papermill": {
     "duration": 0.385126,
     "end_time": "2024-11-07T02:24:55.980196",
     "exception": false,
     "start_time": "2024-11-07T02:24:55.595070",
     "status": "completed"
    },
    "tags": []
   },
   "outputs": [
    {
     "name": "stdout",
     "output_type": "stream",
     "text": [
      "Train: X=(838860, 14) y=(838860,)\n",
      "Test: X=(209715, 14) y=(209715,)\n"
     ]
    }
   ],
   "source": [
    "from sklearn.model_selection import train_test_split\n",
    "\n",
    "test_size_ratio = 0.2\n",
    "X_train, X_test, y_train, y_test = train_test_split(\n",
    "    X, y,\n",
    "    test_size=test_size_ratio, \n",
    "    stratify=y, \n",
    "    random_state=42\n",
    ")\n",
    "\n",
    "print(f\"Train: X={X_train.shape} y={y_train.shape}\")\n",
    "print(f\"Test: X={X_test.shape} y={y_test.shape}\")"
   ]
  },
  {
   "cell_type": "code",
   "execution_count": 10,
   "id": "6d5455bafdcbc466",
   "metadata": {
    "ExecuteTime": {
     "end_time": "2024-11-07T02:03:25.676128Z",
     "start_time": "2024-11-07T02:03:25.662399Z"
    },
    "execution": {
     "iopub.execute_input": "2024-11-07T02:24:55.988194Z",
     "iopub.status.busy": "2024-11-07T02:24:55.988194Z",
     "iopub.status.idle": "2024-11-07T02:24:55.994522Z",
     "shell.execute_reply": "2024-11-07T02:24:55.994406Z"
    },
    "papermill": {
     "duration": 0.011342,
     "end_time": "2024-11-07T02:24:55.995541",
     "exception": false,
     "start_time": "2024-11-07T02:24:55.984199",
     "status": "completed"
    },
    "tags": []
   },
   "outputs": [
    {
     "name": "stdout",
     "output_type": "stream",
     "text": [
      "balance_data set to False\n"
     ]
    }
   ],
   "source": [
    "from collections import Counter\n",
    "\n",
    "if balance_data:\n",
    "    train = pd.concat([X_train, y_train], axis=1)\n",
    "    train_n = train.shape[0]\n",
    "    \n",
    "    class_counts = Counter(train['target'])\n",
    "    min_class = min(class_counts, key=lambda x: class_counts[x])\n",
    "    \n",
    "    new_train = train.groupby('target').apply(\n",
    "        lambda x: x.sample(class_counts[min_class])\n",
    "    ).reset_index(drop=True)\n",
    "    removed_n = train.shape[0] - new_train.shape[0]\n",
    "    removed_ratio = removed_n / train_n\n",
    "    \n",
    "    print(f\"Majority class: '{min_class}'\")\n",
    "    print(f\"Records removed: {removed_n} ({removed_ratio * 100:.3f} %)\")\n",
    "    X_train = new_train.drop(columns=['target'])\n",
    "    y_train = new_train['target']\n",
    "    print(f\"\\nTrain: X={X_train.shape} y={y_train.shape}\")\n",
    "else:\n",
    "    print(\"balance_data set to False\")"
   ]
  },
  {
   "cell_type": "code",
   "execution_count": 11,
   "id": "ea1d2432dcd6f50a",
   "metadata": {
    "ExecuteTime": {
     "end_time": "2024-11-07T02:03:25.738634Z",
     "start_time": "2024-11-07T02:03:25.727538Z"
    },
    "execution": {
     "iopub.execute_input": "2024-11-07T02:24:56.006382Z",
     "iopub.status.busy": "2024-11-07T02:24:56.006382Z",
     "iopub.status.idle": "2024-11-07T02:24:56.027298Z",
     "shell.execute_reply": "2024-11-07T02:24:56.026295Z"
    },
    "papermill": {
     "duration": 0.027763,
     "end_time": "2024-11-07T02:24:56.028297",
     "exception": false,
     "start_time": "2024-11-07T02:24:56.000534",
     "status": "completed"
    },
    "tags": []
   },
   "outputs": [
    {
     "name": "stdout",
     "output_type": "stream",
     "text": [
      "Train positives ratio: 1.69301 %\n",
      "Test positives ratio:  1.69325 %\n"
     ]
    }
   ],
   "source": [
    "y_train_pos_ratio = y_train[y_train == 1].shape[0] / y_train.shape[0]\n",
    "y_test_pos_ratio = y_test[y_test == 1].shape[0] / y_test.shape[0]\n",
    "\n",
    "print(\"Train positives ratio:\", f\"{y_train_pos_ratio * 100:.5f} %\")\n",
    "print(\"Test positives ratio: \", f\"{y_test_pos_ratio * 100:.5f} %\")"
   ]
  },
  {
   "cell_type": "code",
   "execution_count": 12,
   "id": "120b47e1c07d5d5d",
   "metadata": {
    "ExecuteTime": {
     "end_time": "2024-11-07T02:03:26.268190Z",
     "start_time": "2024-11-07T02:03:25.785169Z"
    },
    "execution": {
     "iopub.execute_input": "2024-11-07T02:24:56.037297Z",
     "iopub.status.busy": "2024-11-07T02:24:56.037297Z",
     "iopub.status.idle": "2024-11-07T02:24:56.602332Z",
     "shell.execute_reply": "2024-11-07T02:24:56.602332Z"
    },
    "papermill": {
     "duration": 0.570091,
     "end_time": "2024-11-07T02:24:56.603387",
     "exception": false,
     "start_time": "2024-11-07T02:24:56.033296",
     "status": "completed"
    },
    "tags": []
   },
   "outputs": [
    {
     "name": "stdout",
     "output_type": "stream",
     "text": [
      "Duplicates removed: 62020 (7.393 %)\n"
     ]
    },
    {
     "name": "stdout",
     "output_type": "stream",
     "text": [
      "Collisions removed: 57 (0.007 %)\n",
      "Total removed:      62077 (7.400 %)\n",
      "\n",
      "Train: X=(776783, 14) y=(776783,)\n"
     ]
    }
   ],
   "source": [
    "if clear_data:\n",
    "    train = pd.concat([X_train, y_train], axis=1)\n",
    "    train_n = train.shape[0]\n",
    "    \n",
    "    new_train = train.drop_duplicates()\n",
    "    duplicates_n = train.shape[0] - new_train.shape[0]\n",
    "    duplicates_ratio = duplicates_n / train_n\n",
    "    print(f\"Duplicates removed: {duplicates_n} ({duplicates_ratio * 100:.3f} %)\")\n",
    "    train = new_train\n",
    "    \n",
    "    new_train = train.drop_duplicates(subset=train.columns.difference(['target']))\n",
    "    collisions_n = train.shape[0] - new_train.shape[0]\n",
    "    collisions_ratio = collisions_n / train_n\n",
    "    print(f\"Collisions removed: {collisions_n} ({collisions_ratio * 100:.3f} %)\")\n",
    "    train = new_train\n",
    "    \n",
    "    print(f\"Total removed:      {duplicates_n + collisions_n} \"\n",
    "          f\"({(duplicates_ratio + collisions_ratio) * 100:.3f} %)\")\n",
    "    X_train = train.drop(columns=['target'])\n",
    "    y_train = train['target']\n",
    "    print(f\"\\nTrain: X={X_train.shape} y={y_train.shape}\")\n",
    "else:\n",
    "    print(\"clear_data set to False\")"
   ]
  },
  {
   "cell_type": "code",
   "execution_count": 13,
   "id": "c5e26b96b7083101",
   "metadata": {
    "ExecuteTime": {
     "end_time": "2024-11-07T02:03:26.344872Z",
     "start_time": "2024-11-07T02:03:26.316093Z"
    },
    "execution": {
     "iopub.execute_input": "2024-11-07T02:24:56.611397Z",
     "iopub.status.busy": "2024-11-07T02:24:56.611397Z",
     "iopub.status.idle": "2024-11-07T02:24:56.665521Z",
     "shell.execute_reply": "2024-11-07T02:24:56.665521Z"
    },
    "papermill": {
     "duration": 0.059121,
     "end_time": "2024-11-07T02:24:56.666516",
     "exception": false,
     "start_time": "2024-11-07T02:24:56.607395",
     "status": "completed"
    },
    "tags": []
   },
   "outputs": [
    {
     "data": {
      "text/plain": [
       "[array([0, 1], dtype=int64), array([0, 1], dtype=int64)]"
      ]
     },
     "execution_count": 13,
     "metadata": {},
     "output_type": "execute_result"
    }
   ],
   "source": [
    "from sklearn.compose import ColumnTransformer\n",
    "from sklearn.linear_model import LogisticRegression\n",
    "from sklearn.preprocessing import OneHotEncoder, StandardScaler\n",
    "from sklearn.pipeline import Pipeline\n",
    "\n",
    "cat_encoder = OneHotEncoder().fit(X[cat_attrs])\n",
    "cat_encoder.categories_  # TODO"
   ]
  },
  {
   "cell_type": "code",
   "execution_count": 14,
   "id": "515460711168c32f",
   "metadata": {
    "ExecuteTime": {
     "end_time": "2024-11-07T02:03:26.406574Z",
     "start_time": "2024-11-07T02:03:26.393312Z"
    },
    "execution": {
     "iopub.execute_input": "2024-11-07T02:24:56.688594Z",
     "iopub.status.busy": "2024-11-07T02:24:56.688594Z",
     "iopub.status.idle": "2024-11-07T02:24:56.775407Z",
     "shell.execute_reply": "2024-11-07T02:24:56.775407Z"
    },
    "papermill": {
     "duration": 0.093844,
     "end_time": "2024-11-07T02:24:56.777410",
     "exception": false,
     "start_time": "2024-11-07T02:24:56.683566",
     "status": "completed"
    },
    "tags": []
   },
   "outputs": [],
   "source": [
    "from imblearn.over_sampling import SMOTE, SMOTENC\n",
    "from imblearn.pipeline import Pipeline as ImPipeline\n",
    "\n",
    "preprocessor = ColumnTransformer(\n",
    "    transformers=[\n",
    "        ('cat', 'passthrough', cat_attrs)\n",
    "    ],\n",
    "    remainder=StandardScaler(),\n",
    "    verbose_feature_names_out=True\n",
    ")\n",
    "preprocessor = preprocessor.set_output(transform='pandas')\n",
    "\n",
    "one_hot = ColumnTransformer(\n",
    "    transformers=[\n",
    "        ('cat', OneHotEncoder(), list(map(lambda attr: 'cat__' + attr, cat_attrs)))\n",
    "    ],\n",
    "    remainder='passthrough',\n",
    "    verbose_feature_names_out=True\n",
    ")\n",
    "# one_hot = one_hot.set_output(transform='pandas')\n",
    "\n",
    "pipeline = ImPipeline(steps=[\n",
    "    ('preprocessor', preprocessor),\n",
    "    ('sampling', SMOTENC(categorical_features=list(map(lambda attr: 'cat__' + attr, cat_attrs)), random_state=42)),\n",
    "    ('one_hot', one_hot),\n",
    "    ('classifier', LogisticRegression())\n",
    "])"
   ]
  },
  {
   "cell_type": "code",
   "execution_count": 15,
   "id": "d30eff5ccc2557f5",
   "metadata": {
    "ExecuteTime": {
     "end_time": "2024-11-07T02:03:26.468141Z",
     "start_time": "2024-11-07T02:03:26.455442Z"
    },
    "execution": {
     "iopub.execute_input": "2024-11-07T02:24:56.785410Z",
     "iopub.status.busy": "2024-11-07T02:24:56.784407Z",
     "iopub.status.idle": "2024-11-07T02:24:56.790974Z",
     "shell.execute_reply": "2024-11-07T02:24:56.790891Z"
    },
    "papermill": {
     "duration": 0.010485,
     "end_time": "2024-11-07T02:24:56.791894",
     "exception": false,
     "start_time": "2024-11-07T02:24:56.781409",
     "status": "completed"
    },
    "tags": []
   },
   "outputs": [],
   "source": [
    "# z_x, z_y = pipeline.fit_resample(X_train, y_train)\n",
    "# z_x, z_y"
   ]
  },
  {
   "cell_type": "code",
   "execution_count": 16,
   "id": "66691c77924b8a7",
   "metadata": {
    "ExecuteTime": {
     "end_time": "2024-11-07T02:03:26.515197Z",
     "start_time": "2024-11-07T02:03:26.501200Z"
    },
    "execution": {
     "iopub.execute_input": "2024-11-07T02:24:56.798577Z",
     "iopub.status.busy": "2024-11-07T02:24:56.798577Z",
     "iopub.status.idle": "2024-11-07T02:24:56.806450Z",
     "shell.execute_reply": "2024-11-07T02:24:56.806450Z"
    },
    "papermill": {
     "duration": 0.012561,
     "end_time": "2024-11-07T02:24:56.807452",
     "exception": false,
     "start_time": "2024-11-07T02:24:56.794891",
     "status": "completed"
    },
    "tags": []
   },
   "outputs": [],
   "source": [
    "# (z_y == 0).sum(), (z_y == 1).sum()"
   ]
  },
  {
   "cell_type": "code",
   "execution_count": 17,
   "id": "eb7e6f10dbbd5b71",
   "metadata": {
    "ExecuteTime": {
     "end_time": "2024-11-07T02:03:26.608010Z",
     "start_time": "2024-11-07T02:03:26.547077Z"
    },
    "execution": {
     "iopub.execute_input": "2024-11-07T02:24:56.815451Z",
     "iopub.status.busy": "2024-11-07T02:24:56.814451Z",
     "iopub.status.idle": "2024-11-07T02:24:56.868448Z",
     "shell.execute_reply": "2024-11-07T02:24:56.868448Z"
    },
    "papermill": {
     "duration": 0.058013,
     "end_time": "2024-11-07T02:24:56.869464",
     "exception": false,
     "start_time": "2024-11-07T02:24:56.811451",
     "status": "completed"
    },
    "tags": []
   },
   "outputs": [
    {
     "data": {
      "text/plain": [
       "{0: 0.5087780544708344, 1: 28.980114908222653}"
      ]
     },
     "execution_count": 17,
     "metadata": {},
     "output_type": "execute_result"
    }
   ],
   "source": [
    "from sklearn.utils import class_weight\n",
    "\n",
    "class_weights = class_weight.compute_class_weight(class_weight='balanced', classes=y_train.unique(), y=y_train)\n",
    "class_weights = dict(enumerate(class_weights))\n",
    "class_weights"
   ]
  },
  {
   "cell_type": "code",
   "execution_count": 18,
   "id": "f342b445ddaf788b",
   "metadata": {
    "ExecuteTime": {
     "end_time": "2024-11-07T02:03:26.654739Z",
     "start_time": "2024-11-07T02:03:26.640386Z"
    },
    "execution": {
     "iopub.execute_input": "2024-11-07T02:24:56.877532Z",
     "iopub.status.busy": "2024-11-07T02:24:56.877532Z",
     "iopub.status.idle": "2024-11-07T02:24:56.900001Z",
     "shell.execute_reply": "2024-11-07T02:24:56.900001Z"
    },
    "papermill": {
     "duration": 0.027891,
     "end_time": "2024-11-07T02:24:56.901352",
     "exception": false,
     "start_time": "2024-11-07T02:24:56.873461",
     "status": "completed"
    },
    "tags": []
   },
   "outputs": [],
   "source": [
    "from xgboost import XGBClassifier\n",
    "from sklearn.neighbors import KNeighborsClassifier\n",
    "from sklearn.ensemble import RandomForestClassifier, HistGradientBoostingClassifier\n",
    "from imblearn.over_sampling import RandomOverSampler\n",
    "\n",
    "param_grid = [\n",
    "    {\n",
    "        'sampling': [\n",
    "            # SMOTENC(categorical_features=list(map(lambda attr: 'cat__' + attr, cat_attrs)), random_state=42),\n",
    "            'passthrough'\n",
    "        ],\n",
    "\n",
    "        'classifier': [RandomForestClassifier()],\n",
    "        'classifier__n_estimators': [150],  # 100\n",
    "        'classifier__max_depth': [20],  # None\n",
    "        'classifier__min_samples_split': [2],  # 2\n",
    "        'classifier__criterion': ['gini'],  # 'gini'\n",
    "        'classifier__class_weight': [None],  # None\n",
    "    },\n",
    "]"
   ]
  },
  {
   "cell_type": "code",
   "execution_count": 19,
   "id": "6ea08895e9330bd4",
   "metadata": {
    "ExecuteTime": {
     "end_time": "2024-11-07T02:07:26.965327Z",
     "start_time": "2024-11-07T02:03:26.687365Z"
    },
    "execution": {
     "iopub.execute_input": "2024-11-07T02:24:56.908813Z",
     "iopub.status.busy": "2024-11-07T02:24:56.908813Z",
     "iopub.status.idle": "2024-11-07T02:26:08.464660Z"
    },
    "papermill": {
     "duration": 71.532677,
     "end_time": "2024-11-07T02:26:08.437037",
     "exception": false,
     "start_time": "2024-11-07T02:24:56.904360",
     "status": "completed"
    },
    "tags": []
   },
   "outputs": [
    {
     "name": "stdout",
     "output_type": "stream",
     "text": [
      "Fitting 5 folds for each of 1 candidates, totalling 5 fits\n"
     ]
    },
    {
     "ename": "KeyboardInterrupt",
     "evalue": "",
     "output_type": "error",
     "traceback": [
      "\u001b[1;31m---------------------------------------------------------------------------\u001b[0m",
      "\u001b[1;31mKeyboardInterrupt\u001b[0m                         Traceback (most recent call last)",
      "Cell \u001b[1;32mIn[19], line 13\u001b[0m\n\u001b[0;32m      1\u001b[0m \u001b[38;5;28;01mfrom\u001b[39;00m \u001b[38;5;21;01msklearn\u001b[39;00m\u001b[38;5;21;01m.\u001b[39;00m\u001b[38;5;21;01mmodel_selection\u001b[39;00m \u001b[38;5;28;01mimport\u001b[39;00m GridSearchCV, StratifiedShuffleSplit\n\u001b[0;32m      3\u001b[0m grid_search \u001b[38;5;241m=\u001b[39m GridSearchCV(\n\u001b[0;32m      4\u001b[0m     pipeline, param_grid,\n\u001b[0;32m      5\u001b[0m     cv\u001b[38;5;241m=\u001b[39mStratifiedShuffleSplit(n_splits\u001b[38;5;241m=\u001b[39m\u001b[38;5;241m5\u001b[39m, test_size\u001b[38;5;241m=\u001b[39m\u001b[38;5;241m0.2\u001b[39m, random_state\u001b[38;5;241m=\u001b[39m\u001b[38;5;241m42\u001b[39m),\n\u001b[1;32m   (...)\u001b[0m\n\u001b[0;32m     10\u001b[0m     verbose\u001b[38;5;241m=\u001b[39mverbose\n\u001b[0;32m     11\u001b[0m )\n\u001b[1;32m---> 13\u001b[0m \u001b[43mgrid_search\u001b[49m\u001b[38;5;241;43m.\u001b[39;49m\u001b[43mfit\u001b[49m\u001b[43m(\u001b[49m\u001b[43mX_train\u001b[49m\u001b[43m,\u001b[49m\u001b[43m \u001b[49m\u001b[43my_train\u001b[49m\u001b[43m)\u001b[49m;\n",
      "File \u001b[1;32mC:\\GAMES and PROGRAMS\\my programs\\univ5.1_ML\\.venv\\lib\\site-packages\\sklearn\\base.py:1474\u001b[0m, in \u001b[0;36m_fit_context.<locals>.decorator.<locals>.wrapper\u001b[1;34m(estimator, *args, **kwargs)\u001b[0m\n\u001b[0;32m   1467\u001b[0m     estimator\u001b[38;5;241m.\u001b[39m_validate_params()\n\u001b[0;32m   1469\u001b[0m \u001b[38;5;28;01mwith\u001b[39;00m config_context(\n\u001b[0;32m   1470\u001b[0m     skip_parameter_validation\u001b[38;5;241m=\u001b[39m(\n\u001b[0;32m   1471\u001b[0m         prefer_skip_nested_validation \u001b[38;5;129;01mor\u001b[39;00m global_skip_validation\n\u001b[0;32m   1472\u001b[0m     )\n\u001b[0;32m   1473\u001b[0m ):\n\u001b[1;32m-> 1474\u001b[0m     \u001b[38;5;28;01mreturn\u001b[39;00m fit_method(estimator, \u001b[38;5;241m*\u001b[39margs, \u001b[38;5;241m*\u001b[39m\u001b[38;5;241m*\u001b[39mkwargs)\n",
      "File \u001b[1;32mC:\\GAMES and PROGRAMS\\my programs\\univ5.1_ML\\.venv\\lib\\site-packages\\sklearn\\model_selection\\_search.py:970\u001b[0m, in \u001b[0;36mBaseSearchCV.fit\u001b[1;34m(self, X, y, **params)\u001b[0m\n\u001b[0;32m    964\u001b[0m     results \u001b[38;5;241m=\u001b[39m \u001b[38;5;28mself\u001b[39m\u001b[38;5;241m.\u001b[39m_format_results(\n\u001b[0;32m    965\u001b[0m         all_candidate_params, n_splits, all_out, all_more_results\n\u001b[0;32m    966\u001b[0m     )\n\u001b[0;32m    968\u001b[0m     \u001b[38;5;28;01mreturn\u001b[39;00m results\n\u001b[1;32m--> 970\u001b[0m \u001b[38;5;28;43mself\u001b[39;49m\u001b[38;5;241;43m.\u001b[39;49m\u001b[43m_run_search\u001b[49m\u001b[43m(\u001b[49m\u001b[43mevaluate_candidates\u001b[49m\u001b[43m)\u001b[49m\n\u001b[0;32m    972\u001b[0m \u001b[38;5;66;03m# multimetric is determined here because in the case of a callable\u001b[39;00m\n\u001b[0;32m    973\u001b[0m \u001b[38;5;66;03m# self.scoring the return type is only known after calling\u001b[39;00m\n\u001b[0;32m    974\u001b[0m first_test_score \u001b[38;5;241m=\u001b[39m all_out[\u001b[38;5;241m0\u001b[39m][\u001b[38;5;124m\"\u001b[39m\u001b[38;5;124mtest_scores\u001b[39m\u001b[38;5;124m\"\u001b[39m]\n",
      "File \u001b[1;32mC:\\GAMES and PROGRAMS\\my programs\\univ5.1_ML\\.venv\\lib\\site-packages\\sklearn\\model_selection\\_search.py:1527\u001b[0m, in \u001b[0;36mGridSearchCV._run_search\u001b[1;34m(self, evaluate_candidates)\u001b[0m\n\u001b[0;32m   1525\u001b[0m \u001b[38;5;28;01mdef\u001b[39;00m \u001b[38;5;21m_run_search\u001b[39m(\u001b[38;5;28mself\u001b[39m, evaluate_candidates):\n\u001b[0;32m   1526\u001b[0m \u001b[38;5;250m    \u001b[39m\u001b[38;5;124;03m\"\"\"Search all candidates in param_grid\"\"\"\u001b[39;00m\n\u001b[1;32m-> 1527\u001b[0m     \u001b[43mevaluate_candidates\u001b[49m\u001b[43m(\u001b[49m\u001b[43mParameterGrid\u001b[49m\u001b[43m(\u001b[49m\u001b[38;5;28;43mself\u001b[39;49m\u001b[38;5;241;43m.\u001b[39;49m\u001b[43mparam_grid\u001b[49m\u001b[43m)\u001b[49m\u001b[43m)\u001b[49m\n",
      "File \u001b[1;32mC:\\GAMES and PROGRAMS\\my programs\\univ5.1_ML\\.venv\\lib\\site-packages\\sklearn\\model_selection\\_search.py:916\u001b[0m, in \u001b[0;36mBaseSearchCV.fit.<locals>.evaluate_candidates\u001b[1;34m(candidate_params, cv, more_results)\u001b[0m\n\u001b[0;32m    908\u001b[0m \u001b[38;5;28;01mif\u001b[39;00m \u001b[38;5;28mself\u001b[39m\u001b[38;5;241m.\u001b[39mverbose \u001b[38;5;241m>\u001b[39m \u001b[38;5;241m0\u001b[39m:\n\u001b[0;32m    909\u001b[0m     \u001b[38;5;28mprint\u001b[39m(\n\u001b[0;32m    910\u001b[0m         \u001b[38;5;124m\"\u001b[39m\u001b[38;5;124mFitting \u001b[39m\u001b[38;5;132;01m{0}\u001b[39;00m\u001b[38;5;124m folds for each of \u001b[39m\u001b[38;5;132;01m{1}\u001b[39;00m\u001b[38;5;124m candidates,\u001b[39m\u001b[38;5;124m\"\u001b[39m\n\u001b[0;32m    911\u001b[0m         \u001b[38;5;124m\"\u001b[39m\u001b[38;5;124m totalling \u001b[39m\u001b[38;5;132;01m{2}\u001b[39;00m\u001b[38;5;124m fits\u001b[39m\u001b[38;5;124m\"\u001b[39m\u001b[38;5;241m.\u001b[39mformat(\n\u001b[0;32m    912\u001b[0m             n_splits, n_candidates, n_candidates \u001b[38;5;241m*\u001b[39m n_splits\n\u001b[0;32m    913\u001b[0m         )\n\u001b[0;32m    914\u001b[0m     )\n\u001b[1;32m--> 916\u001b[0m out \u001b[38;5;241m=\u001b[39m \u001b[43mparallel\u001b[49m\u001b[43m(\u001b[49m\n\u001b[0;32m    917\u001b[0m \u001b[43m    \u001b[49m\u001b[43mdelayed\u001b[49m\u001b[43m(\u001b[49m\u001b[43m_fit_and_score\u001b[49m\u001b[43m)\u001b[49m\u001b[43m(\u001b[49m\n\u001b[0;32m    918\u001b[0m \u001b[43m        \u001b[49m\u001b[43mclone\u001b[49m\u001b[43m(\u001b[49m\u001b[43mbase_estimator\u001b[49m\u001b[43m)\u001b[49m\u001b[43m,\u001b[49m\n\u001b[0;32m    919\u001b[0m \u001b[43m        \u001b[49m\u001b[43mX\u001b[49m\u001b[43m,\u001b[49m\n\u001b[0;32m    920\u001b[0m \u001b[43m        \u001b[49m\u001b[43my\u001b[49m\u001b[43m,\u001b[49m\n\u001b[0;32m    921\u001b[0m \u001b[43m        \u001b[49m\u001b[43mtrain\u001b[49m\u001b[38;5;241;43m=\u001b[39;49m\u001b[43mtrain\u001b[49m\u001b[43m,\u001b[49m\n\u001b[0;32m    922\u001b[0m \u001b[43m        \u001b[49m\u001b[43mtest\u001b[49m\u001b[38;5;241;43m=\u001b[39;49m\u001b[43mtest\u001b[49m\u001b[43m,\u001b[49m\n\u001b[0;32m    923\u001b[0m \u001b[43m        \u001b[49m\u001b[43mparameters\u001b[49m\u001b[38;5;241;43m=\u001b[39;49m\u001b[43mparameters\u001b[49m\u001b[43m,\u001b[49m\n\u001b[0;32m    924\u001b[0m \u001b[43m        \u001b[49m\u001b[43msplit_progress\u001b[49m\u001b[38;5;241;43m=\u001b[39;49m\u001b[43m(\u001b[49m\u001b[43msplit_idx\u001b[49m\u001b[43m,\u001b[49m\u001b[43m \u001b[49m\u001b[43mn_splits\u001b[49m\u001b[43m)\u001b[49m\u001b[43m,\u001b[49m\n\u001b[0;32m    925\u001b[0m \u001b[43m        \u001b[49m\u001b[43mcandidate_progress\u001b[49m\u001b[38;5;241;43m=\u001b[39;49m\u001b[43m(\u001b[49m\u001b[43mcand_idx\u001b[49m\u001b[43m,\u001b[49m\u001b[43m \u001b[49m\u001b[43mn_candidates\u001b[49m\u001b[43m)\u001b[49m\u001b[43m,\u001b[49m\n\u001b[0;32m    926\u001b[0m \u001b[43m        \u001b[49m\u001b[38;5;241;43m*\u001b[39;49m\u001b[38;5;241;43m*\u001b[39;49m\u001b[43mfit_and_score_kwargs\u001b[49m\u001b[43m,\u001b[49m\n\u001b[0;32m    927\u001b[0m \u001b[43m    \u001b[49m\u001b[43m)\u001b[49m\n\u001b[0;32m    928\u001b[0m \u001b[43m    \u001b[49m\u001b[38;5;28;43;01mfor\u001b[39;49;00m\u001b[43m \u001b[49m\u001b[43m(\u001b[49m\u001b[43mcand_idx\u001b[49m\u001b[43m,\u001b[49m\u001b[43m \u001b[49m\u001b[43mparameters\u001b[49m\u001b[43m)\u001b[49m\u001b[43m,\u001b[49m\u001b[43m \u001b[49m\u001b[43m(\u001b[49m\u001b[43msplit_idx\u001b[49m\u001b[43m,\u001b[49m\u001b[43m \u001b[49m\u001b[43m(\u001b[49m\u001b[43mtrain\u001b[49m\u001b[43m,\u001b[49m\u001b[43m \u001b[49m\u001b[43mtest\u001b[49m\u001b[43m)\u001b[49m\u001b[43m)\u001b[49m\u001b[43m \u001b[49m\u001b[38;5;129;43;01min\u001b[39;49;00m\u001b[43m \u001b[49m\u001b[43mproduct\u001b[49m\u001b[43m(\u001b[49m\n\u001b[0;32m    929\u001b[0m \u001b[43m        \u001b[49m\u001b[38;5;28;43menumerate\u001b[39;49m\u001b[43m(\u001b[49m\u001b[43mcandidate_params\u001b[49m\u001b[43m)\u001b[49m\u001b[43m,\u001b[49m\n\u001b[0;32m    930\u001b[0m \u001b[43m        \u001b[49m\u001b[38;5;28;43menumerate\u001b[39;49m\u001b[43m(\u001b[49m\u001b[43mcv\u001b[49m\u001b[38;5;241;43m.\u001b[39;49m\u001b[43msplit\u001b[49m\u001b[43m(\u001b[49m\u001b[43mX\u001b[49m\u001b[43m,\u001b[49m\u001b[43m \u001b[49m\u001b[43my\u001b[49m\u001b[43m,\u001b[49m\u001b[43m \u001b[49m\u001b[38;5;241;43m*\u001b[39;49m\u001b[38;5;241;43m*\u001b[39;49m\u001b[43mrouted_params\u001b[49m\u001b[38;5;241;43m.\u001b[39;49m\u001b[43msplitter\u001b[49m\u001b[38;5;241;43m.\u001b[39;49m\u001b[43msplit\u001b[49m\u001b[43m)\u001b[49m\u001b[43m)\u001b[49m\u001b[43m,\u001b[49m\n\u001b[0;32m    931\u001b[0m \u001b[43m    \u001b[49m\u001b[43m)\u001b[49m\n\u001b[0;32m    932\u001b[0m \u001b[43m\u001b[49m\u001b[43m)\u001b[49m\n\u001b[0;32m    934\u001b[0m \u001b[38;5;28;01mif\u001b[39;00m \u001b[38;5;28mlen\u001b[39m(out) \u001b[38;5;241m<\u001b[39m \u001b[38;5;241m1\u001b[39m:\n\u001b[0;32m    935\u001b[0m     \u001b[38;5;28;01mraise\u001b[39;00m \u001b[38;5;167;01mValueError\u001b[39;00m(\n\u001b[0;32m    936\u001b[0m         \u001b[38;5;124m\"\u001b[39m\u001b[38;5;124mNo fits were performed. \u001b[39m\u001b[38;5;124m\"\u001b[39m\n\u001b[0;32m    937\u001b[0m         \u001b[38;5;124m\"\u001b[39m\u001b[38;5;124mWas the CV iterator empty? \u001b[39m\u001b[38;5;124m\"\u001b[39m\n\u001b[0;32m    938\u001b[0m         \u001b[38;5;124m\"\u001b[39m\u001b[38;5;124mWere there no candidates?\u001b[39m\u001b[38;5;124m\"\u001b[39m\n\u001b[0;32m    939\u001b[0m     )\n",
      "File \u001b[1;32mC:\\GAMES and PROGRAMS\\my programs\\univ5.1_ML\\.venv\\lib\\site-packages\\sklearn\\utils\\parallel.py:67\u001b[0m, in \u001b[0;36mParallel.__call__\u001b[1;34m(self, iterable)\u001b[0m\n\u001b[0;32m     62\u001b[0m config \u001b[38;5;241m=\u001b[39m get_config()\n\u001b[0;32m     63\u001b[0m iterable_with_config \u001b[38;5;241m=\u001b[39m (\n\u001b[0;32m     64\u001b[0m     (_with_config(delayed_func, config), args, kwargs)\n\u001b[0;32m     65\u001b[0m     \u001b[38;5;28;01mfor\u001b[39;00m delayed_func, args, kwargs \u001b[38;5;129;01min\u001b[39;00m iterable\n\u001b[0;32m     66\u001b[0m )\n\u001b[1;32m---> 67\u001b[0m \u001b[38;5;28;01mreturn\u001b[39;00m \u001b[38;5;28;43msuper\u001b[39;49m\u001b[43m(\u001b[49m\u001b[43m)\u001b[49m\u001b[38;5;241;43m.\u001b[39;49m\u001b[38;5;21;43m__call__\u001b[39;49m\u001b[43m(\u001b[49m\u001b[43miterable_with_config\u001b[49m\u001b[43m)\u001b[49m\n",
      "File \u001b[1;32mC:\\GAMES and PROGRAMS\\my programs\\univ5.1_ML\\.venv\\lib\\site-packages\\joblib\\parallel.py:2007\u001b[0m, in \u001b[0;36mParallel.__call__\u001b[1;34m(self, iterable)\u001b[0m\n\u001b[0;32m   2001\u001b[0m \u001b[38;5;66;03m# The first item from the output is blank, but it makes the interpreter\u001b[39;00m\n\u001b[0;32m   2002\u001b[0m \u001b[38;5;66;03m# progress until it enters the Try/Except block of the generator and\u001b[39;00m\n\u001b[0;32m   2003\u001b[0m \u001b[38;5;66;03m# reaches the first `yield` statement. This starts the asynchronous\u001b[39;00m\n\u001b[0;32m   2004\u001b[0m \u001b[38;5;66;03m# dispatch of the tasks to the workers.\u001b[39;00m\n\u001b[0;32m   2005\u001b[0m \u001b[38;5;28mnext\u001b[39m(output)\n\u001b[1;32m-> 2007\u001b[0m \u001b[38;5;28;01mreturn\u001b[39;00m output \u001b[38;5;28;01mif\u001b[39;00m \u001b[38;5;28mself\u001b[39m\u001b[38;5;241m.\u001b[39mreturn_generator \u001b[38;5;28;01melse\u001b[39;00m \u001b[38;5;28;43mlist\u001b[39;49m\u001b[43m(\u001b[49m\u001b[43moutput\u001b[49m\u001b[43m)\u001b[49m\n",
      "File \u001b[1;32mC:\\GAMES and PROGRAMS\\my programs\\univ5.1_ML\\.venv\\lib\\site-packages\\joblib\\parallel.py:1650\u001b[0m, in \u001b[0;36mParallel._get_outputs\u001b[1;34m(self, iterator, pre_dispatch)\u001b[0m\n\u001b[0;32m   1647\u001b[0m     \u001b[38;5;28;01myield\u001b[39;00m\n\u001b[0;32m   1649\u001b[0m     \u001b[38;5;28;01mwith\u001b[39;00m \u001b[38;5;28mself\u001b[39m\u001b[38;5;241m.\u001b[39m_backend\u001b[38;5;241m.\u001b[39mretrieval_context():\n\u001b[1;32m-> 1650\u001b[0m         \u001b[38;5;28;01myield from\u001b[39;00m \u001b[38;5;28mself\u001b[39m\u001b[38;5;241m.\u001b[39m_retrieve()\n\u001b[0;32m   1652\u001b[0m \u001b[38;5;28;01mexcept\u001b[39;00m \u001b[38;5;167;01mGeneratorExit\u001b[39;00m:\n\u001b[0;32m   1653\u001b[0m     \u001b[38;5;66;03m# The generator has been garbage collected before being fully\u001b[39;00m\n\u001b[0;32m   1654\u001b[0m     \u001b[38;5;66;03m# consumed. This aborts the remaining tasks if possible and warn\u001b[39;00m\n\u001b[0;32m   1655\u001b[0m     \u001b[38;5;66;03m# the user if necessary.\u001b[39;00m\n\u001b[0;32m   1656\u001b[0m     \u001b[38;5;28mself\u001b[39m\u001b[38;5;241m.\u001b[39m_exception \u001b[38;5;241m=\u001b[39m \u001b[38;5;28;01mTrue\u001b[39;00m\n",
      "File \u001b[1;32mC:\\GAMES and PROGRAMS\\my programs\\univ5.1_ML\\.venv\\lib\\site-packages\\joblib\\parallel.py:1762\u001b[0m, in \u001b[0;36mParallel._retrieve\u001b[1;34m(self)\u001b[0m\n\u001b[0;32m   1757\u001b[0m \u001b[38;5;66;03m# If the next job is not ready for retrieval yet, we just wait for\u001b[39;00m\n\u001b[0;32m   1758\u001b[0m \u001b[38;5;66;03m# async callbacks to progress.\u001b[39;00m\n\u001b[0;32m   1759\u001b[0m \u001b[38;5;28;01mif\u001b[39;00m ((\u001b[38;5;28mlen\u001b[39m(\u001b[38;5;28mself\u001b[39m\u001b[38;5;241m.\u001b[39m_jobs) \u001b[38;5;241m==\u001b[39m \u001b[38;5;241m0\u001b[39m) \u001b[38;5;129;01mor\u001b[39;00m\n\u001b[0;32m   1760\u001b[0m     (\u001b[38;5;28mself\u001b[39m\u001b[38;5;241m.\u001b[39m_jobs[\u001b[38;5;241m0\u001b[39m]\u001b[38;5;241m.\u001b[39mget_status(\n\u001b[0;32m   1761\u001b[0m         timeout\u001b[38;5;241m=\u001b[39m\u001b[38;5;28mself\u001b[39m\u001b[38;5;241m.\u001b[39mtimeout) \u001b[38;5;241m==\u001b[39m TASK_PENDING)):\n\u001b[1;32m-> 1762\u001b[0m     \u001b[43mtime\u001b[49m\u001b[38;5;241;43m.\u001b[39;49m\u001b[43msleep\u001b[49m\u001b[43m(\u001b[49m\u001b[38;5;241;43m0.01\u001b[39;49m\u001b[43m)\u001b[49m\n\u001b[0;32m   1763\u001b[0m     \u001b[38;5;28;01mcontinue\u001b[39;00m\n\u001b[0;32m   1765\u001b[0m \u001b[38;5;66;03m# We need to be careful: the job list can be filling up as\u001b[39;00m\n\u001b[0;32m   1766\u001b[0m \u001b[38;5;66;03m# we empty it and Python list are not thread-safe by\u001b[39;00m\n\u001b[0;32m   1767\u001b[0m \u001b[38;5;66;03m# default hence the use of the lock\u001b[39;00m\n",
      "\u001b[1;31mKeyboardInterrupt\u001b[0m: "
     ]
    }
   ],
   "source": [
    "from sklearn.model_selection import GridSearchCV, StratifiedShuffleSplit\n",
    "\n",
    "grid_search = GridSearchCV(\n",
    "    pipeline, param_grid,\n",
    "    cv=StratifiedShuffleSplit(n_splits=5, test_size=0.2, random_state=42),\n",
    "    scoring=['f1', 'precision', 'recall'],\n",
    "    refit='f1',\n",
    "    return_train_score=True,\n",
    "    n_jobs=n_jobs,\n",
    "    verbose=verbose\n",
    ")\n",
    "\n",
    "grid_search.fit(X_train, y_train);"
   ]
  },
  {
   "cell_type": "code",
   "execution_count": null,
   "id": "6df9de92f1c370b8",
   "metadata": {
    "ExecuteTime": {
     "end_time": "2024-11-07T02:07:27.027787Z",
     "start_time": "2024-11-07T02:07:27.014857Z"
    },
    "execution": {
     "iopub.execute_input": "2024-11-07T01:36:41.510456Z",
     "iopub.status.busy": "2024-11-07T01:36:41.509457Z",
     "iopub.status.idle": "2024-11-07T01:36:41.532139Z",
     "shell.execute_reply": "2024-11-07T01:36:41.532139Z"
    },
    "papermill": {
     "duration": null,
     "end_time": null,
     "exception": null,
     "start_time": null,
     "status": "completed"
    },
    "tags": []
   },
   "outputs": [],
   "source": [
    "grid_search.best_params_"
   ]
  },
  {
   "cell_type": "code",
   "execution_count": null,
   "id": "f2b0d1610f911a82",
   "metadata": {
    "ExecuteTime": {
     "end_time": "2024-11-07T02:07:27.166937Z",
     "start_time": "2024-11-07T02:07:27.149213Z"
    },
    "execution": {
     "iopub.execute_input": "2024-11-07T01:36:41.540891Z",
     "iopub.status.busy": "2024-11-07T01:36:41.540891Z",
     "iopub.status.idle": "2024-11-07T01:36:41.563210Z",
     "shell.execute_reply": "2024-11-07T01:36:41.563210Z"
    },
    "papermill": {
     "duration": null,
     "end_time": null,
     "exception": null,
     "start_time": null,
     "status": "completed"
    },
    "tags": []
   },
   "outputs": [],
   "source": [
    "grid_search.best_estimator_"
   ]
  },
  {
   "cell_type": "code",
   "execution_count": null,
   "id": "3bac9ca63acaa1f9",
   "metadata": {
    "ExecuteTime": {
     "end_time": "2024-11-07T02:07:27.246231Z",
     "start_time": "2024-11-07T02:07:27.228086Z"
    },
    "execution": {
     "iopub.execute_input": "2024-11-07T01:36:41.573593Z",
     "iopub.status.busy": "2024-11-07T01:36:41.573593Z",
     "iopub.status.idle": "2024-11-07T01:36:41.579250Z",
     "shell.execute_reply": "2024-11-07T01:36:41.579250Z"
    },
    "papermill": {
     "duration": null,
     "end_time": null,
     "exception": null,
     "start_time": null,
     "status": "completed"
    },
    "tags": []
   },
   "outputs": [],
   "source": [
    "grid_search.best_score_"
   ]
  },
  {
   "cell_type": "code",
   "execution_count": null,
   "id": "e27241ff35d06224",
   "metadata": {
    "ExecuteTime": {
     "end_time": "2024-11-07T02:07:27.323443Z",
     "start_time": "2024-11-07T02:07:27.293215Z"
    },
    "papermill": {
     "duration": null,
     "end_time": null,
     "exception": null,
     "start_time": null,
     "status": "completed"
    },
    "tags": []
   },
   "outputs": [],
   "source": [
    "importances = grid_search.best_estimator_['classifier'].feature_importances_\n",
    "importances"
   ]
  },
  {
   "cell_type": "code",
   "execution_count": null,
   "id": "23f961f1fa2a3e2d",
   "metadata": {
    "ExecuteTime": {
     "end_time": "2024-11-07T02:07:27.369890Z",
     "start_time": "2024-11-07T02:07:27.356259Z"
    },
    "execution": {
     "iopub.execute_input": "2024-11-07T01:36:41.588675Z",
     "iopub.status.busy": "2024-11-07T01:36:41.588675Z",
     "iopub.status.idle": "2024-11-07T01:36:42.267911Z",
     "shell.execute_reply": "2024-11-07T01:36:42.265395Z"
    },
    "papermill": {
     "duration": null,
     "end_time": null,
     "exception": null,
     "start_time": null,
     "status": "completed"
    },
    "tags": []
   },
   "outputs": [],
   "source": [
    "# feature_importance = pd.DataFrame(importances, index=X_train.columns, columns=['Importance'])\n",
    "# feature_importance.sort_values(by='Importance')"
   ]
  },
  {
   "cell_type": "code",
   "execution_count": null,
   "id": "ee1faab262b6aeeb",
   "metadata": {
    "ExecuteTime": {
     "end_time": "2024-11-07T02:07:27.416881Z",
     "start_time": "2024-11-07T02:07:27.401848Z"
    },
    "execution": {
     "iopub.execute_input": "2024-11-06T21:18:17.484210Z",
     "iopub.status.busy": "2024-11-06T21:18:17.484210Z",
     "iopub.status.idle": "2024-11-06T21:18:17.520281Z",
     "shell.execute_reply": "2024-11-06T21:18:17.520281Z"
    },
    "papermill": {
     "duration": null,
     "end_time": null,
     "exception": null,
     "start_time": null,
     "status": "completed"
    },
    "tags": []
   },
   "outputs": [],
   "source": [
    "cv_results = pd.DataFrame(grid_search.cv_results_)\n",
    "cv_results = cv_results.sort_values('rank_test_f1')\n",
    "cv_results"
   ]
  },
  {
   "cell_type": "code",
   "execution_count": null,
   "id": "472bc1c2945e2ede",
   "metadata": {
    "ExecuteTime": {
     "end_time": "2024-11-07T02:07:29.612665Z",
     "start_time": "2024-11-07T02:07:27.496165Z"
    },
    "execution": {
     "iopub.execute_input": "2024-11-06T21:18:17.531758Z",
     "iopub.status.busy": "2024-11-06T21:18:17.531758Z",
     "iopub.status.idle": "2024-11-06T21:18:19.763681Z",
     "shell.execute_reply": "2024-11-06T21:18:19.763681Z"
    },
    "papermill": {
     "duration": null,
     "end_time": null,
     "exception": null,
     "start_time": null,
     "status": "completed"
    },
    "tags": []
   },
   "outputs": [],
   "source": [
    "from sklearn.metrics import f1_score, precision_score, recall_score\n",
    "\n",
    "y_pred = grid_search.best_estimator_.predict(X_test)\n",
    "f1 = f1_score(y_test, y_pred)\n",
    "p = precision_score(y_test, y_pred)\n",
    "r = recall_score(y_test, y_pred)\n",
    "\n",
    "print(\"F1:\", f1)\n",
    "print(\"Precision:\", p)\n",
    "print(\"Recall:\", r)"
   ]
  },
  {
   "cell_type": "code",
   "execution_count": null,
   "id": "1420d5a2ba01a421",
   "metadata": {
    "ExecuteTime": {
     "end_time": "2024-11-07T02:07:30.796547Z",
     "start_time": "2024-11-07T02:07:29.644761Z"
    },
    "execution": {
     "iopub.execute_input": "2024-11-06T21:18:19.786006Z",
     "iopub.status.busy": "2024-11-06T21:18:19.786006Z",
     "iopub.status.idle": "2024-11-06T21:18:20.888094Z",
     "shell.execute_reply": "2024-11-06T21:18:20.887022Z"
    },
    "papermill": {
     "duration": null,
     "end_time": null,
     "exception": null,
     "start_time": null,
     "status": "completed"
    },
    "tags": []
   },
   "outputs": [],
   "source": [
    "from joblib import dump\n",
    "\n",
    "if not os.path.exists('out'):\n",
    "    os.makedirs('out')\n",
    "dump(grid_search, os.path.join('out', 'GridSearchCV_dump.pkl'), compress=True)"
   ]
  },
  {
   "cell_type": "code",
   "execution_count": null,
   "id": "4f02c210c80b2930",
   "metadata": {
    "ExecuteTime": {
     "end_time": "2024-11-07T02:07:30.827366Z",
     "start_time": "2024-11-07T02:07:30.818095Z"
    },
    "papermill": {
     "duration": null,
     "end_time": null,
     "exception": null,
     "start_time": null,
     "status": "completed"
    },
    "tags": []
   },
   "outputs": [],
   "source": []
  }
 ],
 "metadata": {
  "kernelspec": {
   "display_name": "Python 3 (ipykernel)",
   "language": "python",
   "name": "python3"
  },
  "language_info": {
   "codemirror_mode": {
    "name": "ipython",
    "version": 3
   },
   "file_extension": ".py",
   "mimetype": "text/x-python",
   "name": "python",
   "nbconvert_exporter": "python",
   "pygments_lexer": "ipython3",
   "version": "3.9.13"
  },
  "papermill": {
   "default_parameters": {},
   "duration": 75.583766,
   "end_time": "2024-11-07T02:26:08.772587",
   "environment_variables": {},
   "exception": null,
   "input_path": "classification_z_8_1.ipynb",
   "output_path": "classification_z_8_1.ipynb",
   "parameters": {
    "n_jobs": 8
   },
   "start_time": "2024-11-07T02:24:53.188821",
   "version": "2.6.0"
  }
 },
 "nbformat": 4,
 "nbformat_minor": 5
}