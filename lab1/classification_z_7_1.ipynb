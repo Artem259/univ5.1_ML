{
 "cells": [
  {
   "cell_type": "code",
   "execution_count": 1,
   "id": "initial_id",
   "metadata": {
    "execution": {
     "iopub.execute_input": "2024-11-07T12:32:40.524492Z",
     "iopub.status.busy": "2024-11-07T12:32:40.523490Z",
     "iopub.status.idle": "2024-11-07T12:32:40.957054Z",
     "shell.execute_reply": "2024-11-07T12:32:40.957054Z"
    },
    "papermill": {
     "duration": 0.440856,
     "end_time": "2024-11-07T12:32:40.959471",
     "exception": false,
     "start_time": "2024-11-07T12:32:40.518615",
     "status": "completed"
    },
    "tags": []
   },
   "outputs": [],
   "source": [
    "import os\n",
    "import pandas as pd"
   ]
  },
  {
   "cell_type": "code",
   "execution_count": 2,
   "id": "ab92d0123055b0f4",
   "metadata": {
    "execution": {
     "iopub.execute_input": "2024-11-07T12:32:40.979890Z",
     "iopub.status.busy": "2024-11-07T12:32:40.979890Z",
     "iopub.status.idle": "2024-11-07T12:32:40.988165Z",
     "shell.execute_reply": "2024-11-07T12:32:40.987157Z"
    },
    "papermill": {
     "duration": 0.014278,
     "end_time": "2024-11-07T12:32:40.989162",
     "exception": false,
     "start_time": "2024-11-07T12:32:40.974884",
     "status": "completed"
    },
    "tags": [
     "parameters"
    ]
   },
   "outputs": [],
   "source": [
    "cat_attrs: str = \"f12 f11\"\n",
    "balance_data: bool = False\n",
    "clear_data: bool = True\n",
    "n_jobs: int = 1\n",
    "verbose: int = 10"
   ]
  },
  {
   "cell_type": "code",
   "execution_count": 3,
   "id": "5dbf1a9d",
   "metadata": {
    "execution": {
     "iopub.execute_input": "2024-11-07T12:32:40.999161Z",
     "iopub.status.busy": "2024-11-07T12:32:40.998163Z",
     "iopub.status.idle": "2024-11-07T12:32:41.004160Z",
     "shell.execute_reply": "2024-11-07T12:32:41.003161Z"
    },
    "papermill": {
     "duration": 0.014007,
     "end_time": "2024-11-07T12:32:41.006168",
     "exception": false,
     "start_time": "2024-11-07T12:32:40.992161",
     "status": "completed"
    },
    "tags": [
     "injected-parameters"
    ]
   },
   "outputs": [],
   "source": [
    "# Parameters\n",
    "n_jobs = 5\n"
   ]
  },
  {
   "cell_type": "code",
   "execution_count": 4,
   "id": "b8d59c2d5723d798",
   "metadata": {
    "execution": {
     "iopub.execute_input": "2024-11-07T12:32:41.019301Z",
     "iopub.status.busy": "2024-11-07T12:32:41.018166Z",
     "iopub.status.idle": "2024-11-07T12:32:41.036173Z",
     "shell.execute_reply": "2024-11-07T12:32:41.034711Z"
    },
    "papermill": {
     "duration": 0.024126,
     "end_time": "2024-11-07T12:32:41.037291",
     "exception": false,
     "start_time": "2024-11-07T12:32:41.013165",
     "status": "completed"
    },
    "tags": []
   },
   "outputs": [
    {
     "data": {
      "text/plain": [
       "['f12', 'f11']"
      ]
     },
     "execution_count": 4,
     "metadata": {},
     "output_type": "execute_result"
    }
   ],
   "source": [
    "cat_attrs: list[str] = cat_attrs.split()\n",
    "cat_attrs"
   ]
  },
  {
   "cell_type": "code",
   "execution_count": 5,
   "id": "c9c5b653532c8121",
   "metadata": {
    "execution": {
     "iopub.execute_input": "2024-11-07T12:32:41.049316Z",
     "iopub.status.busy": "2024-11-07T12:32:41.048318Z",
     "iopub.status.idle": "2024-11-07T12:32:41.066322Z",
     "shell.execute_reply": "2024-11-07T12:32:41.065314Z"
    },
    "papermill": {
     "duration": 0.025032,
     "end_time": "2024-11-07T12:32:41.068322",
     "exception": false,
     "start_time": "2024-11-07T12:32:41.043290",
     "status": "completed"
    },
    "tags": []
   },
   "outputs": [],
   "source": [
    "pd.set_option('display.float_format', '{:.3f}'.format)"
   ]
  },
  {
   "cell_type": "code",
   "execution_count": 6,
   "id": "d56664ec8b50ea6a",
   "metadata": {
    "execution": {
     "iopub.execute_input": "2024-11-07T12:32:41.080316Z",
     "iopub.status.busy": "2024-11-07T12:32:41.080316Z",
     "iopub.status.idle": "2024-11-07T12:32:41.959438Z",
     "shell.execute_reply": "2024-11-07T12:32:41.958934Z"
    },
    "papermill": {
     "duration": 0.886526,
     "end_time": "2024-11-07T12:32:41.960846",
     "exception": false,
     "start_time": "2024-11-07T12:32:41.074320",
     "status": "completed"
    },
    "tags": []
   },
   "outputs": [],
   "source": [
    "csv_path = os.path.join('data', 'data.csv')\n",
    "data = pd.read_csv(csv_path)"
   ]
  },
  {
   "cell_type": "code",
   "execution_count": 7,
   "id": "fdba6b06da2871bf",
   "metadata": {
    "execution": {
     "iopub.execute_input": "2024-11-07T12:32:41.969369Z",
     "iopub.status.busy": "2024-11-07T12:32:41.969369Z",
     "iopub.status.idle": "2024-11-07T12:32:42.006624Z",
     "shell.execute_reply": "2024-11-07T12:32:42.005628Z"
    },
    "papermill": {
     "duration": 0.042319,
     "end_time": "2024-11-07T12:32:42.007685",
     "exception": false,
     "start_time": "2024-11-07T12:32:41.965366",
     "status": "completed"
    },
    "tags": []
   },
   "outputs": [],
   "source": [
    "X = data.drop(columns=['target', 'p', 'f16'])\n",
    "y = data['target']"
   ]
  },
  {
   "cell_type": "code",
   "execution_count": 8,
   "id": "288f06209ad7651",
   "metadata": {
    "execution": {
     "iopub.execute_input": "2024-11-07T12:32:42.020693Z",
     "iopub.status.busy": "2024-11-07T12:32:42.019712Z",
     "iopub.status.idle": "2024-11-07T12:32:43.095589Z",
     "shell.execute_reply": "2024-11-07T12:32:43.094590Z"
    },
    "papermill": {
     "duration": 1.084413,
     "end_time": "2024-11-07T12:32:43.097114",
     "exception": false,
     "start_time": "2024-11-07T12:32:42.012701",
     "status": "completed"
    },
    "tags": []
   },
   "outputs": [],
   "source": [
    "from sklearn.preprocessing import LabelEncoder\n",
    "\n",
    "label_encoder = LabelEncoder()\n",
    "y = label_encoder.fit_transform(y)\n",
    "y = pd.Series(y, name='target')"
   ]
  },
  {
   "cell_type": "code",
   "execution_count": 9,
   "id": "e32d493683b4f70f",
   "metadata": {
    "execution": {
     "iopub.execute_input": "2024-11-07T12:32:43.108117Z",
     "iopub.status.busy": "2024-11-07T12:32:43.108117Z",
     "iopub.status.idle": "2024-11-07T12:32:43.780618Z",
     "shell.execute_reply": "2024-11-07T12:32:43.779625Z"
    },
    "papermill": {
     "duration": 0.679502,
     "end_time": "2024-11-07T12:32:43.781620",
     "exception": false,
     "start_time": "2024-11-07T12:32:43.102118",
     "status": "completed"
    },
    "tags": []
   },
   "outputs": [
    {
     "name": "stdout",
     "output_type": "stream",
     "text": [
      "Train: X=(838860, 16) y=(838860,)\n",
      "Test: X=(209715, 16) y=(209715,)\n"
     ]
    }
   ],
   "source": [
    "from sklearn.model_selection import train_test_split\n",
    "\n",
    "test_size_ratio = 0.2\n",
    "X_train, X_test, y_train, y_test = train_test_split(\n",
    "    X, y,\n",
    "    test_size=test_size_ratio, \n",
    "    stratify=y, \n",
    "    random_state=42\n",
    ")\n",
    "\n",
    "print(f\"Train: X={X_train.shape} y={y_train.shape}\")\n",
    "print(f\"Test: X={X_test.shape} y={y_test.shape}\")"
   ]
  },
  {
   "cell_type": "code",
   "execution_count": 10,
   "id": "6d5455bafdcbc466",
   "metadata": {
    "execution": {
     "iopub.execute_input": "2024-11-07T12:32:43.793673Z",
     "iopub.status.busy": "2024-11-07T12:32:43.792676Z",
     "iopub.status.idle": "2024-11-07T12:32:43.811675Z",
     "shell.execute_reply": "2024-11-07T12:32:43.810675Z"
    },
    "papermill": {
     "duration": 0.025524,
     "end_time": "2024-11-07T12:32:43.812671",
     "exception": false,
     "start_time": "2024-11-07T12:32:43.787147",
     "status": "completed"
    },
    "tags": []
   },
   "outputs": [
    {
     "name": "stdout",
     "output_type": "stream",
     "text": [
      "balance_data set to False\n"
     ]
    }
   ],
   "source": [
    "from collections import Counter\n",
    "\n",
    "if balance_data:\n",
    "    train = pd.concat([X_train, y_train], axis=1)\n",
    "    train_n = train.shape[0]\n",
    "    \n",
    "    class_counts = Counter(train['target'])\n",
    "    min_class = min(class_counts, key=lambda x: class_counts[x])\n",
    "    \n",
    "    new_train = train.groupby('target').apply(\n",
    "        lambda x: x.sample(class_counts[min_class])\n",
    "    ).reset_index(drop=True)\n",
    "    removed_n = train.shape[0] - new_train.shape[0]\n",
    "    removed_ratio = removed_n / train_n\n",
    "    \n",
    "    print(f\"Majority class: '{min_class}'\")\n",
    "    print(f\"Records removed: {removed_n} ({removed_ratio * 100:.3f} %)\")\n",
    "    X_train = new_train.drop(columns=['target'])\n",
    "    y_train = new_train['target']\n",
    "    print(f\"\\nTrain: X={X_train.shape} y={y_train.shape}\")\n",
    "else:\n",
    "    print(\"balance_data set to False\")"
   ]
  },
  {
   "cell_type": "code",
   "execution_count": 11,
   "id": "ea1d2432dcd6f50a",
   "metadata": {
    "execution": {
     "iopub.execute_input": "2024-11-07T12:32:43.821673Z",
     "iopub.status.busy": "2024-11-07T12:32:43.821673Z",
     "iopub.status.idle": "2024-11-07T12:32:43.842599Z",
     "shell.execute_reply": "2024-11-07T12:32:43.842599Z"
    },
    "papermill": {
     "duration": 0.026426,
     "end_time": "2024-11-07T12:32:43.844095",
     "exception": false,
     "start_time": "2024-11-07T12:32:43.817669",
     "status": "completed"
    },
    "tags": []
   },
   "outputs": [
    {
     "name": "stdout",
     "output_type": "stream",
     "text": [
      "Train positives ratio: 1.69301 %\n",
      "Test positives ratio:  1.69325 %\n"
     ]
    }
   ],
   "source": [
    "y_train_pos_ratio = y_train[y_train == 1].shape[0] / y_train.shape[0]\n",
    "y_test_pos_ratio = y_test[y_test == 1].shape[0] / y_test.shape[0]\n",
    "\n",
    "print(\"Train positives ratio:\", f\"{y_train_pos_ratio * 100:.5f} %\")\n",
    "print(\"Test positives ratio: \", f\"{y_test_pos_ratio * 100:.5f} %\")"
   ]
  },
  {
   "cell_type": "code",
   "execution_count": 12,
   "id": "120b47e1c07d5d5d",
   "metadata": {
    "execution": {
     "iopub.execute_input": "2024-11-07T12:32:43.856108Z",
     "iopub.status.busy": "2024-11-07T12:32:43.856108Z",
     "iopub.status.idle": "2024-11-07T12:32:44.891816Z",
     "shell.execute_reply": "2024-11-07T12:32:44.889812Z"
    },
    "papermill": {
     "duration": 1.044721,
     "end_time": "2024-11-07T12:32:44.893824",
     "exception": false,
     "start_time": "2024-11-07T12:32:43.849103",
     "status": "completed"
    },
    "tags": []
   },
   "outputs": [
    {
     "name": "stdout",
     "output_type": "stream",
     "text": [
      "Duplicates removed: 61923 (7.382 %)\n"
     ]
    },
    {
     "name": "stdout",
     "output_type": "stream",
     "text": [
      "Collisions removed: 56 (0.007 %)\n",
      "Total removed:      61979 (7.388 %)\n",
      "\n",
      "Train: X=(776881, 16) y=(776881,)\n"
     ]
    }
   ],
   "source": [
    "if clear_data:\n",
    "    train = pd.concat([X_train, y_train], axis=1)\n",
    "    train_n = train.shape[0]\n",
    "    \n",
    "    new_train = train.drop_duplicates()\n",
    "    duplicates_n = train.shape[0] - new_train.shape[0]\n",
    "    duplicates_ratio = duplicates_n / train_n\n",
    "    print(f\"Duplicates removed: {duplicates_n} ({duplicates_ratio * 100:.3f} %)\")\n",
    "    train = new_train\n",
    "    \n",
    "    new_train = train.drop_duplicates(subset=train.columns.difference(['target']))\n",
    "    collisions_n = train.shape[0] - new_train.shape[0]\n",
    "    collisions_ratio = collisions_n / train_n\n",
    "    print(f\"Collisions removed: {collisions_n} ({collisions_ratio * 100:.3f} %)\")\n",
    "    train = new_train\n",
    "    \n",
    "    print(f\"Total removed:      {duplicates_n + collisions_n} \"\n",
    "          f\"({(duplicates_ratio + collisions_ratio) * 100:.3f} %)\")\n",
    "    X_train = train.drop(columns=['target'])\n",
    "    y_train = train['target']\n",
    "    print(f\"\\nTrain: X={X_train.shape} y={y_train.shape}\")\n",
    "else:\n",
    "    print(\"clear_data set to False\")"
   ]
  },
  {
   "cell_type": "code",
   "execution_count": 13,
   "id": "c5e26b96b7083101",
   "metadata": {
    "execution": {
     "iopub.execute_input": "2024-11-07T12:32:44.906810Z",
     "iopub.status.busy": "2024-11-07T12:32:44.905812Z",
     "iopub.status.idle": "2024-11-07T12:32:45.030905Z",
     "shell.execute_reply": "2024-11-07T12:32:45.030079Z"
    },
    "papermill": {
     "duration": 0.132107,
     "end_time": "2024-11-07T12:32:45.031914",
     "exception": false,
     "start_time": "2024-11-07T12:32:44.899807",
     "status": "completed"
    },
    "tags": []
   },
   "outputs": [
    {
     "data": {
      "text/plain": [
       "[array([0, 1], dtype=int64), array([0, 1], dtype=int64)]"
      ]
     },
     "execution_count": 13,
     "metadata": {},
     "output_type": "execute_result"
    }
   ],
   "source": [
    "from sklearn.compose import ColumnTransformer\n",
    "from sklearn.linear_model import LogisticRegression\n",
    "from sklearn.preprocessing import OneHotEncoder, StandardScaler\n",
    "from sklearn.pipeline import Pipeline\n",
    "\n",
    "cat_encoder = OneHotEncoder().fit(X[cat_attrs])\n",
    "cat_encoder.categories_  # TODO"
   ]
  },
  {
   "cell_type": "code",
   "execution_count": 14,
   "id": "515460711168c32f",
   "metadata": {
    "execution": {
     "iopub.execute_input": "2024-11-07T12:32:45.045476Z",
     "iopub.status.busy": "2024-11-07T12:32:45.044476Z",
     "iopub.status.idle": "2024-11-07T12:32:45.327909Z",
     "shell.execute_reply": "2024-11-07T12:32:45.327033Z"
    },
    "papermill": {
     "duration": 0.292018,
     "end_time": "2024-11-07T12:32:45.328933",
     "exception": false,
     "start_time": "2024-11-07T12:32:45.036915",
     "status": "completed"
    },
    "tags": []
   },
   "outputs": [],
   "source": [
    "from imblearn.under_sampling import RandomUnderSampler\n",
    "from imblearn.over_sampling import SMOTE, SMOTENC\n",
    "from imblearn.pipeline import Pipeline as ImPipeline\n",
    "\n",
    "preprocessor = ColumnTransformer(\n",
    "    transformers=[\n",
    "        ('cat', 'passthrough', cat_attrs)\n",
    "    ],\n",
    "    remainder=StandardScaler(),\n",
    "    verbose_feature_names_out=True\n",
    ")\n",
    "preprocessor = preprocessor.set_output(transform='pandas')\n",
    "\n",
    "one_hot = ColumnTransformer(\n",
    "    transformers=[\n",
    "        ('cat', OneHotEncoder(), list(map(lambda attr: 'cat__' + attr, cat_attrs)))\n",
    "    ],\n",
    "    remainder='passthrough',\n",
    "    verbose_feature_names_out=True\n",
    ")\n",
    "# one_hot = one_hot.set_output(transform='pandas')\n",
    "\n",
    "pipeline = ImPipeline(steps=[\n",
    "    ('preprocessor', preprocessor),\n",
    "    ('sampling', SMOTENC(sampling_strategy=0.05, k_neighbors=5, categorical_features=list(map(lambda attr: 'cat__' + attr, cat_attrs)), random_state=42)),\n",
    "    ('under_sampling', RandomUnderSampler(sampling_strategy=0.1)),\n",
    "    ('one_hot', one_hot),\n",
    "    ('classifier', LogisticRegression())\n",
    "])"
   ]
  },
  {
   "cell_type": "code",
   "execution_count": 15,
   "id": "d30eff5ccc2557f5",
   "metadata": {
    "execution": {
     "iopub.execute_input": "2024-11-07T12:32:45.339926Z",
     "iopub.status.busy": "2024-11-07T12:32:45.338917Z",
     "iopub.status.idle": "2024-11-07T12:32:45.343437Z",
     "shell.execute_reply": "2024-11-07T12:32:45.342425Z"
    },
    "papermill": {
     "duration": 0.011001,
     "end_time": "2024-11-07T12:32:45.344958",
     "exception": false,
     "start_time": "2024-11-07T12:32:45.333957",
     "status": "completed"
    },
    "tags": []
   },
   "outputs": [],
   "source": [
    "# z_x, z_y = pipeline.fit_resample(X_train, y_train)\n",
    "# z_x, z_y"
   ]
  },
  {
   "cell_type": "code",
   "execution_count": 16,
   "id": "66691c77924b8a7",
   "metadata": {
    "execution": {
     "iopub.execute_input": "2024-11-07T12:32:45.354955Z",
     "iopub.status.busy": "2024-11-07T12:32:45.354955Z",
     "iopub.status.idle": "2024-11-07T12:32:45.357957Z",
     "shell.execute_reply": "2024-11-07T12:32:45.357957Z"
    },
    "papermill": {
     "duration": 0.010996,
     "end_time": "2024-11-07T12:32:45.359951",
     "exception": false,
     "start_time": "2024-11-07T12:32:45.348955",
     "status": "completed"
    },
    "tags": []
   },
   "outputs": [],
   "source": [
    "# (z_y == 0).sum(), (z_y == 1).sum()"
   ]
  },
  {
   "cell_type": "code",
   "execution_count": 17,
   "id": "eb7e6f10dbbd5b71",
   "metadata": {
    "execution": {
     "iopub.execute_input": "2024-11-07T12:32:45.367952Z",
     "iopub.status.busy": "2024-11-07T12:32:45.367952Z",
     "iopub.status.idle": "2024-11-07T12:32:45.452573Z",
     "shell.execute_reply": "2024-11-07T12:32:45.451581Z"
    },
    "papermill": {
     "duration": 0.090621,
     "end_time": "2024-11-07T12:32:45.453573",
     "exception": false,
     "start_time": "2024-11-07T12:32:45.362952",
     "status": "completed"
    },
    "tags": []
   },
   "outputs": [
    {
     "data": {
      "text/plain": [
       "{0: 0.5087769277216532, 1: 28.98377107894344}"
      ]
     },
     "execution_count": 17,
     "metadata": {},
     "output_type": "execute_result"
    }
   ],
   "source": [
    "from sklearn.utils import class_weight\n",
    "\n",
    "class_weights = class_weight.compute_class_weight(class_weight='balanced', classes=y_train.unique(), y=y_train)\n",
    "class_weights = dict(enumerate(class_weights))\n",
    "class_weights"
   ]
  },
  {
   "cell_type": "code",
   "execution_count": 18,
   "id": "f342b445ddaf788b",
   "metadata": {
    "execution": {
     "iopub.execute_input": "2024-11-07T12:32:45.461575Z",
     "iopub.status.busy": "2024-11-07T12:32:45.461575Z",
     "iopub.status.idle": "2024-11-07T12:32:45.530626Z",
     "shell.execute_reply": "2024-11-07T12:32:45.529732Z"
    },
    "papermill": {
     "duration": 0.074215,
     "end_time": "2024-11-07T12:32:45.531788",
     "exception": false,
     "start_time": "2024-11-07T12:32:45.457573",
     "status": "completed"
    },
    "tags": []
   },
   "outputs": [],
   "source": [
    "from xgboost import XGBClassifier\n",
    "from sklearn.neighbors import KNeighborsClassifier\n",
    "from sklearn.ensemble import RandomForestClassifier, HistGradientBoostingClassifier\n",
    "from imblearn.over_sampling import RandomOverSampler\n",
    "\n",
    "param_grid = [\n",
    "    {\n",
    "        'sampling': [\n",
    "            SMOTENC(sampling_strategy=0.05, k_neighbors=5, categorical_features=list(map(lambda attr: 'cat__' + attr, cat_attrs)), random_state=42),\n",
    "        ],\n",
    "\n",
    "        'classifier': [RandomForestClassifier()],\n",
    "        'classifier__n_estimators': [200],  # 100\n",
    "        'classifier__max_depth': [40],  # None\n",
    "        'classifier__min_samples_split': [2],  # 2\n",
    "        # 'classifier__min_samples_leaf': [1, 2],  # 1\n",
    "        # 'classifier__max_features': ['sqrt', None],  # 'sqrt'\n",
    "        # 'classifier__max_leaf_nodes': [None, 20],  # None\n",
    "        # 'classifier__bootstrap': [True, False],  # True\n",
    "        'classifier__criterion': ['gini'],  # 'gini'\n",
    "        'classifier__class_weight': [None],  # None\n",
    "    },\n",
    "    # {\n",
    "    #     'sampling': [\n",
    "    #         SMOTENC(categorical_features=list(map(lambda attr: 'cat__' + attr, cat_attrs)), random_state=42),\n",
    "    #         # SMOTE(random_state=42),\n",
    "    #         'passthrough'\n",
    "    #     ],\n",
    "    # \n",
    "    #     'classifier': [RandomForestClassifier()],\n",
    "    #     'classifier__n_estimators': [100, 200],  # 100\n",
    "    #     'classifier__max_depth': [None, 20],  # None\n",
    "    #     'classifier__min_samples_split': [2, 4],  # 2\n",
    "    #     'classifier__min_samples_leaf': [1, 2],  # 1\n",
    "    #     'classifier__max_features': ['sqrt', None, 'log2'],  # 'sqrt'\n",
    "    #     'classifier__max_leaf_nodes': [None, 10, 50],  # None\n",
    "    #     'classifier__bootstrap': [True, False],  # True\n",
    "    #     'classifier__criterion': ['gini', 'log_loss'],  # 'gini'\n",
    "    #     'classifier__class_weight': [None, class_weights],  # None\n",
    "    # },\n",
    "]"
   ]
  },
  {
   "cell_type": "code",
   "execution_count": 19,
   "id": "6ea08895e9330bd4",
   "metadata": {
    "execution": {
     "iopub.execute_input": "2024-11-07T12:32:45.544039Z",
     "iopub.status.busy": "2024-11-07T12:32:45.543040Z",
     "iopub.status.idle": "2024-11-07T12:46:13.679126Z",
     "shell.execute_reply": "2024-11-07T12:46:13.675217Z"
    },
    "papermill": {
     "duration": 808.159023,
     "end_time": "2024-11-07T12:46:13.695526",
     "exception": false,
     "start_time": "2024-11-07T12:32:45.536503",
     "status": "completed"
    },
    "tags": []
   },
   "outputs": [
    {
     "name": "stdout",
     "output_type": "stream",
     "text": [
      "Fitting 5 folds for each of 4 candidates, totalling 20 fits\n"
     ]
    }
   ],
   "source": [
    "from sklearn.model_selection import GridSearchCV, StratifiedShuffleSplit\n",
    "\n",
    "grid_search = GridSearchCV(\n",
    "    pipeline, param_grid,\n",
    "    cv=StratifiedShuffleSplit(n_splits=5, test_size=0.2, random_state=42),\n",
    "    scoring=['f1', 'precision', 'recall'],\n",
    "    refit='f1',\n",
    "    return_train_score=True,\n",
    "    n_jobs=n_jobs,\n",
    "    verbose=verbose\n",
    ")\n",
    "\n",
    "grid_search.fit(X_train, y_train);"
   ]
  },
  {
   "cell_type": "code",
   "execution_count": 20,
   "id": "6df9de92f1c370b8",
   "metadata": {
    "execution": {
     "iopub.execute_input": "2024-11-07T12:46:13.724805Z",
     "iopub.status.busy": "2024-11-07T12:46:13.724805Z",
     "iopub.status.idle": "2024-11-07T12:46:13.738390Z",
     "shell.execute_reply": "2024-11-07T12:46:13.737392Z"
    },
    "papermill": {
     "duration": 0.025868,
     "end_time": "2024-11-07T12:46:13.741392",
     "exception": false,
     "start_time": "2024-11-07T12:46:13.715524",
     "status": "completed"
    },
    "tags": []
   },
   "outputs": [
    {
     "data": {
      "text/plain": [
       "{'classifier': RandomForestClassifier(),\n",
       " 'classifier__class_weight': None,\n",
       " 'classifier__criterion': 'gini',\n",
       " 'classifier__max_depth': 40,\n",
       " 'classifier__min_samples_split': 2,\n",
       " 'classifier__n_estimators': 200,\n",
       " 'sampling': SMOTENC(categorical_features=['cat__f12', 'cat__f11'], random_state=42,\n",
       "         sampling_strategy=0.05)}"
      ]
     },
     "execution_count": 20,
     "metadata": {},
     "output_type": "execute_result"
    }
   ],
   "source": [
    "grid_search.best_params_"
   ]
  },
  {
   "cell_type": "code",
   "execution_count": 21,
   "id": "f2b0d1610f911a82",
   "metadata": {
    "execution": {
     "iopub.execute_input": "2024-11-07T12:46:13.756397Z",
     "iopub.status.busy": "2024-11-07T12:46:13.755396Z",
     "iopub.status.idle": "2024-11-07T12:46:13.785937Z",
     "shell.execute_reply": "2024-11-07T12:46:13.784933Z"
    },
    "papermill": {
     "duration": 0.039541,
     "end_time": "2024-11-07T12:46:13.786932",
     "exception": false,
     "start_time": "2024-11-07T12:46:13.747391",
     "status": "completed"
    },
    "tags": []
   },
   "outputs": [
    {
     "data": {
      "text/html": [
       "<style>#sk-container-id-1 {\n",
       "  /* Definition of color scheme common for light and dark mode */\n",
       "  --sklearn-color-text: black;\n",
       "  --sklearn-color-line: gray;\n",
       "  /* Definition of color scheme for unfitted estimators */\n",
       "  --sklearn-color-unfitted-level-0: #fff5e6;\n",
       "  --sklearn-color-unfitted-level-1: #f6e4d2;\n",
       "  --sklearn-color-unfitted-level-2: #ffe0b3;\n",
       "  --sklearn-color-unfitted-level-3: chocolate;\n",
       "  /* Definition of color scheme for fitted estimators */\n",
       "  --sklearn-color-fitted-level-0: #f0f8ff;\n",
       "  --sklearn-color-fitted-level-1: #d4ebff;\n",
       "  --sklearn-color-fitted-level-2: #b3dbfd;\n",
       "  --sklearn-color-fitted-level-3: cornflowerblue;\n",
       "\n",
       "  /* Specific color for light theme */\n",
       "  --sklearn-color-text-on-default-background: var(--sg-text-color, var(--theme-code-foreground, var(--jp-content-font-color1, black)));\n",
       "  --sklearn-color-background: var(--sg-background-color, var(--theme-background, var(--jp-layout-color0, white)));\n",
       "  --sklearn-color-border-box: var(--sg-text-color, var(--theme-code-foreground, var(--jp-content-font-color1, black)));\n",
       "  --sklearn-color-icon: #696969;\n",
       "\n",
       "  @media (prefers-color-scheme: dark) {\n",
       "    /* Redefinition of color scheme for dark theme */\n",
       "    --sklearn-color-text-on-default-background: var(--sg-text-color, var(--theme-code-foreground, var(--jp-content-font-color1, white)));\n",
       "    --sklearn-color-background: var(--sg-background-color, var(--theme-background, var(--jp-layout-color0, #111)));\n",
       "    --sklearn-color-border-box: var(--sg-text-color, var(--theme-code-foreground, var(--jp-content-font-color1, white)));\n",
       "    --sklearn-color-icon: #878787;\n",
       "  }\n",
       "}\n",
       "\n",
       "#sk-container-id-1 {\n",
       "  color: var(--sklearn-color-text);\n",
       "}\n",
       "\n",
       "#sk-container-id-1 pre {\n",
       "  padding: 0;\n",
       "}\n",
       "\n",
       "#sk-container-id-1 input.sk-hidden--visually {\n",
       "  border: 0;\n",
       "  clip: rect(1px 1px 1px 1px);\n",
       "  clip: rect(1px, 1px, 1px, 1px);\n",
       "  height: 1px;\n",
       "  margin: -1px;\n",
       "  overflow: hidden;\n",
       "  padding: 0;\n",
       "  position: absolute;\n",
       "  width: 1px;\n",
       "}\n",
       "\n",
       "#sk-container-id-1 div.sk-dashed-wrapped {\n",
       "  border: 1px dashed var(--sklearn-color-line);\n",
       "  margin: 0 0.4em 0.5em 0.4em;\n",
       "  box-sizing: border-box;\n",
       "  padding-bottom: 0.4em;\n",
       "  background-color: var(--sklearn-color-background);\n",
       "}\n",
       "\n",
       "#sk-container-id-1 div.sk-container {\n",
       "  /* jupyter's `normalize.less` sets `[hidden] { display: none; }`\n",
       "     but bootstrap.min.css set `[hidden] { display: none !important; }`\n",
       "     so we also need the `!important` here to be able to override the\n",
       "     default hidden behavior on the sphinx rendered scikit-learn.org.\n",
       "     See: https://github.com/scikit-learn/scikit-learn/issues/21755 */\n",
       "  display: inline-block !important;\n",
       "  position: relative;\n",
       "}\n",
       "\n",
       "#sk-container-id-1 div.sk-text-repr-fallback {\n",
       "  display: none;\n",
       "}\n",
       "\n",
       "div.sk-parallel-item,\n",
       "div.sk-serial,\n",
       "div.sk-item {\n",
       "  /* draw centered vertical line to link estimators */\n",
       "  background-image: linear-gradient(var(--sklearn-color-text-on-default-background), var(--sklearn-color-text-on-default-background));\n",
       "  background-size: 2px 100%;\n",
       "  background-repeat: no-repeat;\n",
       "  background-position: center center;\n",
       "}\n",
       "\n",
       "/* Parallel-specific style estimator block */\n",
       "\n",
       "#sk-container-id-1 div.sk-parallel-item::after {\n",
       "  content: \"\";\n",
       "  width: 100%;\n",
       "  border-bottom: 2px solid var(--sklearn-color-text-on-default-background);\n",
       "  flex-grow: 1;\n",
       "}\n",
       "\n",
       "#sk-container-id-1 div.sk-parallel {\n",
       "  display: flex;\n",
       "  align-items: stretch;\n",
       "  justify-content: center;\n",
       "  background-color: var(--sklearn-color-background);\n",
       "  position: relative;\n",
       "}\n",
       "\n",
       "#sk-container-id-1 div.sk-parallel-item {\n",
       "  display: flex;\n",
       "  flex-direction: column;\n",
       "}\n",
       "\n",
       "#sk-container-id-1 div.sk-parallel-item:first-child::after {\n",
       "  align-self: flex-end;\n",
       "  width: 50%;\n",
       "}\n",
       "\n",
       "#sk-container-id-1 div.sk-parallel-item:last-child::after {\n",
       "  align-self: flex-start;\n",
       "  width: 50%;\n",
       "}\n",
       "\n",
       "#sk-container-id-1 div.sk-parallel-item:only-child::after {\n",
       "  width: 0;\n",
       "}\n",
       "\n",
       "/* Serial-specific style estimator block */\n",
       "\n",
       "#sk-container-id-1 div.sk-serial {\n",
       "  display: flex;\n",
       "  flex-direction: column;\n",
       "  align-items: center;\n",
       "  background-color: var(--sklearn-color-background);\n",
       "  padding-right: 1em;\n",
       "  padding-left: 1em;\n",
       "}\n",
       "\n",
       "\n",
       "/* Toggleable style: style used for estimator/Pipeline/ColumnTransformer box that is\n",
       "clickable and can be expanded/collapsed.\n",
       "- Pipeline and ColumnTransformer use this feature and define the default style\n",
       "- Estimators will overwrite some part of the style using the `sk-estimator` class\n",
       "*/\n",
       "\n",
       "/* Pipeline and ColumnTransformer style (default) */\n",
       "\n",
       "#sk-container-id-1 div.sk-toggleable {\n",
       "  /* Default theme specific background. It is overwritten whether we have a\n",
       "  specific estimator or a Pipeline/ColumnTransformer */\n",
       "  background-color: var(--sklearn-color-background);\n",
       "}\n",
       "\n",
       "/* Toggleable label */\n",
       "#sk-container-id-1 label.sk-toggleable__label {\n",
       "  cursor: pointer;\n",
       "  display: block;\n",
       "  width: 100%;\n",
       "  margin-bottom: 0;\n",
       "  padding: 0.5em;\n",
       "  box-sizing: border-box;\n",
       "  text-align: center;\n",
       "}\n",
       "\n",
       "#sk-container-id-1 label.sk-toggleable__label-arrow:before {\n",
       "  /* Arrow on the left of the label */\n",
       "  content: \"▸\";\n",
       "  float: left;\n",
       "  margin-right: 0.25em;\n",
       "  color: var(--sklearn-color-icon);\n",
       "}\n",
       "\n",
       "#sk-container-id-1 label.sk-toggleable__label-arrow:hover:before {\n",
       "  color: var(--sklearn-color-text);\n",
       "}\n",
       "\n",
       "/* Toggleable content - dropdown */\n",
       "\n",
       "#sk-container-id-1 div.sk-toggleable__content {\n",
       "  max-height: 0;\n",
       "  max-width: 0;\n",
       "  overflow: hidden;\n",
       "  text-align: left;\n",
       "  /* unfitted */\n",
       "  background-color: var(--sklearn-color-unfitted-level-0);\n",
       "}\n",
       "\n",
       "#sk-container-id-1 div.sk-toggleable__content.fitted {\n",
       "  /* fitted */\n",
       "  background-color: var(--sklearn-color-fitted-level-0);\n",
       "}\n",
       "\n",
       "#sk-container-id-1 div.sk-toggleable__content pre {\n",
       "  margin: 0.2em;\n",
       "  border-radius: 0.25em;\n",
       "  color: var(--sklearn-color-text);\n",
       "  /* unfitted */\n",
       "  background-color: var(--sklearn-color-unfitted-level-0);\n",
       "}\n",
       "\n",
       "#sk-container-id-1 div.sk-toggleable__content.fitted pre {\n",
       "  /* unfitted */\n",
       "  background-color: var(--sklearn-color-fitted-level-0);\n",
       "}\n",
       "\n",
       "#sk-container-id-1 input.sk-toggleable__control:checked~div.sk-toggleable__content {\n",
       "  /* Expand drop-down */\n",
       "  max-height: 200px;\n",
       "  max-width: 100%;\n",
       "  overflow: auto;\n",
       "}\n",
       "\n",
       "#sk-container-id-1 input.sk-toggleable__control:checked~label.sk-toggleable__label-arrow:before {\n",
       "  content: \"▾\";\n",
       "}\n",
       "\n",
       "/* Pipeline/ColumnTransformer-specific style */\n",
       "\n",
       "#sk-container-id-1 div.sk-label input.sk-toggleable__control:checked~label.sk-toggleable__label {\n",
       "  color: var(--sklearn-color-text);\n",
       "  background-color: var(--sklearn-color-unfitted-level-2);\n",
       "}\n",
       "\n",
       "#sk-container-id-1 div.sk-label.fitted input.sk-toggleable__control:checked~label.sk-toggleable__label {\n",
       "  background-color: var(--sklearn-color-fitted-level-2);\n",
       "}\n",
       "\n",
       "/* Estimator-specific style */\n",
       "\n",
       "/* Colorize estimator box */\n",
       "#sk-container-id-1 div.sk-estimator input.sk-toggleable__control:checked~label.sk-toggleable__label {\n",
       "  /* unfitted */\n",
       "  background-color: var(--sklearn-color-unfitted-level-2);\n",
       "}\n",
       "\n",
       "#sk-container-id-1 div.sk-estimator.fitted input.sk-toggleable__control:checked~label.sk-toggleable__label {\n",
       "  /* fitted */\n",
       "  background-color: var(--sklearn-color-fitted-level-2);\n",
       "}\n",
       "\n",
       "#sk-container-id-1 div.sk-label label.sk-toggleable__label,\n",
       "#sk-container-id-1 div.sk-label label {\n",
       "  /* The background is the default theme color */\n",
       "  color: var(--sklearn-color-text-on-default-background);\n",
       "}\n",
       "\n",
       "/* On hover, darken the color of the background */\n",
       "#sk-container-id-1 div.sk-label:hover label.sk-toggleable__label {\n",
       "  color: var(--sklearn-color-text);\n",
       "  background-color: var(--sklearn-color-unfitted-level-2);\n",
       "}\n",
       "\n",
       "/* Label box, darken color on hover, fitted */\n",
       "#sk-container-id-1 div.sk-label.fitted:hover label.sk-toggleable__label.fitted {\n",
       "  color: var(--sklearn-color-text);\n",
       "  background-color: var(--sklearn-color-fitted-level-2);\n",
       "}\n",
       "\n",
       "/* Estimator label */\n",
       "\n",
       "#sk-container-id-1 div.sk-label label {\n",
       "  font-family: monospace;\n",
       "  font-weight: bold;\n",
       "  display: inline-block;\n",
       "  line-height: 1.2em;\n",
       "}\n",
       "\n",
       "#sk-container-id-1 div.sk-label-container {\n",
       "  text-align: center;\n",
       "}\n",
       "\n",
       "/* Estimator-specific */\n",
       "#sk-container-id-1 div.sk-estimator {\n",
       "  font-family: monospace;\n",
       "  border: 1px dotted var(--sklearn-color-border-box);\n",
       "  border-radius: 0.25em;\n",
       "  box-sizing: border-box;\n",
       "  margin-bottom: 0.5em;\n",
       "  /* unfitted */\n",
       "  background-color: var(--sklearn-color-unfitted-level-0);\n",
       "}\n",
       "\n",
       "#sk-container-id-1 div.sk-estimator.fitted {\n",
       "  /* fitted */\n",
       "  background-color: var(--sklearn-color-fitted-level-0);\n",
       "}\n",
       "\n",
       "/* on hover */\n",
       "#sk-container-id-1 div.sk-estimator:hover {\n",
       "  /* unfitted */\n",
       "  background-color: var(--sklearn-color-unfitted-level-2);\n",
       "}\n",
       "\n",
       "#sk-container-id-1 div.sk-estimator.fitted:hover {\n",
       "  /* fitted */\n",
       "  background-color: var(--sklearn-color-fitted-level-2);\n",
       "}\n",
       "\n",
       "/* Specification for estimator info (e.g. \"i\" and \"?\") */\n",
       "\n",
       "/* Common style for \"i\" and \"?\" */\n",
       "\n",
       ".sk-estimator-doc-link,\n",
       "a:link.sk-estimator-doc-link,\n",
       "a:visited.sk-estimator-doc-link {\n",
       "  float: right;\n",
       "  font-size: smaller;\n",
       "  line-height: 1em;\n",
       "  font-family: monospace;\n",
       "  background-color: var(--sklearn-color-background);\n",
       "  border-radius: 1em;\n",
       "  height: 1em;\n",
       "  width: 1em;\n",
       "  text-decoration: none !important;\n",
       "  margin-left: 1ex;\n",
       "  /* unfitted */\n",
       "  border: var(--sklearn-color-unfitted-level-1) 1pt solid;\n",
       "  color: var(--sklearn-color-unfitted-level-1);\n",
       "}\n",
       "\n",
       ".sk-estimator-doc-link.fitted,\n",
       "a:link.sk-estimator-doc-link.fitted,\n",
       "a:visited.sk-estimator-doc-link.fitted {\n",
       "  /* fitted */\n",
       "  border: var(--sklearn-color-fitted-level-1) 1pt solid;\n",
       "  color: var(--sklearn-color-fitted-level-1);\n",
       "}\n",
       "\n",
       "/* On hover */\n",
       "div.sk-estimator:hover .sk-estimator-doc-link:hover,\n",
       ".sk-estimator-doc-link:hover,\n",
       "div.sk-label-container:hover .sk-estimator-doc-link:hover,\n",
       ".sk-estimator-doc-link:hover {\n",
       "  /* unfitted */\n",
       "  background-color: var(--sklearn-color-unfitted-level-3);\n",
       "  color: var(--sklearn-color-background);\n",
       "  text-decoration: none;\n",
       "}\n",
       "\n",
       "div.sk-estimator.fitted:hover .sk-estimator-doc-link.fitted:hover,\n",
       ".sk-estimator-doc-link.fitted:hover,\n",
       "div.sk-label-container:hover .sk-estimator-doc-link.fitted:hover,\n",
       ".sk-estimator-doc-link.fitted:hover {\n",
       "  /* fitted */\n",
       "  background-color: var(--sklearn-color-fitted-level-3);\n",
       "  color: var(--sklearn-color-background);\n",
       "  text-decoration: none;\n",
       "}\n",
       "\n",
       "/* Span, style for the box shown on hovering the info icon */\n",
       ".sk-estimator-doc-link span {\n",
       "  display: none;\n",
       "  z-index: 9999;\n",
       "  position: relative;\n",
       "  font-weight: normal;\n",
       "  right: .2ex;\n",
       "  padding: .5ex;\n",
       "  margin: .5ex;\n",
       "  width: min-content;\n",
       "  min-width: 20ex;\n",
       "  max-width: 50ex;\n",
       "  color: var(--sklearn-color-text);\n",
       "  box-shadow: 2pt 2pt 4pt #999;\n",
       "  /* unfitted */\n",
       "  background: var(--sklearn-color-unfitted-level-0);\n",
       "  border: .5pt solid var(--sklearn-color-unfitted-level-3);\n",
       "}\n",
       "\n",
       ".sk-estimator-doc-link.fitted span {\n",
       "  /* fitted */\n",
       "  background: var(--sklearn-color-fitted-level-0);\n",
       "  border: var(--sklearn-color-fitted-level-3);\n",
       "}\n",
       "\n",
       ".sk-estimator-doc-link:hover span {\n",
       "  display: block;\n",
       "}\n",
       "\n",
       "/* \"?\"-specific style due to the `<a>` HTML tag */\n",
       "\n",
       "#sk-container-id-1 a.estimator_doc_link {\n",
       "  float: right;\n",
       "  font-size: 1rem;\n",
       "  line-height: 1em;\n",
       "  font-family: monospace;\n",
       "  background-color: var(--sklearn-color-background);\n",
       "  border-radius: 1rem;\n",
       "  height: 1rem;\n",
       "  width: 1rem;\n",
       "  text-decoration: none;\n",
       "  /* unfitted */\n",
       "  color: var(--sklearn-color-unfitted-level-1);\n",
       "  border: var(--sklearn-color-unfitted-level-1) 1pt solid;\n",
       "}\n",
       "\n",
       "#sk-container-id-1 a.estimator_doc_link.fitted {\n",
       "  /* fitted */\n",
       "  border: var(--sklearn-color-fitted-level-1) 1pt solid;\n",
       "  color: var(--sklearn-color-fitted-level-1);\n",
       "}\n",
       "\n",
       "/* On hover */\n",
       "#sk-container-id-1 a.estimator_doc_link:hover {\n",
       "  /* unfitted */\n",
       "  background-color: var(--sklearn-color-unfitted-level-3);\n",
       "  color: var(--sklearn-color-background);\n",
       "  text-decoration: none;\n",
       "}\n",
       "\n",
       "#sk-container-id-1 a.estimator_doc_link.fitted:hover {\n",
       "  /* fitted */\n",
       "  background-color: var(--sklearn-color-fitted-level-3);\n",
       "}\n",
       "</style><div id=\"sk-container-id-1\" class=\"sk-top-container\"><div class=\"sk-text-repr-fallback\"><pre>Pipeline(steps=[(&#x27;preprocessor&#x27;,\n",
       "                 ColumnTransformer(remainder=StandardScaler(),\n",
       "                                   transformers=[(&#x27;cat&#x27;, &#x27;passthrough&#x27;,\n",
       "                                                  [&#x27;f12&#x27;, &#x27;f11&#x27;])])),\n",
       "                (&#x27;sampling&#x27;,\n",
       "                 SMOTENC(categorical_features=[&#x27;cat__f12&#x27;, &#x27;cat__f11&#x27;],\n",
       "                         random_state=42, sampling_strategy=0.05)),\n",
       "                (&#x27;under_sampling&#x27;, RandomUnderSampler(sampling_strategy=0.1)),\n",
       "                (&#x27;one_hot&#x27;,\n",
       "                 ColumnTransformer(remainder=&#x27;passthrough&#x27;,\n",
       "                                   transformers=[(&#x27;cat&#x27;, OneHotEncoder(),\n",
       "                                                  [&#x27;cat__f12&#x27;, &#x27;cat__f11&#x27;])])),\n",
       "                (&#x27;classifier&#x27;,\n",
       "                 RandomForestClassifier(max_depth=40, n_estimators=200))])</pre><b>In a Jupyter environment, please rerun this cell to show the HTML representation or trust the notebook. <br />On GitHub, the HTML representation is unable to render, please try loading this page with nbviewer.org.</b></div><div class=\"sk-container\" hidden><div class=\"sk-item sk-dashed-wrapped\"><div class=\"sk-label-container\"><div class=\"sk-label fitted sk-toggleable\"><input class=\"sk-toggleable__control sk-hidden--visually\" id=\"sk-estimator-id-1\" type=\"checkbox\" ><label for=\"sk-estimator-id-1\" class=\"sk-toggleable__label fitted sk-toggleable__label-arrow fitted\">&nbsp;Pipeline<span class=\"sk-estimator-doc-link fitted\">i<span>Fitted</span></span></label><div class=\"sk-toggleable__content fitted\"><pre>Pipeline(steps=[(&#x27;preprocessor&#x27;,\n",
       "                 ColumnTransformer(remainder=StandardScaler(),\n",
       "                                   transformers=[(&#x27;cat&#x27;, &#x27;passthrough&#x27;,\n",
       "                                                  [&#x27;f12&#x27;, &#x27;f11&#x27;])])),\n",
       "                (&#x27;sampling&#x27;,\n",
       "                 SMOTENC(categorical_features=[&#x27;cat__f12&#x27;, &#x27;cat__f11&#x27;],\n",
       "                         random_state=42, sampling_strategy=0.05)),\n",
       "                (&#x27;under_sampling&#x27;, RandomUnderSampler(sampling_strategy=0.1)),\n",
       "                (&#x27;one_hot&#x27;,\n",
       "                 ColumnTransformer(remainder=&#x27;passthrough&#x27;,\n",
       "                                   transformers=[(&#x27;cat&#x27;, OneHotEncoder(),\n",
       "                                                  [&#x27;cat__f12&#x27;, &#x27;cat__f11&#x27;])])),\n",
       "                (&#x27;classifier&#x27;,\n",
       "                 RandomForestClassifier(max_depth=40, n_estimators=200))])</pre></div> </div></div><div class=\"sk-serial\"><div class=\"sk-item sk-dashed-wrapped\"><div class=\"sk-label-container\"><div class=\"sk-label fitted sk-toggleable\"><input class=\"sk-toggleable__control sk-hidden--visually\" id=\"sk-estimator-id-2\" type=\"checkbox\" ><label for=\"sk-estimator-id-2\" class=\"sk-toggleable__label fitted sk-toggleable__label-arrow fitted\">&nbsp;preprocessor: ColumnTransformer<a class=\"sk-estimator-doc-link fitted\" rel=\"noreferrer\" target=\"_blank\" href=\"https://scikit-learn.org/1.4/modules/generated/sklearn.compose.ColumnTransformer.html\">?<span>Documentation for preprocessor: ColumnTransformer</span></a></label><div class=\"sk-toggleable__content fitted\"><pre>ColumnTransformer(remainder=StandardScaler(),\n",
       "                  transformers=[(&#x27;cat&#x27;, &#x27;passthrough&#x27;, [&#x27;f12&#x27;, &#x27;f11&#x27;])])</pre></div> </div></div><div class=\"sk-parallel\"><div class=\"sk-parallel-item\"><div class=\"sk-item\"><div class=\"sk-label-container\"><div class=\"sk-label fitted sk-toggleable\"><input class=\"sk-toggleable__control sk-hidden--visually\" id=\"sk-estimator-id-3\" type=\"checkbox\" ><label for=\"sk-estimator-id-3\" class=\"sk-toggleable__label fitted sk-toggleable__label-arrow fitted\">cat</label><div class=\"sk-toggleable__content fitted\"><pre>[&#x27;f12&#x27;, &#x27;f11&#x27;]</pre></div> </div></div><div class=\"sk-serial\"><div class=\"sk-item\"><div class=\"sk-estimator fitted sk-toggleable\"><input class=\"sk-toggleable__control sk-hidden--visually\" id=\"sk-estimator-id-4\" type=\"checkbox\" ><label for=\"sk-estimator-id-4\" class=\"sk-toggleable__label fitted sk-toggleable__label-arrow fitted\">passthrough</label><div class=\"sk-toggleable__content fitted\"><pre>passthrough</pre></div> </div></div></div></div></div><div class=\"sk-parallel-item\"><div class=\"sk-item\"><div class=\"sk-label-container\"><div class=\"sk-label fitted sk-toggleable\"><input class=\"sk-toggleable__control sk-hidden--visually\" id=\"sk-estimator-id-5\" type=\"checkbox\" ><label for=\"sk-estimator-id-5\" class=\"sk-toggleable__label fitted sk-toggleable__label-arrow fitted\">remainder</label><div class=\"sk-toggleable__content fitted\"><pre>[&#x27;f0&#x27;, &#x27;f1&#x27;, &#x27;f2&#x27;, &#x27;f3&#x27;, &#x27;f4&#x27;, &#x27;f5&#x27;, &#x27;f6&#x27;, &#x27;f7&#x27;, &#x27;f8&#x27;, &#x27;f9&#x27;, &#x27;f10&#x27;, &#x27;f13&#x27;, &#x27;f14&#x27;, &#x27;f15&#x27;]</pre></div> </div></div><div class=\"sk-serial\"><div class=\"sk-item\"><div class=\"sk-estimator fitted sk-toggleable\"><input class=\"sk-toggleable__control sk-hidden--visually\" id=\"sk-estimator-id-6\" type=\"checkbox\" ><label for=\"sk-estimator-id-6\" class=\"sk-toggleable__label fitted sk-toggleable__label-arrow fitted\">&nbsp;StandardScaler<a class=\"sk-estimator-doc-link fitted\" rel=\"noreferrer\" target=\"_blank\" href=\"https://scikit-learn.org/1.4/modules/generated/sklearn.preprocessing.StandardScaler.html\">?<span>Documentation for StandardScaler</span></a></label><div class=\"sk-toggleable__content fitted\"><pre>StandardScaler()</pre></div> </div></div></div></div></div></div></div><div class=\"sk-item\"><div class=\"sk-estimator fitted sk-toggleable\"><input class=\"sk-toggleable__control sk-hidden--visually\" id=\"sk-estimator-id-7\" type=\"checkbox\" ><label for=\"sk-estimator-id-7\" class=\"sk-toggleable__label fitted sk-toggleable__label-arrow fitted\">SMOTENC</label><div class=\"sk-toggleable__content fitted\"><pre>SMOTENC(categorical_features=[&#x27;cat__f12&#x27;, &#x27;cat__f11&#x27;], random_state=42,\n",
       "        sampling_strategy=0.05)</pre></div> </div></div><div class=\"sk-item\"><div class=\"sk-estimator fitted sk-toggleable\"><input class=\"sk-toggleable__control sk-hidden--visually\" id=\"sk-estimator-id-8\" type=\"checkbox\" ><label for=\"sk-estimator-id-8\" class=\"sk-toggleable__label fitted sk-toggleable__label-arrow fitted\">RandomUnderSampler</label><div class=\"sk-toggleable__content fitted\"><pre>RandomUnderSampler(sampling_strategy=0.1)</pre></div> </div></div><div class=\"sk-item sk-dashed-wrapped\"><div class=\"sk-label-container\"><div class=\"sk-label fitted sk-toggleable\"><input class=\"sk-toggleable__control sk-hidden--visually\" id=\"sk-estimator-id-9\" type=\"checkbox\" ><label for=\"sk-estimator-id-9\" class=\"sk-toggleable__label fitted sk-toggleable__label-arrow fitted\">&nbsp;one_hot: ColumnTransformer<a class=\"sk-estimator-doc-link fitted\" rel=\"noreferrer\" target=\"_blank\" href=\"https://scikit-learn.org/1.4/modules/generated/sklearn.compose.ColumnTransformer.html\">?<span>Documentation for one_hot: ColumnTransformer</span></a></label><div class=\"sk-toggleable__content fitted\"><pre>ColumnTransformer(remainder=&#x27;passthrough&#x27;,\n",
       "                  transformers=[(&#x27;cat&#x27;, OneHotEncoder(),\n",
       "                                 [&#x27;cat__f12&#x27;, &#x27;cat__f11&#x27;])])</pre></div> </div></div><div class=\"sk-parallel\"><div class=\"sk-parallel-item\"><div class=\"sk-item\"><div class=\"sk-label-container\"><div class=\"sk-label fitted sk-toggleable\"><input class=\"sk-toggleable__control sk-hidden--visually\" id=\"sk-estimator-id-10\" type=\"checkbox\" ><label for=\"sk-estimator-id-10\" class=\"sk-toggleable__label fitted sk-toggleable__label-arrow fitted\">cat</label><div class=\"sk-toggleable__content fitted\"><pre>[&#x27;cat__f12&#x27;, &#x27;cat__f11&#x27;]</pre></div> </div></div><div class=\"sk-serial\"><div class=\"sk-item\"><div class=\"sk-estimator fitted sk-toggleable\"><input class=\"sk-toggleable__control sk-hidden--visually\" id=\"sk-estimator-id-11\" type=\"checkbox\" ><label for=\"sk-estimator-id-11\" class=\"sk-toggleable__label fitted sk-toggleable__label-arrow fitted\">&nbsp;OneHotEncoder<a class=\"sk-estimator-doc-link fitted\" rel=\"noreferrer\" target=\"_blank\" href=\"https://scikit-learn.org/1.4/modules/generated/sklearn.preprocessing.OneHotEncoder.html\">?<span>Documentation for OneHotEncoder</span></a></label><div class=\"sk-toggleable__content fitted\"><pre>OneHotEncoder()</pre></div> </div></div></div></div></div><div class=\"sk-parallel-item\"><div class=\"sk-item\"><div class=\"sk-label-container\"><div class=\"sk-label fitted sk-toggleable\"><input class=\"sk-toggleable__control sk-hidden--visually\" id=\"sk-estimator-id-12\" type=\"checkbox\" ><label for=\"sk-estimator-id-12\" class=\"sk-toggleable__label fitted sk-toggleable__label-arrow fitted\">remainder</label><div class=\"sk-toggleable__content fitted\"><pre>[&#x27;remainder__f0&#x27;, &#x27;remainder__f1&#x27;, &#x27;remainder__f2&#x27;, &#x27;remainder__f3&#x27;, &#x27;remainder__f4&#x27;, &#x27;remainder__f5&#x27;, &#x27;remainder__f6&#x27;, &#x27;remainder__f7&#x27;, &#x27;remainder__f8&#x27;, &#x27;remainder__f9&#x27;, &#x27;remainder__f10&#x27;, &#x27;remainder__f13&#x27;, &#x27;remainder__f14&#x27;, &#x27;remainder__f15&#x27;]</pre></div> </div></div><div class=\"sk-serial\"><div class=\"sk-item\"><div class=\"sk-estimator fitted sk-toggleable\"><input class=\"sk-toggleable__control sk-hidden--visually\" id=\"sk-estimator-id-13\" type=\"checkbox\" ><label for=\"sk-estimator-id-13\" class=\"sk-toggleable__label fitted sk-toggleable__label-arrow fitted\">passthrough</label><div class=\"sk-toggleable__content fitted\"><pre>passthrough</pre></div> </div></div></div></div></div></div></div><div class=\"sk-item\"><div class=\"sk-estimator fitted sk-toggleable\"><input class=\"sk-toggleable__control sk-hidden--visually\" id=\"sk-estimator-id-14\" type=\"checkbox\" ><label for=\"sk-estimator-id-14\" class=\"sk-toggleable__label fitted sk-toggleable__label-arrow fitted\">&nbsp;RandomForestClassifier<a class=\"sk-estimator-doc-link fitted\" rel=\"noreferrer\" target=\"_blank\" href=\"https://scikit-learn.org/1.4/modules/generated/sklearn.ensemble.RandomForestClassifier.html\">?<span>Documentation for RandomForestClassifier</span></a></label><div class=\"sk-toggleable__content fitted\"><pre>RandomForestClassifier(max_depth=40, n_estimators=200)</pre></div> </div></div></div></div></div></div>"
      ],
      "text/plain": [
       "Pipeline(steps=[('preprocessor',\n",
       "                 ColumnTransformer(remainder=StandardScaler(),\n",
       "                                   transformers=[('cat', 'passthrough',\n",
       "                                                  ['f12', 'f11'])])),\n",
       "                ('sampling',\n",
       "                 SMOTENC(categorical_features=['cat__f12', 'cat__f11'],\n",
       "                         random_state=42, sampling_strategy=0.05)),\n",
       "                ('under_sampling', RandomUnderSampler(sampling_strategy=0.1)),\n",
       "                ('one_hot',\n",
       "                 ColumnTransformer(remainder='passthrough',\n",
       "                                   transformers=[('cat', OneHotEncoder(),\n",
       "                                                  ['cat__f12', 'cat__f11'])])),\n",
       "                ('classifier',\n",
       "                 RandomForestClassifier(max_depth=40, n_estimators=200))])"
      ]
     },
     "execution_count": 21,
     "metadata": {},
     "output_type": "execute_result"
    }
   ],
   "source": [
    "grid_search.best_estimator_"
   ]
  },
  {
   "cell_type": "code",
   "execution_count": 22,
   "id": "3bac9ca63acaa1f9",
   "metadata": {
    "execution": {
     "iopub.execute_input": "2024-11-07T12:46:13.802362Z",
     "iopub.status.busy": "2024-11-07T12:46:13.801361Z",
     "iopub.status.idle": "2024-11-07T12:46:13.816112Z",
     "shell.execute_reply": "2024-11-07T12:46:13.815402Z"
    },
    "papermill": {
     "duration": 0.024196,
     "end_time": "2024-11-07T12:46:13.818130",
     "exception": false,
     "start_time": "2024-11-07T12:46:13.793934",
     "status": "completed"
    },
    "tags": []
   },
   "outputs": [
    {
     "data": {
      "text/plain": [
       "0.7581888326675517"
      ]
     },
     "execution_count": 22,
     "metadata": {},
     "output_type": "execute_result"
    }
   ],
   "source": [
    "grid_search.best_score_"
   ]
  },
  {
   "cell_type": "code",
   "execution_count": 23,
   "id": "ee1faab262b6aeeb",
   "metadata": {
    "execution": {
     "iopub.execute_input": "2024-11-07T12:46:13.829228Z",
     "iopub.status.busy": "2024-11-07T12:46:13.828230Z",
     "iopub.status.idle": "2024-11-07T12:46:13.862892Z",
     "shell.execute_reply": "2024-11-07T12:46:13.861892Z"
    },
    "papermill": {
     "duration": 0.041733,
     "end_time": "2024-11-07T12:46:13.864891",
     "exception": false,
     "start_time": "2024-11-07T12:46:13.823158",
     "status": "completed"
    },
    "tags": []
   },
   "outputs": [
    {
     "data": {
      "text/html": [
       "<div>\n",
       "<style scoped>\n",
       "    .dataframe tbody tr th:only-of-type {\n",
       "        vertical-align: middle;\n",
       "    }\n",
       "\n",
       "    .dataframe tbody tr th {\n",
       "        vertical-align: top;\n",
       "    }\n",
       "\n",
       "    .dataframe thead th {\n",
       "        text-align: right;\n",
       "    }\n",
       "</style>\n",
       "<table border=\"1\" class=\"dataframe\">\n",
       "  <thead>\n",
       "    <tr style=\"text-align: right;\">\n",
       "      <th></th>\n",
       "      <th>mean_fit_time</th>\n",
       "      <th>std_fit_time</th>\n",
       "      <th>mean_score_time</th>\n",
       "      <th>std_score_time</th>\n",
       "      <th>param_classifier</th>\n",
       "      <th>param_classifier__class_weight</th>\n",
       "      <th>param_classifier__criterion</th>\n",
       "      <th>param_classifier__max_depth</th>\n",
       "      <th>param_classifier__min_samples_split</th>\n",
       "      <th>param_classifier__n_estimators</th>\n",
       "      <th>...</th>\n",
       "      <th>mean_test_recall</th>\n",
       "      <th>std_test_recall</th>\n",
       "      <th>rank_test_recall</th>\n",
       "      <th>split0_train_recall</th>\n",
       "      <th>split1_train_recall</th>\n",
       "      <th>split2_train_recall</th>\n",
       "      <th>split3_train_recall</th>\n",
       "      <th>split4_train_recall</th>\n",
       "      <th>mean_train_recall</th>\n",
       "      <th>std_train_recall</th>\n",
       "    </tr>\n",
       "  </thead>\n",
       "  <tbody>\n",
       "    <tr>\n",
       "      <th>1</th>\n",
       "      <td>168.042</td>\n",
       "      <td>7.297</td>\n",
       "      <td>4.189</td>\n",
       "      <td>0.633</td>\n",
       "      <td>RandomForestClassifier()</td>\n",
       "      <td>None</td>\n",
       "      <td>gini</td>\n",
       "      <td>40</td>\n",
       "      <td>2</td>\n",
       "      <td>200</td>\n",
       "      <td>...</td>\n",
       "      <td>0.807</td>\n",
       "      <td>0.006</td>\n",
       "      <td>3</td>\n",
       "      <td>1.000</td>\n",
       "      <td>1.000</td>\n",
       "      <td>1.000</td>\n",
       "      <td>1.000</td>\n",
       "      <td>1.000</td>\n",
       "      <td>1.000</td>\n",
       "      <td>0.000</td>\n",
       "    </tr>\n",
       "    <tr>\n",
       "      <th>2</th>\n",
       "      <td>170.233</td>\n",
       "      <td>5.152</td>\n",
       "      <td>4.262</td>\n",
       "      <td>0.591</td>\n",
       "      <td>RandomForestClassifier()</td>\n",
       "      <td>None</td>\n",
       "      <td>gini</td>\n",
       "      <td>40</td>\n",
       "      <td>2</td>\n",
       "      <td>200</td>\n",
       "      <td>...</td>\n",
       "      <td>0.807</td>\n",
       "      <td>0.004</td>\n",
       "      <td>4</td>\n",
       "      <td>1.000</td>\n",
       "      <td>1.000</td>\n",
       "      <td>1.000</td>\n",
       "      <td>1.000</td>\n",
       "      <td>1.000</td>\n",
       "      <td>1.000</td>\n",
       "      <td>0.000</td>\n",
       "    </tr>\n",
       "    <tr>\n",
       "      <th>0</th>\n",
       "      <td>173.183</td>\n",
       "      <td>6.495</td>\n",
       "      <td>4.277</td>\n",
       "      <td>0.563</td>\n",
       "      <td>RandomForestClassifier()</td>\n",
       "      <td>None</td>\n",
       "      <td>gini</td>\n",
       "      <td>40</td>\n",
       "      <td>2</td>\n",
       "      <td>200</td>\n",
       "      <td>...</td>\n",
       "      <td>0.809</td>\n",
       "      <td>0.006</td>\n",
       "      <td>2</td>\n",
       "      <td>1.000</td>\n",
       "      <td>1.000</td>\n",
       "      <td>1.000</td>\n",
       "      <td>1.000</td>\n",
       "      <td>1.000</td>\n",
       "      <td>1.000</td>\n",
       "      <td>0.000</td>\n",
       "    </tr>\n",
       "    <tr>\n",
       "      <th>3</th>\n",
       "      <td>42.914</td>\n",
       "      <td>2.396</td>\n",
       "      <td>3.390</td>\n",
       "      <td>0.440</td>\n",
       "      <td>RandomForestClassifier()</td>\n",
       "      <td>None</td>\n",
       "      <td>gini</td>\n",
       "      <td>40</td>\n",
       "      <td>2</td>\n",
       "      <td>200</td>\n",
       "      <td>...</td>\n",
       "      <td>0.857</td>\n",
       "      <td>0.006</td>\n",
       "      <td>1</td>\n",
       "      <td>1.000</td>\n",
       "      <td>1.000</td>\n",
       "      <td>1.000</td>\n",
       "      <td>1.000</td>\n",
       "      <td>1.000</td>\n",
       "      <td>1.000</td>\n",
       "      <td>0.000</td>\n",
       "    </tr>\n",
       "  </tbody>\n",
       "</table>\n",
       "<p>4 rows × 57 columns</p>\n",
       "</div>"
      ],
      "text/plain": [
       "   mean_fit_time  std_fit_time  mean_score_time  std_score_time  \\\n",
       "1        168.042         7.297            4.189           0.633   \n",
       "2        170.233         5.152            4.262           0.591   \n",
       "0        173.183         6.495            4.277           0.563   \n",
       "3         42.914         2.396            3.390           0.440   \n",
       "\n",
       "           param_classifier param_classifier__class_weight  \\\n",
       "1  RandomForestClassifier()                           None   \n",
       "2  RandomForestClassifier()                           None   \n",
       "0  RandomForestClassifier()                           None   \n",
       "3  RandomForestClassifier()                           None   \n",
       "\n",
       "  param_classifier__criterion param_classifier__max_depth  \\\n",
       "1                        gini                          40   \n",
       "2                        gini                          40   \n",
       "0                        gini                          40   \n",
       "3                        gini                          40   \n",
       "\n",
       "  param_classifier__min_samples_split param_classifier__n_estimators  ...  \\\n",
       "1                                   2                            200  ...   \n",
       "2                                   2                            200  ...   \n",
       "0                                   2                            200  ...   \n",
       "3                                   2                            200  ...   \n",
       "\n",
       "  mean_test_recall std_test_recall  rank_test_recall  split0_train_recall  \\\n",
       "1            0.807           0.006                 3                1.000   \n",
       "2            0.807           0.004                 4                1.000   \n",
       "0            0.809           0.006                 2                1.000   \n",
       "3            0.857           0.006                 1                1.000   \n",
       "\n",
       "   split1_train_recall  split2_train_recall  split3_train_recall  \\\n",
       "1                1.000                1.000                1.000   \n",
       "2                1.000                1.000                1.000   \n",
       "0                1.000                1.000                1.000   \n",
       "3                1.000                1.000                1.000   \n",
       "\n",
       "   split4_train_recall  mean_train_recall  std_train_recall  \n",
       "1                1.000              1.000             0.000  \n",
       "2                1.000              1.000             0.000  \n",
       "0                1.000              1.000             0.000  \n",
       "3                1.000              1.000             0.000  \n",
       "\n",
       "[4 rows x 57 columns]"
      ]
     },
     "execution_count": 23,
     "metadata": {},
     "output_type": "execute_result"
    }
   ],
   "source": [
    "cv_results = pd.DataFrame(grid_search.cv_results_)\n",
    "cv_results = cv_results.sort_values('rank_test_f1')\n",
    "cv_results"
   ]
  },
  {
   "cell_type": "code",
   "execution_count": 24,
   "id": "472bc1c2945e2ede",
   "metadata": {
    "execution": {
     "iopub.execute_input": "2024-11-07T12:46:13.880191Z",
     "iopub.status.busy": "2024-11-07T12:46:13.879191Z",
     "iopub.status.idle": "2024-11-07T12:46:18.872775Z",
     "shell.execute_reply": "2024-11-07T12:46:18.871776Z"
    },
    "papermill": {
     "duration": 5.002363,
     "end_time": "2024-11-07T12:46:18.873778",
     "exception": false,
     "start_time": "2024-11-07T12:46:13.871415",
     "status": "completed"
    },
    "tags": []
   },
   "outputs": [
    {
     "name": "stdout",
     "output_type": "stream",
     "text": [
      "F1: 0.7774236387782204\n",
      "Precision: 0.7356119628047249\n",
      "Recall: 0.8242748521543227\n"
     ]
    }
   ],
   "source": [
    "from sklearn.metrics import f1_score, precision_score, recall_score\n",
    "\n",
    "y_pred = grid_search.best_estimator_.predict(X_test)\n",
    "f1 = f1_score(y_test, y_pred)\n",
    "p = precision_score(y_test, y_pred)\n",
    "r = recall_score(y_test, y_pred)\n",
    "\n",
    "print(\"F1:\", f1)\n",
    "print(\"Precision:\", p)\n",
    "print(\"Recall:\", r)"
   ]
  },
  {
   "cell_type": "code",
   "execution_count": 25,
   "id": "1420d5a2ba01a421",
   "metadata": {
    "execution": {
     "iopub.execute_input": "2024-11-07T12:46:18.884502Z",
     "iopub.status.busy": "2024-11-07T12:46:18.884502Z",
     "iopub.status.idle": "2024-11-07T12:46:21.623862Z",
     "shell.execute_reply": "2024-11-07T12:46:21.622968Z"
    },
    "papermill": {
     "duration": 2.744914,
     "end_time": "2024-11-07T12:46:21.624891",
     "exception": false,
     "start_time": "2024-11-07T12:46:18.879977",
     "status": "completed"
    },
    "tags": []
   },
   "outputs": [
    {
     "data": {
      "text/plain": [
       "['out\\\\GridSearchCV_dump.pkl']"
      ]
     },
     "execution_count": 25,
     "metadata": {},
     "output_type": "execute_result"
    }
   ],
   "source": [
    "from joblib import dump\n",
    "\n",
    "if not os.path.exists('out'):\n",
    "    os.makedirs('out')\n",
    "dump(grid_search, os.path.join('out', 'GridSearchCV_dump.pkl'), compress=True)"
   ]
  }
 ],
 "metadata": {
  "kernelspec": {
   "display_name": "Python 3 (ipykernel)",
   "language": "python",
   "name": "python3"
  },
  "language_info": {
   "codemirror_mode": {
    "name": "ipython",
    "version": 3
   },
   "file_extension": ".py",
   "mimetype": "text/x-python",
   "name": "python",
   "nbconvert_exporter": "python",
   "pygments_lexer": "ipython3",
   "version": "3.9.13"
  },
  "papermill": {
   "default_parameters": {},
   "duration": 823.727016,
   "end_time": "2024-11-07T12:46:22.530584",
   "environment_variables": {},
   "exception": null,
   "input_path": "classification_z_7_1.ipynb",
   "output_path": "classification_z_7_1.ipynb",
   "parameters": {
    "n_jobs": 5
   },
   "start_time": "2024-11-07T12:32:38.803568",
   "version": "2.6.0"
  }
 },
 "nbformat": 4,
 "nbformat_minor": 5
}
